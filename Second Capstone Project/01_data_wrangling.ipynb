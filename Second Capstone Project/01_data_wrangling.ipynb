{
 "cells": [
  {
   "cell_type": "markdown",
   "id": "ef70ebb1-974b-469a-920c-5648cc787db2",
   "metadata": {},
   "source": [
    "# Cardiovascular Disease Detection (Capstone Project 2)"
   ]
  },
  {
   "cell_type": "markdown",
   "id": "25e38475-c8d0-4a85-87b8-e4e106807f99",
   "metadata": {
    "tags": []
   },
   "source": [
    "## 1. Data Wrangling"
   ]
  },
  {
   "cell_type": "raw",
   "id": "1e693ed9-52ad-4046-9f86-d78562b4d231",
   "metadata": {},
   "source": [
    "### Contents\n",
    "\n",
    "1. [Data Wrangling] (#1.-Data Wrangling)\n",
    "    1.1 [Importing Libraries] (#1.1-Importing Libraries)\n",
    "    1.2 [Sourcing and Loading Data] (#1.2-Sourcing and Loading Data)\n",
    "    1.3 [Checking Data Types and Potential Missing Values] (#1.3-Checking Data Types and Potential Missing Values)\n",
    "    1.4 [Describing Data] (#1.4.-Describing Data)\n",
    "         1.4.1 [Modifying Age, Height, and Weight Columns] (#1.4.1-Modifying Age, Height, and Weight Columns)\n",
    "    1.5 [Checking Unique Values] (#1.5-Checking Unique Values)\n",
    "    1.6 [Cleaning Data and Dealing with Outliers] (#1.6-Removing and Imputing Values)\n",
    "         1.6.1 [Dealing with Outliers] (#1.6.1-Dealing with Outliers)\n",
    "         1.6.2 [Cleaning ap_hi Variable] (#1.6.2-Cleaning ap_hi Variable)\n",
    "         1.6.3 [Cleaning ap_lo Variable] (#1.6.3-Cleaning ap_lo Variable)\n",
    "         1.6.4 [Cleaning Weight Variable] (#1.6.4-Cleaning Weight Variable)\n",
    "         1.6.5 [Cleaning Height Variable] (#1.6.5-Cleaning Height Variable)\n",
    "         1.6.6 [Exploring Data after Cleaning] (#1.6.6-Exploring Data after Cleaning)"
   ]
  },
  {
   "cell_type": "markdown",
   "id": "88cc3f1f-0636-4ee9-a451-47253ca31fc2",
   "metadata": {},
   "source": [
    "### 1.1 Importing Libraries"
   ]
  },
  {
   "cell_type": "code",
   "execution_count": 2,
   "id": "f81150fe-7a0e-4116-932d-5a5bcd5c0d17",
   "metadata": {},
   "outputs": [],
   "source": [
    "# I begin by importing several libraries that are essential in a data science life cycle.\n",
    "import pandas as pd # for, inter alia, data wrangling and transformation\n",
    "import numpy as np # for, inter alia, greater mathematical supportability\n",
    "import matplotlib.pyplot as plt # for, inter alia, data visualization\n",
    "import seaborn as sns # for, inter alia, data visualization\n",
    "from scipy import stats # for, inter alia, statistical procedures"
   ]
  },
  {
   "cell_type": "markdown",
   "id": "1379f287-09bb-4948-abb6-14fd4234d4be",
   "metadata": {},
   "source": [
    "### 1.2 Sourcing and Loading Data"
   ]
  },
  {
   "cell_type": "code",
   "execution_count": 3,
   "id": "0811c479-fa12-4cee-8ed3-993b64e77e8d",
   "metadata": {},
   "outputs": [
    {
     "ename": "FileNotFoundError",
     "evalue": "[Errno 2] No such file or directory: 'cardio_train.csv'",
     "output_type": "error",
     "traceback": [
      "\u001b[1;31m---------------------------------------------------------------------------\u001b[0m",
      "\u001b[1;31mFileNotFoundError\u001b[0m                         Traceback (most recent call last)",
      "Input \u001b[1;32mIn [3]\u001b[0m, in \u001b[0;36m<cell line: 6>\u001b[1;34m()\u001b[0m\n\u001b[0;32m      2\u001b[0m path \u001b[38;5;241m=\u001b[39m \u001b[38;5;124mr\u001b[39m\u001b[38;5;124m'\u001b[39m\u001b[38;5;124mC:\u001b[39m\u001b[38;5;124m\\\u001b[39m\u001b[38;5;124mUsers\u001b[39m\u001b[38;5;124m\\\u001b[39m\u001b[38;5;124m16466\u001b[39m\u001b[38;5;124m\\\u001b[39m\u001b[38;5;124mCardiovascular_disease_case_study\u001b[39m\u001b[38;5;124m\\\u001b[39m\u001b[38;5;124mcardio_train.csv\u001b[39m\u001b[38;5;124m'\u001b[39m\n\u001b[0;32m      4\u001b[0m \u001b[38;5;66;03m# The acronym \"cvd\" stands for cardiovascular disease.\u001b[39;00m\n\u001b[0;32m      5\u001b[0m \u001b[38;5;66;03m# Note additional argument \"sep\" to indicate the proper delimiter of the dataset.\u001b[39;00m\n\u001b[1;32m----> 6\u001b[0m cvd \u001b[38;5;241m=\u001b[39m \u001b[43mpd\u001b[49m\u001b[38;5;241;43m.\u001b[39;49m\u001b[43mread_csv\u001b[49m\u001b[43m(\u001b[49m\u001b[38;5;124;43m'\u001b[39;49m\u001b[38;5;124;43mcardio_train.csv\u001b[39;49m\u001b[38;5;124;43m'\u001b[39;49m\u001b[43m,\u001b[49m\u001b[43m \u001b[49m\u001b[43msep\u001b[49m\u001b[38;5;241;43m=\u001b[39;49m\u001b[38;5;124;43m'\u001b[39;49m\u001b[38;5;124;43m;\u001b[39;49m\u001b[38;5;124;43m'\u001b[39;49m\u001b[43m)\u001b[49m\n\u001b[0;32m      8\u001b[0m \u001b[38;5;66;03m# View first few rows of dataset.\u001b[39;00m\n\u001b[0;32m      9\u001b[0m cvd\u001b[38;5;241m.\u001b[39mhead(\u001b[38;5;241m5\u001b[39m)\n",
      "File \u001b[1;32m~\\anaconda3\\lib\\site-packages\\pandas\\util\\_decorators.py:311\u001b[0m, in \u001b[0;36mdeprecate_nonkeyword_arguments.<locals>.decorate.<locals>.wrapper\u001b[1;34m(*args, **kwargs)\u001b[0m\n\u001b[0;32m    305\u001b[0m \u001b[38;5;28;01mif\u001b[39;00m \u001b[38;5;28mlen\u001b[39m(args) \u001b[38;5;241m>\u001b[39m num_allow_args:\n\u001b[0;32m    306\u001b[0m     warnings\u001b[38;5;241m.\u001b[39mwarn(\n\u001b[0;32m    307\u001b[0m         msg\u001b[38;5;241m.\u001b[39mformat(arguments\u001b[38;5;241m=\u001b[39marguments),\n\u001b[0;32m    308\u001b[0m         \u001b[38;5;167;01mFutureWarning\u001b[39;00m,\n\u001b[0;32m    309\u001b[0m         stacklevel\u001b[38;5;241m=\u001b[39mstacklevel,\n\u001b[0;32m    310\u001b[0m     )\n\u001b[1;32m--> 311\u001b[0m \u001b[38;5;28;01mreturn\u001b[39;00m func(\u001b[38;5;241m*\u001b[39margs, \u001b[38;5;241m*\u001b[39m\u001b[38;5;241m*\u001b[39mkwargs)\n",
      "File \u001b[1;32m~\\anaconda3\\lib\\site-packages\\pandas\\io\\parsers\\readers.py:680\u001b[0m, in \u001b[0;36mread_csv\u001b[1;34m(filepath_or_buffer, sep, delimiter, header, names, index_col, usecols, squeeze, prefix, mangle_dupe_cols, dtype, engine, converters, true_values, false_values, skipinitialspace, skiprows, skipfooter, nrows, na_values, keep_default_na, na_filter, verbose, skip_blank_lines, parse_dates, infer_datetime_format, keep_date_col, date_parser, dayfirst, cache_dates, iterator, chunksize, compression, thousands, decimal, lineterminator, quotechar, quoting, doublequote, escapechar, comment, encoding, encoding_errors, dialect, error_bad_lines, warn_bad_lines, on_bad_lines, delim_whitespace, low_memory, memory_map, float_precision, storage_options)\u001b[0m\n\u001b[0;32m    665\u001b[0m kwds_defaults \u001b[38;5;241m=\u001b[39m _refine_defaults_read(\n\u001b[0;32m    666\u001b[0m     dialect,\n\u001b[0;32m    667\u001b[0m     delimiter,\n\u001b[1;32m   (...)\u001b[0m\n\u001b[0;32m    676\u001b[0m     defaults\u001b[38;5;241m=\u001b[39m{\u001b[38;5;124m\"\u001b[39m\u001b[38;5;124mdelimiter\u001b[39m\u001b[38;5;124m\"\u001b[39m: \u001b[38;5;124m\"\u001b[39m\u001b[38;5;124m,\u001b[39m\u001b[38;5;124m\"\u001b[39m},\n\u001b[0;32m    677\u001b[0m )\n\u001b[0;32m    678\u001b[0m kwds\u001b[38;5;241m.\u001b[39mupdate(kwds_defaults)\n\u001b[1;32m--> 680\u001b[0m \u001b[38;5;28;01mreturn\u001b[39;00m \u001b[43m_read\u001b[49m\u001b[43m(\u001b[49m\u001b[43mfilepath_or_buffer\u001b[49m\u001b[43m,\u001b[49m\u001b[43m \u001b[49m\u001b[43mkwds\u001b[49m\u001b[43m)\u001b[49m\n",
      "File \u001b[1;32m~\\anaconda3\\lib\\site-packages\\pandas\\io\\parsers\\readers.py:575\u001b[0m, in \u001b[0;36m_read\u001b[1;34m(filepath_or_buffer, kwds)\u001b[0m\n\u001b[0;32m    572\u001b[0m _validate_names(kwds\u001b[38;5;241m.\u001b[39mget(\u001b[38;5;124m\"\u001b[39m\u001b[38;5;124mnames\u001b[39m\u001b[38;5;124m\"\u001b[39m, \u001b[38;5;28;01mNone\u001b[39;00m))\n\u001b[0;32m    574\u001b[0m \u001b[38;5;66;03m# Create the parser.\u001b[39;00m\n\u001b[1;32m--> 575\u001b[0m parser \u001b[38;5;241m=\u001b[39m TextFileReader(filepath_or_buffer, \u001b[38;5;241m*\u001b[39m\u001b[38;5;241m*\u001b[39mkwds)\n\u001b[0;32m    577\u001b[0m \u001b[38;5;28;01mif\u001b[39;00m chunksize \u001b[38;5;129;01mor\u001b[39;00m iterator:\n\u001b[0;32m    578\u001b[0m     \u001b[38;5;28;01mreturn\u001b[39;00m parser\n",
      "File \u001b[1;32m~\\anaconda3\\lib\\site-packages\\pandas\\io\\parsers\\readers.py:933\u001b[0m, in \u001b[0;36mTextFileReader.__init__\u001b[1;34m(self, f, engine, **kwds)\u001b[0m\n\u001b[0;32m    930\u001b[0m     \u001b[38;5;28mself\u001b[39m\u001b[38;5;241m.\u001b[39moptions[\u001b[38;5;124m\"\u001b[39m\u001b[38;5;124mhas_index_names\u001b[39m\u001b[38;5;124m\"\u001b[39m] \u001b[38;5;241m=\u001b[39m kwds[\u001b[38;5;124m\"\u001b[39m\u001b[38;5;124mhas_index_names\u001b[39m\u001b[38;5;124m\"\u001b[39m]\n\u001b[0;32m    932\u001b[0m \u001b[38;5;28mself\u001b[39m\u001b[38;5;241m.\u001b[39mhandles: IOHandles \u001b[38;5;241m|\u001b[39m \u001b[38;5;28;01mNone\u001b[39;00m \u001b[38;5;241m=\u001b[39m \u001b[38;5;28;01mNone\u001b[39;00m\n\u001b[1;32m--> 933\u001b[0m \u001b[38;5;28mself\u001b[39m\u001b[38;5;241m.\u001b[39m_engine \u001b[38;5;241m=\u001b[39m \u001b[38;5;28;43mself\u001b[39;49m\u001b[38;5;241;43m.\u001b[39;49m\u001b[43m_make_engine\u001b[49m\u001b[43m(\u001b[49m\u001b[43mf\u001b[49m\u001b[43m,\u001b[49m\u001b[43m \u001b[49m\u001b[38;5;28;43mself\u001b[39;49m\u001b[38;5;241;43m.\u001b[39;49m\u001b[43mengine\u001b[49m\u001b[43m)\u001b[49m\n",
      "File \u001b[1;32m~\\anaconda3\\lib\\site-packages\\pandas\\io\\parsers\\readers.py:1217\u001b[0m, in \u001b[0;36mTextFileReader._make_engine\u001b[1;34m(self, f, engine)\u001b[0m\n\u001b[0;32m   1213\u001b[0m     mode \u001b[38;5;241m=\u001b[39m \u001b[38;5;124m\"\u001b[39m\u001b[38;5;124mrb\u001b[39m\u001b[38;5;124m\"\u001b[39m\n\u001b[0;32m   1214\u001b[0m \u001b[38;5;66;03m# error: No overload variant of \"get_handle\" matches argument types\u001b[39;00m\n\u001b[0;32m   1215\u001b[0m \u001b[38;5;66;03m# \"Union[str, PathLike[str], ReadCsvBuffer[bytes], ReadCsvBuffer[str]]\"\u001b[39;00m\n\u001b[0;32m   1216\u001b[0m \u001b[38;5;66;03m# , \"str\", \"bool\", \"Any\", \"Any\", \"Any\", \"Any\", \"Any\"\u001b[39;00m\n\u001b[1;32m-> 1217\u001b[0m \u001b[38;5;28mself\u001b[39m\u001b[38;5;241m.\u001b[39mhandles \u001b[38;5;241m=\u001b[39m \u001b[43mget_handle\u001b[49m\u001b[43m(\u001b[49m\u001b[43m  \u001b[49m\u001b[38;5;66;43;03m# type: ignore[call-overload]\u001b[39;49;00m\n\u001b[0;32m   1218\u001b[0m \u001b[43m    \u001b[49m\u001b[43mf\u001b[49m\u001b[43m,\u001b[49m\n\u001b[0;32m   1219\u001b[0m \u001b[43m    \u001b[49m\u001b[43mmode\u001b[49m\u001b[43m,\u001b[49m\n\u001b[0;32m   1220\u001b[0m \u001b[43m    \u001b[49m\u001b[43mencoding\u001b[49m\u001b[38;5;241;43m=\u001b[39;49m\u001b[38;5;28;43mself\u001b[39;49m\u001b[38;5;241;43m.\u001b[39;49m\u001b[43moptions\u001b[49m\u001b[38;5;241;43m.\u001b[39;49m\u001b[43mget\u001b[49m\u001b[43m(\u001b[49m\u001b[38;5;124;43m\"\u001b[39;49m\u001b[38;5;124;43mencoding\u001b[39;49m\u001b[38;5;124;43m\"\u001b[39;49m\u001b[43m,\u001b[49m\u001b[43m \u001b[49m\u001b[38;5;28;43;01mNone\u001b[39;49;00m\u001b[43m)\u001b[49m\u001b[43m,\u001b[49m\n\u001b[0;32m   1221\u001b[0m \u001b[43m    \u001b[49m\u001b[43mcompression\u001b[49m\u001b[38;5;241;43m=\u001b[39;49m\u001b[38;5;28;43mself\u001b[39;49m\u001b[38;5;241;43m.\u001b[39;49m\u001b[43moptions\u001b[49m\u001b[38;5;241;43m.\u001b[39;49m\u001b[43mget\u001b[49m\u001b[43m(\u001b[49m\u001b[38;5;124;43m\"\u001b[39;49m\u001b[38;5;124;43mcompression\u001b[39;49m\u001b[38;5;124;43m\"\u001b[39;49m\u001b[43m,\u001b[49m\u001b[43m \u001b[49m\u001b[38;5;28;43;01mNone\u001b[39;49;00m\u001b[43m)\u001b[49m\u001b[43m,\u001b[49m\n\u001b[0;32m   1222\u001b[0m \u001b[43m    \u001b[49m\u001b[43mmemory_map\u001b[49m\u001b[38;5;241;43m=\u001b[39;49m\u001b[38;5;28;43mself\u001b[39;49m\u001b[38;5;241;43m.\u001b[39;49m\u001b[43moptions\u001b[49m\u001b[38;5;241;43m.\u001b[39;49m\u001b[43mget\u001b[49m\u001b[43m(\u001b[49m\u001b[38;5;124;43m\"\u001b[39;49m\u001b[38;5;124;43mmemory_map\u001b[39;49m\u001b[38;5;124;43m\"\u001b[39;49m\u001b[43m,\u001b[49m\u001b[43m \u001b[49m\u001b[38;5;28;43;01mFalse\u001b[39;49;00m\u001b[43m)\u001b[49m\u001b[43m,\u001b[49m\n\u001b[0;32m   1223\u001b[0m \u001b[43m    \u001b[49m\u001b[43mis_text\u001b[49m\u001b[38;5;241;43m=\u001b[39;49m\u001b[43mis_text\u001b[49m\u001b[43m,\u001b[49m\n\u001b[0;32m   1224\u001b[0m \u001b[43m    \u001b[49m\u001b[43merrors\u001b[49m\u001b[38;5;241;43m=\u001b[39;49m\u001b[38;5;28;43mself\u001b[39;49m\u001b[38;5;241;43m.\u001b[39;49m\u001b[43moptions\u001b[49m\u001b[38;5;241;43m.\u001b[39;49m\u001b[43mget\u001b[49m\u001b[43m(\u001b[49m\u001b[38;5;124;43m\"\u001b[39;49m\u001b[38;5;124;43mencoding_errors\u001b[39;49m\u001b[38;5;124;43m\"\u001b[39;49m\u001b[43m,\u001b[49m\u001b[43m \u001b[49m\u001b[38;5;124;43m\"\u001b[39;49m\u001b[38;5;124;43mstrict\u001b[39;49m\u001b[38;5;124;43m\"\u001b[39;49m\u001b[43m)\u001b[49m\u001b[43m,\u001b[49m\n\u001b[0;32m   1225\u001b[0m \u001b[43m    \u001b[49m\u001b[43mstorage_options\u001b[49m\u001b[38;5;241;43m=\u001b[39;49m\u001b[38;5;28;43mself\u001b[39;49m\u001b[38;5;241;43m.\u001b[39;49m\u001b[43moptions\u001b[49m\u001b[38;5;241;43m.\u001b[39;49m\u001b[43mget\u001b[49m\u001b[43m(\u001b[49m\u001b[38;5;124;43m\"\u001b[39;49m\u001b[38;5;124;43mstorage_options\u001b[39;49m\u001b[38;5;124;43m\"\u001b[39;49m\u001b[43m,\u001b[49m\u001b[43m \u001b[49m\u001b[38;5;28;43;01mNone\u001b[39;49;00m\u001b[43m)\u001b[49m\u001b[43m,\u001b[49m\n\u001b[0;32m   1226\u001b[0m \u001b[43m\u001b[49m\u001b[43m)\u001b[49m\n\u001b[0;32m   1227\u001b[0m \u001b[38;5;28;01massert\u001b[39;00m \u001b[38;5;28mself\u001b[39m\u001b[38;5;241m.\u001b[39mhandles \u001b[38;5;129;01mis\u001b[39;00m \u001b[38;5;129;01mnot\u001b[39;00m \u001b[38;5;28;01mNone\u001b[39;00m\n\u001b[0;32m   1228\u001b[0m f \u001b[38;5;241m=\u001b[39m \u001b[38;5;28mself\u001b[39m\u001b[38;5;241m.\u001b[39mhandles\u001b[38;5;241m.\u001b[39mhandle\n",
      "File \u001b[1;32m~\\anaconda3\\lib\\site-packages\\pandas\\io\\common.py:789\u001b[0m, in \u001b[0;36mget_handle\u001b[1;34m(path_or_buf, mode, encoding, compression, memory_map, is_text, errors, storage_options)\u001b[0m\n\u001b[0;32m    784\u001b[0m \u001b[38;5;28;01melif\u001b[39;00m \u001b[38;5;28misinstance\u001b[39m(handle, \u001b[38;5;28mstr\u001b[39m):\n\u001b[0;32m    785\u001b[0m     \u001b[38;5;66;03m# Check whether the filename is to be opened in binary mode.\u001b[39;00m\n\u001b[0;32m    786\u001b[0m     \u001b[38;5;66;03m# Binary mode does not support 'encoding' and 'newline'.\u001b[39;00m\n\u001b[0;32m    787\u001b[0m     \u001b[38;5;28;01mif\u001b[39;00m ioargs\u001b[38;5;241m.\u001b[39mencoding \u001b[38;5;129;01mand\u001b[39;00m \u001b[38;5;124m\"\u001b[39m\u001b[38;5;124mb\u001b[39m\u001b[38;5;124m\"\u001b[39m \u001b[38;5;129;01mnot\u001b[39;00m \u001b[38;5;129;01min\u001b[39;00m ioargs\u001b[38;5;241m.\u001b[39mmode:\n\u001b[0;32m    788\u001b[0m         \u001b[38;5;66;03m# Encoding\u001b[39;00m\n\u001b[1;32m--> 789\u001b[0m         handle \u001b[38;5;241m=\u001b[39m \u001b[38;5;28;43mopen\u001b[39;49m\u001b[43m(\u001b[49m\n\u001b[0;32m    790\u001b[0m \u001b[43m            \u001b[49m\u001b[43mhandle\u001b[49m\u001b[43m,\u001b[49m\n\u001b[0;32m    791\u001b[0m \u001b[43m            \u001b[49m\u001b[43mioargs\u001b[49m\u001b[38;5;241;43m.\u001b[39;49m\u001b[43mmode\u001b[49m\u001b[43m,\u001b[49m\n\u001b[0;32m    792\u001b[0m \u001b[43m            \u001b[49m\u001b[43mencoding\u001b[49m\u001b[38;5;241;43m=\u001b[39;49m\u001b[43mioargs\u001b[49m\u001b[38;5;241;43m.\u001b[39;49m\u001b[43mencoding\u001b[49m\u001b[43m,\u001b[49m\n\u001b[0;32m    793\u001b[0m \u001b[43m            \u001b[49m\u001b[43merrors\u001b[49m\u001b[38;5;241;43m=\u001b[39;49m\u001b[43merrors\u001b[49m\u001b[43m,\u001b[49m\n\u001b[0;32m    794\u001b[0m \u001b[43m            \u001b[49m\u001b[43mnewline\u001b[49m\u001b[38;5;241;43m=\u001b[39;49m\u001b[38;5;124;43m\"\u001b[39;49m\u001b[38;5;124;43m\"\u001b[39;49m\u001b[43m,\u001b[49m\n\u001b[0;32m    795\u001b[0m \u001b[43m        \u001b[49m\u001b[43m)\u001b[49m\n\u001b[0;32m    796\u001b[0m     \u001b[38;5;28;01melse\u001b[39;00m:\n\u001b[0;32m    797\u001b[0m         \u001b[38;5;66;03m# Binary mode\u001b[39;00m\n\u001b[0;32m    798\u001b[0m         handle \u001b[38;5;241m=\u001b[39m \u001b[38;5;28mopen\u001b[39m(handle, ioargs\u001b[38;5;241m.\u001b[39mmode)\n",
      "\u001b[1;31mFileNotFoundError\u001b[0m: [Errno 2] No such file or directory: 'cardio_train.csv'"
     ]
    }
   ],
   "source": [
    "# Sourcing and loading data\n",
    "path = r'C:\\Users\\16466\\Cardiovascular_disease_case_study\\cardio_train.csv'\n",
    "\n",
    "# The acronym \"cvd\" stands for cardiovascular disease.\n",
    "# Note additional argument \"sep\" to indicate the proper delimiter of the dataset.\n",
    "cvd = pd.read_csv('cardio_train.csv', sep=';')\n",
    "\n",
    "# View first few rows of dataset.\n",
    "cvd.head(5)"
   ]
  },
  {
   "cell_type": "markdown",
   "id": "92963ca8-531f-4f47-9ba5-1177a3b1519d",
   "metadata": {},
   "source": [
    "### 1.3 Checking Data Types and Potential Missing Values"
   ]
  },
  {
   "cell_type": "code",
   "execution_count": 3,
   "id": "e931a054-bf2c-49e3-bba8-8d62dd85c391",
   "metadata": {},
   "outputs": [
    {
     "ename": "NameError",
     "evalue": "name 'cvd' is not defined",
     "output_type": "error",
     "traceback": [
      "\u001b[1;31m---------------------------------------------------------------------------\u001b[0m",
      "\u001b[1;31mNameError\u001b[0m                                 Traceback (most recent call last)",
      "Input \u001b[1;32mIn [3]\u001b[0m, in \u001b[0;36m<cell line: 3>\u001b[1;34m()\u001b[0m\n\u001b[0;32m      1\u001b[0m \u001b[38;5;66;03m# Using the info() method allows me to see both the number of columns and rows in the dataset\u001b[39;00m\n\u001b[0;32m      2\u001b[0m \u001b[38;5;66;03m# as well as the data type value contained in each column.\u001b[39;00m\n\u001b[1;32m----> 3\u001b[0m \u001b[43mcvd\u001b[49m\u001b[38;5;241m.\u001b[39minfo()\n",
      "\u001b[1;31mNameError\u001b[0m: name 'cvd' is not defined"
     ]
    }
   ],
   "source": [
    "# Using the info() method allows me to see both the number of columns and rows in the dataset\n",
    "# as well as the data type value contained in each column.\n",
    "cvd.info()"
   ]
  },
  {
   "cell_type": "code",
   "execution_count": null,
   "id": "43402988-c69e-41c0-9fe0-449c68ebde5b",
   "metadata": {},
   "outputs": [],
   "source": [
    "# Using the isna().sum() method to check if there are any missing values in the dataset.\n",
    "cvd.isna().sum()"
   ]
  },
  {
   "cell_type": "markdown",
   "id": "af7bf7be-ff96-4c6b-8dfd-3268b4833e5f",
   "metadata": {},
   "source": [
    "Note how it is not reasonable to check for duplicate values in this data set, given all columns store *only* numerical values.\n",
    "As to missing values, there aren't any in this data set.\n",
    "So, I will be moving on to describing the data set to see if any interesting, and concerning, patterns arise."
   ]
  },
  {
   "cell_type": "markdown",
   "id": "45d909ca-9abf-47c3-88e2-d727022231ba",
   "metadata": {},
   "source": [
    "### 1.4 Describing Data"
   ]
  },
  {
   "cell_type": "code",
   "execution_count": 58,
   "id": "e81267e2-92b3-4f1d-8ae0-5d379ca6cf28",
   "metadata": {},
   "outputs": [
    {
     "data": {
      "text/html": [
       "<div>\n",
       "<style scoped>\n",
       "    .dataframe tbody tr th:only-of-type {\n",
       "        vertical-align: middle;\n",
       "    }\n",
       "\n",
       "    .dataframe tbody tr th {\n",
       "        vertical-align: top;\n",
       "    }\n",
       "\n",
       "    .dataframe thead th {\n",
       "        text-align: right;\n",
       "    }\n",
       "</style>\n",
       "<table border=\"1\" class=\"dataframe\">\n",
       "  <thead>\n",
       "    <tr style=\"text-align: right;\">\n",
       "      <th></th>\n",
       "      <th>id</th>\n",
       "      <th>age</th>\n",
       "      <th>gender</th>\n",
       "      <th>height</th>\n",
       "      <th>weight</th>\n",
       "      <th>ap_hi</th>\n",
       "      <th>ap_lo</th>\n",
       "      <th>cholesterol</th>\n",
       "      <th>gluc</th>\n",
       "      <th>smoke</th>\n",
       "      <th>alco</th>\n",
       "      <th>active</th>\n",
       "      <th>cardio</th>\n",
       "    </tr>\n",
       "  </thead>\n",
       "  <tbody>\n",
       "    <tr>\n",
       "      <th>count</th>\n",
       "      <td>69301.000000</td>\n",
       "      <td>69301.000000</td>\n",
       "      <td>69301.000000</td>\n",
       "      <td>69301.000000</td>\n",
       "      <td>69301.000000</td>\n",
       "      <td>69301.000000</td>\n",
       "      <td>69301.000000</td>\n",
       "      <td>69301.000000</td>\n",
       "      <td>69301.000000</td>\n",
       "      <td>69301.000000</td>\n",
       "      <td>69301.000000</td>\n",
       "      <td>69301.000000</td>\n",
       "      <td>69301.000000</td>\n",
       "    </tr>\n",
       "    <tr>\n",
       "      <th>mean</th>\n",
       "      <td>50471.480397</td>\n",
       "      <td>19468.786280</td>\n",
       "      <td>1.349519</td>\n",
       "      <td>164.362217</td>\n",
       "      <td>74.203027</td>\n",
       "      <td>128.829584</td>\n",
       "      <td>96.650092</td>\n",
       "      <td>1.366806</td>\n",
       "      <td>1.226447</td>\n",
       "      <td>0.088051</td>\n",
       "      <td>0.053881</td>\n",
       "      <td>0.803986</td>\n",
       "      <td>0.499589</td>\n",
       "    </tr>\n",
       "    <tr>\n",
       "      <th>std</th>\n",
       "      <td>28563.100347</td>\n",
       "      <td>2467.261818</td>\n",
       "      <td>0.476821</td>\n",
       "      <td>8.205337</td>\n",
       "      <td>14.383469</td>\n",
       "      <td>154.775805</td>\n",
       "      <td>189.096240</td>\n",
       "      <td>0.680270</td>\n",
       "      <td>0.572246</td>\n",
       "      <td>0.283371</td>\n",
       "      <td>0.225784</td>\n",
       "      <td>0.396982</td>\n",
       "      <td>0.500003</td>\n",
       "    </tr>\n",
       "    <tr>\n",
       "      <th>min</th>\n",
       "      <td>988.000000</td>\n",
       "      <td>10798.000000</td>\n",
       "      <td>1.000000</td>\n",
       "      <td>55.000000</td>\n",
       "      <td>10.000000</td>\n",
       "      <td>-150.000000</td>\n",
       "      <td>-70.000000</td>\n",
       "      <td>1.000000</td>\n",
       "      <td>1.000000</td>\n",
       "      <td>0.000000</td>\n",
       "      <td>0.000000</td>\n",
       "      <td>0.000000</td>\n",
       "      <td>0.000000</td>\n",
       "    </tr>\n",
       "    <tr>\n",
       "      <th>25%</th>\n",
       "      <td>25745.000000</td>\n",
       "      <td>17664.000000</td>\n",
       "      <td>1.000000</td>\n",
       "      <td>159.000000</td>\n",
       "      <td>65.000000</td>\n",
       "      <td>120.000000</td>\n",
       "      <td>80.000000</td>\n",
       "      <td>1.000000</td>\n",
       "      <td>1.000000</td>\n",
       "      <td>0.000000</td>\n",
       "      <td>0.000000</td>\n",
       "      <td>1.000000</td>\n",
       "      <td>0.000000</td>\n",
       "    </tr>\n",
       "    <tr>\n",
       "      <th>50%</th>\n",
       "      <td>50494.000000</td>\n",
       "      <td>19704.000000</td>\n",
       "      <td>1.000000</td>\n",
       "      <td>165.000000</td>\n",
       "      <td>72.000000</td>\n",
       "      <td>120.000000</td>\n",
       "      <td>80.000000</td>\n",
       "      <td>1.000000</td>\n",
       "      <td>1.000000</td>\n",
       "      <td>0.000000</td>\n",
       "      <td>0.000000</td>\n",
       "      <td>1.000000</td>\n",
       "      <td>0.000000</td>\n",
       "    </tr>\n",
       "    <tr>\n",
       "      <th>75%</th>\n",
       "      <td>75150.000000</td>\n",
       "      <td>21326.000000</td>\n",
       "      <td>2.000000</td>\n",
       "      <td>170.000000</td>\n",
       "      <td>82.000000</td>\n",
       "      <td>140.000000</td>\n",
       "      <td>90.000000</td>\n",
       "      <td>2.000000</td>\n",
       "      <td>1.000000</td>\n",
       "      <td>0.000000</td>\n",
       "      <td>0.000000</td>\n",
       "      <td>1.000000</td>\n",
       "      <td>1.000000</td>\n",
       "    </tr>\n",
       "    <tr>\n",
       "      <th>max</th>\n",
       "      <td>99999.000000</td>\n",
       "      <td>23713.000000</td>\n",
       "      <td>2.000000</td>\n",
       "      <td>250.000000</td>\n",
       "      <td>200.000000</td>\n",
       "      <td>16020.000000</td>\n",
       "      <td>11000.000000</td>\n",
       "      <td>3.000000</td>\n",
       "      <td>3.000000</td>\n",
       "      <td>1.000000</td>\n",
       "      <td>1.000000</td>\n",
       "      <td>1.000000</td>\n",
       "      <td>1.000000</td>\n",
       "    </tr>\n",
       "  </tbody>\n",
       "</table>\n",
       "</div>"
      ],
      "text/plain": [
       "                 id           age        gender        height        weight  \\\n",
       "count  69301.000000  69301.000000  69301.000000  69301.000000  69301.000000   \n",
       "mean   50471.480397  19468.786280      1.349519    164.362217     74.203027   \n",
       "std    28563.100347   2467.261818      0.476821      8.205337     14.383469   \n",
       "min      988.000000  10798.000000      1.000000     55.000000     10.000000   \n",
       "25%    25745.000000  17664.000000      1.000000    159.000000     65.000000   \n",
       "50%    50494.000000  19704.000000      1.000000    165.000000     72.000000   \n",
       "75%    75150.000000  21326.000000      2.000000    170.000000     82.000000   \n",
       "max    99999.000000  23713.000000      2.000000    250.000000    200.000000   \n",
       "\n",
       "              ap_hi         ap_lo   cholesterol          gluc         smoke  \\\n",
       "count  69301.000000  69301.000000  69301.000000  69301.000000  69301.000000   \n",
       "mean     128.829584     96.650092      1.366806      1.226447      0.088051   \n",
       "std      154.775805    189.096240      0.680270      0.572246      0.283371   \n",
       "min     -150.000000    -70.000000      1.000000      1.000000      0.000000   \n",
       "25%      120.000000     80.000000      1.000000      1.000000      0.000000   \n",
       "50%      120.000000     80.000000      1.000000      1.000000      0.000000   \n",
       "75%      140.000000     90.000000      2.000000      1.000000      0.000000   \n",
       "max    16020.000000  11000.000000      3.000000      3.000000      1.000000   \n",
       "\n",
       "               alco        active        cardio  \n",
       "count  69301.000000  69301.000000  69301.000000  \n",
       "mean       0.053881      0.803986      0.499589  \n",
       "std        0.225784      0.396982      0.500003  \n",
       "min        0.000000      0.000000      0.000000  \n",
       "25%        0.000000      1.000000      0.000000  \n",
       "50%        0.000000      1.000000      0.000000  \n",
       "75%        0.000000      1.000000      1.000000  \n",
       "max        1.000000      1.000000      1.000000  "
      ]
     },
     "execution_count": 58,
     "metadata": {},
     "output_type": "execute_result"
    }
   ],
   "source": [
    "# Using the describe() method to get descriptive statistics on the data set.\n",
    "# As can be seen, some of the summaries do not make much sense --for instance, some variables\n",
    "# are essentially categorical but have been rendered numerical, so finding the mean or std of them is not helpful. \n",
    "# Ignoring these variables (for now), a more pressing matter arises: that of rendering certain variables (e.g., age, height, and weight)\n",
    "# in a more preferable way for both convenience and clarity. \n",
    "cvd.describe()"
   ]
  },
  {
   "cell_type": "markdown",
   "id": "1d1fbd61-f834-479c-9a5b-f05706955ac9",
   "metadata": {},
   "source": [
    "#### 1.4.1 Modifying Age, Height, and Weight Columns"
   ]
  },
  {
   "cell_type": "code",
   "execution_count": 59,
   "id": "61e88cc9-5627-4f56-949e-9c470c80f211",
   "metadata": {},
   "outputs": [],
   "source": [
    "# The age column captures the age of a person in days. Having age rendered this way is unappealing\n",
    "# and hard to work with, so I will be converting to years.\n",
    "cvd['age'] = cvd.age.apply(lambda x: x / 365)"
   ]
  },
  {
   "cell_type": "code",
   "execution_count": 60,
   "id": "5761eff5-b410-4076-95d1-d7f2e163ad42",
   "metadata": {},
   "outputs": [],
   "source": [
    "# The height column captures the height of a person in centimeters.\n",
    "# As a matter of preference, I'll be converting to inches.\n",
    "cvd['height'] = cvd.height.apply(lambda x: x / 2.54)"
   ]
  },
  {
   "cell_type": "code",
   "execution_count": 61,
   "id": "6cd0594c-b679-4297-9543-26a902a4da2c",
   "metadata": {},
   "outputs": [],
   "source": [
    "# The weight column captures the weight of a person in kilograms.\n",
    "# As a matter of preference, I'll be converting to pounds (lbs).\n",
    "cvd['weight'] = cvd.weight.apply(lambda x: x * 2.205)"
   ]
  },
  {
   "cell_type": "code",
   "execution_count": 62,
   "id": "039bd8a7-9fa9-4b2b-841e-5d1cf3d6f443",
   "metadata": {},
   "outputs": [],
   "source": [
    "# Changing column names accordingly\n",
    "cvd = cvd.rename(columns={'age':'age (yr)',\n",
    "                         'height':'height (in)',\n",
    "                         'weight':'weight (lb)'})"
   ]
  },
  {
   "cell_type": "code",
   "execution_count": 63,
   "id": "d9a46926-fd6d-4877-a5bf-ccf15b537109",
   "metadata": {},
   "outputs": [
    {
     "data": {
      "text/html": [
       "<div>\n",
       "<style scoped>\n",
       "    .dataframe tbody tr th:only-of-type {\n",
       "        vertical-align: middle;\n",
       "    }\n",
       "\n",
       "    .dataframe tbody tr th {\n",
       "        vertical-align: top;\n",
       "    }\n",
       "\n",
       "    .dataframe thead th {\n",
       "        text-align: right;\n",
       "    }\n",
       "</style>\n",
       "<table border=\"1\" class=\"dataframe\">\n",
       "  <thead>\n",
       "    <tr style=\"text-align: right;\">\n",
       "      <th></th>\n",
       "      <th>id</th>\n",
       "      <th>age (yr)</th>\n",
       "      <th>gender</th>\n",
       "      <th>height (in)</th>\n",
       "      <th>weight (lb)</th>\n",
       "      <th>ap_hi</th>\n",
       "      <th>ap_lo</th>\n",
       "      <th>cholesterol</th>\n",
       "      <th>gluc</th>\n",
       "      <th>smoke</th>\n",
       "      <th>alco</th>\n",
       "      <th>active</th>\n",
       "      <th>cardio</th>\n",
       "    </tr>\n",
       "  </thead>\n",
       "  <tbody>\n",
       "    <tr>\n",
       "      <th>0</th>\n",
       "      <td>988</td>\n",
       "      <td>61.558904</td>\n",
       "      <td>1</td>\n",
       "      <td>61.023622</td>\n",
       "      <td>152.145</td>\n",
       "      <td>130</td>\n",
       "      <td>80</td>\n",
       "      <td>2</td>\n",
       "      <td>2</td>\n",
       "      <td>0</td>\n",
       "      <td>0</td>\n",
       "      <td>1</td>\n",
       "      <td>0</td>\n",
       "    </tr>\n",
       "    <tr>\n",
       "      <th>1</th>\n",
       "      <td>989</td>\n",
       "      <td>40.131507</td>\n",
       "      <td>1</td>\n",
       "      <td>64.173228</td>\n",
       "      <td>156.555</td>\n",
       "      <td>110</td>\n",
       "      <td>70</td>\n",
       "      <td>1</td>\n",
       "      <td>1</td>\n",
       "      <td>0</td>\n",
       "      <td>0</td>\n",
       "      <td>1</td>\n",
       "      <td>1</td>\n",
       "    </tr>\n",
       "    <tr>\n",
       "      <th>2</th>\n",
       "      <td>990</td>\n",
       "      <td>60.002740</td>\n",
       "      <td>1</td>\n",
       "      <td>64.960630</td>\n",
       "      <td>154.350</td>\n",
       "      <td>120</td>\n",
       "      <td>80</td>\n",
       "      <td>1</td>\n",
       "      <td>1</td>\n",
       "      <td>0</td>\n",
       "      <td>0</td>\n",
       "      <td>1</td>\n",
       "      <td>0</td>\n",
       "    </tr>\n",
       "    <tr>\n",
       "      <th>3</th>\n",
       "      <td>991</td>\n",
       "      <td>39.860274</td>\n",
       "      <td>2</td>\n",
       "      <td>64.960630</td>\n",
       "      <td>187.425</td>\n",
       "      <td>120</td>\n",
       "      <td>80</td>\n",
       "      <td>1</td>\n",
       "      <td>1</td>\n",
       "      <td>1</td>\n",
       "      <td>1</td>\n",
       "      <td>1</td>\n",
       "      <td>0</td>\n",
       "    </tr>\n",
       "    <tr>\n",
       "      <th>4</th>\n",
       "      <td>992</td>\n",
       "      <td>64.090411</td>\n",
       "      <td>1</td>\n",
       "      <td>61.023622</td>\n",
       "      <td>136.710</td>\n",
       "      <td>120</td>\n",
       "      <td>80</td>\n",
       "      <td>1</td>\n",
       "      <td>1</td>\n",
       "      <td>0</td>\n",
       "      <td>0</td>\n",
       "      <td>1</td>\n",
       "      <td>0</td>\n",
       "    </tr>\n",
       "  </tbody>\n",
       "</table>\n",
       "</div>"
      ],
      "text/plain": [
       "    id   age (yr)  gender  height (in)  weight (lb)  ap_hi  ap_lo  \\\n",
       "0  988  61.558904       1    61.023622      152.145    130     80   \n",
       "1  989  40.131507       1    64.173228      156.555    110     70   \n",
       "2  990  60.002740       1    64.960630      154.350    120     80   \n",
       "3  991  39.860274       2    64.960630      187.425    120     80   \n",
       "4  992  64.090411       1    61.023622      136.710    120     80   \n",
       "\n",
       "   cholesterol  gluc  smoke  alco  active  cardio  \n",
       "0            2     2      0     0       1       0  \n",
       "1            1     1      0     0       1       1  \n",
       "2            1     1      0     0       1       0  \n",
       "3            1     1      1     1       1       0  \n",
       "4            1     1      0     0       1       0  "
      ]
     },
     "execution_count": 63,
     "metadata": {},
     "output_type": "execute_result"
    }
   ],
   "source": [
    "# Verifying changes\n",
    "cvd.head(5)"
   ]
  },
  {
   "cell_type": "markdown",
   "id": "add35d3e-d65b-465b-b3a9-83e424698d20",
   "metadata": {},
   "source": [
    "### 1.5 Checking Unique Values"
   ]
  },
  {
   "cell_type": "code",
   "execution_count": 64,
   "id": "5b7a4503-7cdc-4263-9b54-a7f562f3b888",
   "metadata": {},
   "outputs": [
    {
     "data": {
      "text/plain": [
       "id             69301\n",
       "age (yr)        8069\n",
       "gender             2\n",
       "height (in)      108\n",
       "weight (lb)      285\n",
       "ap_hi            153\n",
       "ap_lo            157\n",
       "cholesterol        3\n",
       "gluc               3\n",
       "smoke              2\n",
       "alco               2\n",
       "active             2\n",
       "cardio             2\n",
       "dtype: int64"
      ]
     },
     "execution_count": 64,
     "metadata": {},
     "output_type": "execute_result"
    }
   ],
   "source": [
    "# By using the nunique() method, I can get the unique values of each column in the data set.\n",
    "# The number of unique values for some of these columns is what is expected, as some columns\n",
    "# store binary or ternary values.\n",
    "cvd.nunique()"
   ]
  },
  {
   "cell_type": "markdown",
   "id": "e48c9fb5-4377-4f2a-9a8c-ef53e12e0fdc",
   "metadata": {},
   "source": [
    "### 1.6 Cleaning Data and Dealing with Outliers"
   ]
  },
  {
   "cell_type": "code",
   "execution_count": 65,
   "id": "2770b76c-80ef-41cf-8b5f-2fdad35f613d",
   "metadata": {},
   "outputs": [
    {
     "data": {
      "text/html": [
       "<div>\n",
       "<style scoped>\n",
       "    .dataframe tbody tr th:only-of-type {\n",
       "        vertical-align: middle;\n",
       "    }\n",
       "\n",
       "    .dataframe tbody tr th {\n",
       "        vertical-align: top;\n",
       "    }\n",
       "\n",
       "    .dataframe thead th {\n",
       "        text-align: right;\n",
       "    }\n",
       "</style>\n",
       "<table border=\"1\" class=\"dataframe\">\n",
       "  <thead>\n",
       "    <tr style=\"text-align: right;\">\n",
       "      <th></th>\n",
       "      <th>id</th>\n",
       "      <th>age (yr)</th>\n",
       "      <th>gender</th>\n",
       "      <th>height (in)</th>\n",
       "      <th>weight (lb)</th>\n",
       "      <th>ap_hi</th>\n",
       "      <th>ap_lo</th>\n",
       "      <th>cholesterol</th>\n",
       "      <th>gluc</th>\n",
       "      <th>smoke</th>\n",
       "      <th>alco</th>\n",
       "      <th>active</th>\n",
       "      <th>cardio</th>\n",
       "    </tr>\n",
       "  </thead>\n",
       "  <tbody>\n",
       "    <tr>\n",
       "      <th>count</th>\n",
       "      <td>69301.000000</td>\n",
       "      <td>69301.000000</td>\n",
       "      <td>69301.000000</td>\n",
       "      <td>69301.000000</td>\n",
       "      <td>69301.000000</td>\n",
       "      <td>69301.000000</td>\n",
       "      <td>69301.000000</td>\n",
       "      <td>69301.000000</td>\n",
       "      <td>69301.000000</td>\n",
       "      <td>69301.000000</td>\n",
       "      <td>69301.000000</td>\n",
       "      <td>69301.000000</td>\n",
       "      <td>69301.000000</td>\n",
       "    </tr>\n",
       "    <tr>\n",
       "      <th>mean</th>\n",
       "      <td>50471.480397</td>\n",
       "      <td>53.339140</td>\n",
       "      <td>1.349519</td>\n",
       "      <td>64.709534</td>\n",
       "      <td>163.617675</td>\n",
       "      <td>128.829584</td>\n",
       "      <td>96.650092</td>\n",
       "      <td>1.366806</td>\n",
       "      <td>1.226447</td>\n",
       "      <td>0.088051</td>\n",
       "      <td>0.053881</td>\n",
       "      <td>0.803986</td>\n",
       "      <td>0.499589</td>\n",
       "    </tr>\n",
       "    <tr>\n",
       "      <th>std</th>\n",
       "      <td>28563.100347</td>\n",
       "      <td>6.759621</td>\n",
       "      <td>0.476821</td>\n",
       "      <td>3.230448</td>\n",
       "      <td>31.715549</td>\n",
       "      <td>154.775805</td>\n",
       "      <td>189.096240</td>\n",
       "      <td>0.680270</td>\n",
       "      <td>0.572246</td>\n",
       "      <td>0.283371</td>\n",
       "      <td>0.225784</td>\n",
       "      <td>0.396982</td>\n",
       "      <td>0.500003</td>\n",
       "    </tr>\n",
       "    <tr>\n",
       "      <th>min</th>\n",
       "      <td>988.000000</td>\n",
       "      <td>29.583562</td>\n",
       "      <td>1.000000</td>\n",
       "      <td>21.653543</td>\n",
       "      <td>22.050000</td>\n",
       "      <td>-150.000000</td>\n",
       "      <td>-70.000000</td>\n",
       "      <td>1.000000</td>\n",
       "      <td>1.000000</td>\n",
       "      <td>0.000000</td>\n",
       "      <td>0.000000</td>\n",
       "      <td>0.000000</td>\n",
       "      <td>0.000000</td>\n",
       "    </tr>\n",
       "    <tr>\n",
       "      <th>25%</th>\n",
       "      <td>25745.000000</td>\n",
       "      <td>48.394521</td>\n",
       "      <td>1.000000</td>\n",
       "      <td>62.598425</td>\n",
       "      <td>143.325000</td>\n",
       "      <td>120.000000</td>\n",
       "      <td>80.000000</td>\n",
       "      <td>1.000000</td>\n",
       "      <td>1.000000</td>\n",
       "      <td>0.000000</td>\n",
       "      <td>0.000000</td>\n",
       "      <td>1.000000</td>\n",
       "      <td>0.000000</td>\n",
       "    </tr>\n",
       "    <tr>\n",
       "      <th>50%</th>\n",
       "      <td>50494.000000</td>\n",
       "      <td>53.983562</td>\n",
       "      <td>1.000000</td>\n",
       "      <td>64.960630</td>\n",
       "      <td>158.760000</td>\n",
       "      <td>120.000000</td>\n",
       "      <td>80.000000</td>\n",
       "      <td>1.000000</td>\n",
       "      <td>1.000000</td>\n",
       "      <td>0.000000</td>\n",
       "      <td>0.000000</td>\n",
       "      <td>1.000000</td>\n",
       "      <td>0.000000</td>\n",
       "    </tr>\n",
       "    <tr>\n",
       "      <th>75%</th>\n",
       "      <td>75150.000000</td>\n",
       "      <td>58.427397</td>\n",
       "      <td>2.000000</td>\n",
       "      <td>66.929134</td>\n",
       "      <td>180.810000</td>\n",
       "      <td>140.000000</td>\n",
       "      <td>90.000000</td>\n",
       "      <td>2.000000</td>\n",
       "      <td>1.000000</td>\n",
       "      <td>0.000000</td>\n",
       "      <td>0.000000</td>\n",
       "      <td>1.000000</td>\n",
       "      <td>1.000000</td>\n",
       "    </tr>\n",
       "    <tr>\n",
       "      <th>max</th>\n",
       "      <td>99999.000000</td>\n",
       "      <td>64.967123</td>\n",
       "      <td>2.000000</td>\n",
       "      <td>98.425197</td>\n",
       "      <td>441.000000</td>\n",
       "      <td>16020.000000</td>\n",
       "      <td>11000.000000</td>\n",
       "      <td>3.000000</td>\n",
       "      <td>3.000000</td>\n",
       "      <td>1.000000</td>\n",
       "      <td>1.000000</td>\n",
       "      <td>1.000000</td>\n",
       "      <td>1.000000</td>\n",
       "    </tr>\n",
       "  </tbody>\n",
       "</table>\n",
       "</div>"
      ],
      "text/plain": [
       "                 id      age (yr)        gender   height (in)   weight (lb)  \\\n",
       "count  69301.000000  69301.000000  69301.000000  69301.000000  69301.000000   \n",
       "mean   50471.480397     53.339140      1.349519     64.709534    163.617675   \n",
       "std    28563.100347      6.759621      0.476821      3.230448     31.715549   \n",
       "min      988.000000     29.583562      1.000000     21.653543     22.050000   \n",
       "25%    25745.000000     48.394521      1.000000     62.598425    143.325000   \n",
       "50%    50494.000000     53.983562      1.000000     64.960630    158.760000   \n",
       "75%    75150.000000     58.427397      2.000000     66.929134    180.810000   \n",
       "max    99999.000000     64.967123      2.000000     98.425197    441.000000   \n",
       "\n",
       "              ap_hi         ap_lo   cholesterol          gluc         smoke  \\\n",
       "count  69301.000000  69301.000000  69301.000000  69301.000000  69301.000000   \n",
       "mean     128.829584     96.650092      1.366806      1.226447      0.088051   \n",
       "std      154.775805    189.096240      0.680270      0.572246      0.283371   \n",
       "min     -150.000000    -70.000000      1.000000      1.000000      0.000000   \n",
       "25%      120.000000     80.000000      1.000000      1.000000      0.000000   \n",
       "50%      120.000000     80.000000      1.000000      1.000000      0.000000   \n",
       "75%      140.000000     90.000000      2.000000      1.000000      0.000000   \n",
       "max    16020.000000  11000.000000      3.000000      3.000000      1.000000   \n",
       "\n",
       "               alco        active        cardio  \n",
       "count  69301.000000  69301.000000  69301.000000  \n",
       "mean       0.053881      0.803986      0.499589  \n",
       "std        0.225784      0.396982      0.500003  \n",
       "min        0.000000      0.000000      0.000000  \n",
       "25%        0.000000      1.000000      0.000000  \n",
       "50%        0.000000      1.000000      0.000000  \n",
       "75%        0.000000      1.000000      1.000000  \n",
       "max        1.000000      1.000000      1.000000  "
      ]
     },
     "execution_count": 65,
     "metadata": {},
     "output_type": "execute_result"
    }
   ],
   "source": [
    "# Seeing a descriptive summary of the data set once again is helpful. There still remains many questionable values\n",
    "# in the data set that have to be dealt with. For instance, the minimum and maximum recorded heights in the data set are 21.7 inches\n",
    "# and 98.4 inches, respectively. These heights are strickingly abnormal!\n",
    "# In this subsection, I'll be working with such outliers, seeing if substituting or removing them, all together, is my best choice.\n",
    "cvd.describe()"
   ]
  },
  {
   "cell_type": "markdown",
   "id": "5c8d80e3-5196-4a41-bb74-c694f09e91c8",
   "metadata": {},
   "source": [
    "#### 1.6.1 Dealing with Outliers"
   ]
  },
  {
   "cell_type": "code",
   "execution_count": 66,
   "id": "f05d3d80-d76b-4382-9fcd-51302eee3729",
   "metadata": {},
   "outputs": [
    {
     "data": {
      "image/png": "[encoded data removed]",
      "text/plain": [
       "<Figure size 432x288 with 1 Axes>"
      ]
     },
     "metadata": {
      "needs_background": "light"
     },
     "output_type": "display_data"
    },
    {
     "data": {
      "image/png": "[encoded data removed]",
      "text/plain": [
       "<Figure size 432x288 with 1 Axes>"
      ]
     },
     "metadata": {
      "needs_background": "light"
     },
     "output_type": "display_data"
    },
    {
     "data": {
      "image/png": "[encoded data removed]",
      "text/plain": [
       "<Figure size 432x288 with 1 Axes>"
      ]
     },
     "metadata": {
      "needs_background": "light"
     },
     "output_type": "display_data"
    },
    {
     "data": {
      "image/png": "[encoded data removed]",
      "text/plain": [
       "<Figure size 432x288 with 1 Axes>"
      ]
     },
     "metadata": {
      "needs_background": "light"
     },
     "output_type": "display_data"
    },
    {
     "data": {
      "image/png": "[encoded data removed]",
      "text/plain": [
       "<Figure size 432x288 with 1 Axes>"
      ]
     },
     "metadata": {
      "needs_background": "light"
     },
     "output_type": "display_data"
    },
    {
     "data": {
      "image/png": "[encoded data removed]",
      "text/plain": [
       "<Figure size 432x288 with 1 Axes>"
      ]
     },
     "metadata": {
      "needs_background": "light"
     },
     "output_type": "display_data"
    },
    {
     "data": {
      "image/png": "[encoded data removed]",
      "text/plain": [
       "<Figure size 432x288 with 1 Axes>"
      ]
     },
     "metadata": {
      "needs_background": "light"
     },
     "output_type": "display_data"
    },
    {
     "data": {
      "image/png": "[encoded data removed]",
      "text/plain": [
       "<Figure size 432x288 with 1 Axes>"
      ]
     },
     "metadata": {
      "needs_background": "light"
     },
     "output_type": "display_data"
    },
    {
     "data": {
      "image/png": "[encoded data removed]",
      "text/plain": [
       "<Figure size 432x288 with 1 Axes>"
      ]
     },
     "metadata": {
      "needs_background": "light"
     },
     "output_type": "display_data"
    },
    {
     "data": {
      "image/png": "[encoded data removed]",
      "text/plain": [
       "<Figure size 432x288 with 1 Axes>"
      ]
     },
     "metadata": {
      "needs_background": "light"
     },
     "output_type": "display_data"
    },
    {
     "data": {
      "image/png": "[encoded data removed]",
      "text/plain": [
       "<Figure size 432x288 with 1 Axes>"
      ]
     },
     "metadata": {
      "needs_background": "light"
     },
     "output_type": "display_data"
    },
    {
     "data": {
      "image/png": "[encoded data removed]",
      "text/plain": [
       "<Figure size 432x288 with 1 Axes>"
      ]
     },
     "metadata": {
      "needs_background": "light"
     },
     "output_type": "display_data"
    },
    {
     "data": {
      "image/png": "[encoded data removed]",
      "text/plain": [
       "<Figure size 432x288 with 1 Axes>"
      ]
     },
     "metadata": {
      "needs_background": "light"
     },
     "output_type": "display_data"
    }
   ],
   "source": [
    "# Using box plots, I will check for outliers in each column of the data set.\n",
    "for column in cvd:\n",
    "    plt.figure()\n",
    "    cvd.boxplot([column])"
   ]
  },
  {
   "cell_type": "markdown",
   "id": "28e558b2-22f4-4c14-8710-efe8e0487fd5",
   "metadata": {},
   "source": [
    "As can be seen, the variables height, weight, ap_hi, and ap_lo have many outliers, respectively. \n",
    "\n",
    "I'm going to check the unique values for each of these variables to get a better idea of how to deal\n",
    "with the outliers. "
   ]
  },
  {
   "cell_type": "markdown",
   "id": "a34a08b1-52d2-46a8-87b0-1963f2651faa",
   "metadata": {},
   "source": [
    "### 1.6.2 Cleaning ap_hi Variable"
   ]
  },
  {
   "cell_type": "code",
   "execution_count": 67,
   "id": "d0bba5db-5d61-4864-955c-6b0af01df347",
   "metadata": {},
   "outputs": [
    {
     "data": {
      "text/plain": [
       "array([  130,   110,   120,   100,   140,   160,   170,   150,   147,\n",
       "         115,    90,   180,    14,   125,   135,   190,   137,   153,\n",
       "          11,   145,   148,   126,   105,   220,   119,   141,   165,\n",
       "         164,    12,   124,   172,   902,   162,   906,   117,   134,\n",
       "         166,   210,   176,   133,   116,   169,    10,   121,    16,\n",
       "          80,   112,   159,   122,   113,   118,   200,   155,   142,\n",
       "         131,   157,   136,   146,   138,  -100,   909,    70,   109,\n",
       "          85,   106,   129,    93,     7,    95,   179,   161,   156,\n",
       "         168,   132,   104,   103,   178,   175,   123,   128,   151,\n",
       "          15,   139, 11500,   127,    17,   108,   144,   158,   102,\n",
       "           1,  1420,    13,   143,   701,   107,   184,   149,   167,\n",
       "         114,   101,    60,  1500,   181,   171,   202,  -115,   111,\n",
       "         907,    20,   188,   185,   163,   173,   154,   177,  -140,\n",
       "         174,  -120, 14020,  1400,   240,   191,   197,  1620,   152,\n",
       "          96,   199,  -150,  1130,   193,    99,   196,   309,   401,\n",
       "       16020,  1202,   806,  1300,   230,   207,   215,    97,  1409,\n",
       "       11020,    24,   960, 13010,  1110,   195,  1205,   187,  2000],\n",
       "      dtype=int64)"
      ]
     },
     "execution_count": 67,
     "metadata": {},
     "output_type": "execute_result"
    }
   ],
   "source": [
    "# Using the unique() method to get unique values in the column.\n",
    "# There are impossibly low (e.g., negative values) and high values in column.\n",
    "# Note, the highest blood pressure ever recorded on a human was 370/360.\n",
    "# Any systolic blood pressure that exceeds 370 is highly likely due to mistaken encoding.\n",
    "cvd['ap_hi'].unique()"
   ]
  },
  {
   "cell_type": "code",
   "execution_count": 68,
   "id": "2a893e75-409a-4d32-885c-0f02c2d8209e",
   "metadata": {},
   "outputs": [
    {
     "data": {
      "text/plain": [
       "array([  130,   110,   120,   100,   140,   160,   170,   150,   147,\n",
       "         115,    90,   180,    14,   125,   135,   190,   137,   153,\n",
       "          11,   145,   148,   126,   105,   220,   119,   141,   165,\n",
       "         164,    12,   124,   172,   902,   162,   906,   117,   134,\n",
       "         166,   210,   176,   133,   116,   169,    10,   121,    16,\n",
       "          80,   112,   159,   122,   113,   118,   200,   155,   142,\n",
       "         131,   157,   136,   146,   138,   909,    70,   109,    85,\n",
       "         106,   129,    93,     7,    95,   179,   161,   156,   168,\n",
       "         132,   104,   103,   178,   175,   123,   128,   151,    15,\n",
       "         139, 11500,   127,    17,   108,   144,   158,   102,     1,\n",
       "        1420,    13,   143,   701,   107,   184,   149,   167,   114,\n",
       "         101,    60,  1500,   181,   171,   202,   111,   907,    20,\n",
       "         188,   185,   163,   173,   154,   177,   174, 14020,  1400,\n",
       "         240,   191,   197,  1620,   152,    96,   199,  1130,   193,\n",
       "          99,   196,   309,   401, 16020,  1202,   806,  1300,   230,\n",
       "         207,   215,    97,  1409, 11020,    24,   960, 13010,  1110,\n",
       "         195,  1205,   187,  2000], dtype=int64)"
      ]
     },
     "execution_count": 68,
     "metadata": {},
     "output_type": "execute_result"
    }
   ],
   "source": [
    "# Using the abs() method to get rid of negative systolic values.\n",
    "cvd['ap_hi'] = cvd['ap_hi'].abs()\n",
    "\n",
    "# Verifying\n",
    "cvd['ap_hi'].unique()"
   ]
  },
  {
   "cell_type": "code",
   "execution_count": 69,
   "id": "10b16b71-b102-4fae-9701-672e75b300ad",
   "metadata": {},
   "outputs": [
    {
     "data": {
      "text/plain": [
       "39"
      ]
     },
     "execution_count": 69,
     "metadata": {},
     "output_type": "execute_result"
    }
   ],
   "source": [
    "# Checking how many systolic readings exceed 370. \n",
    "sum(cvd['ap_hi'] > 370)"
   ]
  },
  {
   "cell_type": "code",
   "execution_count": 70,
   "id": "b1d7ade2-4ccf-4105-96c5-18dfd20cef34",
   "metadata": {},
   "outputs": [
    {
     "data": {
      "text/plain": [
       "310"
      ]
     },
     "execution_count": 70,
     "metadata": {},
     "output_type": "execute_result"
    }
   ],
   "source": [
    "# Checking how many systolic readings are lower than 90.\n",
    "sum(cvd['ap_hi']  < 90)"
   ]
  },
  {
   "cell_type": "markdown",
   "id": "04065292-5f72-4eb0-97a3-d635711dacda",
   "metadata": {},
   "source": [
    "There are many outliers that have to dealt with; however, it is not clear\n",
    "on how to deal with them."
   ]
  },
  {
   "cell_type": "code",
   "execution_count": 71,
   "id": "5f813a8c-c3b3-47fd-bdec-6ce573e91d13",
   "metadata": {},
   "outputs": [],
   "source": [
    "# I will drop ap_hi values that are greater than or equal to\n",
    "# 370 and less than to 90.\n",
    "cvd.drop(cvd[cvd['ap_hi'] >= 370].index, inplace=True)\n",
    "cvd.drop(cvd[cvd['ap_hi'] < 90].index, inplace=True)"
   ]
  },
  {
   "cell_type": "code",
   "execution_count": 72,
   "id": "88e94da5-be09-4aa7-96bc-724596719a53",
   "metadata": {},
   "outputs": [
    {
     "data": {
      "text/plain": [
       "array([130, 110, 120, 100, 140, 160, 170, 150, 147, 115,  90, 180, 125,\n",
       "       135, 190, 137, 153, 145, 148, 126, 105, 220, 119, 141, 165, 164,\n",
       "       124, 172, 162, 117, 134, 166, 210, 176, 133, 116, 169, 121, 112,\n",
       "       159, 122, 113, 118, 200, 155, 142, 131, 157, 136, 146, 138, 109,\n",
       "       106, 129,  93,  95, 179, 161, 156, 168, 132, 104, 103, 178, 175,\n",
       "       123, 128, 151, 139, 127, 108, 144, 158, 102, 143, 107, 184, 149,\n",
       "       167, 114, 101, 181, 171, 202, 111, 188, 185, 163, 173, 154, 177,\n",
       "       174, 240, 191, 197, 152,  96, 199, 193,  99, 196, 309, 230, 207,\n",
       "       215,  97, 195, 187], dtype=int64)"
      ]
     },
     "execution_count": 72,
     "metadata": {},
     "output_type": "execute_result"
    }
   ],
   "source": [
    "# Verifying \n",
    "cvd['ap_hi'].unique()"
   ]
  },
  {
   "cell_type": "code",
   "execution_count": 73,
   "id": "fa26e6c2-5928-4531-8595-6f5738c6d8ae",
   "metadata": {},
   "outputs": [
    {
     "data": {
      "text/plain": [
       "count    68952.000000\n",
       "mean       127.086785\n",
       "std         16.995606\n",
       "min         90.000000\n",
       "25%        120.000000\n",
       "50%        120.000000\n",
       "75%        140.000000\n",
       "max        309.000000\n",
       "Name: ap_hi, dtype: float64"
      ]
     },
     "execution_count": 73,
     "metadata": {},
     "output_type": "execute_result"
    }
   ],
   "source": [
    "# These summary statistics seem much more reasonable.\n",
    "cvd['ap_hi'].describe()"
   ]
  },
  {
   "cell_type": "markdown",
   "id": "c6c90c93-ffb6-465b-99c8-f1c5fcac197b",
   "metadata": {},
   "source": [
    "### 1.6.3 Cleaning ap_lo Variable"
   ]
  },
  {
   "cell_type": "code",
   "execution_count": 74,
   "id": "85075ce1-bfc1-4418-9db3-5a8355a81ccd",
   "metadata": {},
   "outputs": [
    {
     "data": {
      "text/plain": [
       "array([   80,    70,    90,   100,  1000,    60,    79,    78,   110,\n",
       "          84,    75,  1100,    85,    86,    87,  1001,    82,    95,\n",
       "          69,    74,    97,    65,   120,    81,    73,    89,  1200,\n",
       "          83,   119,    50,    93,   105, 10000,   150,    99,    77,\n",
       "          59,  8044,    92,  1044,   108,   115,    68,    61,   106,\n",
       "         102,    91,    94,    66,    52,   170,   140,    76,   160,\n",
       "          62,    30,    96,   130,   113,    67,  9100,  1033,    10,\n",
       "          88,   902,     8,   112,   104,    71,    72,  1008,    98,\n",
       "          20,   802,  8000,  1022,   850,    40,   708,    57,   101,\n",
       "        9011,  1011,    64,     0,  1007,  1177,  7100,   109,    45,\n",
       "         709,    63,  8500,   800,    58,  1110,  8099,  1088,   126,\n",
       "        1077,  1120,     7,   103,  1125,   180,   121,  8100,   710,\n",
       "        5700,  8079,  1111,  1003,     6,  1900,   809,   114,   801,\n",
       "        1002,    53,   111,     1,   118,    56,   182,   810,     9,\n",
       "        7099, 11000,  9800,  8200,  1139,   107,   820,    55,  1400,\n",
       "         190,   900,   122,  6800,   135,   700,  1101,   910,  1140,\n",
       "        1211,   125,    54,  8077,   901,   880,   870,    49,   602],\n",
       "      dtype=int64)"
      ]
     },
     "execution_count": 74,
     "metadata": {},
     "output_type": "execute_result"
    }
   ],
   "source": [
    "# Proceeding similarly as before, I will check the unique values\n",
    "# inside this column.\n",
    "# Note how there are impossibly low and high values. Working with the\n",
    "# fact stated before, I will state the cutoff points to be both 360 and\n",
    "# 60. The former because the highest diastolic recorded was 360, so any value\n",
    "# exceeding this number is highly likely due to mistaken encoding; the latter because\n",
    "# a reading of lower than 60 is considered low.\n",
    "cvd['ap_lo'].unique()"
   ]
  },
  {
   "cell_type": "code",
   "execution_count": 75,
   "id": "c888847c-9e56-4871-8faa-65ce108c91ab",
   "metadata": {},
   "outputs": [
    {
     "data": {
      "text/plain": [
       "array([   80,    70,    90,   100,  1000,    60,    79,    78,   110,\n",
       "          84,    75,  1100,    85,    86,    87,  1001,    82,    95,\n",
       "          69,    74,    97,    65,   120,    81,    73,    89,  1200,\n",
       "          83,   119,    50,    93,   105, 10000,   150,    99,    77,\n",
       "          59,  8044,    92,  1044,   108,   115,    68,    61,   106,\n",
       "         102,    91,    94,    66,    52,   170,   140,    76,   160,\n",
       "          62,    30,    96,   130,   113,    67,  9100,  1033,    10,\n",
       "          88,   902,     8,   112,   104,    71,    72,  1008,    98,\n",
       "          20,   802,  8000,  1022,   850,    40,   708,    57,   101,\n",
       "        9011,  1011,    64,     0,  1007,  1177,  7100,   109,    45,\n",
       "         709,    63,  8500,   800,    58,  1110,  8099,  1088,   126,\n",
       "        1077,  1120,     7,   103,  1125,   180,   121,  8100,   710,\n",
       "        5700,  8079,  1111,  1003,     6,  1900,   809,   114,   801,\n",
       "        1002,    53,   111,     1,   118,    56,   182,   810,     9,\n",
       "        7099, 11000,  9800,  8200,  1139,   107,   820,    55,  1400,\n",
       "         190,   900,   122,  6800,   135,   700,  1101,   910,  1140,\n",
       "        1211,   125,    54,  8077,   901,   880,   870,    49,   602],\n",
       "      dtype=int64)"
      ]
     },
     "execution_count": 75,
     "metadata": {},
     "output_type": "execute_result"
    }
   ],
   "source": [
    "# Using abs() method to get rid of negative values.\n",
    "cvd['ap_lo'] = cvd['ap_lo'].abs()\n",
    "\n",
    "# Verifying\n",
    "cvd['ap_lo'].unique()"
   ]
  },
  {
   "cell_type": "code",
   "execution_count": 76,
   "id": "1c407158-ff2a-4d46-9392-24713fabdd4e",
   "metadata": {},
   "outputs": [
    {
     "data": {
      "text/plain": [
       "939"
      ]
     },
     "execution_count": 76,
     "metadata": {},
     "output_type": "execute_result"
    }
   ],
   "source": [
    "# Checking how many diastolic readings exceed 360.\n",
    "sum(cvd['ap_lo'] > 360)"
   ]
  },
  {
   "cell_type": "code",
   "execution_count": 77,
   "id": "85b8f204-3f79-4314-98cb-9cca56023a22",
   "metadata": {},
   "outputs": [
    {
     "data": {
      "text/plain": [
       "145"
      ]
     },
     "execution_count": 77,
     "metadata": {},
     "output_type": "execute_result"
    }
   ],
   "source": [
    "# Checking how many diastolic readings are lower than 60.\n",
    "sum(cvd['ap_lo'] < 60)"
   ]
  },
  {
   "cell_type": "markdown",
   "id": "08c276c2-6783-404f-a975-5a0cdbc06296",
   "metadata": {},
   "source": [
    "There are several outliers (i.e., values that either exceed or are lower than self-defined cutoff points)."
   ]
  },
  {
   "cell_type": "code",
   "execution_count": 78,
   "id": "c6973397-fc03-4eef-a0bb-01b1fa764502",
   "metadata": {},
   "outputs": [],
   "source": [
    "# I will drop ap_lo values that are strictly less than 60\n",
    "# and greater than or equal to 360.\n",
    "cvd.drop(cvd[cvd['ap_lo'] >= 360].index, inplace=True)\n",
    "cvd.drop(cvd[cvd['ap_lo'] < 60].index, inplace=True)"
   ]
  },
  {
   "cell_type": "code",
   "execution_count": 79,
   "id": "4259ce6f-7e99-4a61-941a-c731fc451654",
   "metadata": {},
   "outputs": [
    {
     "data": {
      "text/plain": [
       "array([ 80,  70,  90, 100,  60,  79,  78, 110,  84,  75,  85,  86,  87,\n",
       "        82,  95,  69,  74,  97,  65, 120,  81,  73,  89,  83, 119,  93,\n",
       "       105, 150,  99,  77,  92, 108, 115,  68,  61, 106, 102,  91,  94,\n",
       "        66, 170, 140,  76, 160,  62,  96, 130, 113,  67,  88, 112, 104,\n",
       "        71,  72,  98, 101,  64, 109,  63, 126, 103, 180, 121, 114, 111,\n",
       "       118, 182, 107, 190, 122, 135, 125], dtype=int64)"
      ]
     },
     "execution_count": 79,
     "metadata": {},
     "output_type": "execute_result"
    }
   ],
   "source": [
    "# Verifying\n",
    "cvd['ap_lo'].unique()"
   ]
  },
  {
   "cell_type": "code",
   "execution_count": 80,
   "id": "b10eec44-21c9-4842-a014-440eb7513ae5",
   "metadata": {},
   "outputs": [
    {
     "data": {
      "text/plain": [
       "count    67868.000000\n",
       "mean        81.415557\n",
       "std          9.517076\n",
       "min         60.000000\n",
       "25%         80.000000\n",
       "50%         80.000000\n",
       "75%         90.000000\n",
       "max        190.000000\n",
       "Name: ap_lo, dtype: float64"
      ]
     },
     "execution_count": 80,
     "metadata": {},
     "output_type": "execute_result"
    }
   ],
   "source": [
    "# These summary statictics seem much more reasonable.\n",
    "cvd['ap_lo'].describe()"
   ]
  },
  {
   "cell_type": "markdown",
   "id": "8f95e508-b98d-4ec5-932b-2cb73fa41731",
   "metadata": {},
   "source": [
    "### 1.6.4 Cleaning Weight Variable"
   ]
  },
  {
   "cell_type": "code",
   "execution_count": 81,
   "id": "8916b83f-ec64-435a-8a57-9aa0aed664cf",
   "metadata": {},
   "outputs": [
    {
     "data": {
      "text/plain": [
       "count    67868.000000\n",
       "mean       163.486656\n",
       "std         31.558616\n",
       "min         24.255000\n",
       "25%        143.325000\n",
       "50%        158.760000\n",
       "75%        180.810000\n",
       "max        441.000000\n",
       "Name: weight (lb), dtype: float64"
      ]
     },
     "execution_count": 81,
     "metadata": {},
     "output_type": "execute_result"
    }
   ],
   "source": [
    "# Getting summary statistics on weight variable.\n",
    "# Results do not seem overtly suspicious since dealing with\n",
    "# weight values isn't as clear as dealing with blood pressure values.\n",
    "# Some of these weights, even if seemingly suspicious, cannot\n",
    "# be solely determined to derived due to encoding error. This issue\n",
    "# warrants a different approach from the last one (i.e., the one used for\n",
    "# ap_hi and ap_lo variables).\n",
    "cvd['weight (lb)'].describe()"
   ]
  },
  {
   "cell_type": "code",
   "execution_count": 82,
   "id": "ad79a928-9d43-4e7f-97aa-6f8cc4418721",
   "metadata": {},
   "outputs": [],
   "source": [
    "# Getting quartiles and interquartile range.\n",
    "Q1 = 143.325\n",
    "Q3 = 180.810\n",
    "IQR = Q3 - Q1\n",
    "\n",
    "# Getting outliers.\n",
    "weight_lower_boundary = round(Q1 - (1.5 * IQR))\n",
    "weight_upper_boundary = round(Q3 + (1.5 * IQR))"
   ]
  },
  {
   "cell_type": "code",
   "execution_count": 83,
   "id": "5c0140cc-6a35-458f-8f0a-8458d972ddde",
   "metadata": {},
   "outputs": [
    {
     "name": "stdout",
     "output_type": "stream",
     "text": [
      "The lower outlier weight treshold is 87 lbs.\n"
     ]
    }
   ],
   "source": [
    "print('The lower outlier weight treshold is {} lbs.'.format(weight_lower_boundary))"
   ]
  },
  {
   "cell_type": "code",
   "execution_count": 84,
   "id": "94e405c9-98ba-45d7-95ae-e6300bd5ba39",
   "metadata": {},
   "outputs": [
    {
     "name": "stdout",
     "output_type": "stream",
     "text": [
      "The upper outlier weight treshold is 237 lbs.\n"
     ]
    }
   ],
   "source": [
    "print('The upper outlier weight treshold is {} lbs.'.format(weight_upper_boundary))"
   ]
  },
  {
   "cell_type": "code",
   "execution_count": 85,
   "id": "c561043f-e245-4a0d-a67e-67b002f64faf",
   "metadata": {},
   "outputs": [
    {
     "name": "stdout",
     "output_type": "stream",
     "text": [
      "Number of upper outliers is: 1680\n",
      "Number of lower outliers is: 48\n"
     ]
    }
   ],
   "source": [
    "# A natural question to ask is \"how many outliers does the weight variable contain?\"\n",
    "print('Number of upper outliers is:', sum(cvd['weight (lb)'] > weight_upper_boundary))\n",
    "print('Number of lower outliers is:', sum(cvd['weight (lb)'] < weight_lower_boundary))"
   ]
  },
  {
   "cell_type": "markdown",
   "id": "142973f2-6f52-49fa-9d7b-408fde669566",
   "metadata": {},
   "source": [
    "These outlier thresholds can serve as cutoff points; however, once again, there\n",
    "isn't a clear-cut method to dealing with such outliers. For example, a weight of 87 pounds\n",
    "can be easily explained if the person happens to be a child or a sickly person. Similar reasoning can \n",
    "explain a weight of 237 pounds, which, on closer inspection, doesn't seem unreasonable. "
   ]
  },
  {
   "cell_type": "code",
   "execution_count": 86,
   "id": "09cd46b2-515d-4625-8543-ce6fe29aa948",
   "metadata": {},
   "outputs": [
    {
     "data": {
      "text/html": [
       "<div>\n",
       "<style scoped>\n",
       "    .dataframe tbody tr th:only-of-type {\n",
       "        vertical-align: middle;\n",
       "    }\n",
       "\n",
       "    .dataframe tbody tr th {\n",
       "        vertical-align: top;\n",
       "    }\n",
       "\n",
       "    .dataframe thead th {\n",
       "        text-align: right;\n",
       "    }\n",
       "</style>\n",
       "<table border=\"1\" class=\"dataframe\">\n",
       "  <thead>\n",
       "    <tr style=\"text-align: right;\">\n",
       "      <th></th>\n",
       "      <th>id</th>\n",
       "      <th>age (yr)</th>\n",
       "      <th>gender</th>\n",
       "      <th>height (in)</th>\n",
       "      <th>weight (lb)</th>\n",
       "      <th>ap_hi</th>\n",
       "      <th>ap_lo</th>\n",
       "      <th>cholesterol</th>\n",
       "      <th>gluc</th>\n",
       "      <th>smoke</th>\n",
       "      <th>alco</th>\n",
       "      <th>active</th>\n",
       "      <th>cardio</th>\n",
       "    </tr>\n",
       "  </thead>\n",
       "  <tbody>\n",
       "    <tr>\n",
       "      <th>3053</th>\n",
       "      <td>5306</td>\n",
       "      <td>42.191781</td>\n",
       "      <td>1</td>\n",
       "      <td>47.244094</td>\n",
       "      <td>66.15000</td>\n",
       "      <td>110</td>\n",
       "      <td>70</td>\n",
       "      <td>1</td>\n",
       "      <td>1</td>\n",
       "      <td>0</td>\n",
       "      <td>0</td>\n",
       "      <td>1</td>\n",
       "      <td>0</td>\n",
       "    </tr>\n",
       "    <tr>\n",
       "      <th>5095</th>\n",
       "      <td>8226</td>\n",
       "      <td>48.391781</td>\n",
       "      <td>1</td>\n",
       "      <td>59.448819</td>\n",
       "      <td>81.58500</td>\n",
       "      <td>120</td>\n",
       "      <td>80</td>\n",
       "      <td>1</td>\n",
       "      <td>1</td>\n",
       "      <td>0</td>\n",
       "      <td>0</td>\n",
       "      <td>1</td>\n",
       "      <td>0</td>\n",
       "    </tr>\n",
       "    <tr>\n",
       "      <th>9748</th>\n",
       "      <td>14908</td>\n",
       "      <td>60.293151</td>\n",
       "      <td>1</td>\n",
       "      <td>63.779528</td>\n",
       "      <td>83.79000</td>\n",
       "      <td>100</td>\n",
       "      <td>70</td>\n",
       "      <td>1</td>\n",
       "      <td>1</td>\n",
       "      <td>0</td>\n",
       "      <td>0</td>\n",
       "      <td>1</td>\n",
       "      <td>0</td>\n",
       "    </tr>\n",
       "    <tr>\n",
       "      <th>9928</th>\n",
       "      <td>15182</td>\n",
       "      <td>59.367123</td>\n",
       "      <td>1</td>\n",
       "      <td>60.236220</td>\n",
       "      <td>81.58500</td>\n",
       "      <td>150</td>\n",
       "      <td>80</td>\n",
       "      <td>3</td>\n",
       "      <td>3</td>\n",
       "      <td>0</td>\n",
       "      <td>0</td>\n",
       "      <td>1</td>\n",
       "      <td>1</td>\n",
       "    </tr>\n",
       "    <tr>\n",
       "      <th>11177</th>\n",
       "      <td>16963</td>\n",
       "      <td>47.978082</td>\n",
       "      <td>1</td>\n",
       "      <td>61.811024</td>\n",
       "      <td>85.99500</td>\n",
       "      <td>90</td>\n",
       "      <td>70</td>\n",
       "      <td>1</td>\n",
       "      <td>1</td>\n",
       "      <td>0</td>\n",
       "      <td>0</td>\n",
       "      <td>1</td>\n",
       "      <td>0</td>\n",
       "    </tr>\n",
       "    <tr>\n",
       "      <th>14023</th>\n",
       "      <td>21040</td>\n",
       "      <td>62.090411</td>\n",
       "      <td>1</td>\n",
       "      <td>56.299213</td>\n",
       "      <td>74.97000</td>\n",
       "      <td>100</td>\n",
       "      <td>70</td>\n",
       "      <td>1</td>\n",
       "      <td>1</td>\n",
       "      <td>0</td>\n",
       "      <td>0</td>\n",
       "      <td>1</td>\n",
       "      <td>0</td>\n",
       "    </tr>\n",
       "    <tr>\n",
       "      <th>15623</th>\n",
       "      <td>23318</td>\n",
       "      <td>59.923288</td>\n",
       "      <td>1</td>\n",
       "      <td>64.960630</td>\n",
       "      <td>77.17500</td>\n",
       "      <td>100</td>\n",
       "      <td>70</td>\n",
       "      <td>1</td>\n",
       "      <td>1</td>\n",
       "      <td>0</td>\n",
       "      <td>0</td>\n",
       "      <td>1</td>\n",
       "      <td>0</td>\n",
       "    </tr>\n",
       "    <tr>\n",
       "      <th>16207</th>\n",
       "      <td>24167</td>\n",
       "      <td>47.320548</td>\n",
       "      <td>2</td>\n",
       "      <td>66.929134</td>\n",
       "      <td>68.35500</td>\n",
       "      <td>150</td>\n",
       "      <td>90</td>\n",
       "      <td>2</td>\n",
       "      <td>2</td>\n",
       "      <td>0</td>\n",
       "      <td>0</td>\n",
       "      <td>1</td>\n",
       "      <td>1</td>\n",
       "    </tr>\n",
       "    <tr>\n",
       "      <th>17860</th>\n",
       "      <td>26503</td>\n",
       "      <td>49.698630</td>\n",
       "      <td>1</td>\n",
       "      <td>62.992126</td>\n",
       "      <td>66.15000</td>\n",
       "      <td>120</td>\n",
       "      <td>80</td>\n",
       "      <td>1</td>\n",
       "      <td>1</td>\n",
       "      <td>0</td>\n",
       "      <td>0</td>\n",
       "      <td>1</td>\n",
       "      <td>1</td>\n",
       "    </tr>\n",
       "    <tr>\n",
       "      <th>18883</th>\n",
       "      <td>27965</td>\n",
       "      <td>58.449315</td>\n",
       "      <td>1</td>\n",
       "      <td>59.842520</td>\n",
       "      <td>83.79000</td>\n",
       "      <td>110</td>\n",
       "      <td>80</td>\n",
       "      <td>1</td>\n",
       "      <td>1</td>\n",
       "      <td>0</td>\n",
       "      <td>0</td>\n",
       "      <td>1</td>\n",
       "      <td>0</td>\n",
       "    </tr>\n",
       "    <tr>\n",
       "      <th>21317</th>\n",
       "      <td>31439</td>\n",
       "      <td>42.079452</td>\n",
       "      <td>1</td>\n",
       "      <td>57.480315</td>\n",
       "      <td>70.56000</td>\n",
       "      <td>100</td>\n",
       "      <td>70</td>\n",
       "      <td>1</td>\n",
       "      <td>1</td>\n",
       "      <td>0</td>\n",
       "      <td>0</td>\n",
       "      <td>0</td>\n",
       "      <td>0</td>\n",
       "    </tr>\n",
       "    <tr>\n",
       "      <th>24499</th>\n",
       "      <td>35972</td>\n",
       "      <td>51.419178</td>\n",
       "      <td>1</td>\n",
       "      <td>58.661417</td>\n",
       "      <td>78.16725</td>\n",
       "      <td>110</td>\n",
       "      <td>70</td>\n",
       "      <td>1</td>\n",
       "      <td>1</td>\n",
       "      <td>0</td>\n",
       "      <td>0</td>\n",
       "      <td>1</td>\n",
       "      <td>0</td>\n",
       "    </tr>\n",
       "    <tr>\n",
       "      <th>26107</th>\n",
       "      <td>38312</td>\n",
       "      <td>63.791781</td>\n",
       "      <td>1</td>\n",
       "      <td>61.811024</td>\n",
       "      <td>50.71500</td>\n",
       "      <td>110</td>\n",
       "      <td>80</td>\n",
       "      <td>1</td>\n",
       "      <td>1</td>\n",
       "      <td>0</td>\n",
       "      <td>0</td>\n",
       "      <td>1</td>\n",
       "      <td>0</td>\n",
       "    </tr>\n",
       "    <tr>\n",
       "      <th>28634</th>\n",
       "      <td>41919</td>\n",
       "      <td>59.528767</td>\n",
       "      <td>1</td>\n",
       "      <td>60.236220</td>\n",
       "      <td>81.58500</td>\n",
       "      <td>120</td>\n",
       "      <td>80</td>\n",
       "      <td>1</td>\n",
       "      <td>1</td>\n",
       "      <td>0</td>\n",
       "      <td>0</td>\n",
       "      <td>1</td>\n",
       "      <td>1</td>\n",
       "    </tr>\n",
       "    <tr>\n",
       "      <th>28789</th>\n",
       "      <td>42156</td>\n",
       "      <td>55.912329</td>\n",
       "      <td>2</td>\n",
       "      <td>69.685039</td>\n",
       "      <td>48.51000</td>\n",
       "      <td>120</td>\n",
       "      <td>80</td>\n",
       "      <td>1</td>\n",
       "      <td>1</td>\n",
       "      <td>1</td>\n",
       "      <td>1</td>\n",
       "      <td>1</td>\n",
       "      <td>0</td>\n",
       "    </tr>\n",
       "    <tr>\n",
       "      <th>30721</th>\n",
       "      <td>44852</td>\n",
       "      <td>56.369863</td>\n",
       "      <td>1</td>\n",
       "      <td>55.118110</td>\n",
       "      <td>85.99500</td>\n",
       "      <td>120</td>\n",
       "      <td>80</td>\n",
       "      <td>1</td>\n",
       "      <td>1</td>\n",
       "      <td>0</td>\n",
       "      <td>0</td>\n",
       "      <td>1</td>\n",
       "      <td>0</td>\n",
       "    </tr>\n",
       "    <tr>\n",
       "      <th>31388</th>\n",
       "      <td>45814</td>\n",
       "      <td>43.142466</td>\n",
       "      <td>1</td>\n",
       "      <td>56.299213</td>\n",
       "      <td>79.38000</td>\n",
       "      <td>90</td>\n",
       "      <td>60</td>\n",
       "      <td>1</td>\n",
       "      <td>1</td>\n",
       "      <td>0</td>\n",
       "      <td>0</td>\n",
       "      <td>1</td>\n",
       "      <td>0</td>\n",
       "    </tr>\n",
       "    <tr>\n",
       "      <th>32779</th>\n",
       "      <td>47830</td>\n",
       "      <td>42.446575</td>\n",
       "      <td>1</td>\n",
       "      <td>59.842520</td>\n",
       "      <td>85.99500</td>\n",
       "      <td>110</td>\n",
       "      <td>70</td>\n",
       "      <td>1</td>\n",
       "      <td>2</td>\n",
       "      <td>1</td>\n",
       "      <td>0</td>\n",
       "      <td>1</td>\n",
       "      <td>1</td>\n",
       "    </tr>\n",
       "    <tr>\n",
       "      <th>32812</th>\n",
       "      <td>47872</td>\n",
       "      <td>57.756164</td>\n",
       "      <td>1</td>\n",
       "      <td>60.236220</td>\n",
       "      <td>74.97000</td>\n",
       "      <td>110</td>\n",
       "      <td>70</td>\n",
       "      <td>3</td>\n",
       "      <td>3</td>\n",
       "      <td>0</td>\n",
       "      <td>0</td>\n",
       "      <td>1</td>\n",
       "      <td>1</td>\n",
       "    </tr>\n",
       "    <tr>\n",
       "      <th>33118</th>\n",
       "      <td>48318</td>\n",
       "      <td>59.128767</td>\n",
       "      <td>2</td>\n",
       "      <td>70.078740</td>\n",
       "      <td>24.25500</td>\n",
       "      <td>130</td>\n",
       "      <td>90</td>\n",
       "      <td>1</td>\n",
       "      <td>1</td>\n",
       "      <td>0</td>\n",
       "      <td>0</td>\n",
       "      <td>1</td>\n",
       "      <td>1</td>\n",
       "    </tr>\n",
       "    <tr>\n",
       "      <th>33121</th>\n",
       "      <td>48322</td>\n",
       "      <td>61.838356</td>\n",
       "      <td>1</td>\n",
       "      <td>57.086614</td>\n",
       "      <td>79.38000</td>\n",
       "      <td>120</td>\n",
       "      <td>80</td>\n",
       "      <td>1</td>\n",
       "      <td>1</td>\n",
       "      <td>0</td>\n",
       "      <td>0</td>\n",
       "      <td>1</td>\n",
       "      <td>0</td>\n",
       "    </tr>\n",
       "    <tr>\n",
       "      <th>33577</th>\n",
       "      <td>48976</td>\n",
       "      <td>40.175342</td>\n",
       "      <td>2</td>\n",
       "      <td>50.393701</td>\n",
       "      <td>61.74000</td>\n",
       "      <td>120</td>\n",
       "      <td>80</td>\n",
       "      <td>1</td>\n",
       "      <td>1</td>\n",
       "      <td>0</td>\n",
       "      <td>0</td>\n",
       "      <td>1</td>\n",
       "      <td>0</td>\n",
       "    </tr>\n",
       "    <tr>\n",
       "      <th>33583</th>\n",
       "      <td>48985</td>\n",
       "      <td>55.906849</td>\n",
       "      <td>1</td>\n",
       "      <td>58.267717</td>\n",
       "      <td>79.38000</td>\n",
       "      <td>140</td>\n",
       "      <td>80</td>\n",
       "      <td>1</td>\n",
       "      <td>1</td>\n",
       "      <td>0</td>\n",
       "      <td>0</td>\n",
       "      <td>1</td>\n",
       "      <td>1</td>\n",
       "    </tr>\n",
       "    <tr>\n",
       "      <th>33629</th>\n",
       "      <td>49043</td>\n",
       "      <td>40.191781</td>\n",
       "      <td>1</td>\n",
       "      <td>59.842520</td>\n",
       "      <td>85.99500</td>\n",
       "      <td>90</td>\n",
       "      <td>60</td>\n",
       "      <td>1</td>\n",
       "      <td>1</td>\n",
       "      <td>0</td>\n",
       "      <td>0</td>\n",
       "      <td>1</td>\n",
       "      <td>0</td>\n",
       "    </tr>\n",
       "    <tr>\n",
       "      <th>34615</th>\n",
       "      <td>50443</td>\n",
       "      <td>54.252055</td>\n",
       "      <td>1</td>\n",
       "      <td>57.480315</td>\n",
       "      <td>70.56000</td>\n",
       "      <td>130</td>\n",
       "      <td>80</td>\n",
       "      <td>1</td>\n",
       "      <td>2</td>\n",
       "      <td>0</td>\n",
       "      <td>0</td>\n",
       "      <td>0</td>\n",
       "      <td>0</td>\n",
       "    </tr>\n",
       "    <tr>\n",
       "      <th>37718</th>\n",
       "      <td>54851</td>\n",
       "      <td>59.750685</td>\n",
       "      <td>1</td>\n",
       "      <td>60.629921</td>\n",
       "      <td>70.56000</td>\n",
       "      <td>110</td>\n",
       "      <td>60</td>\n",
       "      <td>1</td>\n",
       "      <td>1</td>\n",
       "      <td>0</td>\n",
       "      <td>0</td>\n",
       "      <td>1</td>\n",
       "      <td>0</td>\n",
       "    </tr>\n",
       "    <tr>\n",
       "      <th>39913</th>\n",
       "      <td>58033</td>\n",
       "      <td>63.567123</td>\n",
       "      <td>1</td>\n",
       "      <td>60.629921</td>\n",
       "      <td>83.79000</td>\n",
       "      <td>90</td>\n",
       "      <td>70</td>\n",
       "      <td>1</td>\n",
       "      <td>2</td>\n",
       "      <td>0</td>\n",
       "      <td>0</td>\n",
       "      <td>1</td>\n",
       "      <td>0</td>\n",
       "    </tr>\n",
       "    <tr>\n",
       "      <th>40654</th>\n",
       "      <td>59092</td>\n",
       "      <td>57.238356</td>\n",
       "      <td>1</td>\n",
       "      <td>61.811024</td>\n",
       "      <td>83.79000</td>\n",
       "      <td>120</td>\n",
       "      <td>80</td>\n",
       "      <td>1</td>\n",
       "      <td>1</td>\n",
       "      <td>0</td>\n",
       "      <td>0</td>\n",
       "      <td>1</td>\n",
       "      <td>1</td>\n",
       "    </tr>\n",
       "    <tr>\n",
       "      <th>41206</th>\n",
       "      <td>59853</td>\n",
       "      <td>58.449315</td>\n",
       "      <td>1</td>\n",
       "      <td>56.299213</td>\n",
       "      <td>66.15000</td>\n",
       "      <td>103</td>\n",
       "      <td>61</td>\n",
       "      <td>2</td>\n",
       "      <td>1</td>\n",
       "      <td>0</td>\n",
       "      <td>0</td>\n",
       "      <td>1</td>\n",
       "      <td>0</td>\n",
       "    </tr>\n",
       "    <tr>\n",
       "      <th>43060</th>\n",
       "      <td>62529</td>\n",
       "      <td>49.452055</td>\n",
       "      <td>1</td>\n",
       "      <td>53.149606</td>\n",
       "      <td>81.58500</td>\n",
       "      <td>150</td>\n",
       "      <td>90</td>\n",
       "      <td>2</td>\n",
       "      <td>3</td>\n",
       "      <td>0</td>\n",
       "      <td>0</td>\n",
       "      <td>1</td>\n",
       "      <td>0</td>\n",
       "    </tr>\n",
       "    <tr>\n",
       "      <th>43439</th>\n",
       "      <td>63056</td>\n",
       "      <td>59.802740</td>\n",
       "      <td>1</td>\n",
       "      <td>59.448819</td>\n",
       "      <td>83.79000</td>\n",
       "      <td>100</td>\n",
       "      <td>70</td>\n",
       "      <td>1</td>\n",
       "      <td>1</td>\n",
       "      <td>0</td>\n",
       "      <td>0</td>\n",
       "      <td>1</td>\n",
       "      <td>1</td>\n",
       "    </tr>\n",
       "    <tr>\n",
       "      <th>43923</th>\n",
       "      <td>63728</td>\n",
       "      <td>49.972603</td>\n",
       "      <td>1</td>\n",
       "      <td>59.055118</td>\n",
       "      <td>85.99500</td>\n",
       "      <td>130</td>\n",
       "      <td>90</td>\n",
       "      <td>1</td>\n",
       "      <td>1</td>\n",
       "      <td>0</td>\n",
       "      <td>0</td>\n",
       "      <td>1</td>\n",
       "      <td>0</td>\n",
       "    </tr>\n",
       "    <tr>\n",
       "      <th>47381</th>\n",
       "      <td>68667</td>\n",
       "      <td>52.753425</td>\n",
       "      <td>1</td>\n",
       "      <td>56.299213</td>\n",
       "      <td>72.76500</td>\n",
       "      <td>100</td>\n",
       "      <td>60</td>\n",
       "      <td>1</td>\n",
       "      <td>1</td>\n",
       "      <td>0</td>\n",
       "      <td>0</td>\n",
       "      <td>1</td>\n",
       "      <td>0</td>\n",
       "    </tr>\n",
       "    <tr>\n",
       "      <th>47914</th>\n",
       "      <td>69417</td>\n",
       "      <td>56.032877</td>\n",
       "      <td>1</td>\n",
       "      <td>56.692913</td>\n",
       "      <td>79.38000</td>\n",
       "      <td>100</td>\n",
       "      <td>70</td>\n",
       "      <td>1</td>\n",
       "      <td>1</td>\n",
       "      <td>0</td>\n",
       "      <td>0</td>\n",
       "      <td>1</td>\n",
       "      <td>0</td>\n",
       "    </tr>\n",
       "    <tr>\n",
       "      <th>50712</th>\n",
       "      <td>73318</td>\n",
       "      <td>57.849315</td>\n",
       "      <td>1</td>\n",
       "      <td>61.023622</td>\n",
       "      <td>81.58500</td>\n",
       "      <td>110</td>\n",
       "      <td>70</td>\n",
       "      <td>1</td>\n",
       "      <td>1</td>\n",
       "      <td>0</td>\n",
       "      <td>0</td>\n",
       "      <td>0</td>\n",
       "      <td>1</td>\n",
       "    </tr>\n",
       "    <tr>\n",
       "      <th>50845</th>\n",
       "      <td>73511</td>\n",
       "      <td>60.243836</td>\n",
       "      <td>1</td>\n",
       "      <td>59.448819</td>\n",
       "      <td>83.79000</td>\n",
       "      <td>120</td>\n",
       "      <td>80</td>\n",
       "      <td>1</td>\n",
       "      <td>1</td>\n",
       "      <td>0</td>\n",
       "      <td>1</td>\n",
       "      <td>0</td>\n",
       "      <td>0</td>\n",
       "    </tr>\n",
       "    <tr>\n",
       "      <th>51138</th>\n",
       "      <td>73914</td>\n",
       "      <td>54.293151</td>\n",
       "      <td>2</td>\n",
       "      <td>54.724409</td>\n",
       "      <td>74.97000</td>\n",
       "      <td>120</td>\n",
       "      <td>70</td>\n",
       "      <td>1</td>\n",
       "      <td>1</td>\n",
       "      <td>0</td>\n",
       "      <td>0</td>\n",
       "      <td>1</td>\n",
       "      <td>0</td>\n",
       "    </tr>\n",
       "    <tr>\n",
       "      <th>52525</th>\n",
       "      <td>75927</td>\n",
       "      <td>55.879452</td>\n",
       "      <td>1</td>\n",
       "      <td>52.362205</td>\n",
       "      <td>79.38000</td>\n",
       "      <td>100</td>\n",
       "      <td>60</td>\n",
       "      <td>1</td>\n",
       "      <td>1</td>\n",
       "      <td>0</td>\n",
       "      <td>0</td>\n",
       "      <td>0</td>\n",
       "      <td>0</td>\n",
       "    </tr>\n",
       "    <tr>\n",
       "      <th>53246</th>\n",
       "      <td>76956</td>\n",
       "      <td>62.019178</td>\n",
       "      <td>1</td>\n",
       "      <td>61.417323</td>\n",
       "      <td>85.99500</td>\n",
       "      <td>90</td>\n",
       "      <td>60</td>\n",
       "      <td>1</td>\n",
       "      <td>1</td>\n",
       "      <td>0</td>\n",
       "      <td>0</td>\n",
       "      <td>1</td>\n",
       "      <td>0</td>\n",
       "    </tr>\n",
       "    <tr>\n",
       "      <th>53318</th>\n",
       "      <td>77054</td>\n",
       "      <td>61.819178</td>\n",
       "      <td>1</td>\n",
       "      <td>52.755906</td>\n",
       "      <td>81.58500</td>\n",
       "      <td>180</td>\n",
       "      <td>90</td>\n",
       "      <td>1</td>\n",
       "      <td>1</td>\n",
       "      <td>0</td>\n",
       "      <td>0</td>\n",
       "      <td>1</td>\n",
       "      <td>0</td>\n",
       "    </tr>\n",
       "    <tr>\n",
       "      <th>53983</th>\n",
       "      <td>78012</td>\n",
       "      <td>56.106849</td>\n",
       "      <td>1</td>\n",
       "      <td>60.236220</td>\n",
       "      <td>85.99500</td>\n",
       "      <td>110</td>\n",
       "      <td>70</td>\n",
       "      <td>1</td>\n",
       "      <td>1</td>\n",
       "      <td>0</td>\n",
       "      <td>0</td>\n",
       "      <td>1</td>\n",
       "      <td>0</td>\n",
       "    </tr>\n",
       "    <tr>\n",
       "      <th>54640</th>\n",
       "      <td>78940</td>\n",
       "      <td>64.553425</td>\n",
       "      <td>1</td>\n",
       "      <td>57.874016</td>\n",
       "      <td>85.99500</td>\n",
       "      <td>120</td>\n",
       "      <td>80</td>\n",
       "      <td>1</td>\n",
       "      <td>1</td>\n",
       "      <td>0</td>\n",
       "      <td>0</td>\n",
       "      <td>1</td>\n",
       "      <td>1</td>\n",
       "    </tr>\n",
       "    <tr>\n",
       "      <th>55153</th>\n",
       "      <td>79686</td>\n",
       "      <td>64.027397</td>\n",
       "      <td>1</td>\n",
       "      <td>59.842520</td>\n",
       "      <td>74.97000</td>\n",
       "      <td>140</td>\n",
       "      <td>90</td>\n",
       "      <td>1</td>\n",
       "      <td>1</td>\n",
       "      <td>0</td>\n",
       "      <td>0</td>\n",
       "      <td>1</td>\n",
       "      <td>1</td>\n",
       "    </tr>\n",
       "    <tr>\n",
       "      <th>57501</th>\n",
       "      <td>83048</td>\n",
       "      <td>61.764384</td>\n",
       "      <td>1</td>\n",
       "      <td>66.535433</td>\n",
       "      <td>77.17500</td>\n",
       "      <td>140</td>\n",
       "      <td>90</td>\n",
       "      <td>2</td>\n",
       "      <td>1</td>\n",
       "      <td>0</td>\n",
       "      <td>0</td>\n",
       "      <td>1</td>\n",
       "      <td>1</td>\n",
       "    </tr>\n",
       "    <tr>\n",
       "      <th>59489</th>\n",
       "      <td>85931</td>\n",
       "      <td>59.876712</td>\n",
       "      <td>1</td>\n",
       "      <td>63.779528</td>\n",
       "      <td>46.30500</td>\n",
       "      <td>120</td>\n",
       "      <td>80</td>\n",
       "      <td>2</td>\n",
       "      <td>1</td>\n",
       "      <td>0</td>\n",
       "      <td>0</td>\n",
       "      <td>1</td>\n",
       "      <td>1</td>\n",
       "    </tr>\n",
       "    <tr>\n",
       "      <th>60000</th>\n",
       "      <td>86650</td>\n",
       "      <td>51.712329</td>\n",
       "      <td>1</td>\n",
       "      <td>67.322835</td>\n",
       "      <td>63.94500</td>\n",
       "      <td>110</td>\n",
       "      <td>70</td>\n",
       "      <td>2</td>\n",
       "      <td>1</td>\n",
       "      <td>0</td>\n",
       "      <td>0</td>\n",
       "      <td>1</td>\n",
       "      <td>1</td>\n",
       "    </tr>\n",
       "    <tr>\n",
       "      <th>62414</th>\n",
       "      <td>90128</td>\n",
       "      <td>55.906849</td>\n",
       "      <td>1</td>\n",
       "      <td>62.204724</td>\n",
       "      <td>85.99500</td>\n",
       "      <td>90</td>\n",
       "      <td>60</td>\n",
       "      <td>1</td>\n",
       "      <td>1</td>\n",
       "      <td>0</td>\n",
       "      <td>0</td>\n",
       "      <td>0</td>\n",
       "      <td>1</td>\n",
       "    </tr>\n",
       "    <tr>\n",
       "      <th>64951</th>\n",
       "      <td>93697</td>\n",
       "      <td>52.367123</td>\n",
       "      <td>1</td>\n",
       "      <td>57.874016</td>\n",
       "      <td>83.79000</td>\n",
       "      <td>100</td>\n",
       "      <td>70</td>\n",
       "      <td>3</td>\n",
       "      <td>3</td>\n",
       "      <td>0</td>\n",
       "      <td>0</td>\n",
       "      <td>1</td>\n",
       "      <td>0</td>\n",
       "    </tr>\n",
       "  </tbody>\n",
       "</table>\n",
       "</div>"
      ],
      "text/plain": [
       "          id   age (yr)  gender  height (in)  weight (lb)  ap_hi  ap_lo  \\\n",
       "3053    5306  42.191781       1    47.244094     66.15000    110     70   \n",
       "5095    8226  48.391781       1    59.448819     81.58500    120     80   \n",
       "9748   14908  60.293151       1    63.779528     83.79000    100     70   \n",
       "9928   15182  59.367123       1    60.236220     81.58500    150     80   \n",
       "11177  16963  47.978082       1    61.811024     85.99500     90     70   \n",
       "14023  21040  62.090411       1    56.299213     74.97000    100     70   \n",
       "15623  23318  59.923288       1    64.960630     77.17500    100     70   \n",
       "16207  24167  47.320548       2    66.929134     68.35500    150     90   \n",
       "17860  26503  49.698630       1    62.992126     66.15000    120     80   \n",
       "18883  27965  58.449315       1    59.842520     83.79000    110     80   \n",
       "21317  31439  42.079452       1    57.480315     70.56000    100     70   \n",
       "24499  35972  51.419178       1    58.661417     78.16725    110     70   \n",
       "26107  38312  63.791781       1    61.811024     50.71500    110     80   \n",
       "28634  41919  59.528767       1    60.236220     81.58500    120     80   \n",
       "28789  42156  55.912329       2    69.685039     48.51000    120     80   \n",
       "30721  44852  56.369863       1    55.118110     85.99500    120     80   \n",
       "31388  45814  43.142466       1    56.299213     79.38000     90     60   \n",
       "32779  47830  42.446575       1    59.842520     85.99500    110     70   \n",
       "32812  47872  57.756164       1    60.236220     74.97000    110     70   \n",
       "33118  48318  59.128767       2    70.078740     24.25500    130     90   \n",
       "33121  48322  61.838356       1    57.086614     79.38000    120     80   \n",
       "33577  48976  40.175342       2    50.393701     61.74000    120     80   \n",
       "33583  48985  55.906849       1    58.267717     79.38000    140     80   \n",
       "33629  49043  40.191781       1    59.842520     85.99500     90     60   \n",
       "34615  50443  54.252055       1    57.480315     70.56000    130     80   \n",
       "37718  54851  59.750685       1    60.629921     70.56000    110     60   \n",
       "39913  58033  63.567123       1    60.629921     83.79000     90     70   \n",
       "40654  59092  57.238356       1    61.811024     83.79000    120     80   \n",
       "41206  59853  58.449315       1    56.299213     66.15000    103     61   \n",
       "43060  62529  49.452055       1    53.149606     81.58500    150     90   \n",
       "43439  63056  59.802740       1    59.448819     83.79000    100     70   \n",
       "43923  63728  49.972603       1    59.055118     85.99500    130     90   \n",
       "47381  68667  52.753425       1    56.299213     72.76500    100     60   \n",
       "47914  69417  56.032877       1    56.692913     79.38000    100     70   \n",
       "50712  73318  57.849315       1    61.023622     81.58500    110     70   \n",
       "50845  73511  60.243836       1    59.448819     83.79000    120     80   \n",
       "51138  73914  54.293151       2    54.724409     74.97000    120     70   \n",
       "52525  75927  55.879452       1    52.362205     79.38000    100     60   \n",
       "53246  76956  62.019178       1    61.417323     85.99500     90     60   \n",
       "53318  77054  61.819178       1    52.755906     81.58500    180     90   \n",
       "53983  78012  56.106849       1    60.236220     85.99500    110     70   \n",
       "54640  78940  64.553425       1    57.874016     85.99500    120     80   \n",
       "55153  79686  64.027397       1    59.842520     74.97000    140     90   \n",
       "57501  83048  61.764384       1    66.535433     77.17500    140     90   \n",
       "59489  85931  59.876712       1    63.779528     46.30500    120     80   \n",
       "60000  86650  51.712329       1    67.322835     63.94500    110     70   \n",
       "62414  90128  55.906849       1    62.204724     85.99500     90     60   \n",
       "64951  93697  52.367123       1    57.874016     83.79000    100     70   \n",
       "\n",
       "       cholesterol  gluc  smoke  alco  active  cardio  \n",
       "3053             1     1      0     0       1       0  \n",
       "5095             1     1      0     0       1       0  \n",
       "9748             1     1      0     0       1       0  \n",
       "9928             3     3      0     0       1       1  \n",
       "11177            1     1      0     0       1       0  \n",
       "14023            1     1      0     0       1       0  \n",
       "15623            1     1      0     0       1       0  \n",
       "16207            2     2      0     0       1       1  \n",
       "17860            1     1      0     0       1       1  \n",
       "18883            1     1      0     0       1       0  \n",
       "21317            1     1      0     0       0       0  \n",
       "24499            1     1      0     0       1       0  \n",
       "26107            1     1      0     0       1       0  \n",
       "28634            1     1      0     0       1       1  \n",
       "28789            1     1      1     1       1       0  \n",
       "30721            1     1      0     0       1       0  \n",
       "31388            1     1      0     0       1       0  \n",
       "32779            1     2      1     0       1       1  \n",
       "32812            3     3      0     0       1       1  \n",
       "33118            1     1      0     0       1       1  \n",
       "33121            1     1      0     0       1       0  \n",
       "33577            1     1      0     0       1       0  \n",
       "33583            1     1      0     0       1       1  \n",
       "33629            1     1      0     0       1       0  \n",
       "34615            1     2      0     0       0       0  \n",
       "37718            1     1      0     0       1       0  \n",
       "39913            1     2      0     0       1       0  \n",
       "40654            1     1      0     0       1       1  \n",
       "41206            2     1      0     0       1       0  \n",
       "43060            2     3      0     0       1       0  \n",
       "43439            1     1      0     0       1       1  \n",
       "43923            1     1      0     0       1       0  \n",
       "47381            1     1      0     0       1       0  \n",
       "47914            1     1      0     0       1       0  \n",
       "50712            1     1      0     0       0       1  \n",
       "50845            1     1      0     1       0       0  \n",
       "51138            1     1      0     0       1       0  \n",
       "52525            1     1      0     0       0       0  \n",
       "53246            1     1      0     0       1       0  \n",
       "53318            1     1      0     0       1       0  \n",
       "53983            1     1      0     0       1       0  \n",
       "54640            1     1      0     0       1       1  \n",
       "55153            1     1      0     0       1       1  \n",
       "57501            2     1      0     0       1       1  \n",
       "59489            2     1      0     0       1       1  \n",
       "60000            2     1      0     0       1       1  \n",
       "62414            1     1      0     0       0       1  \n",
       "64951            3     3      0     0       1       0  "
      ]
     },
     "execution_count": 86,
     "metadata": {},
     "output_type": "execute_result"
    }
   ],
   "source": [
    "# Inspecting observations that fall under lower boundary. \n",
    "cvd.loc[cvd['weight (lb)'] < weight_lower_boundary]"
   ]
  },
  {
   "cell_type": "code",
   "execution_count": 87,
   "id": "29da33ea-c356-4ca7-aa0f-daa29dc1af64",
   "metadata": {},
   "outputs": [
    {
     "data": {
      "text/html": [
       "<div>\n",
       "<style scoped>\n",
       "    .dataframe tbody tr th:only-of-type {\n",
       "        vertical-align: middle;\n",
       "    }\n",
       "\n",
       "    .dataframe tbody tr th {\n",
       "        vertical-align: top;\n",
       "    }\n",
       "\n",
       "    .dataframe thead th {\n",
       "        text-align: right;\n",
       "    }\n",
       "</style>\n",
       "<table border=\"1\" class=\"dataframe\">\n",
       "  <thead>\n",
       "    <tr style=\"text-align: right;\">\n",
       "      <th></th>\n",
       "      <th>id</th>\n",
       "      <th>age (yr)</th>\n",
       "      <th>gender</th>\n",
       "      <th>height (in)</th>\n",
       "      <th>weight (lb)</th>\n",
       "      <th>ap_hi</th>\n",
       "      <th>ap_lo</th>\n",
       "      <th>cholesterol</th>\n",
       "      <th>gluc</th>\n",
       "      <th>smoke</th>\n",
       "      <th>alco</th>\n",
       "      <th>active</th>\n",
       "      <th>cardio</th>\n",
       "    </tr>\n",
       "  </thead>\n",
       "  <tbody>\n",
       "    <tr>\n",
       "      <th>39</th>\n",
       "      <td>1038</td>\n",
       "      <td>51.723288</td>\n",
       "      <td>2</td>\n",
       "      <td>67.322835</td>\n",
       "      <td>249.165</td>\n",
       "      <td>130</td>\n",
       "      <td>80</td>\n",
       "      <td>1</td>\n",
       "      <td>1</td>\n",
       "      <td>0</td>\n",
       "      <td>0</td>\n",
       "      <td>1</td>\n",
       "      <td>0</td>\n",
       "    </tr>\n",
       "    <tr>\n",
       "      <th>41</th>\n",
       "      <td>1040</td>\n",
       "      <td>52.043836</td>\n",
       "      <td>1</td>\n",
       "      <td>70.472441</td>\n",
       "      <td>284.445</td>\n",
       "      <td>140</td>\n",
       "      <td>90</td>\n",
       "      <td>3</td>\n",
       "      <td>3</td>\n",
       "      <td>0</td>\n",
       "      <td>0</td>\n",
       "      <td>0</td>\n",
       "      <td>1</td>\n",
       "    </tr>\n",
       "    <tr>\n",
       "      <th>52</th>\n",
       "      <td>1051</td>\n",
       "      <td>53.868493</td>\n",
       "      <td>2</td>\n",
       "      <td>72.047244</td>\n",
       "      <td>251.370</td>\n",
       "      <td>120</td>\n",
       "      <td>80</td>\n",
       "      <td>1</td>\n",
       "      <td>1</td>\n",
       "      <td>0</td>\n",
       "      <td>0</td>\n",
       "      <td>0</td>\n",
       "      <td>0</td>\n",
       "    </tr>\n",
       "    <tr>\n",
       "      <th>87</th>\n",
       "      <td>1098</td>\n",
       "      <td>51.906849</td>\n",
       "      <td>1</td>\n",
       "      <td>59.842520</td>\n",
       "      <td>273.420</td>\n",
       "      <td>120</td>\n",
       "      <td>80</td>\n",
       "      <td>2</td>\n",
       "      <td>2</td>\n",
       "      <td>0</td>\n",
       "      <td>0</td>\n",
       "      <td>1</td>\n",
       "      <td>1</td>\n",
       "    </tr>\n",
       "    <tr>\n",
       "      <th>95</th>\n",
       "      <td>1109</td>\n",
       "      <td>56.131507</td>\n",
       "      <td>1</td>\n",
       "      <td>69.291339</td>\n",
       "      <td>264.600</td>\n",
       "      <td>150</td>\n",
       "      <td>90</td>\n",
       "      <td>1</td>\n",
       "      <td>1</td>\n",
       "      <td>0</td>\n",
       "      <td>0</td>\n",
       "      <td>0</td>\n",
       "      <td>0</td>\n",
       "    </tr>\n",
       "    <tr>\n",
       "      <th>...</th>\n",
       "      <td>...</td>\n",
       "      <td>...</td>\n",
       "      <td>...</td>\n",
       "      <td>...</td>\n",
       "      <td>...</td>\n",
       "      <td>...</td>\n",
       "      <td>...</td>\n",
       "      <td>...</td>\n",
       "      <td>...</td>\n",
       "      <td>...</td>\n",
       "      <td>...</td>\n",
       "      <td>...</td>\n",
       "      <td>...</td>\n",
       "    </tr>\n",
       "    <tr>\n",
       "      <th>69174</th>\n",
       "      <td>99799</td>\n",
       "      <td>54.071233</td>\n",
       "      <td>2</td>\n",
       "      <td>74.015748</td>\n",
       "      <td>238.140</td>\n",
       "      <td>130</td>\n",
       "      <td>80</td>\n",
       "      <td>2</td>\n",
       "      <td>2</td>\n",
       "      <td>0</td>\n",
       "      <td>1</td>\n",
       "      <td>0</td>\n",
       "      <td>1</td>\n",
       "    </tr>\n",
       "    <tr>\n",
       "      <th>69247</th>\n",
       "      <td>99925</td>\n",
       "      <td>58.446575</td>\n",
       "      <td>1</td>\n",
       "      <td>64.566929</td>\n",
       "      <td>253.575</td>\n",
       "      <td>130</td>\n",
       "      <td>80</td>\n",
       "      <td>1</td>\n",
       "      <td>1</td>\n",
       "      <td>0</td>\n",
       "      <td>0</td>\n",
       "      <td>1</td>\n",
       "      <td>1</td>\n",
       "    </tr>\n",
       "    <tr>\n",
       "      <th>69248</th>\n",
       "      <td>99930</td>\n",
       "      <td>63.849315</td>\n",
       "      <td>2</td>\n",
       "      <td>67.716535</td>\n",
       "      <td>249.165</td>\n",
       "      <td>110</td>\n",
       "      <td>80</td>\n",
       "      <td>1</td>\n",
       "      <td>1</td>\n",
       "      <td>0</td>\n",
       "      <td>0</td>\n",
       "      <td>0</td>\n",
       "      <td>1</td>\n",
       "    </tr>\n",
       "    <tr>\n",
       "      <th>69282</th>\n",
       "      <td>99972</td>\n",
       "      <td>47.945205</td>\n",
       "      <td>2</td>\n",
       "      <td>71.653543</td>\n",
       "      <td>242.550</td>\n",
       "      <td>130</td>\n",
       "      <td>90</td>\n",
       "      <td>2</td>\n",
       "      <td>2</td>\n",
       "      <td>0</td>\n",
       "      <td>0</td>\n",
       "      <td>1</td>\n",
       "      <td>1</td>\n",
       "    </tr>\n",
       "    <tr>\n",
       "      <th>69297</th>\n",
       "      <td>99995</td>\n",
       "      <td>61.920548</td>\n",
       "      <td>1</td>\n",
       "      <td>62.204724</td>\n",
       "      <td>277.830</td>\n",
       "      <td>140</td>\n",
       "      <td>90</td>\n",
       "      <td>2</td>\n",
       "      <td>2</td>\n",
       "      <td>0</td>\n",
       "      <td>0</td>\n",
       "      <td>1</td>\n",
       "      <td>1</td>\n",
       "    </tr>\n",
       "  </tbody>\n",
       "</table>\n",
       "<p>1680 rows × 13 columns</p>\n",
       "</div>"
      ],
      "text/plain": [
       "          id   age (yr)  gender  height (in)  weight (lb)  ap_hi  ap_lo  \\\n",
       "39      1038  51.723288       2    67.322835      249.165    130     80   \n",
       "41      1040  52.043836       1    70.472441      284.445    140     90   \n",
       "52      1051  53.868493       2    72.047244      251.370    120     80   \n",
       "87      1098  51.906849       1    59.842520      273.420    120     80   \n",
       "95      1109  56.131507       1    69.291339      264.600    150     90   \n",
       "...      ...        ...     ...          ...          ...    ...    ...   \n",
       "69174  99799  54.071233       2    74.015748      238.140    130     80   \n",
       "69247  99925  58.446575       1    64.566929      253.575    130     80   \n",
       "69248  99930  63.849315       2    67.716535      249.165    110     80   \n",
       "69282  99972  47.945205       2    71.653543      242.550    130     90   \n",
       "69297  99995  61.920548       1    62.204724      277.830    140     90   \n",
       "\n",
       "       cholesterol  gluc  smoke  alco  active  cardio  \n",
       "39               1     1      0     0       1       0  \n",
       "41               3     3      0     0       0       1  \n",
       "52               1     1      0     0       0       0  \n",
       "87               2     2      0     0       1       1  \n",
       "95               1     1      0     0       0       0  \n",
       "...            ...   ...    ...   ...     ...     ...  \n",
       "69174            2     2      0     1       0       1  \n",
       "69247            1     1      0     0       1       1  \n",
       "69248            1     1      0     0       0       1  \n",
       "69282            2     2      0     0       1       1  \n",
       "69297            2     2      0     0       1       1  \n",
       "\n",
       "[1680 rows x 13 columns]"
      ]
     },
     "execution_count": 87,
     "metadata": {},
     "output_type": "execute_result"
    }
   ],
   "source": [
    "# Inspecting observations that fall above upper boundary. \n",
    "cvd.loc[cvd['weight (lb)'] > weight_upper_boundary]"
   ]
  },
  {
   "cell_type": "code",
   "execution_count": 88,
   "id": "edfc658d-a9ed-499b-ba6e-ace4813742b4",
   "metadata": {},
   "outputs": [
    {
     "data": {
      "text/plain": [
       "<Figure size 1080x360 with 0 Axes>"
      ]
     },
     "metadata": {},
     "output_type": "display_data"
    },
    {
     "data": {
      "image/png": "[encoded data removed]",
      "text/plain": [
       "<Figure size 360x360 with 1 Axes>"
      ]
     },
     "metadata": {
      "needs_background": "light"
     },
     "output_type": "display_data"
    }
   ],
   "source": [
    "# I will check the distribution of the weight column to see if any ideas come up.\n",
    "plt.figure(figsize=(15,5))\n",
    "sns.displot(cvd['weight (lb)'], color='blue')\n",
    "plt.title('Weight Distribution')\n",
    "plt.ylabel('Count')\n",
    "plt.xlabel('Weight (lb)');"
   ]
  },
  {
   "cell_type": "markdown",
   "id": "52d65d7e-766c-4e03-9190-816590456c2c",
   "metadata": {},
   "source": [
    "I will not remove outliers due to the reasons stated above. \n",
    "Moving on to the height variable. "
   ]
  },
  {
   "cell_type": "markdown",
   "id": "eceeef7b-6554-4e2e-a26d-305f86f4a2e3",
   "metadata": {},
   "source": [
    "### 1.6.5 Cleaning Height Variable"
   ]
  },
  {
   "cell_type": "code",
   "execution_count": 89,
   "id": "1d9c5181-c2fa-4d3b-976d-ac4a7fc1e570",
   "metadata": {},
   "outputs": [
    {
     "data": {
      "text/plain": [
       "count    67868.000000\n",
       "mean        64.713497\n",
       "std          3.219576\n",
       "min         21.653543\n",
       "25%         62.598425\n",
       "50%         64.960630\n",
       "75%         66.929134\n",
       "max         98.425197\n",
       "Name: height (in), dtype: float64"
      ]
     },
     "execution_count": 89,
     "metadata": {},
     "output_type": "execute_result"
    }
   ],
   "source": [
    "# Getting summary statistics of height variable.\n",
    "# There are some suspicious values (e.g., the minimum height is about 21 inches and the\n",
    "# maximum height is about 98 inches).\n",
    "# Note the shortest recorded height is about 21.5 inches.\n",
    "cvd['height (in)'].describe()"
   ]
  },
  {
   "cell_type": "code",
   "execution_count": 90,
   "id": "9dddd87f-abf0-4b00-9f30-369bc92acc47",
   "metadata": {},
   "outputs": [],
   "source": [
    "# Getting quartiles and interquartile range.\n",
    "Q_1 = 62.598425\n",
    "Q_3 = 66.929134\n",
    "IQR_2 = Q_3 - Q_1\n",
    "\n",
    "# Getting outliers.\n",
    "height_lower_boundary = round(Q_1 - (1.5 * IQR_2))\n",
    "height_upper_boundary = round(Q3 + (1.5 * IQR_2))"
   ]
  },
  {
   "cell_type": "code",
   "execution_count": 91,
   "id": "18aefdb0-b15f-4333-931f-eee60bf5b233",
   "metadata": {},
   "outputs": [
    {
     "name": "stdout",
     "output_type": "stream",
     "text": [
      "The lower outlier height treshold is 56 inches.\n"
     ]
    }
   ],
   "source": [
    "print('The lower outlier height treshold is {} inches.'.format(height_lower_boundary))"
   ]
  },
  {
   "cell_type": "code",
   "execution_count": 92,
   "id": "6b92964c-28bd-498a-8ea8-26e894aadefa",
   "metadata": {},
   "outputs": [
    {
     "name": "stdout",
     "output_type": "stream",
     "text": [
      "The upper outlier height treshold is 187 inches.\n"
     ]
    }
   ],
   "source": [
    "print('The upper outlier height treshold is {} inches.'.format(height_upper_boundary))"
   ]
  },
  {
   "cell_type": "code",
   "execution_count": 93,
   "id": "88fc858a-f2d4-4761-82d5-89cc99d0834a",
   "metadata": {},
   "outputs": [
    {
     "name": "stdout",
     "output_type": "stream",
     "text": [
      "Number of upper outliers is: 0\n",
      "Number of lower outliers is: 242\n"
     ]
    }
   ],
   "source": [
    "# A natural question to ask is \"how many outliers does the height variable contain?\"\n",
    "print('Number of upper outliers is:', sum(cvd['height (in)'] > height_upper_boundary))\n",
    "print('Number of lower outliers is:', sum(cvd['height (in)'] < height_lower_boundary))"
   ]
  },
  {
   "cell_type": "code",
   "execution_count": 94,
   "id": "05eddd0c-eb15-4fda-a225-6d8a26f7787b",
   "metadata": {},
   "outputs": [
    {
     "data": {
      "text/plain": [
       "67583"
      ]
     },
     "execution_count": 94,
     "metadata": {},
     "output_type": "execute_result"
    }
   ],
   "source": [
    "# Checking the total amount of values that have a z-score of less than 3.\n",
    "sum(np.abs(stats.zscore(cvd['height (in)'])) < 3)"
   ]
  },
  {
   "cell_type": "markdown",
   "id": "194a295c-454c-4b27-a8bd-f23a4d693aaa",
   "metadata": {},
   "source": [
    "The majority of values in the height column have a z-score of less than 3. Getting rid of values that are greater than or equal to 3 might be helpful in the analysis."
   ]
  },
  {
   "cell_type": "code",
   "execution_count": 95,
   "id": "1ed32956-40e6-4f96-8f43-37e491eea846",
   "metadata": {},
   "outputs": [],
   "source": [
    "# Subsetting dataset\n",
    "cvd = cvd[(np.abs(stats.zscore(cvd['height (in)'])) < 3)]"
   ]
  },
  {
   "cell_type": "code",
   "execution_count": 97,
   "id": "6d96f33a-a684-4b24-a80c-6bb46e4ffe1d",
   "metadata": {},
   "outputs": [
    {
     "data": {
      "image/png": "[encoded data removed]",
      "text/plain": [
       "<Figure size 720x504 with 1 Axes>"
      ]
     },
     "metadata": {
      "needs_background": "light"
     },
     "output_type": "display_data"
    }
   ],
   "source": [
    "# Viewing height column after cleaning.\n",
    "fig = plt.figure(figsize =(10, 7))\n",
    "plt.boxplot(cvd['height (in)'], vert = 0)\n",
    "plt.show()"
   ]
  },
  {
   "cell_type": "markdown",
   "id": "1351fee2-595a-4653-90a3-160b944df191",
   "metadata": {},
   "source": [
    "The height column now has considerably fewer outliers than before."
   ]
  },
  {
   "cell_type": "markdown",
   "id": "ab3f2d02-fefb-409c-afca-4ccb4bf8fc6a",
   "metadata": {},
   "source": [
    "### 1.6.6 Exploring Data after Cleaning"
   ]
  },
  {
   "cell_type": "code",
   "execution_count": 99,
   "id": "f31194aa-dc26-44cd-ae76-4a1a8a8f5814",
   "metadata": {},
   "outputs": [
    {
     "data": {
      "text/plain": [
       "(67583, 13)"
      ]
     },
     "execution_count": 99,
     "metadata": {},
     "output_type": "execute_result"
    }
   ],
   "source": [
    "# Checking \"shape\" of dataset\n",
    "# There less rows, as expected.\n",
    "cvd.shape"
   ]
  },
  {
   "cell_type": "code",
   "execution_count": 101,
   "id": "2aae4b05-10f7-4242-a9dc-6a47c0e9e9cd",
   "metadata": {},
   "outputs": [
    {
     "data": {
      "text/html": [
       "<div>\n",
       "<style scoped>\n",
       "    .dataframe tbody tr th:only-of-type {\n",
       "        vertical-align: middle;\n",
       "    }\n",
       "\n",
       "    .dataframe tbody tr th {\n",
       "        vertical-align: top;\n",
       "    }\n",
       "\n",
       "    .dataframe thead th {\n",
       "        text-align: right;\n",
       "    }\n",
       "</style>\n",
       "<table border=\"1\" class=\"dataframe\">\n",
       "  <thead>\n",
       "    <tr style=\"text-align: right;\">\n",
       "      <th></th>\n",
       "      <th>id</th>\n",
       "      <th>age (yr)</th>\n",
       "      <th>gender</th>\n",
       "      <th>height (in)</th>\n",
       "      <th>weight (lb)</th>\n",
       "      <th>ap_hi</th>\n",
       "      <th>ap_lo</th>\n",
       "      <th>cholesterol</th>\n",
       "      <th>gluc</th>\n",
       "      <th>smoke</th>\n",
       "      <th>alco</th>\n",
       "      <th>active</th>\n",
       "      <th>cardio</th>\n",
       "    </tr>\n",
       "  </thead>\n",
       "  <tbody>\n",
       "    <tr>\n",
       "      <th>count</th>\n",
       "      <td>67583.000000</td>\n",
       "      <td>67583.000000</td>\n",
       "      <td>67583.000000</td>\n",
       "      <td>67583.000000</td>\n",
       "      <td>67583.000000</td>\n",
       "      <td>67583.000000</td>\n",
       "      <td>67583.000000</td>\n",
       "      <td>67583.000000</td>\n",
       "      <td>67583.000000</td>\n",
       "      <td>67583.000000</td>\n",
       "      <td>67583.000000</td>\n",
       "      <td>67583.000000</td>\n",
       "      <td>67583.000000</td>\n",
       "    </tr>\n",
       "    <tr>\n",
       "      <th>mean</th>\n",
       "      <td>50476.223754</td>\n",
       "      <td>53.334969</td>\n",
       "      <td>1.348090</td>\n",
       "      <td>64.731847</td>\n",
       "      <td>163.398151</td>\n",
       "      <td>126.715787</td>\n",
       "      <td>81.417709</td>\n",
       "      <td>1.365107</td>\n",
       "      <td>1.226122</td>\n",
       "      <td>0.087626</td>\n",
       "      <td>0.053534</td>\n",
       "      <td>0.804004</td>\n",
       "      <td>0.495346</td>\n",
       "    </tr>\n",
       "    <tr>\n",
       "      <th>std</th>\n",
       "      <td>28553.838349</td>\n",
       "      <td>6.758531</td>\n",
       "      <td>0.476368</td>\n",
       "      <td>3.033900</td>\n",
       "      <td>31.374307</td>\n",
       "      <td>16.628343</td>\n",
       "      <td>9.513792</td>\n",
       "      <td>0.679370</td>\n",
       "      <td>0.572138</td>\n",
       "      <td>0.282752</td>\n",
       "      <td>0.225098</td>\n",
       "      <td>0.396968</td>\n",
       "      <td>0.499982</td>\n",
       "    </tr>\n",
       "    <tr>\n",
       "      <th>min</th>\n",
       "      <td>988.000000</td>\n",
       "      <td>29.583562</td>\n",
       "      <td>1.000000</td>\n",
       "      <td>55.118110</td>\n",
       "      <td>24.255000</td>\n",
       "      <td>90.000000</td>\n",
       "      <td>60.000000</td>\n",
       "      <td>1.000000</td>\n",
       "      <td>1.000000</td>\n",
       "      <td>0.000000</td>\n",
       "      <td>0.000000</td>\n",
       "      <td>0.000000</td>\n",
       "      <td>0.000000</td>\n",
       "    </tr>\n",
       "    <tr>\n",
       "      <th>25%</th>\n",
       "      <td>25763.500000</td>\n",
       "      <td>48.393151</td>\n",
       "      <td>1.000000</td>\n",
       "      <td>62.598425</td>\n",
       "      <td>143.325000</td>\n",
       "      <td>120.000000</td>\n",
       "      <td>80.000000</td>\n",
       "      <td>1.000000</td>\n",
       "      <td>1.000000</td>\n",
       "      <td>0.000000</td>\n",
       "      <td>0.000000</td>\n",
       "      <td>1.000000</td>\n",
       "      <td>0.000000</td>\n",
       "    </tr>\n",
       "    <tr>\n",
       "      <th>50%</th>\n",
       "      <td>50520.000000</td>\n",
       "      <td>53.980822</td>\n",
       "      <td>1.000000</td>\n",
       "      <td>64.960630</td>\n",
       "      <td>158.760000</td>\n",
       "      <td>120.000000</td>\n",
       "      <td>80.000000</td>\n",
       "      <td>1.000000</td>\n",
       "      <td>1.000000</td>\n",
       "      <td>0.000000</td>\n",
       "      <td>0.000000</td>\n",
       "      <td>1.000000</td>\n",
       "      <td>0.000000</td>\n",
       "    </tr>\n",
       "    <tr>\n",
       "      <th>75%</th>\n",
       "      <td>75115.000000</td>\n",
       "      <td>58.424658</td>\n",
       "      <td>2.000000</td>\n",
       "      <td>66.929134</td>\n",
       "      <td>180.810000</td>\n",
       "      <td>140.000000</td>\n",
       "      <td>90.000000</td>\n",
       "      <td>2.000000</td>\n",
       "      <td>1.000000</td>\n",
       "      <td>0.000000</td>\n",
       "      <td>0.000000</td>\n",
       "      <td>1.000000</td>\n",
       "      <td>1.000000</td>\n",
       "    </tr>\n",
       "    <tr>\n",
       "      <th>max</th>\n",
       "      <td>99999.000000</td>\n",
       "      <td>64.967123</td>\n",
       "      <td>2.000000</td>\n",
       "      <td>74.015748</td>\n",
       "      <td>441.000000</td>\n",
       "      <td>240.000000</td>\n",
       "      <td>190.000000</td>\n",
       "      <td>3.000000</td>\n",
       "      <td>3.000000</td>\n",
       "      <td>1.000000</td>\n",
       "      <td>1.000000</td>\n",
       "      <td>1.000000</td>\n",
       "      <td>1.000000</td>\n",
       "    </tr>\n",
       "  </tbody>\n",
       "</table>\n",
       "</div>"
      ],
      "text/plain": [
       "                 id      age (yr)        gender   height (in)   weight (lb)  \\\n",
       "count  67583.000000  67583.000000  67583.000000  67583.000000  67583.000000   \n",
       "mean   50476.223754     53.334969      1.348090     64.731847    163.398151   \n",
       "std    28553.838349      6.758531      0.476368      3.033900     31.374307   \n",
       "min      988.000000     29.583562      1.000000     55.118110     24.255000   \n",
       "25%    25763.500000     48.393151      1.000000     62.598425    143.325000   \n",
       "50%    50520.000000     53.980822      1.000000     64.960630    158.760000   \n",
       "75%    75115.000000     58.424658      2.000000     66.929134    180.810000   \n",
       "max    99999.000000     64.967123      2.000000     74.015748    441.000000   \n",
       "\n",
       "              ap_hi         ap_lo   cholesterol          gluc         smoke  \\\n",
       "count  67583.000000  67583.000000  67583.000000  67583.000000  67583.000000   \n",
       "mean     126.715787     81.417709      1.365107      1.226122      0.087626   \n",
       "std       16.628343      9.513792      0.679370      0.572138      0.282752   \n",
       "min       90.000000     60.000000      1.000000      1.000000      0.000000   \n",
       "25%      120.000000     80.000000      1.000000      1.000000      0.000000   \n",
       "50%      120.000000     80.000000      1.000000      1.000000      0.000000   \n",
       "75%      140.000000     90.000000      2.000000      1.000000      0.000000   \n",
       "max      240.000000    190.000000      3.000000      3.000000      1.000000   \n",
       "\n",
       "               alco        active        cardio  \n",
       "count  67583.000000  67583.000000  67583.000000  \n",
       "mean       0.053534      0.804004      0.495346  \n",
       "std        0.225098      0.396968      0.499982  \n",
       "min        0.000000      0.000000      0.000000  \n",
       "25%        0.000000      1.000000      0.000000  \n",
       "50%        0.000000      1.000000      0.000000  \n",
       "75%        0.000000      1.000000      1.000000  \n",
       "max        1.000000      1.000000      1.000000  "
      ]
     },
     "execution_count": 101,
     "metadata": {},
     "output_type": "execute_result"
    }
   ],
   "source": [
    "# Getting, once again, summary statistics on dataset.\n",
    "# Overall, the dataset is looking much more cleaned.\n",
    "cvd.describe()"
   ]
  }
 ],
 "metadata": {
  "kernelspec": {
   "display_name": "Python 3 (ipykernel)",
   "language": "python",
   "name": "python3"
  },
  "language_info": {
   "codemirror_mode": {
    "name": "ipython",
    "version": 3
   },
   "file_extension": ".py",
   "mimetype": "text/x-python",
   "name": "python",
   "nbconvert_exporter": "python",
   "pygments_lexer": "ipython3",
   "version": "3.9.12"
  }
 },
 "nbformat": 4,
 "nbformat_minor": 5
}
