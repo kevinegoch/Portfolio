{
 "cells": [
  {
   "cell_type": "markdown",
   "id": "ef70ebb1-974b-469a-920c-5648cc787db2",
   "metadata": {},
   "source": [
    "# Cardiovascular Disease Detection (Capstone Project 2)"
   ]
  },
  {
   "cell_type": "markdown",
   "id": "25e38475-c8d0-4a85-87b8-e4e106807f99",
   "metadata": {
    "tags": []
   },
   "source": [
    "## 1. Data Wrangling"
   ]
  },
  {
   "cell_type": "raw",
   "id": "1e693ed9-52ad-4046-9f86-d78562b4d231",
   "metadata": {},
   "source": [
    "### Contents\n",
    "\n",
    "1. [Data Wrangling] (#1.-Data Wrangling)\n",
    "    1.1 [Importing Libraries] (#1.1-Importing Libraries)\n",
    "    1.2 [Sourcing and Loading Data] (#1.2-Sourcing and Loading Data)\n",
    "    1.3 [Checking Data Types and Potential Missing Values] (#1.3-Checking Data Types and Potential Missing Values)\n",
    "    1.4 [Describing Data] (#1.4.-Describing Data)\n",
    "         1.4.1 [Modifying Age, Height, and Weight Columns] (#1.4.1-Modifying Age, Height, and Weight Columns)\n",
    "    1.5 [Checking Unique Values] (#1.5-Checking Unique Values)\n",
    "    1.6 [Cleaning Data and Dealing with Outliers] (#1.6-Removing and Imputing Values)\n",
    "         1.6.1 [Dealing with Outliers] (#1.6.1-Dealing with Outliers)\n",
    "         1.6.2 [Cleaning ap_hi Variable] (#1.6.2-Cleaning ap_hi Variable)\n",
    "         1.6.3 [Cleaning ap_lo Variable] (#1.6.3-Cleaning ap_lo Variable)\n",
    "         1.6.4 [Cleaning Weight Variable] (#1.6.4-Cleaning Weight Variable)\n",
    "         1.6.5 [Cleaning Height Variable] (#1.6.5-Cleaning Height Variable)\n",
    "         1.6.6 [Exploring Data after Cleaning] (#1.6.6-Exploring Data after Cleaning)\n",
    "2. [EDA] (#1. -EDA)\n",
    "    2.1 [Visualizing Dependent Variable] (#2.1-Visualizing Dependent Variable)\n",
    "    2.2 [Exploring Relationships among Variables] (#2.2-Exploring Relationships among Variables)\n",
    "         2.2.1 [Visualizing Correlations] (#2.2.1-Visualizing Correlations)\n",
    "    2.3 [2.3 Visualizing Variables] (#2.3-Visualizing Variables)"
   ]
  },
  {
   "cell_type": "markdown",
   "id": "88cc3f1f-0636-4ee9-a451-47253ca31fc2",
   "metadata": {},
   "source": [
    "### 1.1 Importing Libraries"
   ]
  },
  {
   "cell_type": "code",
   "execution_count": 1,
   "id": "f81150fe-7a0e-4116-932d-5a5bcd5c0d17",
   "metadata": {},
   "outputs": [],
   "source": [
    "# I begin by importing several libraries that are essential in a data science life cycle.\n",
    "import pandas as pd # for, inter alia, data wrangling and transformation\n",
    "import numpy as np # for, inter alia, greater mathematical supportability\n",
    "import matplotlib.pyplot as plt # for, inter alia, data visualization\n",
    "import seaborn as sns # for, inter alia, data visualization\n",
    "from scipy import stats # for, inter alia, statistical procedures"
   ]
  },
  {
   "cell_type": "code",
   "execution_count": 2,
   "id": "5a61af4c-ba51-43d7-a9fe-06d4ed9c9797",
   "metadata": {},
   "outputs": [
    {
     "data": {
      "text/plain": [
       "'C:\\\\Users\\\\16466\\\\Cardiovascular_disease_case_study'"
      ]
     },
     "execution_count": 2,
     "metadata": {},
     "output_type": "execute_result"
    }
   ],
   "source": [
    "import os\n",
    "os.getcwd()\n",
    "os.chdir('C:\\\\Users\\\\16466\\\\Cardiovascular_disease_case_study')\n",
    "os.getcwd()"
   ]
  },
  {
   "cell_type": "markdown",
   "id": "1379f287-09bb-4948-abb6-14fd4234d4be",
   "metadata": {},
   "source": [
    "### 1.2 Sourcing and Loading Data"
   ]
  },
  {
   "cell_type": "code",
   "execution_count": 3,
   "id": "0811c479-fa12-4cee-8ed3-993b64e77e8d",
   "metadata": {},
   "outputs": [
    {
     "data": {
      "text/html": [
       "<div>\n",
       "<style scoped>\n",
       "    .dataframe tbody tr th:only-of-type {\n",
       "        vertical-align: middle;\n",
       "    }\n",
       "\n",
       "    .dataframe tbody tr th {\n",
       "        vertical-align: top;\n",
       "    }\n",
       "\n",
       "    .dataframe thead th {\n",
       "        text-align: right;\n",
       "    }\n",
       "</style>\n",
       "<table border=\"1\" class=\"dataframe\">\n",
       "  <thead>\n",
       "    <tr style=\"text-align: right;\">\n",
       "      <th></th>\n",
       "      <th>id</th>\n",
       "      <th>age</th>\n",
       "      <th>gender</th>\n",
       "      <th>height</th>\n",
       "      <th>weight</th>\n",
       "      <th>ap_hi</th>\n",
       "      <th>ap_lo</th>\n",
       "      <th>cholesterol</th>\n",
       "      <th>gluc</th>\n",
       "      <th>smoke</th>\n",
       "      <th>alco</th>\n",
       "      <th>active</th>\n",
       "      <th>cardio</th>\n",
       "    </tr>\n",
       "  </thead>\n",
       "  <tbody>\n",
       "    <tr>\n",
       "      <th>0</th>\n",
       "      <td>988</td>\n",
       "      <td>22469</td>\n",
       "      <td>1</td>\n",
       "      <td>155</td>\n",
       "      <td>69.0</td>\n",
       "      <td>130</td>\n",
       "      <td>80</td>\n",
       "      <td>2</td>\n",
       "      <td>2</td>\n",
       "      <td>0</td>\n",
       "      <td>0</td>\n",
       "      <td>1</td>\n",
       "      <td>0</td>\n",
       "    </tr>\n",
       "    <tr>\n",
       "      <th>1</th>\n",
       "      <td>989</td>\n",
       "      <td>14648</td>\n",
       "      <td>1</td>\n",
       "      <td>163</td>\n",
       "      <td>71.0</td>\n",
       "      <td>110</td>\n",
       "      <td>70</td>\n",
       "      <td>1</td>\n",
       "      <td>1</td>\n",
       "      <td>0</td>\n",
       "      <td>0</td>\n",
       "      <td>1</td>\n",
       "      <td>1</td>\n",
       "    </tr>\n",
       "    <tr>\n",
       "      <th>2</th>\n",
       "      <td>990</td>\n",
       "      <td>21901</td>\n",
       "      <td>1</td>\n",
       "      <td>165</td>\n",
       "      <td>70.0</td>\n",
       "      <td>120</td>\n",
       "      <td>80</td>\n",
       "      <td>1</td>\n",
       "      <td>1</td>\n",
       "      <td>0</td>\n",
       "      <td>0</td>\n",
       "      <td>1</td>\n",
       "      <td>0</td>\n",
       "    </tr>\n",
       "    <tr>\n",
       "      <th>3</th>\n",
       "      <td>991</td>\n",
       "      <td>14549</td>\n",
       "      <td>2</td>\n",
       "      <td>165</td>\n",
       "      <td>85.0</td>\n",
       "      <td>120</td>\n",
       "      <td>80</td>\n",
       "      <td>1</td>\n",
       "      <td>1</td>\n",
       "      <td>1</td>\n",
       "      <td>1</td>\n",
       "      <td>1</td>\n",
       "      <td>0</td>\n",
       "    </tr>\n",
       "    <tr>\n",
       "      <th>4</th>\n",
       "      <td>992</td>\n",
       "      <td>23393</td>\n",
       "      <td>1</td>\n",
       "      <td>155</td>\n",
       "      <td>62.0</td>\n",
       "      <td>120</td>\n",
       "      <td>80</td>\n",
       "      <td>1</td>\n",
       "      <td>1</td>\n",
       "      <td>0</td>\n",
       "      <td>0</td>\n",
       "      <td>1</td>\n",
       "      <td>0</td>\n",
       "    </tr>\n",
       "  </tbody>\n",
       "</table>\n",
       "</div>"
      ],
      "text/plain": [
       "    id    age  gender  height  weight  ap_hi  ap_lo  cholesterol  gluc  smoke  \\\n",
       "0  988  22469       1     155    69.0    130     80            2     2      0   \n",
       "1  989  14648       1     163    71.0    110     70            1     1      0   \n",
       "2  990  21901       1     165    70.0    120     80            1     1      0   \n",
       "3  991  14549       2     165    85.0    120     80            1     1      1   \n",
       "4  992  23393       1     155    62.0    120     80            1     1      0   \n",
       "\n",
       "   alco  active  cardio  \n",
       "0     0       1       0  \n",
       "1     0       1       1  \n",
       "2     0       1       0  \n",
       "3     1       1       0  \n",
       "4     0       1       0  "
      ]
     },
     "execution_count": 3,
     "metadata": {},
     "output_type": "execute_result"
    }
   ],
   "source": [
    "# The acronym \"cvd\" stands for cardiovascular disease.\n",
    "# Note additional argument \"sep\" to indicate the proper delimiter of the dataset.\n",
    "cvd = pd.read_csv('cardio_train.csv', sep=';')\n",
    "\n",
    "# View first few rows of dataset.\n",
    "cvd.head(5)"
   ]
  },
  {
   "cell_type": "markdown",
   "id": "92963ca8-531f-4f47-9ba5-1177a3b1519d",
   "metadata": {},
   "source": [
    "### 1.3 Checking Data Types and Potential Missing Values"
   ]
  },
  {
   "cell_type": "code",
   "execution_count": 4,
   "id": "e931a054-bf2c-49e3-bba8-8d62dd85c391",
   "metadata": {},
   "outputs": [
    {
     "name": "stdout",
     "output_type": "stream",
     "text": [
      "<class 'pandas.core.frame.DataFrame'>\n",
      "RangeIndex: 69301 entries, 0 to 69300\n",
      "Data columns (total 13 columns):\n",
      " #   Column       Non-Null Count  Dtype  \n",
      "---  ------       --------------  -----  \n",
      " 0   id           69301 non-null  int64  \n",
      " 1   age          69301 non-null  int64  \n",
      " 2   gender       69301 non-null  int64  \n",
      " 3   height       69301 non-null  int64  \n",
      " 4   weight       69301 non-null  float64\n",
      " 5   ap_hi        69301 non-null  int64  \n",
      " 6   ap_lo        69301 non-null  int64  \n",
      " 7   cholesterol  69301 non-null  int64  \n",
      " 8   gluc         69301 non-null  int64  \n",
      " 9   smoke        69301 non-null  int64  \n",
      " 10  alco         69301 non-null  int64  \n",
      " 11  active       69301 non-null  int64  \n",
      " 12  cardio       69301 non-null  int64  \n",
      "dtypes: float64(1), int64(12)\n",
      "memory usage: 6.9 MB\n"
     ]
    }
   ],
   "source": [
    "# Using the info() method allows me to see both the number of columns and rows in the dataset\n",
    "# as well as the data type value contained in each column.\n",
    "cvd.info()"
   ]
  },
  {
   "cell_type": "code",
   "execution_count": 5,
   "id": "43402988-c69e-41c0-9fe0-449c68ebde5b",
   "metadata": {},
   "outputs": [
    {
     "data": {
      "text/plain": [
       "id             0\n",
       "age            0\n",
       "gender         0\n",
       "height         0\n",
       "weight         0\n",
       "ap_hi          0\n",
       "ap_lo          0\n",
       "cholesterol    0\n",
       "gluc           0\n",
       "smoke          0\n",
       "alco           0\n",
       "active         0\n",
       "cardio         0\n",
       "dtype: int64"
      ]
     },
     "execution_count": 5,
     "metadata": {},
     "output_type": "execute_result"
    }
   ],
   "source": [
    "# Using the isna().sum() method to check if there are any missing values in the dataset.\n",
    "# Note that this step is done for verification.\n",
    "cvd.isna().sum()"
   ]
  },
  {
   "cell_type": "markdown",
   "id": "af7bf7be-ff96-4c6b-8dfd-3268b4833e5f",
   "metadata": {},
   "source": [
    "Note how it is not reasonable to check for duplicate values in this data set, given all columns store *only* numerical values.\n",
    "As to missing values, there aren't any in this data set.\n",
    "So, I will be moving on to describing the data set to see if any interesting, and concerning, patterns arise."
   ]
  },
  {
   "cell_type": "markdown",
   "id": "45d909ca-9abf-47c3-88e2-d727022231ba",
   "metadata": {},
   "source": [
    "### 1.4 Describing Data"
   ]
  },
  {
   "cell_type": "code",
   "execution_count": 6,
   "id": "e81267e2-92b3-4f1d-8ae0-5d379ca6cf28",
   "metadata": {},
   "outputs": [
    {
     "data": {
      "text/html": [
       "<div>\n",
       "<style scoped>\n",
       "    .dataframe tbody tr th:only-of-type {\n",
       "        vertical-align: middle;\n",
       "    }\n",
       "\n",
       "    .dataframe tbody tr th {\n",
       "        vertical-align: top;\n",
       "    }\n",
       "\n",
       "    .dataframe thead th {\n",
       "        text-align: right;\n",
       "    }\n",
       "</style>\n",
       "<table border=\"1\" class=\"dataframe\">\n",
       "  <thead>\n",
       "    <tr style=\"text-align: right;\">\n",
       "      <th></th>\n",
       "      <th>id</th>\n",
       "      <th>age</th>\n",
       "      <th>gender</th>\n",
       "      <th>height</th>\n",
       "      <th>weight</th>\n",
       "      <th>ap_hi</th>\n",
       "      <th>ap_lo</th>\n",
       "      <th>cholesterol</th>\n",
       "      <th>gluc</th>\n",
       "      <th>smoke</th>\n",
       "      <th>alco</th>\n",
       "      <th>active</th>\n",
       "      <th>cardio</th>\n",
       "    </tr>\n",
       "  </thead>\n",
       "  <tbody>\n",
       "    <tr>\n",
       "      <th>count</th>\n",
       "      <td>69301.000000</td>\n",
       "      <td>69301.000000</td>\n",
       "      <td>69301.000000</td>\n",
       "      <td>69301.000000</td>\n",
       "      <td>69301.000000</td>\n",
       "      <td>69301.000000</td>\n",
       "      <td>69301.000000</td>\n",
       "      <td>69301.000000</td>\n",
       "      <td>69301.000000</td>\n",
       "      <td>69301.000000</td>\n",
       "      <td>69301.000000</td>\n",
       "      <td>69301.000000</td>\n",
       "      <td>69301.000000</td>\n",
       "    </tr>\n",
       "    <tr>\n",
       "      <th>mean</th>\n",
       "      <td>50471.480397</td>\n",
       "      <td>19468.786280</td>\n",
       "      <td>1.349519</td>\n",
       "      <td>164.362217</td>\n",
       "      <td>74.203027</td>\n",
       "      <td>128.829584</td>\n",
       "      <td>96.650092</td>\n",
       "      <td>1.366806</td>\n",
       "      <td>1.226447</td>\n",
       "      <td>0.088051</td>\n",
       "      <td>0.053881</td>\n",
       "      <td>0.803986</td>\n",
       "      <td>0.499589</td>\n",
       "    </tr>\n",
       "    <tr>\n",
       "      <th>std</th>\n",
       "      <td>28563.100347</td>\n",
       "      <td>2467.261818</td>\n",
       "      <td>0.476821</td>\n",
       "      <td>8.205337</td>\n",
       "      <td>14.383469</td>\n",
       "      <td>154.775805</td>\n",
       "      <td>189.096240</td>\n",
       "      <td>0.680270</td>\n",
       "      <td>0.572246</td>\n",
       "      <td>0.283371</td>\n",
       "      <td>0.225784</td>\n",
       "      <td>0.396982</td>\n",
       "      <td>0.500003</td>\n",
       "    </tr>\n",
       "    <tr>\n",
       "      <th>min</th>\n",
       "      <td>988.000000</td>\n",
       "      <td>10798.000000</td>\n",
       "      <td>1.000000</td>\n",
       "      <td>55.000000</td>\n",
       "      <td>10.000000</td>\n",
       "      <td>-150.000000</td>\n",
       "      <td>-70.000000</td>\n",
       "      <td>1.000000</td>\n",
       "      <td>1.000000</td>\n",
       "      <td>0.000000</td>\n",
       "      <td>0.000000</td>\n",
       "      <td>0.000000</td>\n",
       "      <td>0.000000</td>\n",
       "    </tr>\n",
       "    <tr>\n",
       "      <th>25%</th>\n",
       "      <td>25745.000000</td>\n",
       "      <td>17664.000000</td>\n",
       "      <td>1.000000</td>\n",
       "      <td>159.000000</td>\n",
       "      <td>65.000000</td>\n",
       "      <td>120.000000</td>\n",
       "      <td>80.000000</td>\n",
       "      <td>1.000000</td>\n",
       "      <td>1.000000</td>\n",
       "      <td>0.000000</td>\n",
       "      <td>0.000000</td>\n",
       "      <td>1.000000</td>\n",
       "      <td>0.000000</td>\n",
       "    </tr>\n",
       "    <tr>\n",
       "      <th>50%</th>\n",
       "      <td>50494.000000</td>\n",
       "      <td>19704.000000</td>\n",
       "      <td>1.000000</td>\n",
       "      <td>165.000000</td>\n",
       "      <td>72.000000</td>\n",
       "      <td>120.000000</td>\n",
       "      <td>80.000000</td>\n",
       "      <td>1.000000</td>\n",
       "      <td>1.000000</td>\n",
       "      <td>0.000000</td>\n",
       "      <td>0.000000</td>\n",
       "      <td>1.000000</td>\n",
       "      <td>0.000000</td>\n",
       "    </tr>\n",
       "    <tr>\n",
       "      <th>75%</th>\n",
       "      <td>75150.000000</td>\n",
       "      <td>21326.000000</td>\n",
       "      <td>2.000000</td>\n",
       "      <td>170.000000</td>\n",
       "      <td>82.000000</td>\n",
       "      <td>140.000000</td>\n",
       "      <td>90.000000</td>\n",
       "      <td>2.000000</td>\n",
       "      <td>1.000000</td>\n",
       "      <td>0.000000</td>\n",
       "      <td>0.000000</td>\n",
       "      <td>1.000000</td>\n",
       "      <td>1.000000</td>\n",
       "    </tr>\n",
       "    <tr>\n",
       "      <th>max</th>\n",
       "      <td>99999.000000</td>\n",
       "      <td>23713.000000</td>\n",
       "      <td>2.000000</td>\n",
       "      <td>250.000000</td>\n",
       "      <td>200.000000</td>\n",
       "      <td>16020.000000</td>\n",
       "      <td>11000.000000</td>\n",
       "      <td>3.000000</td>\n",
       "      <td>3.000000</td>\n",
       "      <td>1.000000</td>\n",
       "      <td>1.000000</td>\n",
       "      <td>1.000000</td>\n",
       "      <td>1.000000</td>\n",
       "    </tr>\n",
       "  </tbody>\n",
       "</table>\n",
       "</div>"
      ],
      "text/plain": [
       "                 id           age        gender        height        weight  \\\n",
       "count  69301.000000  69301.000000  69301.000000  69301.000000  69301.000000   \n",
       "mean   50471.480397  19468.786280      1.349519    164.362217     74.203027   \n",
       "std    28563.100347   2467.261818      0.476821      8.205337     14.383469   \n",
       "min      988.000000  10798.000000      1.000000     55.000000     10.000000   \n",
       "25%    25745.000000  17664.000000      1.000000    159.000000     65.000000   \n",
       "50%    50494.000000  19704.000000      1.000000    165.000000     72.000000   \n",
       "75%    75150.000000  21326.000000      2.000000    170.000000     82.000000   \n",
       "max    99999.000000  23713.000000      2.000000    250.000000    200.000000   \n",
       "\n",
       "              ap_hi         ap_lo   cholesterol          gluc         smoke  \\\n",
       "count  69301.000000  69301.000000  69301.000000  69301.000000  69301.000000   \n",
       "mean     128.829584     96.650092      1.366806      1.226447      0.088051   \n",
       "std      154.775805    189.096240      0.680270      0.572246      0.283371   \n",
       "min     -150.000000    -70.000000      1.000000      1.000000      0.000000   \n",
       "25%      120.000000     80.000000      1.000000      1.000000      0.000000   \n",
       "50%      120.000000     80.000000      1.000000      1.000000      0.000000   \n",
       "75%      140.000000     90.000000      2.000000      1.000000      0.000000   \n",
       "max    16020.000000  11000.000000      3.000000      3.000000      1.000000   \n",
       "\n",
       "               alco        active        cardio  \n",
       "count  69301.000000  69301.000000  69301.000000  \n",
       "mean       0.053881      0.803986      0.499589  \n",
       "std        0.225784      0.396982      0.500003  \n",
       "min        0.000000      0.000000      0.000000  \n",
       "25%        0.000000      1.000000      0.000000  \n",
       "50%        0.000000      1.000000      0.000000  \n",
       "75%        0.000000      1.000000      1.000000  \n",
       "max        1.000000      1.000000      1.000000  "
      ]
     },
     "execution_count": 6,
     "metadata": {},
     "output_type": "execute_result"
    }
   ],
   "source": [
    "# Using the describe() method to get descriptive statistics on the data set.\n",
    "# As can be seen, some of the summaries do not make much sense --for instance, some variables\n",
    "# are essentially categorical but have been rendered numerically, so finding the mean or standard deviation of them is not helpful. \n",
    "# Ignoring these variables (for now), a more pressing matter arises: that of rendering certain variables (e.g., age, height, and weight)\n",
    "# in a more preferable way for both convenience and clarity. \n",
    "cvd.describe()"
   ]
  },
  {
   "cell_type": "markdown",
   "id": "1d1fbd61-f834-479c-9a5b-f05706955ac9",
   "metadata": {},
   "source": [
    "#### 1.4.1 Modifying Age, Height, and Weight Columns"
   ]
  },
  {
   "cell_type": "code",
   "execution_count": 7,
   "id": "61e88cc9-5627-4f56-949e-9c470c80f211",
   "metadata": {},
   "outputs": [],
   "source": [
    "# The age column captures the age of a person in days. Having age rendered this way is unappealing\n",
    "# and hard to work with, so I will be converting age to years.\n",
    "cvd['age'] = cvd.age.apply(lambda x: x / 365)"
   ]
  },
  {
   "cell_type": "code",
   "execution_count": 8,
   "id": "5761eff5-b410-4076-95d1-d7f2e163ad42",
   "metadata": {},
   "outputs": [],
   "source": [
    "# The height column captures the height of a person in centimeters.\n",
    "# As a matter of preference, I'll be converting centimeters to inches.\n",
    "cvd['height'] = cvd.height.apply(lambda x: x / 2.54)"
   ]
  },
  {
   "cell_type": "code",
   "execution_count": 9,
   "id": "6cd0594c-b679-4297-9543-26a902a4da2c",
   "metadata": {},
   "outputs": [],
   "source": [
    "# The weight column captures the weight of a person in kilograms.\n",
    "# As a matter of preference, I'll be converting kilograms to pounds (lbs).\n",
    "cvd['weight'] = cvd.weight.apply(lambda x: x * 2.205)"
   ]
  },
  {
   "cell_type": "code",
   "execution_count": 10,
   "id": "039bd8a7-9fa9-4b2b-841e-5d1cf3d6f443",
   "metadata": {},
   "outputs": [],
   "source": [
    "# Changing column names accordingly\n",
    "cvd = cvd.rename(columns={'age':'age (yr)',\n",
    "                         'height':'height (in)',\n",
    "                         'weight':'weight (lb)'})"
   ]
  },
  {
   "cell_type": "code",
   "execution_count": 11,
   "id": "d9a46926-fd6d-4877-a5bf-ccf15b537109",
   "metadata": {},
   "outputs": [
    {
     "data": {
      "text/html": [
       "<div>\n",
       "<style scoped>\n",
       "    .dataframe tbody tr th:only-of-type {\n",
       "        vertical-align: middle;\n",
       "    }\n",
       "\n",
       "    .dataframe tbody tr th {\n",
       "        vertical-align: top;\n",
       "    }\n",
       "\n",
       "    .dataframe thead th {\n",
       "        text-align: right;\n",
       "    }\n",
       "</style>\n",
       "<table border=\"1\" class=\"dataframe\">\n",
       "  <thead>\n",
       "    <tr style=\"text-align: right;\">\n",
       "      <th></th>\n",
       "      <th>id</th>\n",
       "      <th>age (yr)</th>\n",
       "      <th>gender</th>\n",
       "      <th>height (in)</th>\n",
       "      <th>weight (lb)</th>\n",
       "      <th>ap_hi</th>\n",
       "      <th>ap_lo</th>\n",
       "      <th>cholesterol</th>\n",
       "      <th>gluc</th>\n",
       "      <th>smoke</th>\n",
       "      <th>alco</th>\n",
       "      <th>active</th>\n",
       "      <th>cardio</th>\n",
       "    </tr>\n",
       "  </thead>\n",
       "  <tbody>\n",
       "    <tr>\n",
       "      <th>0</th>\n",
       "      <td>988</td>\n",
       "      <td>61.558904</td>\n",
       "      <td>1</td>\n",
       "      <td>61.023622</td>\n",
       "      <td>152.145</td>\n",
       "      <td>130</td>\n",
       "      <td>80</td>\n",
       "      <td>2</td>\n",
       "      <td>2</td>\n",
       "      <td>0</td>\n",
       "      <td>0</td>\n",
       "      <td>1</td>\n",
       "      <td>0</td>\n",
       "    </tr>\n",
       "    <tr>\n",
       "      <th>1</th>\n",
       "      <td>989</td>\n",
       "      <td>40.131507</td>\n",
       "      <td>1</td>\n",
       "      <td>64.173228</td>\n",
       "      <td>156.555</td>\n",
       "      <td>110</td>\n",
       "      <td>70</td>\n",
       "      <td>1</td>\n",
       "      <td>1</td>\n",
       "      <td>0</td>\n",
       "      <td>0</td>\n",
       "      <td>1</td>\n",
       "      <td>1</td>\n",
       "    </tr>\n",
       "    <tr>\n",
       "      <th>2</th>\n",
       "      <td>990</td>\n",
       "      <td>60.002740</td>\n",
       "      <td>1</td>\n",
       "      <td>64.960630</td>\n",
       "      <td>154.350</td>\n",
       "      <td>120</td>\n",
       "      <td>80</td>\n",
       "      <td>1</td>\n",
       "      <td>1</td>\n",
       "      <td>0</td>\n",
       "      <td>0</td>\n",
       "      <td>1</td>\n",
       "      <td>0</td>\n",
       "    </tr>\n",
       "    <tr>\n",
       "      <th>3</th>\n",
       "      <td>991</td>\n",
       "      <td>39.860274</td>\n",
       "      <td>2</td>\n",
       "      <td>64.960630</td>\n",
       "      <td>187.425</td>\n",
       "      <td>120</td>\n",
       "      <td>80</td>\n",
       "      <td>1</td>\n",
       "      <td>1</td>\n",
       "      <td>1</td>\n",
       "      <td>1</td>\n",
       "      <td>1</td>\n",
       "      <td>0</td>\n",
       "    </tr>\n",
       "    <tr>\n",
       "      <th>4</th>\n",
       "      <td>992</td>\n",
       "      <td>64.090411</td>\n",
       "      <td>1</td>\n",
       "      <td>61.023622</td>\n",
       "      <td>136.710</td>\n",
       "      <td>120</td>\n",
       "      <td>80</td>\n",
       "      <td>1</td>\n",
       "      <td>1</td>\n",
       "      <td>0</td>\n",
       "      <td>0</td>\n",
       "      <td>1</td>\n",
       "      <td>0</td>\n",
       "    </tr>\n",
       "  </tbody>\n",
       "</table>\n",
       "</div>"
      ],
      "text/plain": [
       "    id   age (yr)  gender  height (in)  weight (lb)  ap_hi  ap_lo  \\\n",
       "0  988  61.558904       1    61.023622      152.145    130     80   \n",
       "1  989  40.131507       1    64.173228      156.555    110     70   \n",
       "2  990  60.002740       1    64.960630      154.350    120     80   \n",
       "3  991  39.860274       2    64.960630      187.425    120     80   \n",
       "4  992  64.090411       1    61.023622      136.710    120     80   \n",
       "\n",
       "   cholesterol  gluc  smoke  alco  active  cardio  \n",
       "0            2     2      0     0       1       0  \n",
       "1            1     1      0     0       1       1  \n",
       "2            1     1      0     0       1       0  \n",
       "3            1     1      1     1       1       0  \n",
       "4            1     1      0     0       1       0  "
      ]
     },
     "execution_count": 11,
     "metadata": {},
     "output_type": "execute_result"
    }
   ],
   "source": [
    "# Verifying changes\n",
    "cvd.head(5)"
   ]
  },
  {
   "cell_type": "markdown",
   "id": "add35d3e-d65b-465b-b3a9-83e424698d20",
   "metadata": {},
   "source": [
    "### 1.5 Checking Unique Values"
   ]
  },
  {
   "cell_type": "code",
   "execution_count": 12,
   "id": "5b7a4503-7cdc-4263-9b54-a7f562f3b888",
   "metadata": {},
   "outputs": [
    {
     "data": {
      "text/plain": [
       "id             69301\n",
       "age (yr)        8069\n",
       "gender             2\n",
       "height (in)      108\n",
       "weight (lb)      285\n",
       "ap_hi            153\n",
       "ap_lo            157\n",
       "cholesterol        3\n",
       "gluc               3\n",
       "smoke              2\n",
       "alco               2\n",
       "active             2\n",
       "cardio             2\n",
       "dtype: int64"
      ]
     },
     "execution_count": 12,
     "metadata": {},
     "output_type": "execute_result"
    }
   ],
   "source": [
    "# By using the nunique() method, I can get the unique values of each column in the data set.\n",
    "# The number of unique values for some of these columns is what is expected, as some columns\n",
    "# store binary or ternary values.\n",
    "cvd.nunique()"
   ]
  },
  {
   "cell_type": "markdown",
   "id": "e48c9fb5-4377-4f2a-9a8c-ef53e12e0fdc",
   "metadata": {},
   "source": [
    "### 1.6 Cleaning Data and Dealing with Outliers"
   ]
  },
  {
   "cell_type": "code",
   "execution_count": 13,
   "id": "2770b76c-80ef-41cf-8b5f-2fdad35f613d",
   "metadata": {},
   "outputs": [
    {
     "data": {
      "text/html": [
       "<div>\n",
       "<style scoped>\n",
       "    .dataframe tbody tr th:only-of-type {\n",
       "        vertical-align: middle;\n",
       "    }\n",
       "\n",
       "    .dataframe tbody tr th {\n",
       "        vertical-align: top;\n",
       "    }\n",
       "\n",
       "    .dataframe thead th {\n",
       "        text-align: right;\n",
       "    }\n",
       "</style>\n",
       "<table border=\"1\" class=\"dataframe\">\n",
       "  <thead>\n",
       "    <tr style=\"text-align: right;\">\n",
       "      <th></th>\n",
       "      <th>id</th>\n",
       "      <th>age (yr)</th>\n",
       "      <th>gender</th>\n",
       "      <th>height (in)</th>\n",
       "      <th>weight (lb)</th>\n",
       "      <th>ap_hi</th>\n",
       "      <th>ap_lo</th>\n",
       "      <th>cholesterol</th>\n",
       "      <th>gluc</th>\n",
       "      <th>smoke</th>\n",
       "      <th>alco</th>\n",
       "      <th>active</th>\n",
       "      <th>cardio</th>\n",
       "    </tr>\n",
       "  </thead>\n",
       "  <tbody>\n",
       "    <tr>\n",
       "      <th>count</th>\n",
       "      <td>69301.000000</td>\n",
       "      <td>69301.000000</td>\n",
       "      <td>69301.000000</td>\n",
       "      <td>69301.000000</td>\n",
       "      <td>69301.000000</td>\n",
       "      <td>69301.000000</td>\n",
       "      <td>69301.000000</td>\n",
       "      <td>69301.000000</td>\n",
       "      <td>69301.000000</td>\n",
       "      <td>69301.000000</td>\n",
       "      <td>69301.000000</td>\n",
       "      <td>69301.000000</td>\n",
       "      <td>69301.000000</td>\n",
       "    </tr>\n",
       "    <tr>\n",
       "      <th>mean</th>\n",
       "      <td>50471.480397</td>\n",
       "      <td>53.339140</td>\n",
       "      <td>1.349519</td>\n",
       "      <td>64.709534</td>\n",
       "      <td>163.617675</td>\n",
       "      <td>128.829584</td>\n",
       "      <td>96.650092</td>\n",
       "      <td>1.366806</td>\n",
       "      <td>1.226447</td>\n",
       "      <td>0.088051</td>\n",
       "      <td>0.053881</td>\n",
       "      <td>0.803986</td>\n",
       "      <td>0.499589</td>\n",
       "    </tr>\n",
       "    <tr>\n",
       "      <th>std</th>\n",
       "      <td>28563.100347</td>\n",
       "      <td>6.759621</td>\n",
       "      <td>0.476821</td>\n",
       "      <td>3.230448</td>\n",
       "      <td>31.715549</td>\n",
       "      <td>154.775805</td>\n",
       "      <td>189.096240</td>\n",
       "      <td>0.680270</td>\n",
       "      <td>0.572246</td>\n",
       "      <td>0.283371</td>\n",
       "      <td>0.225784</td>\n",
       "      <td>0.396982</td>\n",
       "      <td>0.500003</td>\n",
       "    </tr>\n",
       "    <tr>\n",
       "      <th>min</th>\n",
       "      <td>988.000000</td>\n",
       "      <td>29.583562</td>\n",
       "      <td>1.000000</td>\n",
       "      <td>21.653543</td>\n",
       "      <td>22.050000</td>\n",
       "      <td>-150.000000</td>\n",
       "      <td>-70.000000</td>\n",
       "      <td>1.000000</td>\n",
       "      <td>1.000000</td>\n",
       "      <td>0.000000</td>\n",
       "      <td>0.000000</td>\n",
       "      <td>0.000000</td>\n",
       "      <td>0.000000</td>\n",
       "    </tr>\n",
       "    <tr>\n",
       "      <th>25%</th>\n",
       "      <td>25745.000000</td>\n",
       "      <td>48.394521</td>\n",
       "      <td>1.000000</td>\n",
       "      <td>62.598425</td>\n",
       "      <td>143.325000</td>\n",
       "      <td>120.000000</td>\n",
       "      <td>80.000000</td>\n",
       "      <td>1.000000</td>\n",
       "      <td>1.000000</td>\n",
       "      <td>0.000000</td>\n",
       "      <td>0.000000</td>\n",
       "      <td>1.000000</td>\n",
       "      <td>0.000000</td>\n",
       "    </tr>\n",
       "    <tr>\n",
       "      <th>50%</th>\n",
       "      <td>50494.000000</td>\n",
       "      <td>53.983562</td>\n",
       "      <td>1.000000</td>\n",
       "      <td>64.960630</td>\n",
       "      <td>158.760000</td>\n",
       "      <td>120.000000</td>\n",
       "      <td>80.000000</td>\n",
       "      <td>1.000000</td>\n",
       "      <td>1.000000</td>\n",
       "      <td>0.000000</td>\n",
       "      <td>0.000000</td>\n",
       "      <td>1.000000</td>\n",
       "      <td>0.000000</td>\n",
       "    </tr>\n",
       "    <tr>\n",
       "      <th>75%</th>\n",
       "      <td>75150.000000</td>\n",
       "      <td>58.427397</td>\n",
       "      <td>2.000000</td>\n",
       "      <td>66.929134</td>\n",
       "      <td>180.810000</td>\n",
       "      <td>140.000000</td>\n",
       "      <td>90.000000</td>\n",
       "      <td>2.000000</td>\n",
       "      <td>1.000000</td>\n",
       "      <td>0.000000</td>\n",
       "      <td>0.000000</td>\n",
       "      <td>1.000000</td>\n",
       "      <td>1.000000</td>\n",
       "    </tr>\n",
       "    <tr>\n",
       "      <th>max</th>\n",
       "      <td>99999.000000</td>\n",
       "      <td>64.967123</td>\n",
       "      <td>2.000000</td>\n",
       "      <td>98.425197</td>\n",
       "      <td>441.000000</td>\n",
       "      <td>16020.000000</td>\n",
       "      <td>11000.000000</td>\n",
       "      <td>3.000000</td>\n",
       "      <td>3.000000</td>\n",
       "      <td>1.000000</td>\n",
       "      <td>1.000000</td>\n",
       "      <td>1.000000</td>\n",
       "      <td>1.000000</td>\n",
       "    </tr>\n",
       "  </tbody>\n",
       "</table>\n",
       "</div>"
      ],
      "text/plain": [
       "                 id      age (yr)        gender   height (in)   weight (lb)  \\\n",
       "count  69301.000000  69301.000000  69301.000000  69301.000000  69301.000000   \n",
       "mean   50471.480397     53.339140      1.349519     64.709534    163.617675   \n",
       "std    28563.100347      6.759621      0.476821      3.230448     31.715549   \n",
       "min      988.000000     29.583562      1.000000     21.653543     22.050000   \n",
       "25%    25745.000000     48.394521      1.000000     62.598425    143.325000   \n",
       "50%    50494.000000     53.983562      1.000000     64.960630    158.760000   \n",
       "75%    75150.000000     58.427397      2.000000     66.929134    180.810000   \n",
       "max    99999.000000     64.967123      2.000000     98.425197    441.000000   \n",
       "\n",
       "              ap_hi         ap_lo   cholesterol          gluc         smoke  \\\n",
       "count  69301.000000  69301.000000  69301.000000  69301.000000  69301.000000   \n",
       "mean     128.829584     96.650092      1.366806      1.226447      0.088051   \n",
       "std      154.775805    189.096240      0.680270      0.572246      0.283371   \n",
       "min     -150.000000    -70.000000      1.000000      1.000000      0.000000   \n",
       "25%      120.000000     80.000000      1.000000      1.000000      0.000000   \n",
       "50%      120.000000     80.000000      1.000000      1.000000      0.000000   \n",
       "75%      140.000000     90.000000      2.000000      1.000000      0.000000   \n",
       "max    16020.000000  11000.000000      3.000000      3.000000      1.000000   \n",
       "\n",
       "               alco        active        cardio  \n",
       "count  69301.000000  69301.000000  69301.000000  \n",
       "mean       0.053881      0.803986      0.499589  \n",
       "std        0.225784      0.396982      0.500003  \n",
       "min        0.000000      0.000000      0.000000  \n",
       "25%        0.000000      1.000000      0.000000  \n",
       "50%        0.000000      1.000000      0.000000  \n",
       "75%        0.000000      1.000000      1.000000  \n",
       "max        1.000000      1.000000      1.000000  "
      ]
     },
     "execution_count": 13,
     "metadata": {},
     "output_type": "execute_result"
    }
   ],
   "source": [
    "# Seeing a descriptive summary of the data set once again is helpful. There still remains many questionable values\n",
    "# in the data set that have to be dealt with. For instance, the minimum and maximum recorded heights in the data set are 21.7 inches\n",
    "# and 98.4 inches, respectively. These heights are strickingly abnormal!\n",
    "# In this subsection, I'll be working with such outliers, seeing if substituting or removing them, all together, is my best choice.\n",
    "cvd.describe()"
   ]
  },
  {
   "cell_type": "markdown",
   "id": "5c8d80e3-5196-4a41-bb74-c694f09e91c8",
   "metadata": {},
   "source": [
    "#### 1.6.1 Dealing with Outliers"
   ]
  },
  {
   "cell_type": "code",
   "execution_count": 14,
   "id": "f05d3d80-d76b-4382-9fcd-51302eee3729",
   "metadata": {},
   "outputs": [
    {
     "data": {
      "image/png": "[encoded data removed]",
      "text/plain": [
       "<Figure size 432x288 with 1 Axes>"
      ]
     },
     "metadata": {
      "needs_background": "light"
     },
     "output_type": "display_data"
    },
    {
     "data": {
      "image/png": "[encoded data removed]",
      "text/plain": [
       "<Figure size 432x288 with 1 Axes>"
      ]
     },
     "metadata": {
      "needs_background": "light"
     },
     "output_type": "display_data"
    },
    {
     "data": {
      "image/png": "[encoded data removed]",
      "text/plain": [
       "<Figure size 432x288 with 1 Axes>"
      ]
     },
     "metadata": {
      "needs_background": "light"
     },
     "output_type": "display_data"
    },
    {
     "data": {
      "image/png": "[encoded data removed]",
      "text/plain": [
       "<Figure size 432x288 with 1 Axes>"
      ]
     },
     "metadata": {
      "needs_background": "light"
     },
     "output_type": "display_data"
    },
    {
     "data": {
      "image/png": "[encoded data removed]",
      "text/plain": [
       "<Figure size 432x288 with 1 Axes>"
      ]
     },
     "metadata": {
      "needs_background": "light"
     },
     "output_type": "display_data"
    },
    {
     "data": {
      "image/png": "[encoded data removed]",
      "text/plain": [
       "<Figure size 432x288 with 1 Axes>"
      ]
     },
     "metadata": {
      "needs_background": "light"
     },
     "output_type": "display_data"
    },
    {
     "data": {
      "image/png": "[encoded data removed]",
      "text/plain": [
       "<Figure size 432x288 with 1 Axes>"
      ]
     },
     "metadata": {
      "needs_background": "light"
     },
     "output_type": "display_data"
    },
    {
     "data": {
      "image/png": "[encoded data removed]",
      "text/plain": [
       "<Figure size 432x288 with 1 Axes>"
      ]
     },
     "metadata": {
      "needs_background": "light"
     },
     "output_type": "display_data"
    },
    {
     "data": {
      "image/png": "[encoded data removed]",
      "text/plain": [
       "<Figure size 432x288 with 1 Axes>"
      ]
     },
     "metadata": {
      "needs_background": "light"
     },
     "output_type": "display_data"
    },
    {
     "data": {
      "image/png": "[encoded data removed]",
      "text/plain": [
       "<Figure size 432x288 with 1 Axes>"
      ]
     },
     "metadata": {
      "needs_background": "light"
     },
     "output_type": "display_data"
    },
    {
     "data": {
      "image/png": "[encoded data removed]",
      "text/plain": [
       "<Figure size 432x288 with 1 Axes>"
      ]
     },
     "metadata": {
      "needs_background": "light"
     },
     "output_type": "display_data"
    },
    {
     "data": {
      "image/png": "[encoded data removed]",
      "text/plain": [
       "<Figure size 432x288 with 1 Axes>"
      ]
     },
     "metadata": {
      "needs_background": "light"
     },
     "output_type": "display_data"
    },
    {
     "data": {
      "image/png": "[encoded data removed]",
      "text/plain": [
       "<Figure size 432x288 with 1 Axes>"
      ]
     },
     "metadata": {
      "needs_background": "light"
     },
     "output_type": "display_data"
    }
   ],
   "source": [
    "# Using box plots, I will check for outliers in each column of the data set.\n",
    "for column in cvd:\n",
    "    plt.figure()\n",
    "    cvd.boxplot([column])"
   ]
  },
  {
   "cell_type": "markdown",
   "id": "28e558b2-22f4-4c14-8710-efe8e0487fd5",
   "metadata": {},
   "source": [
    "As can be seen, the variables height, weight, ap_hi, and ap_lo have many outliers, respectively. \n",
    "\n",
    "I'm going to check the unique values for each of these variables to get a better idea of how to deal\n",
    "with the outliers. "
   ]
  },
  {
   "cell_type": "markdown",
   "id": "a34a08b1-52d2-46a8-87b0-1963f2651faa",
   "metadata": {},
   "source": [
    "### 1.6.2 Cleaning ap_hi Variable"
   ]
  },
  {
   "cell_type": "code",
   "execution_count": 15,
   "id": "d0bba5db-5d61-4864-955c-6b0af01df347",
   "metadata": {},
   "outputs": [
    {
     "data": {
      "text/plain": [
       "array([  130,   110,   120,   100,   140,   160,   170,   150,   147,\n",
       "         115,    90,   180,    14,   125,   135,   190,   137,   153,\n",
       "          11,   145,   148,   126,   105,   220,   119,   141,   165,\n",
       "         164,    12,   124,   172,   902,   162,   906,   117,   134,\n",
       "         166,   210,   176,   133,   116,   169,    10,   121,    16,\n",
       "          80,   112,   159,   122,   113,   118,   200,   155,   142,\n",
       "         131,   157,   136,   146,   138,  -100,   909,    70,   109,\n",
       "          85,   106,   129,    93,     7,    95,   179,   161,   156,\n",
       "         168,   132,   104,   103,   178,   175,   123,   128,   151,\n",
       "          15,   139, 11500,   127,    17,   108,   144,   158,   102,\n",
       "           1,  1420,    13,   143,   701,   107,   184,   149,   167,\n",
       "         114,   101,    60,  1500,   181,   171,   202,  -115,   111,\n",
       "         907,    20,   188,   185,   163,   173,   154,   177,  -140,\n",
       "         174,  -120, 14020,  1400,   240,   191,   197,  1620,   152,\n",
       "          96,   199,  -150,  1130,   193,    99,   196,   309,   401,\n",
       "       16020,  1202,   806,  1300,   230,   207,   215,    97,  1409,\n",
       "       11020,    24,   960, 13010,  1110,   195,  1205,   187,  2000],\n",
       "      dtype=int64)"
      ]
     },
     "execution_count": 15,
     "metadata": {},
     "output_type": "execute_result"
    }
   ],
   "source": [
    "# Using the unique() method to get unique values in the column.\n",
    "# There are impossibly low (e.g., negative values) and high values in column.\n",
    "# Note, the highest blood pressure ever recorded on a human was 370/360.\n",
    "# Any systolic blood pressure that exceeds 370 is highly likely due to mistaken encoding.\n",
    "cvd['ap_hi'].unique()"
   ]
  },
  {
   "cell_type": "code",
   "execution_count": 16,
   "id": "2a893e75-409a-4d32-885c-0f02c2d8209e",
   "metadata": {},
   "outputs": [
    {
     "data": {
      "text/plain": [
       "array([  130,   110,   120,   100,   140,   160,   170,   150,   147,\n",
       "         115,    90,   180,    14,   125,   135,   190,   137,   153,\n",
       "          11,   145,   148,   126,   105,   220,   119,   141,   165,\n",
       "         164,    12,   124,   172,   902,   162,   906,   117,   134,\n",
       "         166,   210,   176,   133,   116,   169,    10,   121,    16,\n",
       "          80,   112,   159,   122,   113,   118,   200,   155,   142,\n",
       "         131,   157,   136,   146,   138,   909,    70,   109,    85,\n",
       "         106,   129,    93,     7,    95,   179,   161,   156,   168,\n",
       "         132,   104,   103,   178,   175,   123,   128,   151,    15,\n",
       "         139, 11500,   127,    17,   108,   144,   158,   102,     1,\n",
       "        1420,    13,   143,   701,   107,   184,   149,   167,   114,\n",
       "         101,    60,  1500,   181,   171,   202,   111,   907,    20,\n",
       "         188,   185,   163,   173,   154,   177,   174, 14020,  1400,\n",
       "         240,   191,   197,  1620,   152,    96,   199,  1130,   193,\n",
       "          99,   196,   309,   401, 16020,  1202,   806,  1300,   230,\n",
       "         207,   215,    97,  1409, 11020,    24,   960, 13010,  1110,\n",
       "         195,  1205,   187,  2000], dtype=int64)"
      ]
     },
     "execution_count": 16,
     "metadata": {},
     "output_type": "execute_result"
    }
   ],
   "source": [
    "# Using the abs() method to get rid of negative systolic values.\n",
    "cvd['ap_hi'] = cvd['ap_hi'].abs()\n",
    "\n",
    "# Verifying\n",
    "cvd['ap_hi'].unique()"
   ]
  },
  {
   "cell_type": "code",
   "execution_count": 17,
   "id": "10b16b71-b102-4fae-9701-672e75b300ad",
   "metadata": {},
   "outputs": [
    {
     "data": {
      "text/plain": [
       "39"
      ]
     },
     "execution_count": 17,
     "metadata": {},
     "output_type": "execute_result"
    }
   ],
   "source": [
    "# Checking how many systolic readings exceed 370. \n",
    "sum(cvd['ap_hi'] > 370)"
   ]
  },
  {
   "cell_type": "code",
   "execution_count": 18,
   "id": "b1d7ade2-4ccf-4105-96c5-18dfd20cef34",
   "metadata": {},
   "outputs": [
    {
     "data": {
      "text/plain": [
       "180"
      ]
     },
     "execution_count": 18,
     "metadata": {},
     "output_type": "execute_result"
    }
   ],
   "source": [
    "# Checking how many systolic readings are lower than 50.\n",
    "sum(cvd['ap_hi']  < 50)"
   ]
  },
  {
   "cell_type": "markdown",
   "id": "04065292-5f72-4eb0-97a3-d635711dacda",
   "metadata": {},
   "source": [
    "There are many outliers that have to dealt with; however, it is not clear\n",
    "on how to deal with them."
   ]
  },
  {
   "cell_type": "code",
   "execution_count": 19,
   "id": "5f813a8c-c3b3-47fd-bdec-6ce573e91d13",
   "metadata": {},
   "outputs": [],
   "source": [
    "# I will drop ap_hi values that are greater than or equal to 370.\n",
    "cvd.drop(cvd[cvd['ap_hi'] >= 370].index, inplace=True)\n",
    "\n",
    "# I will also drop ap_hi values that less than or equal to 50. \n",
    "# Values less than or equal to 50 are likely due to error.\n",
    "cvd.drop(cvd[cvd['ap_hi'] <= 50].index, inplace=True)"
   ]
  },
  {
   "cell_type": "code",
   "execution_count": 20,
   "id": "88e94da5-be09-4aa7-96bc-724596719a53",
   "metadata": {},
   "outputs": [
    {
     "data": {
      "text/plain": [
       "array([130, 110, 120, 100, 140, 160, 170, 150, 147, 115,  90, 180, 125,\n",
       "       135, 190, 137, 153, 145, 148, 126, 105, 220, 119, 141, 165, 164,\n",
       "       124, 172, 162, 117, 134, 166, 210, 176, 133, 116, 169, 121,  80,\n",
       "       112, 159, 122, 113, 118, 200, 155, 142, 131, 157, 136, 146, 138,\n",
       "        70, 109,  85, 106, 129,  93,  95, 179, 161, 156, 168, 132, 104,\n",
       "       103, 178, 175, 123, 128, 151, 139, 127, 108, 144, 158, 102, 143,\n",
       "       107, 184, 149, 167, 114, 101,  60, 181, 171, 202, 111, 188, 185,\n",
       "       163, 173, 154, 177, 174, 240, 191, 197, 152,  96, 199, 193,  99,\n",
       "       196, 309, 230, 207, 215,  97, 195, 187], dtype=int64)"
      ]
     },
     "execution_count": 20,
     "metadata": {},
     "output_type": "execute_result"
    }
   ],
   "source": [
    "# Verifying \n",
    "cvd['ap_hi'].unique()"
   ]
  },
  {
   "cell_type": "code",
   "execution_count": 21,
   "id": "fa26e6c2-5928-4531-8595-6f5738c6d8ae",
   "metadata": {},
   "outputs": [
    {
     "data": {
      "text/plain": [
       "count    69082.000000\n",
       "mean       126.996150\n",
       "std         17.108362\n",
       "min         60.000000\n",
       "25%        120.000000\n",
       "50%        120.000000\n",
       "75%        140.000000\n",
       "max        309.000000\n",
       "Name: ap_hi, dtype: float64"
      ]
     },
     "execution_count": 21,
     "metadata": {},
     "output_type": "execute_result"
    }
   ],
   "source": [
    "# These summary statistics seem much more reasonable.\n",
    "cvd['ap_hi'].describe()"
   ]
  },
  {
   "cell_type": "markdown",
   "id": "c6c90c93-ffb6-465b-99c8-f1c5fcac197b",
   "metadata": {},
   "source": [
    "### 1.6.3 Cleaning ap_lo Variable"
   ]
  },
  {
   "cell_type": "code",
   "execution_count": 22,
   "id": "85075ce1-bfc1-4418-9db3-5a8355a81ccd",
   "metadata": {},
   "outputs": [
    {
     "data": {
      "text/plain": [
       "array([   80,    70,    90,   100,  1000,    60,    79,    78,   110,\n",
       "          84,    75,  1100,    85,    86,    87,  1001,    82,    95,\n",
       "          69,    74,    97,    65,   120,    81,    73,    89,  1200,\n",
       "          83,   119,    50,    93,   105, 10000,   150,    99,    77,\n",
       "          59,  8044,   140,    92,  1044,   108,   125,   115,    68,\n",
       "          61,   106,   102,    91,    94,    66,    52,   170,    76,\n",
       "         160,    62,    30,    96,   130,   113,    67,  9100,  1033,\n",
       "          10,    88,   902,     8,   112,   104,    71,    72,  1008,\n",
       "          98,    20,   802,  8000,  1022,   850,    40,   708,    57,\n",
       "         101,  9011,  1011,    64,     0,  1007,  1177,  7100,   109,\n",
       "          45,   709,    63,  8500,   800,    58,  1110,  8099,  1088,\n",
       "         126,  1077,  1120,     7,   103,  1125,   180,   121,  8100,\n",
       "         710,  5700,  8079,  1111,  1003,     6,  1900,   809,   114,\n",
       "         801,  1002,    53,   111,     1,   118,    56,   182,   810,\n",
       "           9,  7099, 11000,  9800,  8200,  1139,   107,   820,    55,\n",
       "        1400,   190,   900,   122,  6800,   135,   700,    15,  1101,\n",
       "         910,  1140,  1211,    54,  8077,   901,   880,   870,    49,\n",
       "         602], dtype=int64)"
      ]
     },
     "execution_count": 22,
     "metadata": {},
     "output_type": "execute_result"
    }
   ],
   "source": [
    "# Proceeding similarly as before, I will check the unique values\n",
    "# inside this column.\n",
    "# Note how there are impossibly low and high values. Working with the\n",
    "# fact stated before, I will state the cutoff points to be both 360 and\n",
    "# 40. The former because the highest diastolic recorded was 360, so any value\n",
    "# exceeding this number is highly likely due to mistaken encoding; the latter because\n",
    "# a reading of lower than 40 is considered dangerously low.\n",
    "cvd['ap_lo'].unique()"
   ]
  },
  {
   "cell_type": "code",
   "execution_count": 23,
   "id": "c888847c-9e56-4871-8faa-65ce108c91ab",
   "metadata": {},
   "outputs": [
    {
     "data": {
      "text/plain": [
       "array([   80,    70,    90,   100,  1000,    60,    79,    78,   110,\n",
       "          84,    75,  1100,    85,    86,    87,  1001,    82,    95,\n",
       "          69,    74,    97,    65,   120,    81,    73,    89,  1200,\n",
       "          83,   119,    50,    93,   105, 10000,   150,    99,    77,\n",
       "          59,  8044,   140,    92,  1044,   108,   125,   115,    68,\n",
       "          61,   106,   102,    91,    94,    66,    52,   170,    76,\n",
       "         160,    62,    30,    96,   130,   113,    67,  9100,  1033,\n",
       "          10,    88,   902,     8,   112,   104,    71,    72,  1008,\n",
       "          98,    20,   802,  8000,  1022,   850,    40,   708,    57,\n",
       "         101,  9011,  1011,    64,     0,  1007,  1177,  7100,   109,\n",
       "          45,   709,    63,  8500,   800,    58,  1110,  8099,  1088,\n",
       "         126,  1077,  1120,     7,   103,  1125,   180,   121,  8100,\n",
       "         710,  5700,  8079,  1111,  1003,     6,  1900,   809,   114,\n",
       "         801,  1002,    53,   111,     1,   118,    56,   182,   810,\n",
       "           9,  7099, 11000,  9800,  8200,  1139,   107,   820,    55,\n",
       "        1400,   190,   900,   122,  6800,   135,   700,    15,  1101,\n",
       "         910,  1140,  1211,    54,  8077,   901,   880,   870,    49,\n",
       "         602], dtype=int64)"
      ]
     },
     "execution_count": 23,
     "metadata": {},
     "output_type": "execute_result"
    }
   ],
   "source": [
    "# Using abs() method to get rid of negative values.\n",
    "cvd['ap_lo'] = cvd['ap_lo'].abs()\n",
    "\n",
    "# Verifying\n",
    "cvd['ap_lo'].unique()"
   ]
  },
  {
   "cell_type": "code",
   "execution_count": 24,
   "id": "1c407158-ff2a-4d46-9392-24713fabdd4e",
   "metadata": {},
   "outputs": [
    {
     "data": {
      "text/plain": [
       "940"
      ]
     },
     "execution_count": 24,
     "metadata": {},
     "output_type": "execute_result"
    }
   ],
   "source": [
    "# Checking how many diastolic readings exceed 360.\n",
    "sum(cvd['ap_lo'] > 360)"
   ]
  },
  {
   "cell_type": "code",
   "execution_count": 25,
   "id": "85b8f204-3f79-4314-98cb-9cca56023a22",
   "metadata": {},
   "outputs": [
    {
     "data": {
      "text/plain": [
       "47"
      ]
     },
     "execution_count": 25,
     "metadata": {},
     "output_type": "execute_result"
    }
   ],
   "source": [
    "# Checking how many diastolic readings are lower than 40.\n",
    "sum(cvd['ap_lo'] < 40)"
   ]
  },
  {
   "cell_type": "markdown",
   "id": "08c276c2-6783-404f-a975-5a0cdbc06296",
   "metadata": {},
   "source": [
    "There are several outliers (i.e., values that either exceed or are lower than self-defined cutoff points)."
   ]
  },
  {
   "cell_type": "code",
   "execution_count": 26,
   "id": "c6973397-fc03-4eef-a0bb-01b1fa764502",
   "metadata": {},
   "outputs": [],
   "source": [
    "# I will drop ap_lo values that are strictly less than 60\n",
    "# and greater than or equal to 360.\n",
    "cvd.drop(cvd[cvd['ap_lo'] >= 360].index, inplace=True)\n",
    "cvd.drop(cvd[cvd['ap_lo'] < 40].index, inplace=True)"
   ]
  },
  {
   "cell_type": "code",
   "execution_count": 27,
   "id": "4259ce6f-7e99-4a61-941a-c731fc451654",
   "metadata": {},
   "outputs": [
    {
     "data": {
      "text/plain": [
       "array([ 80,  70,  90, 100,  60,  79,  78, 110,  84,  75,  85,  86,  87,\n",
       "        82,  95,  69,  74,  97,  65, 120,  81,  73,  89,  83, 119,  50,\n",
       "        93, 105, 150,  99,  77,  59, 140,  92, 108, 125, 115,  68,  61,\n",
       "       106, 102,  91,  94,  66,  52, 170,  76, 160,  62,  96, 130, 113,\n",
       "        67,  88, 112, 104,  71,  72,  98,  40,  57, 101,  64, 109,  45,\n",
       "        63,  58, 126, 103, 180, 121, 114,  53, 111, 118,  56, 182, 107,\n",
       "        55, 190, 122, 135,  54,  49], dtype=int64)"
      ]
     },
     "execution_count": 27,
     "metadata": {},
     "output_type": "execute_result"
    }
   ],
   "source": [
    "# Verifying\n",
    "cvd['ap_lo'].unique()"
   ]
  },
  {
   "cell_type": "code",
   "execution_count": 28,
   "id": "b10eec44-21c9-4842-a014-440eb7513ae5",
   "metadata": {},
   "outputs": [
    {
     "data": {
      "text/plain": [
       "count    68095.000000\n",
       "mean        81.380013\n",
       "std          9.673868\n",
       "min         40.000000\n",
       "25%         80.000000\n",
       "50%         80.000000\n",
       "75%         90.000000\n",
       "max        190.000000\n",
       "Name: ap_lo, dtype: float64"
      ]
     },
     "execution_count": 28,
     "metadata": {},
     "output_type": "execute_result"
    }
   ],
   "source": [
    "# These summary statictics seem much more reasonable.\n",
    "cvd['ap_lo'].describe()"
   ]
  },
  {
   "cell_type": "markdown",
   "id": "8f95e508-b98d-4ec5-932b-2cb73fa41731",
   "metadata": {},
   "source": [
    "### 1.6.4 Cleaning Weight Variable"
   ]
  },
  {
   "cell_type": "code",
   "execution_count": 29,
   "id": "8916b83f-ec64-435a-8a57-9aa0aed664cf",
   "metadata": {},
   "outputs": [
    {
     "data": {
      "text/plain": [
       "count    68095.000000\n",
       "mean       163.431874\n",
       "std         31.571976\n",
       "min         24.255000\n",
       "25%        143.325000\n",
       "50%        158.760000\n",
       "75%        180.810000\n",
       "max        441.000000\n",
       "Name: weight (lb), dtype: float64"
      ]
     },
     "execution_count": 29,
     "metadata": {},
     "output_type": "execute_result"
    }
   ],
   "source": [
    "# Getting summary statistics on weight variable.\n",
    "# Results do not seem overtly suspicious since dealing with\n",
    "# weight values isn't as clear cut as dealing with blood pressure values.\n",
    "# Some of these weights, even if seemingly suspicious, cannot\n",
    "# be solely determined to derived due to encoding error. This issue\n",
    "# warrants a different approach from the last one (i.e., the one used for\n",
    "# ap_hi and ap_lo variables).\n",
    "cvd['weight (lb)'].describe()"
   ]
  },
  {
   "cell_type": "code",
   "execution_count": 30,
   "id": "ad79a928-9d43-4e7f-97aa-6f8cc4418721",
   "metadata": {},
   "outputs": [],
   "source": [
    "# Getting quartiles and interquartile range.\n",
    "Q1 = 143.325\n",
    "Q3 = 180.810\n",
    "IQR = Q3 - Q1\n",
    "\n",
    "# Getting outliers.\n",
    "weight_lower_boundary = round(Q1 - (1.5 * IQR))\n",
    "weight_upper_boundary = round(Q3 + (1.5 * IQR))"
   ]
  },
  {
   "cell_type": "code",
   "execution_count": 31,
   "id": "5c0140cc-6a35-458f-8f0a-8458d972ddde",
   "metadata": {},
   "outputs": [
    {
     "name": "stdout",
     "output_type": "stream",
     "text": [
      "The lower outlier weight treshold is 87 lbs.\n"
     ]
    }
   ],
   "source": [
    "print('The lower outlier weight treshold is {} lbs.'.format(weight_lower_boundary))"
   ]
  },
  {
   "cell_type": "code",
   "execution_count": 32,
   "id": "94e405c9-98ba-45d7-95ae-e6300bd5ba39",
   "metadata": {},
   "outputs": [
    {
     "name": "stdout",
     "output_type": "stream",
     "text": [
      "The upper outlier weight treshold is 237 lbs.\n"
     ]
    }
   ],
   "source": [
    "print('The upper outlier weight treshold is {} lbs.'.format(weight_upper_boundary))"
   ]
  },
  {
   "cell_type": "code",
   "execution_count": 33,
   "id": "c561043f-e245-4a0d-a67e-67b002f64faf",
   "metadata": {},
   "outputs": [
    {
     "name": "stdout",
     "output_type": "stream",
     "text": [
      "Number of upper outliers is: 1682\n",
      "Number of lower outliers is: 49\n"
     ]
    }
   ],
   "source": [
    "# A natural question to ask is \"how many outliers does the weight variable contain?\"\n",
    "print('Number of upper outliers is:', sum(cvd['weight (lb)'] > weight_upper_boundary))\n",
    "print('Number of lower outliers is:', sum(cvd['weight (lb)'] < weight_lower_boundary))"
   ]
  },
  {
   "cell_type": "markdown",
   "id": "142973f2-6f52-49fa-9d7b-408fde669566",
   "metadata": {},
   "source": [
    "These outlier thresholds can serve as cutoff points; however, once again, there\n",
    "isn't a clear-cut method to dealing with such outliers. For example, a weight of 87 pounds\n",
    "can be easily explained if the person happens to be a child, a sickly person, etc. Similar reasoning can \n",
    "explain a weight of 237 pounds, which, on closer inspection, doesn't seem unreasonable. "
   ]
  },
  {
   "cell_type": "code",
   "execution_count": 34,
   "id": "09cd46b2-515d-4625-8543-ce6fe29aa948",
   "metadata": {},
   "outputs": [
    {
     "data": {
      "text/html": [
       "<div>\n",
       "<style scoped>\n",
       "    .dataframe tbody tr th:only-of-type {\n",
       "        vertical-align: middle;\n",
       "    }\n",
       "\n",
       "    .dataframe tbody tr th {\n",
       "        vertical-align: top;\n",
       "    }\n",
       "\n",
       "    .dataframe thead th {\n",
       "        text-align: right;\n",
       "    }\n",
       "</style>\n",
       "<table border=\"1\" class=\"dataframe\">\n",
       "  <thead>\n",
       "    <tr style=\"text-align: right;\">\n",
       "      <th></th>\n",
       "      <th>id</th>\n",
       "      <th>age (yr)</th>\n",
       "      <th>gender</th>\n",
       "      <th>height (in)</th>\n",
       "      <th>weight (lb)</th>\n",
       "      <th>ap_hi</th>\n",
       "      <th>ap_lo</th>\n",
       "      <th>cholesterol</th>\n",
       "      <th>gluc</th>\n",
       "      <th>smoke</th>\n",
       "      <th>alco</th>\n",
       "      <th>active</th>\n",
       "      <th>cardio</th>\n",
       "    </tr>\n",
       "  </thead>\n",
       "  <tbody>\n",
       "    <tr>\n",
       "      <th>3053</th>\n",
       "      <td>5306</td>\n",
       "      <td>42.191781</td>\n",
       "      <td>1</td>\n",
       "      <td>47.244094</td>\n",
       "      <td>66.15000</td>\n",
       "      <td>110</td>\n",
       "      <td>70</td>\n",
       "      <td>1</td>\n",
       "      <td>1</td>\n",
       "      <td>0</td>\n",
       "      <td>0</td>\n",
       "      <td>1</td>\n",
       "      <td>0</td>\n",
       "    </tr>\n",
       "    <tr>\n",
       "      <th>5095</th>\n",
       "      <td>8226</td>\n",
       "      <td>48.391781</td>\n",
       "      <td>1</td>\n",
       "      <td>59.448819</td>\n",
       "      <td>81.58500</td>\n",
       "      <td>120</td>\n",
       "      <td>80</td>\n",
       "      <td>1</td>\n",
       "      <td>1</td>\n",
       "      <td>0</td>\n",
       "      <td>0</td>\n",
       "      <td>1</td>\n",
       "      <td>0</td>\n",
       "    </tr>\n",
       "    <tr>\n",
       "      <th>9748</th>\n",
       "      <td>14908</td>\n",
       "      <td>60.293151</td>\n",
       "      <td>1</td>\n",
       "      <td>63.779528</td>\n",
       "      <td>83.79000</td>\n",
       "      <td>100</td>\n",
       "      <td>70</td>\n",
       "      <td>1</td>\n",
       "      <td>1</td>\n",
       "      <td>0</td>\n",
       "      <td>0</td>\n",
       "      <td>1</td>\n",
       "      <td>0</td>\n",
       "    </tr>\n",
       "    <tr>\n",
       "      <th>9928</th>\n",
       "      <td>15182</td>\n",
       "      <td>59.367123</td>\n",
       "      <td>1</td>\n",
       "      <td>60.236220</td>\n",
       "      <td>81.58500</td>\n",
       "      <td>150</td>\n",
       "      <td>80</td>\n",
       "      <td>3</td>\n",
       "      <td>3</td>\n",
       "      <td>0</td>\n",
       "      <td>0</td>\n",
       "      <td>1</td>\n",
       "      <td>1</td>\n",
       "    </tr>\n",
       "    <tr>\n",
       "      <th>11177</th>\n",
       "      <td>16963</td>\n",
       "      <td>47.978082</td>\n",
       "      <td>1</td>\n",
       "      <td>61.811024</td>\n",
       "      <td>85.99500</td>\n",
       "      <td>90</td>\n",
       "      <td>70</td>\n",
       "      <td>1</td>\n",
       "      <td>1</td>\n",
       "      <td>0</td>\n",
       "      <td>0</td>\n",
       "      <td>1</td>\n",
       "      <td>0</td>\n",
       "    </tr>\n",
       "    <tr>\n",
       "      <th>14023</th>\n",
       "      <td>21040</td>\n",
       "      <td>62.090411</td>\n",
       "      <td>1</td>\n",
       "      <td>56.299213</td>\n",
       "      <td>74.97000</td>\n",
       "      <td>100</td>\n",
       "      <td>70</td>\n",
       "      <td>1</td>\n",
       "      <td>1</td>\n",
       "      <td>0</td>\n",
       "      <td>0</td>\n",
       "      <td>1</td>\n",
       "      <td>0</td>\n",
       "    </tr>\n",
       "    <tr>\n",
       "      <th>15623</th>\n",
       "      <td>23318</td>\n",
       "      <td>59.923288</td>\n",
       "      <td>1</td>\n",
       "      <td>64.960630</td>\n",
       "      <td>77.17500</td>\n",
       "      <td>100</td>\n",
       "      <td>70</td>\n",
       "      <td>1</td>\n",
       "      <td>1</td>\n",
       "      <td>0</td>\n",
       "      <td>0</td>\n",
       "      <td>1</td>\n",
       "      <td>0</td>\n",
       "    </tr>\n",
       "    <tr>\n",
       "      <th>16207</th>\n",
       "      <td>24167</td>\n",
       "      <td>47.320548</td>\n",
       "      <td>2</td>\n",
       "      <td>66.929134</td>\n",
       "      <td>68.35500</td>\n",
       "      <td>150</td>\n",
       "      <td>90</td>\n",
       "      <td>2</td>\n",
       "      <td>2</td>\n",
       "      <td>0</td>\n",
       "      <td>0</td>\n",
       "      <td>1</td>\n",
       "      <td>1</td>\n",
       "    </tr>\n",
       "    <tr>\n",
       "      <th>17860</th>\n",
       "      <td>26503</td>\n",
       "      <td>49.698630</td>\n",
       "      <td>1</td>\n",
       "      <td>62.992126</td>\n",
       "      <td>66.15000</td>\n",
       "      <td>120</td>\n",
       "      <td>80</td>\n",
       "      <td>1</td>\n",
       "      <td>1</td>\n",
       "      <td>0</td>\n",
       "      <td>0</td>\n",
       "      <td>1</td>\n",
       "      <td>1</td>\n",
       "    </tr>\n",
       "    <tr>\n",
       "      <th>18883</th>\n",
       "      <td>27965</td>\n",
       "      <td>58.449315</td>\n",
       "      <td>1</td>\n",
       "      <td>59.842520</td>\n",
       "      <td>83.79000</td>\n",
       "      <td>110</td>\n",
       "      <td>80</td>\n",
       "      <td>1</td>\n",
       "      <td>1</td>\n",
       "      <td>0</td>\n",
       "      <td>0</td>\n",
       "      <td>1</td>\n",
       "      <td>0</td>\n",
       "    </tr>\n",
       "    <tr>\n",
       "      <th>21317</th>\n",
       "      <td>31439</td>\n",
       "      <td>42.079452</td>\n",
       "      <td>1</td>\n",
       "      <td>57.480315</td>\n",
       "      <td>70.56000</td>\n",
       "      <td>100</td>\n",
       "      <td>70</td>\n",
       "      <td>1</td>\n",
       "      <td>1</td>\n",
       "      <td>0</td>\n",
       "      <td>0</td>\n",
       "      <td>0</td>\n",
       "      <td>0</td>\n",
       "    </tr>\n",
       "    <tr>\n",
       "      <th>24499</th>\n",
       "      <td>35972</td>\n",
       "      <td>51.419178</td>\n",
       "      <td>1</td>\n",
       "      <td>58.661417</td>\n",
       "      <td>78.16725</td>\n",
       "      <td>110</td>\n",
       "      <td>70</td>\n",
       "      <td>1</td>\n",
       "      <td>1</td>\n",
       "      <td>0</td>\n",
       "      <td>0</td>\n",
       "      <td>1</td>\n",
       "      <td>0</td>\n",
       "    </tr>\n",
       "    <tr>\n",
       "      <th>26107</th>\n",
       "      <td>38312</td>\n",
       "      <td>63.791781</td>\n",
       "      <td>1</td>\n",
       "      <td>61.811024</td>\n",
       "      <td>50.71500</td>\n",
       "      <td>110</td>\n",
       "      <td>80</td>\n",
       "      <td>1</td>\n",
       "      <td>1</td>\n",
       "      <td>0</td>\n",
       "      <td>0</td>\n",
       "      <td>1</td>\n",
       "      <td>0</td>\n",
       "    </tr>\n",
       "    <tr>\n",
       "      <th>28634</th>\n",
       "      <td>41919</td>\n",
       "      <td>59.528767</td>\n",
       "      <td>1</td>\n",
       "      <td>60.236220</td>\n",
       "      <td>81.58500</td>\n",
       "      <td>120</td>\n",
       "      <td>80</td>\n",
       "      <td>1</td>\n",
       "      <td>1</td>\n",
       "      <td>0</td>\n",
       "      <td>0</td>\n",
       "      <td>1</td>\n",
       "      <td>1</td>\n",
       "    </tr>\n",
       "    <tr>\n",
       "      <th>28789</th>\n",
       "      <td>42156</td>\n",
       "      <td>55.912329</td>\n",
       "      <td>2</td>\n",
       "      <td>69.685039</td>\n",
       "      <td>48.51000</td>\n",
       "      <td>120</td>\n",
       "      <td>80</td>\n",
       "      <td>1</td>\n",
       "      <td>1</td>\n",
       "      <td>1</td>\n",
       "      <td>1</td>\n",
       "      <td>1</td>\n",
       "      <td>0</td>\n",
       "    </tr>\n",
       "    <tr>\n",
       "      <th>30721</th>\n",
       "      <td>44852</td>\n",
       "      <td>56.369863</td>\n",
       "      <td>1</td>\n",
       "      <td>55.118110</td>\n",
       "      <td>85.99500</td>\n",
       "      <td>120</td>\n",
       "      <td>80</td>\n",
       "      <td>1</td>\n",
       "      <td>1</td>\n",
       "      <td>0</td>\n",
       "      <td>0</td>\n",
       "      <td>1</td>\n",
       "      <td>0</td>\n",
       "    </tr>\n",
       "    <tr>\n",
       "      <th>31388</th>\n",
       "      <td>45814</td>\n",
       "      <td>43.142466</td>\n",
       "      <td>1</td>\n",
       "      <td>56.299213</td>\n",
       "      <td>79.38000</td>\n",
       "      <td>90</td>\n",
       "      <td>60</td>\n",
       "      <td>1</td>\n",
       "      <td>1</td>\n",
       "      <td>0</td>\n",
       "      <td>0</td>\n",
       "      <td>1</td>\n",
       "      <td>0</td>\n",
       "    </tr>\n",
       "    <tr>\n",
       "      <th>32779</th>\n",
       "      <td>47830</td>\n",
       "      <td>42.446575</td>\n",
       "      <td>1</td>\n",
       "      <td>59.842520</td>\n",
       "      <td>85.99500</td>\n",
       "      <td>110</td>\n",
       "      <td>70</td>\n",
       "      <td>1</td>\n",
       "      <td>2</td>\n",
       "      <td>1</td>\n",
       "      <td>0</td>\n",
       "      <td>1</td>\n",
       "      <td>1</td>\n",
       "    </tr>\n",
       "    <tr>\n",
       "      <th>32812</th>\n",
       "      <td>47872</td>\n",
       "      <td>57.756164</td>\n",
       "      <td>1</td>\n",
       "      <td>60.236220</td>\n",
       "      <td>74.97000</td>\n",
       "      <td>110</td>\n",
       "      <td>70</td>\n",
       "      <td>3</td>\n",
       "      <td>3</td>\n",
       "      <td>0</td>\n",
       "      <td>0</td>\n",
       "      <td>1</td>\n",
       "      <td>1</td>\n",
       "    </tr>\n",
       "    <tr>\n",
       "      <th>33118</th>\n",
       "      <td>48318</td>\n",
       "      <td>59.128767</td>\n",
       "      <td>2</td>\n",
       "      <td>70.078740</td>\n",
       "      <td>24.25500</td>\n",
       "      <td>130</td>\n",
       "      <td>90</td>\n",
       "      <td>1</td>\n",
       "      <td>1</td>\n",
       "      <td>0</td>\n",
       "      <td>0</td>\n",
       "      <td>1</td>\n",
       "      <td>1</td>\n",
       "    </tr>\n",
       "    <tr>\n",
       "      <th>33121</th>\n",
       "      <td>48322</td>\n",
       "      <td>61.838356</td>\n",
       "      <td>1</td>\n",
       "      <td>57.086614</td>\n",
       "      <td>79.38000</td>\n",
       "      <td>120</td>\n",
       "      <td>80</td>\n",
       "      <td>1</td>\n",
       "      <td>1</td>\n",
       "      <td>0</td>\n",
       "      <td>0</td>\n",
       "      <td>1</td>\n",
       "      <td>0</td>\n",
       "    </tr>\n",
       "    <tr>\n",
       "      <th>33577</th>\n",
       "      <td>48976</td>\n",
       "      <td>40.175342</td>\n",
       "      <td>2</td>\n",
       "      <td>50.393701</td>\n",
       "      <td>61.74000</td>\n",
       "      <td>120</td>\n",
       "      <td>80</td>\n",
       "      <td>1</td>\n",
       "      <td>1</td>\n",
       "      <td>0</td>\n",
       "      <td>0</td>\n",
       "      <td>1</td>\n",
       "      <td>0</td>\n",
       "    </tr>\n",
       "    <tr>\n",
       "      <th>33583</th>\n",
       "      <td>48985</td>\n",
       "      <td>55.906849</td>\n",
       "      <td>1</td>\n",
       "      <td>58.267717</td>\n",
       "      <td>79.38000</td>\n",
       "      <td>140</td>\n",
       "      <td>80</td>\n",
       "      <td>1</td>\n",
       "      <td>1</td>\n",
       "      <td>0</td>\n",
       "      <td>0</td>\n",
       "      <td>1</td>\n",
       "      <td>1</td>\n",
       "    </tr>\n",
       "    <tr>\n",
       "      <th>33629</th>\n",
       "      <td>49043</td>\n",
       "      <td>40.191781</td>\n",
       "      <td>1</td>\n",
       "      <td>59.842520</td>\n",
       "      <td>85.99500</td>\n",
       "      <td>90</td>\n",
       "      <td>60</td>\n",
       "      <td>1</td>\n",
       "      <td>1</td>\n",
       "      <td>0</td>\n",
       "      <td>0</td>\n",
       "      <td>1</td>\n",
       "      <td>0</td>\n",
       "    </tr>\n",
       "    <tr>\n",
       "      <th>34615</th>\n",
       "      <td>50443</td>\n",
       "      <td>54.252055</td>\n",
       "      <td>1</td>\n",
       "      <td>57.480315</td>\n",
       "      <td>70.56000</td>\n",
       "      <td>130</td>\n",
       "      <td>80</td>\n",
       "      <td>1</td>\n",
       "      <td>2</td>\n",
       "      <td>0</td>\n",
       "      <td>0</td>\n",
       "      <td>0</td>\n",
       "      <td>0</td>\n",
       "    </tr>\n",
       "    <tr>\n",
       "      <th>37718</th>\n",
       "      <td>54851</td>\n",
       "      <td>59.750685</td>\n",
       "      <td>1</td>\n",
       "      <td>60.629921</td>\n",
       "      <td>70.56000</td>\n",
       "      <td>110</td>\n",
       "      <td>60</td>\n",
       "      <td>1</td>\n",
       "      <td>1</td>\n",
       "      <td>0</td>\n",
       "      <td>0</td>\n",
       "      <td>1</td>\n",
       "      <td>0</td>\n",
       "    </tr>\n",
       "    <tr>\n",
       "      <th>39913</th>\n",
       "      <td>58033</td>\n",
       "      <td>63.567123</td>\n",
       "      <td>1</td>\n",
       "      <td>60.629921</td>\n",
       "      <td>83.79000</td>\n",
       "      <td>90</td>\n",
       "      <td>70</td>\n",
       "      <td>1</td>\n",
       "      <td>2</td>\n",
       "      <td>0</td>\n",
       "      <td>0</td>\n",
       "      <td>1</td>\n",
       "      <td>0</td>\n",
       "    </tr>\n",
       "    <tr>\n",
       "      <th>40654</th>\n",
       "      <td>59092</td>\n",
       "      <td>57.238356</td>\n",
       "      <td>1</td>\n",
       "      <td>61.811024</td>\n",
       "      <td>83.79000</td>\n",
       "      <td>120</td>\n",
       "      <td>80</td>\n",
       "      <td>1</td>\n",
       "      <td>1</td>\n",
       "      <td>0</td>\n",
       "      <td>0</td>\n",
       "      <td>1</td>\n",
       "      <td>1</td>\n",
       "    </tr>\n",
       "    <tr>\n",
       "      <th>41206</th>\n",
       "      <td>59853</td>\n",
       "      <td>58.449315</td>\n",
       "      <td>1</td>\n",
       "      <td>56.299213</td>\n",
       "      <td>66.15000</td>\n",
       "      <td>103</td>\n",
       "      <td>61</td>\n",
       "      <td>2</td>\n",
       "      <td>1</td>\n",
       "      <td>0</td>\n",
       "      <td>0</td>\n",
       "      <td>1</td>\n",
       "      <td>0</td>\n",
       "    </tr>\n",
       "    <tr>\n",
       "      <th>43060</th>\n",
       "      <td>62529</td>\n",
       "      <td>49.452055</td>\n",
       "      <td>1</td>\n",
       "      <td>53.149606</td>\n",
       "      <td>81.58500</td>\n",
       "      <td>150</td>\n",
       "      <td>90</td>\n",
       "      <td>2</td>\n",
       "      <td>3</td>\n",
       "      <td>0</td>\n",
       "      <td>0</td>\n",
       "      <td>1</td>\n",
       "      <td>0</td>\n",
       "    </tr>\n",
       "    <tr>\n",
       "      <th>43439</th>\n",
       "      <td>63056</td>\n",
       "      <td>59.802740</td>\n",
       "      <td>1</td>\n",
       "      <td>59.448819</td>\n",
       "      <td>83.79000</td>\n",
       "      <td>100</td>\n",
       "      <td>70</td>\n",
       "      <td>1</td>\n",
       "      <td>1</td>\n",
       "      <td>0</td>\n",
       "      <td>0</td>\n",
       "      <td>1</td>\n",
       "      <td>1</td>\n",
       "    </tr>\n",
       "    <tr>\n",
       "      <th>43923</th>\n",
       "      <td>63728</td>\n",
       "      <td>49.972603</td>\n",
       "      <td>1</td>\n",
       "      <td>59.055118</td>\n",
       "      <td>85.99500</td>\n",
       "      <td>130</td>\n",
       "      <td>90</td>\n",
       "      <td>1</td>\n",
       "      <td>1</td>\n",
       "      <td>0</td>\n",
       "      <td>0</td>\n",
       "      <td>1</td>\n",
       "      <td>0</td>\n",
       "    </tr>\n",
       "    <tr>\n",
       "      <th>47381</th>\n",
       "      <td>68667</td>\n",
       "      <td>52.753425</td>\n",
       "      <td>1</td>\n",
       "      <td>56.299213</td>\n",
       "      <td>72.76500</td>\n",
       "      <td>100</td>\n",
       "      <td>60</td>\n",
       "      <td>1</td>\n",
       "      <td>1</td>\n",
       "      <td>0</td>\n",
       "      <td>0</td>\n",
       "      <td>1</td>\n",
       "      <td>0</td>\n",
       "    </tr>\n",
       "    <tr>\n",
       "      <th>47914</th>\n",
       "      <td>69417</td>\n",
       "      <td>56.032877</td>\n",
       "      <td>1</td>\n",
       "      <td>56.692913</td>\n",
       "      <td>79.38000</td>\n",
       "      <td>100</td>\n",
       "      <td>70</td>\n",
       "      <td>1</td>\n",
       "      <td>1</td>\n",
       "      <td>0</td>\n",
       "      <td>0</td>\n",
       "      <td>1</td>\n",
       "      <td>0</td>\n",
       "    </tr>\n",
       "    <tr>\n",
       "      <th>50712</th>\n",
       "      <td>73318</td>\n",
       "      <td>57.849315</td>\n",
       "      <td>1</td>\n",
       "      <td>61.023622</td>\n",
       "      <td>81.58500</td>\n",
       "      <td>110</td>\n",
       "      <td>70</td>\n",
       "      <td>1</td>\n",
       "      <td>1</td>\n",
       "      <td>0</td>\n",
       "      <td>0</td>\n",
       "      <td>0</td>\n",
       "      <td>1</td>\n",
       "    </tr>\n",
       "    <tr>\n",
       "      <th>50845</th>\n",
       "      <td>73511</td>\n",
       "      <td>60.243836</td>\n",
       "      <td>1</td>\n",
       "      <td>59.448819</td>\n",
       "      <td>83.79000</td>\n",
       "      <td>120</td>\n",
       "      <td>80</td>\n",
       "      <td>1</td>\n",
       "      <td>1</td>\n",
       "      <td>0</td>\n",
       "      <td>1</td>\n",
       "      <td>0</td>\n",
       "      <td>0</td>\n",
       "    </tr>\n",
       "    <tr>\n",
       "      <th>51138</th>\n",
       "      <td>73914</td>\n",
       "      <td>54.293151</td>\n",
       "      <td>2</td>\n",
       "      <td>54.724409</td>\n",
       "      <td>74.97000</td>\n",
       "      <td>120</td>\n",
       "      <td>70</td>\n",
       "      <td>1</td>\n",
       "      <td>1</td>\n",
       "      <td>0</td>\n",
       "      <td>0</td>\n",
       "      <td>1</td>\n",
       "      <td>0</td>\n",
       "    </tr>\n",
       "    <tr>\n",
       "      <th>52525</th>\n",
       "      <td>75927</td>\n",
       "      <td>55.879452</td>\n",
       "      <td>1</td>\n",
       "      <td>52.362205</td>\n",
       "      <td>79.38000</td>\n",
       "      <td>100</td>\n",
       "      <td>60</td>\n",
       "      <td>1</td>\n",
       "      <td>1</td>\n",
       "      <td>0</td>\n",
       "      <td>0</td>\n",
       "      <td>0</td>\n",
       "      <td>0</td>\n",
       "    </tr>\n",
       "    <tr>\n",
       "      <th>53246</th>\n",
       "      <td>76956</td>\n",
       "      <td>62.019178</td>\n",
       "      <td>1</td>\n",
       "      <td>61.417323</td>\n",
       "      <td>85.99500</td>\n",
       "      <td>90</td>\n",
       "      <td>60</td>\n",
       "      <td>1</td>\n",
       "      <td>1</td>\n",
       "      <td>0</td>\n",
       "      <td>0</td>\n",
       "      <td>1</td>\n",
       "      <td>0</td>\n",
       "    </tr>\n",
       "    <tr>\n",
       "      <th>53318</th>\n",
       "      <td>77054</td>\n",
       "      <td>61.819178</td>\n",
       "      <td>1</td>\n",
       "      <td>52.755906</td>\n",
       "      <td>81.58500</td>\n",
       "      <td>180</td>\n",
       "      <td>90</td>\n",
       "      <td>1</td>\n",
       "      <td>1</td>\n",
       "      <td>0</td>\n",
       "      <td>0</td>\n",
       "      <td>1</td>\n",
       "      <td>0</td>\n",
       "    </tr>\n",
       "    <tr>\n",
       "      <th>53983</th>\n",
       "      <td>78012</td>\n",
       "      <td>56.106849</td>\n",
       "      <td>1</td>\n",
       "      <td>60.236220</td>\n",
       "      <td>85.99500</td>\n",
       "      <td>110</td>\n",
       "      <td>70</td>\n",
       "      <td>1</td>\n",
       "      <td>1</td>\n",
       "      <td>0</td>\n",
       "      <td>0</td>\n",
       "      <td>1</td>\n",
       "      <td>0</td>\n",
       "    </tr>\n",
       "    <tr>\n",
       "      <th>54640</th>\n",
       "      <td>78940</td>\n",
       "      <td>64.553425</td>\n",
       "      <td>1</td>\n",
       "      <td>57.874016</td>\n",
       "      <td>85.99500</td>\n",
       "      <td>120</td>\n",
       "      <td>80</td>\n",
       "      <td>1</td>\n",
       "      <td>1</td>\n",
       "      <td>0</td>\n",
       "      <td>0</td>\n",
       "      <td>1</td>\n",
       "      <td>1</td>\n",
       "    </tr>\n",
       "    <tr>\n",
       "      <th>55153</th>\n",
       "      <td>79686</td>\n",
       "      <td>64.027397</td>\n",
       "      <td>1</td>\n",
       "      <td>59.842520</td>\n",
       "      <td>74.97000</td>\n",
       "      <td>140</td>\n",
       "      <td>90</td>\n",
       "      <td>1</td>\n",
       "      <td>1</td>\n",
       "      <td>0</td>\n",
       "      <td>0</td>\n",
       "      <td>1</td>\n",
       "      <td>1</td>\n",
       "    </tr>\n",
       "    <tr>\n",
       "      <th>56215</th>\n",
       "      <td>81240</td>\n",
       "      <td>52.000000</td>\n",
       "      <td>1</td>\n",
       "      <td>59.842520</td>\n",
       "      <td>81.58500</td>\n",
       "      <td>90</td>\n",
       "      <td>50</td>\n",
       "      <td>1</td>\n",
       "      <td>1</td>\n",
       "      <td>0</td>\n",
       "      <td>0</td>\n",
       "      <td>1</td>\n",
       "      <td>0</td>\n",
       "    </tr>\n",
       "    <tr>\n",
       "      <th>57501</th>\n",
       "      <td>83048</td>\n",
       "      <td>61.764384</td>\n",
       "      <td>1</td>\n",
       "      <td>66.535433</td>\n",
       "      <td>77.17500</td>\n",
       "      <td>140</td>\n",
       "      <td>90</td>\n",
       "      <td>2</td>\n",
       "      <td>1</td>\n",
       "      <td>0</td>\n",
       "      <td>0</td>\n",
       "      <td>1</td>\n",
       "      <td>1</td>\n",
       "    </tr>\n",
       "    <tr>\n",
       "      <th>59489</th>\n",
       "      <td>85931</td>\n",
       "      <td>59.876712</td>\n",
       "      <td>1</td>\n",
       "      <td>63.779528</td>\n",
       "      <td>46.30500</td>\n",
       "      <td>120</td>\n",
       "      <td>80</td>\n",
       "      <td>2</td>\n",
       "      <td>1</td>\n",
       "      <td>0</td>\n",
       "      <td>0</td>\n",
       "      <td>1</td>\n",
       "      <td>1</td>\n",
       "    </tr>\n",
       "    <tr>\n",
       "      <th>60000</th>\n",
       "      <td>86650</td>\n",
       "      <td>51.712329</td>\n",
       "      <td>1</td>\n",
       "      <td>67.322835</td>\n",
       "      <td>63.94500</td>\n",
       "      <td>110</td>\n",
       "      <td>70</td>\n",
       "      <td>2</td>\n",
       "      <td>1</td>\n",
       "      <td>0</td>\n",
       "      <td>0</td>\n",
       "      <td>1</td>\n",
       "      <td>1</td>\n",
       "    </tr>\n",
       "    <tr>\n",
       "      <th>62414</th>\n",
       "      <td>90128</td>\n",
       "      <td>55.906849</td>\n",
       "      <td>1</td>\n",
       "      <td>62.204724</td>\n",
       "      <td>85.99500</td>\n",
       "      <td>90</td>\n",
       "      <td>60</td>\n",
       "      <td>1</td>\n",
       "      <td>1</td>\n",
       "      <td>0</td>\n",
       "      <td>0</td>\n",
       "      <td>0</td>\n",
       "      <td>1</td>\n",
       "    </tr>\n",
       "    <tr>\n",
       "      <th>64951</th>\n",
       "      <td>93697</td>\n",
       "      <td>52.367123</td>\n",
       "      <td>1</td>\n",
       "      <td>57.874016</td>\n",
       "      <td>83.79000</td>\n",
       "      <td>100</td>\n",
       "      <td>70</td>\n",
       "      <td>3</td>\n",
       "      <td>3</td>\n",
       "      <td>0</td>\n",
       "      <td>0</td>\n",
       "      <td>1</td>\n",
       "      <td>0</td>\n",
       "    </tr>\n",
       "  </tbody>\n",
       "</table>\n",
       "</div>"
      ],
      "text/plain": [
       "          id   age (yr)  gender  height (in)  weight (lb)  ap_hi  ap_lo  \\\n",
       "3053    5306  42.191781       1    47.244094     66.15000    110     70   \n",
       "5095    8226  48.391781       1    59.448819     81.58500    120     80   \n",
       "9748   14908  60.293151       1    63.779528     83.79000    100     70   \n",
       "9928   15182  59.367123       1    60.236220     81.58500    150     80   \n",
       "11177  16963  47.978082       1    61.811024     85.99500     90     70   \n",
       "14023  21040  62.090411       1    56.299213     74.97000    100     70   \n",
       "15623  23318  59.923288       1    64.960630     77.17500    100     70   \n",
       "16207  24167  47.320548       2    66.929134     68.35500    150     90   \n",
       "17860  26503  49.698630       1    62.992126     66.15000    120     80   \n",
       "18883  27965  58.449315       1    59.842520     83.79000    110     80   \n",
       "21317  31439  42.079452       1    57.480315     70.56000    100     70   \n",
       "24499  35972  51.419178       1    58.661417     78.16725    110     70   \n",
       "26107  38312  63.791781       1    61.811024     50.71500    110     80   \n",
       "28634  41919  59.528767       1    60.236220     81.58500    120     80   \n",
       "28789  42156  55.912329       2    69.685039     48.51000    120     80   \n",
       "30721  44852  56.369863       1    55.118110     85.99500    120     80   \n",
       "31388  45814  43.142466       1    56.299213     79.38000     90     60   \n",
       "32779  47830  42.446575       1    59.842520     85.99500    110     70   \n",
       "32812  47872  57.756164       1    60.236220     74.97000    110     70   \n",
       "33118  48318  59.128767       2    70.078740     24.25500    130     90   \n",
       "33121  48322  61.838356       1    57.086614     79.38000    120     80   \n",
       "33577  48976  40.175342       2    50.393701     61.74000    120     80   \n",
       "33583  48985  55.906849       1    58.267717     79.38000    140     80   \n",
       "33629  49043  40.191781       1    59.842520     85.99500     90     60   \n",
       "34615  50443  54.252055       1    57.480315     70.56000    130     80   \n",
       "37718  54851  59.750685       1    60.629921     70.56000    110     60   \n",
       "39913  58033  63.567123       1    60.629921     83.79000     90     70   \n",
       "40654  59092  57.238356       1    61.811024     83.79000    120     80   \n",
       "41206  59853  58.449315       1    56.299213     66.15000    103     61   \n",
       "43060  62529  49.452055       1    53.149606     81.58500    150     90   \n",
       "43439  63056  59.802740       1    59.448819     83.79000    100     70   \n",
       "43923  63728  49.972603       1    59.055118     85.99500    130     90   \n",
       "47381  68667  52.753425       1    56.299213     72.76500    100     60   \n",
       "47914  69417  56.032877       1    56.692913     79.38000    100     70   \n",
       "50712  73318  57.849315       1    61.023622     81.58500    110     70   \n",
       "50845  73511  60.243836       1    59.448819     83.79000    120     80   \n",
       "51138  73914  54.293151       2    54.724409     74.97000    120     70   \n",
       "52525  75927  55.879452       1    52.362205     79.38000    100     60   \n",
       "53246  76956  62.019178       1    61.417323     85.99500     90     60   \n",
       "53318  77054  61.819178       1    52.755906     81.58500    180     90   \n",
       "53983  78012  56.106849       1    60.236220     85.99500    110     70   \n",
       "54640  78940  64.553425       1    57.874016     85.99500    120     80   \n",
       "55153  79686  64.027397       1    59.842520     74.97000    140     90   \n",
       "56215  81240  52.000000       1    59.842520     81.58500     90     50   \n",
       "57501  83048  61.764384       1    66.535433     77.17500    140     90   \n",
       "59489  85931  59.876712       1    63.779528     46.30500    120     80   \n",
       "60000  86650  51.712329       1    67.322835     63.94500    110     70   \n",
       "62414  90128  55.906849       1    62.204724     85.99500     90     60   \n",
       "64951  93697  52.367123       1    57.874016     83.79000    100     70   \n",
       "\n",
       "       cholesterol  gluc  smoke  alco  active  cardio  \n",
       "3053             1     1      0     0       1       0  \n",
       "5095             1     1      0     0       1       0  \n",
       "9748             1     1      0     0       1       0  \n",
       "9928             3     3      0     0       1       1  \n",
       "11177            1     1      0     0       1       0  \n",
       "14023            1     1      0     0       1       0  \n",
       "15623            1     1      0     0       1       0  \n",
       "16207            2     2      0     0       1       1  \n",
       "17860            1     1      0     0       1       1  \n",
       "18883            1     1      0     0       1       0  \n",
       "21317            1     1      0     0       0       0  \n",
       "24499            1     1      0     0       1       0  \n",
       "26107            1     1      0     0       1       0  \n",
       "28634            1     1      0     0       1       1  \n",
       "28789            1     1      1     1       1       0  \n",
       "30721            1     1      0     0       1       0  \n",
       "31388            1     1      0     0       1       0  \n",
       "32779            1     2      1     0       1       1  \n",
       "32812            3     3      0     0       1       1  \n",
       "33118            1     1      0     0       1       1  \n",
       "33121            1     1      0     0       1       0  \n",
       "33577            1     1      0     0       1       0  \n",
       "33583            1     1      0     0       1       1  \n",
       "33629            1     1      0     0       1       0  \n",
       "34615            1     2      0     0       0       0  \n",
       "37718            1     1      0     0       1       0  \n",
       "39913            1     2      0     0       1       0  \n",
       "40654            1     1      0     0       1       1  \n",
       "41206            2     1      0     0       1       0  \n",
       "43060            2     3      0     0       1       0  \n",
       "43439            1     1      0     0       1       1  \n",
       "43923            1     1      0     0       1       0  \n",
       "47381            1     1      0     0       1       0  \n",
       "47914            1     1      0     0       1       0  \n",
       "50712            1     1      0     0       0       1  \n",
       "50845            1     1      0     1       0       0  \n",
       "51138            1     1      0     0       1       0  \n",
       "52525            1     1      0     0       0       0  \n",
       "53246            1     1      0     0       1       0  \n",
       "53318            1     1      0     0       1       0  \n",
       "53983            1     1      0     0       1       0  \n",
       "54640            1     1      0     0       1       1  \n",
       "55153            1     1      0     0       1       1  \n",
       "56215            1     1      0     0       1       0  \n",
       "57501            2     1      0     0       1       1  \n",
       "59489            2     1      0     0       1       1  \n",
       "60000            2     1      0     0       1       1  \n",
       "62414            1     1      0     0       0       1  \n",
       "64951            3     3      0     0       1       0  "
      ]
     },
     "execution_count": 34,
     "metadata": {},
     "output_type": "execute_result"
    }
   ],
   "source": [
    "# Inspecting observations that fall under lower boundary. \n",
    "cvd.loc[cvd['weight (lb)'] < weight_lower_boundary]"
   ]
  },
  {
   "cell_type": "code",
   "execution_count": 35,
   "id": "29da33ea-c356-4ca7-aa0f-daa29dc1af64",
   "metadata": {},
   "outputs": [
    {
     "data": {
      "text/html": [
       "<div>\n",
       "<style scoped>\n",
       "    .dataframe tbody tr th:only-of-type {\n",
       "        vertical-align: middle;\n",
       "    }\n",
       "\n",
       "    .dataframe tbody tr th {\n",
       "        vertical-align: top;\n",
       "    }\n",
       "\n",
       "    .dataframe thead th {\n",
       "        text-align: right;\n",
       "    }\n",
       "</style>\n",
       "<table border=\"1\" class=\"dataframe\">\n",
       "  <thead>\n",
       "    <tr style=\"text-align: right;\">\n",
       "      <th></th>\n",
       "      <th>id</th>\n",
       "      <th>age (yr)</th>\n",
       "      <th>gender</th>\n",
       "      <th>height (in)</th>\n",
       "      <th>weight (lb)</th>\n",
       "      <th>ap_hi</th>\n",
       "      <th>ap_lo</th>\n",
       "      <th>cholesterol</th>\n",
       "      <th>gluc</th>\n",
       "      <th>smoke</th>\n",
       "      <th>alco</th>\n",
       "      <th>active</th>\n",
       "      <th>cardio</th>\n",
       "    </tr>\n",
       "  </thead>\n",
       "  <tbody>\n",
       "    <tr>\n",
       "      <th>39</th>\n",
       "      <td>1038</td>\n",
       "      <td>51.723288</td>\n",
       "      <td>2</td>\n",
       "      <td>67.322835</td>\n",
       "      <td>249.165</td>\n",
       "      <td>130</td>\n",
       "      <td>80</td>\n",
       "      <td>1</td>\n",
       "      <td>1</td>\n",
       "      <td>0</td>\n",
       "      <td>0</td>\n",
       "      <td>1</td>\n",
       "      <td>0</td>\n",
       "    </tr>\n",
       "    <tr>\n",
       "      <th>41</th>\n",
       "      <td>1040</td>\n",
       "      <td>52.043836</td>\n",
       "      <td>1</td>\n",
       "      <td>70.472441</td>\n",
       "      <td>284.445</td>\n",
       "      <td>140</td>\n",
       "      <td>90</td>\n",
       "      <td>3</td>\n",
       "      <td>3</td>\n",
       "      <td>0</td>\n",
       "      <td>0</td>\n",
       "      <td>0</td>\n",
       "      <td>1</td>\n",
       "    </tr>\n",
       "    <tr>\n",
       "      <th>52</th>\n",
       "      <td>1051</td>\n",
       "      <td>53.868493</td>\n",
       "      <td>2</td>\n",
       "      <td>72.047244</td>\n",
       "      <td>251.370</td>\n",
       "      <td>120</td>\n",
       "      <td>80</td>\n",
       "      <td>1</td>\n",
       "      <td>1</td>\n",
       "      <td>0</td>\n",
       "      <td>0</td>\n",
       "      <td>0</td>\n",
       "      <td>0</td>\n",
       "    </tr>\n",
       "    <tr>\n",
       "      <th>87</th>\n",
       "      <td>1098</td>\n",
       "      <td>51.906849</td>\n",
       "      <td>1</td>\n",
       "      <td>59.842520</td>\n",
       "      <td>273.420</td>\n",
       "      <td>120</td>\n",
       "      <td>80</td>\n",
       "      <td>2</td>\n",
       "      <td>2</td>\n",
       "      <td>0</td>\n",
       "      <td>0</td>\n",
       "      <td>1</td>\n",
       "      <td>1</td>\n",
       "    </tr>\n",
       "    <tr>\n",
       "      <th>95</th>\n",
       "      <td>1109</td>\n",
       "      <td>56.131507</td>\n",
       "      <td>1</td>\n",
       "      <td>69.291339</td>\n",
       "      <td>264.600</td>\n",
       "      <td>150</td>\n",
       "      <td>90</td>\n",
       "      <td>1</td>\n",
       "      <td>1</td>\n",
       "      <td>0</td>\n",
       "      <td>0</td>\n",
       "      <td>0</td>\n",
       "      <td>0</td>\n",
       "    </tr>\n",
       "    <tr>\n",
       "      <th>...</th>\n",
       "      <td>...</td>\n",
       "      <td>...</td>\n",
       "      <td>...</td>\n",
       "      <td>...</td>\n",
       "      <td>...</td>\n",
       "      <td>...</td>\n",
       "      <td>...</td>\n",
       "      <td>...</td>\n",
       "      <td>...</td>\n",
       "      <td>...</td>\n",
       "      <td>...</td>\n",
       "      <td>...</td>\n",
       "      <td>...</td>\n",
       "    </tr>\n",
       "    <tr>\n",
       "      <th>69174</th>\n",
       "      <td>99799</td>\n",
       "      <td>54.071233</td>\n",
       "      <td>2</td>\n",
       "      <td>74.015748</td>\n",
       "      <td>238.140</td>\n",
       "      <td>130</td>\n",
       "      <td>80</td>\n",
       "      <td>2</td>\n",
       "      <td>2</td>\n",
       "      <td>0</td>\n",
       "      <td>1</td>\n",
       "      <td>0</td>\n",
       "      <td>1</td>\n",
       "    </tr>\n",
       "    <tr>\n",
       "      <th>69247</th>\n",
       "      <td>99925</td>\n",
       "      <td>58.446575</td>\n",
       "      <td>1</td>\n",
       "      <td>64.566929</td>\n",
       "      <td>253.575</td>\n",
       "      <td>130</td>\n",
       "      <td>80</td>\n",
       "      <td>1</td>\n",
       "      <td>1</td>\n",
       "      <td>0</td>\n",
       "      <td>0</td>\n",
       "      <td>1</td>\n",
       "      <td>1</td>\n",
       "    </tr>\n",
       "    <tr>\n",
       "      <th>69248</th>\n",
       "      <td>99930</td>\n",
       "      <td>63.849315</td>\n",
       "      <td>2</td>\n",
       "      <td>67.716535</td>\n",
       "      <td>249.165</td>\n",
       "      <td>110</td>\n",
       "      <td>80</td>\n",
       "      <td>1</td>\n",
       "      <td>1</td>\n",
       "      <td>0</td>\n",
       "      <td>0</td>\n",
       "      <td>0</td>\n",
       "      <td>1</td>\n",
       "    </tr>\n",
       "    <tr>\n",
       "      <th>69282</th>\n",
       "      <td>99972</td>\n",
       "      <td>47.945205</td>\n",
       "      <td>2</td>\n",
       "      <td>71.653543</td>\n",
       "      <td>242.550</td>\n",
       "      <td>130</td>\n",
       "      <td>90</td>\n",
       "      <td>2</td>\n",
       "      <td>2</td>\n",
       "      <td>0</td>\n",
       "      <td>0</td>\n",
       "      <td>1</td>\n",
       "      <td>1</td>\n",
       "    </tr>\n",
       "    <tr>\n",
       "      <th>69297</th>\n",
       "      <td>99995</td>\n",
       "      <td>61.920548</td>\n",
       "      <td>1</td>\n",
       "      <td>62.204724</td>\n",
       "      <td>277.830</td>\n",
       "      <td>140</td>\n",
       "      <td>90</td>\n",
       "      <td>2</td>\n",
       "      <td>2</td>\n",
       "      <td>0</td>\n",
       "      <td>0</td>\n",
       "      <td>1</td>\n",
       "      <td>1</td>\n",
       "    </tr>\n",
       "  </tbody>\n",
       "</table>\n",
       "<p>1682 rows × 13 columns</p>\n",
       "</div>"
      ],
      "text/plain": [
       "          id   age (yr)  gender  height (in)  weight (lb)  ap_hi  ap_lo  \\\n",
       "39      1038  51.723288       2    67.322835      249.165    130     80   \n",
       "41      1040  52.043836       1    70.472441      284.445    140     90   \n",
       "52      1051  53.868493       2    72.047244      251.370    120     80   \n",
       "87      1098  51.906849       1    59.842520      273.420    120     80   \n",
       "95      1109  56.131507       1    69.291339      264.600    150     90   \n",
       "...      ...        ...     ...          ...          ...    ...    ...   \n",
       "69174  99799  54.071233       2    74.015748      238.140    130     80   \n",
       "69247  99925  58.446575       1    64.566929      253.575    130     80   \n",
       "69248  99930  63.849315       2    67.716535      249.165    110     80   \n",
       "69282  99972  47.945205       2    71.653543      242.550    130     90   \n",
       "69297  99995  61.920548       1    62.204724      277.830    140     90   \n",
       "\n",
       "       cholesterol  gluc  smoke  alco  active  cardio  \n",
       "39               1     1      0     0       1       0  \n",
       "41               3     3      0     0       0       1  \n",
       "52               1     1      0     0       0       0  \n",
       "87               2     2      0     0       1       1  \n",
       "95               1     1      0     0       0       0  \n",
       "...            ...   ...    ...   ...     ...     ...  \n",
       "69174            2     2      0     1       0       1  \n",
       "69247            1     1      0     0       1       1  \n",
       "69248            1     1      0     0       0       1  \n",
       "69282            2     2      0     0       1       1  \n",
       "69297            2     2      0     0       1       1  \n",
       "\n",
       "[1682 rows x 13 columns]"
      ]
     },
     "execution_count": 35,
     "metadata": {},
     "output_type": "execute_result"
    }
   ],
   "source": [
    "# Inspecting observations that fall above upper boundary. \n",
    "cvd.loc[cvd['weight (lb)'] > weight_upper_boundary]"
   ]
  },
  {
   "cell_type": "code",
   "execution_count": 36,
   "id": "edfc658d-a9ed-499b-ba6e-ace4813742b4",
   "metadata": {},
   "outputs": [
    {
     "data": {
      "text/plain": [
       "<Figure size 1080x360 with 0 Axes>"
      ]
     },
     "metadata": {},
     "output_type": "display_data"
    },
    {
     "data": {
      "image/png": "[encoded data removed]",
      "text/plain": [
       "<Figure size 360x360 with 1 Axes>"
      ]
     },
     "metadata": {
      "needs_background": "light"
     },
     "output_type": "display_data"
    }
   ],
   "source": [
    "# I will check the distribution of the weight column to see if any ideas come up.\n",
    "plt.figure(figsize=(15,5))\n",
    "sns.displot(cvd['weight (lb)'], color='blue')\n",
    "plt.title('Weight Distribution')\n",
    "plt.ylabel('Count')\n",
    "plt.xlabel('Weight (lb)');"
   ]
  },
  {
   "cell_type": "markdown",
   "id": "52d65d7e-766c-4e03-9190-816590456c2c",
   "metadata": {},
   "source": [
    "I will not remove outliers due to the reasons stated above. \n",
    "Moving on to the height variable. "
   ]
  },
  {
   "cell_type": "markdown",
   "id": "eceeef7b-6554-4e2e-a26d-305f86f4a2e3",
   "metadata": {},
   "source": [
    "### 1.6.5 Cleaning Height Variable"
   ]
  },
  {
   "cell_type": "code",
   "execution_count": 37,
   "id": "1d9c5181-c2fa-4d3b-976d-ac4a7fc1e570",
   "metadata": {},
   "outputs": [
    {
     "data": {
      "text/plain": [
       "count    68095.000000\n",
       "mean        64.710244\n",
       "std          3.220541\n",
       "min         21.653543\n",
       "25%         62.598425\n",
       "50%         64.960630\n",
       "75%         66.929134\n",
       "max         98.425197\n",
       "Name: height (in), dtype: float64"
      ]
     },
     "execution_count": 37,
     "metadata": {},
     "output_type": "execute_result"
    }
   ],
   "source": [
    "# Getting summary statistics of height variable.\n",
    "# There are some suspicious values (e.g., the minimum height is about 21 inches and the\n",
    "# maximum height is about 98 inches).\n",
    "# Note the shortest recorded height is about 21.5 inches.\n",
    "cvd['height (in)'].describe()"
   ]
  },
  {
   "cell_type": "code",
   "execution_count": 38,
   "id": "9dddd87f-abf0-4b00-9f30-369bc92acc47",
   "metadata": {},
   "outputs": [],
   "source": [
    "# Getting quartiles and interquartile range.\n",
    "Q_1 = 62.598425\n",
    "Q_3 = 66.929134\n",
    "IQR_2 = Q_3 - Q_1\n",
    "\n",
    "# Getting outliers.\n",
    "height_lower_boundary = round(Q_1 - (1.5 * IQR_2))\n",
    "height_upper_boundary = round(Q3 + (1.5 * IQR_2))"
   ]
  },
  {
   "cell_type": "code",
   "execution_count": 39,
   "id": "18aefdb0-b15f-4333-931f-eee60bf5b233",
   "metadata": {},
   "outputs": [
    {
     "name": "stdout",
     "output_type": "stream",
     "text": [
      "The lower outlier height treshold is 56 inches.\n"
     ]
    }
   ],
   "source": [
    "print('The lower outlier height treshold is {} inches.'.format(height_lower_boundary))"
   ]
  },
  {
   "cell_type": "code",
   "execution_count": 40,
   "id": "6b92964c-28bd-498a-8ea8-26e894aadefa",
   "metadata": {},
   "outputs": [
    {
     "name": "stdout",
     "output_type": "stream",
     "text": [
      "The upper outlier height treshold is 187 inches.\n"
     ]
    }
   ],
   "source": [
    "print('The upper outlier height treshold is {} inches.'.format(height_upper_boundary))"
   ]
  },
  {
   "cell_type": "code",
   "execution_count": 41,
   "id": "88fc858a-f2d4-4761-82d5-89cc99d0834a",
   "metadata": {},
   "outputs": [
    {
     "name": "stdout",
     "output_type": "stream",
     "text": [
      "Number of upper outliers is: 0\n",
      "Number of lower outliers is: 244\n"
     ]
    }
   ],
   "source": [
    "# A natural question to ask is \"how many outliers does the height variable contain?\"\n",
    "print('Number of upper outliers is:', sum(cvd['height (in)'] > height_upper_boundary))\n",
    "print('Number of lower outliers is:', sum(cvd['height (in)'] < height_lower_boundary))"
   ]
  },
  {
   "cell_type": "code",
   "execution_count": 42,
   "id": "05eddd0c-eb15-4fda-a225-6d8a26f7787b",
   "metadata": {},
   "outputs": [
    {
     "data": {
      "image/png": "[encoded data removed]",
      "text/plain": [
       "<Figure size 720x504 with 1 Axes>"
      ]
     },
     "metadata": {
      "needs_background": "light"
     },
     "output_type": "display_data"
    }
   ],
   "source": [
    "# Checking the total amount of values that have a z-score of less than 3.\n",
    "sum(np.abs(stats.zscore(cvd['height (in)'])) < 3)\n",
    "\n",
    "# Viewing height column before cleaning.\n",
    "fig = plt.figure(figsize=(10, 7))\n",
    "plt.boxplot(cvd['height (in)'], vert=0)\n",
    "plt.show()"
   ]
  },
  {
   "cell_type": "markdown",
   "id": "194a295c-454c-4b27-a8bd-f23a4d693aaa",
   "metadata": {},
   "source": [
    "The majority of values in the height column have a z-score of less than 3. Getting rid of values that are greater than or equal to 3 might be helpful in the analysis."
   ]
  },
  {
   "cell_type": "code",
   "execution_count": 43,
   "id": "1ed32956-40e6-4f96-8f43-37e491eea846",
   "metadata": {},
   "outputs": [],
   "source": [
    "# Subsetting dataset\n",
    "cvd = cvd[(np.abs(stats.zscore(cvd['height (in)'])) < 3)]"
   ]
  },
  {
   "cell_type": "code",
   "execution_count": 44,
   "id": "6d96f33a-a684-4b24-a80c-6bb46e4ffe1d",
   "metadata": {},
   "outputs": [
    {
     "data": {
      "image/png": "[encoded data removed]",
      "text/plain": [
       "<Figure size 720x504 with 1 Axes>"
      ]
     },
     "metadata": {
      "needs_background": "light"
     },
     "output_type": "display_data"
    }
   ],
   "source": [
    "# Viewing height column after cleaning.\n",
    "fig = plt.figure(figsize =(10, 7))\n",
    "plt.boxplot(cvd['height (in)'], vert=0)\n",
    "plt.show()"
   ]
  },
  {
   "cell_type": "markdown",
   "id": "1351fee2-595a-4653-90a3-160b944df191",
   "metadata": {},
   "source": [
    "The height column now has considerably fewer outliers than before."
   ]
  },
  {
   "cell_type": "markdown",
   "id": "ab3f2d02-fefb-409c-afca-4ccb4bf8fc6a",
   "metadata": {},
   "source": [
    "### 1.6.6 Exploring Data after Cleaning"
   ]
  },
  {
   "cell_type": "code",
   "execution_count": 46,
   "id": "f31194aa-dc26-44cd-ae76-4a1a8a8f5814",
   "metadata": {},
   "outputs": [
    {
     "data": {
      "text/plain": [
       "(67809, 13)"
      ]
     },
     "execution_count": 46,
     "metadata": {},
     "output_type": "execute_result"
    }
   ],
   "source": [
    "# Checking \"shape\" of dataset\n",
    "# There are less rows, as expected.\n",
    "cvd.shape"
   ]
  },
  {
   "cell_type": "code",
   "execution_count": 47,
   "id": "2aae4b05-10f7-4242-a9dc-6a47c0e9e9cd",
   "metadata": {},
   "outputs": [
    {
     "data": {
      "text/html": [
       "<div>\n",
       "<style scoped>\n",
       "    .dataframe tbody tr th:only-of-type {\n",
       "        vertical-align: middle;\n",
       "    }\n",
       "\n",
       "    .dataframe tbody tr th {\n",
       "        vertical-align: top;\n",
       "    }\n",
       "\n",
       "    .dataframe thead th {\n",
       "        text-align: right;\n",
       "    }\n",
       "</style>\n",
       "<table border=\"1\" class=\"dataframe\">\n",
       "  <thead>\n",
       "    <tr style=\"text-align: right;\">\n",
       "      <th></th>\n",
       "      <th>id</th>\n",
       "      <th>age (yr)</th>\n",
       "      <th>gender</th>\n",
       "      <th>height (in)</th>\n",
       "      <th>weight (lb)</th>\n",
       "      <th>ap_hi</th>\n",
       "      <th>ap_lo</th>\n",
       "      <th>cholesterol</th>\n",
       "      <th>gluc</th>\n",
       "      <th>smoke</th>\n",
       "      <th>alco</th>\n",
       "      <th>active</th>\n",
       "      <th>cardio</th>\n",
       "    </tr>\n",
       "  </thead>\n",
       "  <tbody>\n",
       "    <tr>\n",
       "      <th>count</th>\n",
       "      <td>67809.000000</td>\n",
       "      <td>67809.000000</td>\n",
       "      <td>67809.000000</td>\n",
       "      <td>67809.000000</td>\n",
       "      <td>67809.000000</td>\n",
       "      <td>67809.000000</td>\n",
       "      <td>67809.000000</td>\n",
       "      <td>67809.000000</td>\n",
       "      <td>67809.00000</td>\n",
       "      <td>67809.000000</td>\n",
       "      <td>67809.000000</td>\n",
       "      <td>67809.000000</td>\n",
       "      <td>67809.000000</td>\n",
       "    </tr>\n",
       "    <tr>\n",
       "      <th>mean</th>\n",
       "      <td>50476.419325</td>\n",
       "      <td>53.330010</td>\n",
       "      <td>1.347845</td>\n",
       "      <td>64.728668</td>\n",
       "      <td>163.343860</td>\n",
       "      <td>126.606026</td>\n",
       "      <td>81.382619</td>\n",
       "      <td>1.365055</td>\n",
       "      <td>1.22612</td>\n",
       "      <td>0.087746</td>\n",
       "      <td>0.053651</td>\n",
       "      <td>0.803876</td>\n",
       "      <td>0.494831</td>\n",
       "    </tr>\n",
       "    <tr>\n",
       "      <th>std</th>\n",
       "      <td>28552.607190</td>\n",
       "      <td>6.761482</td>\n",
       "      <td>0.476290</td>\n",
       "      <td>3.035368</td>\n",
       "      <td>31.388302</td>\n",
       "      <td>16.761950</td>\n",
       "      <td>9.670075</td>\n",
       "      <td>0.679230</td>\n",
       "      <td>0.57208</td>\n",
       "      <td>0.282928</td>\n",
       "      <td>0.225329</td>\n",
       "      <td>0.397067</td>\n",
       "      <td>0.499977</td>\n",
       "    </tr>\n",
       "    <tr>\n",
       "      <th>min</th>\n",
       "      <td>988.000000</td>\n",
       "      <td>29.583562</td>\n",
       "      <td>1.000000</td>\n",
       "      <td>55.118110</td>\n",
       "      <td>24.255000</td>\n",
       "      <td>60.000000</td>\n",
       "      <td>40.000000</td>\n",
       "      <td>1.000000</td>\n",
       "      <td>1.00000</td>\n",
       "      <td>0.000000</td>\n",
       "      <td>0.000000</td>\n",
       "      <td>0.000000</td>\n",
       "      <td>0.000000</td>\n",
       "    </tr>\n",
       "    <tr>\n",
       "      <th>25%</th>\n",
       "      <td>25750.000000</td>\n",
       "      <td>48.378082</td>\n",
       "      <td>1.000000</td>\n",
       "      <td>62.598425</td>\n",
       "      <td>143.325000</td>\n",
       "      <td>120.000000</td>\n",
       "      <td>80.000000</td>\n",
       "      <td>1.000000</td>\n",
       "      <td>1.00000</td>\n",
       "      <td>0.000000</td>\n",
       "      <td>0.000000</td>\n",
       "      <td>1.000000</td>\n",
       "      <td>0.000000</td>\n",
       "    </tr>\n",
       "    <tr>\n",
       "      <th>50%</th>\n",
       "      <td>50523.000000</td>\n",
       "      <td>53.978082</td>\n",
       "      <td>1.000000</td>\n",
       "      <td>64.960630</td>\n",
       "      <td>158.760000</td>\n",
       "      <td>120.000000</td>\n",
       "      <td>80.000000</td>\n",
       "      <td>1.000000</td>\n",
       "      <td>1.00000</td>\n",
       "      <td>0.000000</td>\n",
       "      <td>0.000000</td>\n",
       "      <td>1.000000</td>\n",
       "      <td>0.000000</td>\n",
       "    </tr>\n",
       "    <tr>\n",
       "      <th>75%</th>\n",
       "      <td>75111.000000</td>\n",
       "      <td>58.421918</td>\n",
       "      <td>2.000000</td>\n",
       "      <td>66.929134</td>\n",
       "      <td>180.810000</td>\n",
       "      <td>140.000000</td>\n",
       "      <td>90.000000</td>\n",
       "      <td>2.000000</td>\n",
       "      <td>1.00000</td>\n",
       "      <td>0.000000</td>\n",
       "      <td>0.000000</td>\n",
       "      <td>1.000000</td>\n",
       "      <td>1.000000</td>\n",
       "    </tr>\n",
       "    <tr>\n",
       "      <th>max</th>\n",
       "      <td>99999.000000</td>\n",
       "      <td>64.967123</td>\n",
       "      <td>2.000000</td>\n",
       "      <td>74.015748</td>\n",
       "      <td>441.000000</td>\n",
       "      <td>240.000000</td>\n",
       "      <td>190.000000</td>\n",
       "      <td>3.000000</td>\n",
       "      <td>3.00000</td>\n",
       "      <td>1.000000</td>\n",
       "      <td>1.000000</td>\n",
       "      <td>1.000000</td>\n",
       "      <td>1.000000</td>\n",
       "    </tr>\n",
       "  </tbody>\n",
       "</table>\n",
       "</div>"
      ],
      "text/plain": [
       "                 id      age (yr)        gender   height (in)   weight (lb)  \\\n",
       "count  67809.000000  67809.000000  67809.000000  67809.000000  67809.000000   \n",
       "mean   50476.419325     53.330010      1.347845     64.728668    163.343860   \n",
       "std    28552.607190      6.761482      0.476290      3.035368     31.388302   \n",
       "min      988.000000     29.583562      1.000000     55.118110     24.255000   \n",
       "25%    25750.000000     48.378082      1.000000     62.598425    143.325000   \n",
       "50%    50523.000000     53.978082      1.000000     64.960630    158.760000   \n",
       "75%    75111.000000     58.421918      2.000000     66.929134    180.810000   \n",
       "max    99999.000000     64.967123      2.000000     74.015748    441.000000   \n",
       "\n",
       "              ap_hi         ap_lo   cholesterol         gluc         smoke  \\\n",
       "count  67809.000000  67809.000000  67809.000000  67809.00000  67809.000000   \n",
       "mean     126.606026     81.382619      1.365055      1.22612      0.087746   \n",
       "std       16.761950      9.670075      0.679230      0.57208      0.282928   \n",
       "min       60.000000     40.000000      1.000000      1.00000      0.000000   \n",
       "25%      120.000000     80.000000      1.000000      1.00000      0.000000   \n",
       "50%      120.000000     80.000000      1.000000      1.00000      0.000000   \n",
       "75%      140.000000     90.000000      2.000000      1.00000      0.000000   \n",
       "max      240.000000    190.000000      3.000000      3.00000      1.000000   \n",
       "\n",
       "               alco        active        cardio  \n",
       "count  67809.000000  67809.000000  67809.000000  \n",
       "mean       0.053651      0.803876      0.494831  \n",
       "std        0.225329      0.397067      0.499977  \n",
       "min        0.000000      0.000000      0.000000  \n",
       "25%        0.000000      1.000000      0.000000  \n",
       "50%        0.000000      1.000000      0.000000  \n",
       "75%        0.000000      1.000000      1.000000  \n",
       "max        1.000000      1.000000      1.000000  "
      ]
     },
     "execution_count": 47,
     "metadata": {},
     "output_type": "execute_result"
    }
   ],
   "source": [
    "# Getting, once again, summary statistics on dataset.\n",
    "# Overall, the dataset is looking much more cleaned.\n",
    "cvd.describe()"
   ]
  },
  {
   "cell_type": "markdown",
   "id": "cc0d4d95-1f16-4f38-80bb-7d377d83b7b0",
   "metadata": {},
   "source": [
    "# 2 EDA"
   ]
  },
  {
   "cell_type": "markdown",
   "id": "037d3440-c766-4224-8363-c2484171bc2e",
   "metadata": {},
   "source": [
    "## 2.1 Visualizing Dependent Variable"
   ]
  },
  {
   "cell_type": "code",
   "execution_count": 48,
   "id": "aa6896a5-427d-4106-b996-e192af42e73c",
   "metadata": {},
   "outputs": [
    {
     "data": {
      "image/png": "[encoded data removed]",
      "text/plain": [
       "<Figure size 432x288 with 1 Axes>"
      ]
     },
     "metadata": {
      "needs_background": "light"
     },
     "output_type": "display_data"
    }
   ],
   "source": [
    "# Given the dependent variable of this project will be the cardio variable, \n",
    "# it's reasonable to analyze this variable further. \n",
    "# I'll be using both the value_counts() method and a histogram to get\n",
    "# a clearer picture of this variable.\n",
    "cvd.hist(column='cardio'); # The semicolon renders the results more cleanly."
   ]
  },
  {
   "cell_type": "markdown",
   "id": "aefac922-d5b1-45d1-ac3e-f5a5deaddfc7",
   "metadata": {},
   "source": [
    "It seems that the dataset is pretty evenly split with half of population having no cardiovascular disease and the other half with cardiovascular disease."
   ]
  },
  {
   "cell_type": "code",
   "execution_count": 49,
   "id": "87c5d664-9658-4499-90ea-126d1f2531f8",
   "metadata": {},
   "outputs": [
    {
     "data": {
      "text/plain": [
       "0    34255\n",
       "1    33554\n",
       "Name: cardio, dtype: int64"
      ]
     },
     "execution_count": 49,
     "metadata": {},
     "output_type": "execute_result"
    }
   ],
   "source": [
    "# Although the histogram offers a very helpful, visual representation of the variable,\n",
    "# supporting it with numbers further enriches the intuition. \n",
    "# Here I use the value_counts() method.\n",
    "cvd['cardio'].value_counts()"
   ]
  },
  {
   "cell_type": "markdown",
   "id": "0cae399d-5366-4885-ba41-80619a2bccf0",
   "metadata": {},
   "source": [
    "As mentioned, the dataset is pretty evenly split. It is verified."
   ]
  },
  {
   "cell_type": "markdown",
   "id": "98e83455-88a8-43c9-b983-307a657cef18",
   "metadata": {},
   "source": [
    "## 2.2 Exploring Relationships among Variables"
   ]
  },
  {
   "cell_type": "code",
   "execution_count": 50,
   "id": "065d2ead-cb4b-4293-ba7d-8bd91e63467d",
   "metadata": {},
   "outputs": [
    {
     "data": {
      "text/html": [
       "<div>\n",
       "<style scoped>\n",
       "    .dataframe tbody tr th:only-of-type {\n",
       "        vertical-align: middle;\n",
       "    }\n",
       "\n",
       "    .dataframe tbody tr th {\n",
       "        vertical-align: top;\n",
       "    }\n",
       "\n",
       "    .dataframe thead th {\n",
       "        text-align: right;\n",
       "    }\n",
       "</style>\n",
       "<table border=\"1\" class=\"dataframe\">\n",
       "  <thead>\n",
       "    <tr style=\"text-align: right;\">\n",
       "      <th></th>\n",
       "      <th>id</th>\n",
       "      <th>age (yr)</th>\n",
       "      <th>gender</th>\n",
       "      <th>height (in)</th>\n",
       "      <th>weight (lb)</th>\n",
       "      <th>ap_hi</th>\n",
       "      <th>ap_lo</th>\n",
       "      <th>cholesterol</th>\n",
       "      <th>gluc</th>\n",
       "      <th>smoke</th>\n",
       "      <th>alco</th>\n",
       "      <th>active</th>\n",
       "      <th>cardio</th>\n",
       "    </tr>\n",
       "  </thead>\n",
       "  <tbody>\n",
       "    <tr>\n",
       "      <th>id</th>\n",
       "      <td>1.000000</td>\n",
       "      <td>0.002951</td>\n",
       "      <td>0.003326</td>\n",
       "      <td>-0.001933</td>\n",
       "      <td>-0.001516</td>\n",
       "      <td>0.004155</td>\n",
       "      <td>-0.000212</td>\n",
       "      <td>0.005856</td>\n",
       "      <td>0.002452</td>\n",
       "      <td>-0.002750</td>\n",
       "      <td>-0.000491</td>\n",
       "      <td>0.003553</td>\n",
       "      <td>0.003973</td>\n",
       "    </tr>\n",
       "    <tr>\n",
       "      <th>age (yr)</th>\n",
       "      <td>0.002951</td>\n",
       "      <td>1.000000</td>\n",
       "      <td>-0.020432</td>\n",
       "      <td>-0.081923</td>\n",
       "      <td>0.063973</td>\n",
       "      <td>0.222852</td>\n",
       "      <td>0.157985</td>\n",
       "      <td>0.141567</td>\n",
       "      <td>0.093062</td>\n",
       "      <td>-0.047810</td>\n",
       "      <td>-0.028791</td>\n",
       "      <td>-0.011321</td>\n",
       "      <td>0.236473</td>\n",
       "    </tr>\n",
       "    <tr>\n",
       "      <th>gender</th>\n",
       "      <td>0.003326</td>\n",
       "      <td>-0.020432</td>\n",
       "      <td>1.000000</td>\n",
       "      <td>0.534254</td>\n",
       "      <td>0.171190</td>\n",
       "      <td>0.062908</td>\n",
       "      <td>0.065535</td>\n",
       "      <td>-0.037031</td>\n",
       "      <td>-0.020412</td>\n",
       "      <td>0.338092</td>\n",
       "      <td>0.171155</td>\n",
       "      <td>0.006393</td>\n",
       "      <td>0.007334</td>\n",
       "    </tr>\n",
       "    <tr>\n",
       "      <th>height (in)</th>\n",
       "      <td>-0.001933</td>\n",
       "      <td>-0.081923</td>\n",
       "      <td>0.534254</td>\n",
       "      <td>1.000000</td>\n",
       "      <td>0.312611</td>\n",
       "      <td>0.020692</td>\n",
       "      <td>0.031433</td>\n",
       "      <td>-0.060409</td>\n",
       "      <td>-0.024627</td>\n",
       "      <td>0.197486</td>\n",
       "      <td>0.096265</td>\n",
       "      <td>-0.007098</td>\n",
       "      <td>-0.012851</td>\n",
       "    </tr>\n",
       "    <tr>\n",
       "      <th>weight (lb)</th>\n",
       "      <td>-0.001516</td>\n",
       "      <td>0.063973</td>\n",
       "      <td>0.171190</td>\n",
       "      <td>0.312611</td>\n",
       "      <td>1.000000</td>\n",
       "      <td>0.277787</td>\n",
       "      <td>0.251803</td>\n",
       "      <td>0.136578</td>\n",
       "      <td>0.109658</td>\n",
       "      <td>0.071336</td>\n",
       "      <td>0.068179</td>\n",
       "      <td>-0.014967</td>\n",
       "      <td>0.180340</td>\n",
       "    </tr>\n",
       "    <tr>\n",
       "      <th>ap_hi</th>\n",
       "      <td>0.004155</td>\n",
       "      <td>0.222852</td>\n",
       "      <td>0.062908</td>\n",
       "      <td>0.020692</td>\n",
       "      <td>0.277787</td>\n",
       "      <td>1.000000</td>\n",
       "      <td>0.735122</td>\n",
       "      <td>0.206733</td>\n",
       "      <td>0.105764</td>\n",
       "      <td>0.027719</td>\n",
       "      <td>0.032573</td>\n",
       "      <td>-0.003194</td>\n",
       "      <td>0.449426</td>\n",
       "    </tr>\n",
       "    <tr>\n",
       "      <th>ap_lo</th>\n",
       "      <td>-0.000212</td>\n",
       "      <td>0.157985</td>\n",
       "      <td>0.065535</td>\n",
       "      <td>0.031433</td>\n",
       "      <td>0.251803</td>\n",
       "      <td>0.735122</td>\n",
       "      <td>1.000000</td>\n",
       "      <td>0.164971</td>\n",
       "      <td>0.082836</td>\n",
       "      <td>0.024878</td>\n",
       "      <td>0.037781</td>\n",
       "      <td>0.002161</td>\n",
       "      <td>0.355628</td>\n",
       "    </tr>\n",
       "    <tr>\n",
       "      <th>cholesterol</th>\n",
       "      <td>0.005856</td>\n",
       "      <td>0.141567</td>\n",
       "      <td>-0.037031</td>\n",
       "      <td>-0.060409</td>\n",
       "      <td>0.136578</td>\n",
       "      <td>0.206733</td>\n",
       "      <td>0.164971</td>\n",
       "      <td>1.000000</td>\n",
       "      <td>0.407481</td>\n",
       "      <td>0.014603</td>\n",
       "      <td>0.041522</td>\n",
       "      <td>0.006103</td>\n",
       "      <td>0.214849</td>\n",
       "    </tr>\n",
       "    <tr>\n",
       "      <th>gluc</th>\n",
       "      <td>0.002452</td>\n",
       "      <td>0.093062</td>\n",
       "      <td>-0.020412</td>\n",
       "      <td>-0.024627</td>\n",
       "      <td>0.109658</td>\n",
       "      <td>0.105764</td>\n",
       "      <td>0.082836</td>\n",
       "      <td>0.407481</td>\n",
       "      <td>1.000000</td>\n",
       "      <td>-0.000235</td>\n",
       "      <td>0.018273</td>\n",
       "      <td>-0.010477</td>\n",
       "      <td>0.091703</td>\n",
       "    </tr>\n",
       "    <tr>\n",
       "      <th>smoke</th>\n",
       "      <td>-0.002750</td>\n",
       "      <td>-0.047810</td>\n",
       "      <td>0.338092</td>\n",
       "      <td>0.197486</td>\n",
       "      <td>0.071336</td>\n",
       "      <td>0.027719</td>\n",
       "      <td>0.024878</td>\n",
       "      <td>0.014603</td>\n",
       "      <td>-0.000235</td>\n",
       "      <td>1.000000</td>\n",
       "      <td>0.339306</td>\n",
       "      <td>0.025459</td>\n",
       "      <td>-0.015976</td>\n",
       "    </tr>\n",
       "    <tr>\n",
       "      <th>alco</th>\n",
       "      <td>-0.000491</td>\n",
       "      <td>-0.028791</td>\n",
       "      <td>0.171155</td>\n",
       "      <td>0.096265</td>\n",
       "      <td>0.068179</td>\n",
       "      <td>0.032573</td>\n",
       "      <td>0.037781</td>\n",
       "      <td>0.041522</td>\n",
       "      <td>0.018273</td>\n",
       "      <td>0.339306</td>\n",
       "      <td>1.000000</td>\n",
       "      <td>0.025466</td>\n",
       "      <td>-0.007880</td>\n",
       "    </tr>\n",
       "    <tr>\n",
       "      <th>active</th>\n",
       "      <td>0.003553</td>\n",
       "      <td>-0.011321</td>\n",
       "      <td>0.006393</td>\n",
       "      <td>-0.007098</td>\n",
       "      <td>-0.014967</td>\n",
       "      <td>-0.003194</td>\n",
       "      <td>0.002161</td>\n",
       "      <td>0.006103</td>\n",
       "      <td>-0.010477</td>\n",
       "      <td>0.025459</td>\n",
       "      <td>0.025466</td>\n",
       "      <td>1.000000</td>\n",
       "      <td>-0.037681</td>\n",
       "    </tr>\n",
       "    <tr>\n",
       "      <th>cardio</th>\n",
       "      <td>0.003973</td>\n",
       "      <td>0.236473</td>\n",
       "      <td>0.007334</td>\n",
       "      <td>-0.012851</td>\n",
       "      <td>0.180340</td>\n",
       "      <td>0.449426</td>\n",
       "      <td>0.355628</td>\n",
       "      <td>0.214849</td>\n",
       "      <td>0.091703</td>\n",
       "      <td>-0.015976</td>\n",
       "      <td>-0.007880</td>\n",
       "      <td>-0.037681</td>\n",
       "      <td>1.000000</td>\n",
       "    </tr>\n",
       "  </tbody>\n",
       "</table>\n",
       "</div>"
      ],
      "text/plain": [
       "                   id  age (yr)    gender  height (in)  weight (lb)     ap_hi  \\\n",
       "id           1.000000  0.002951  0.003326    -0.001933    -0.001516  0.004155   \n",
       "age (yr)     0.002951  1.000000 -0.020432    -0.081923     0.063973  0.222852   \n",
       "gender       0.003326 -0.020432  1.000000     0.534254     0.171190  0.062908   \n",
       "height (in) -0.001933 -0.081923  0.534254     1.000000     0.312611  0.020692   \n",
       "weight (lb) -0.001516  0.063973  0.171190     0.312611     1.000000  0.277787   \n",
       "ap_hi        0.004155  0.222852  0.062908     0.020692     0.277787  1.000000   \n",
       "ap_lo       -0.000212  0.157985  0.065535     0.031433     0.251803  0.735122   \n",
       "cholesterol  0.005856  0.141567 -0.037031    -0.060409     0.136578  0.206733   \n",
       "gluc         0.002452  0.093062 -0.020412    -0.024627     0.109658  0.105764   \n",
       "smoke       -0.002750 -0.047810  0.338092     0.197486     0.071336  0.027719   \n",
       "alco        -0.000491 -0.028791  0.171155     0.096265     0.068179  0.032573   \n",
       "active       0.003553 -0.011321  0.006393    -0.007098    -0.014967 -0.003194   \n",
       "cardio       0.003973  0.236473  0.007334    -0.012851     0.180340  0.449426   \n",
       "\n",
       "                ap_lo  cholesterol      gluc     smoke      alco    active  \\\n",
       "id          -0.000212     0.005856  0.002452 -0.002750 -0.000491  0.003553   \n",
       "age (yr)     0.157985     0.141567  0.093062 -0.047810 -0.028791 -0.011321   \n",
       "gender       0.065535    -0.037031 -0.020412  0.338092  0.171155  0.006393   \n",
       "height (in)  0.031433    -0.060409 -0.024627  0.197486  0.096265 -0.007098   \n",
       "weight (lb)  0.251803     0.136578  0.109658  0.071336  0.068179 -0.014967   \n",
       "ap_hi        0.735122     0.206733  0.105764  0.027719  0.032573 -0.003194   \n",
       "ap_lo        1.000000     0.164971  0.082836  0.024878  0.037781  0.002161   \n",
       "cholesterol  0.164971     1.000000  0.407481  0.014603  0.041522  0.006103   \n",
       "gluc         0.082836     0.407481  1.000000 -0.000235  0.018273 -0.010477   \n",
       "smoke        0.024878     0.014603 -0.000235  1.000000  0.339306  0.025459   \n",
       "alco         0.037781     0.041522  0.018273  0.339306  1.000000  0.025466   \n",
       "active       0.002161     0.006103 -0.010477  0.025459  0.025466  1.000000   \n",
       "cardio       0.355628     0.214849  0.091703 -0.015976 -0.007880 -0.037681   \n",
       "\n",
       "               cardio  \n",
       "id           0.003973  \n",
       "age (yr)     0.236473  \n",
       "gender       0.007334  \n",
       "height (in) -0.012851  \n",
       "weight (lb)  0.180340  \n",
       "ap_hi        0.449426  \n",
       "ap_lo        0.355628  \n",
       "cholesterol  0.214849  \n",
       "gluc         0.091703  \n",
       "smoke       -0.015976  \n",
       "alco        -0.007880  \n",
       "active      -0.037681  \n",
       "cardio       1.000000  "
      ]
     },
     "execution_count": 50,
     "metadata": {},
     "output_type": "execute_result"
    }
   ],
   "source": [
    "# Calling the corr() method provides me with the \n",
    "# coefficients of my choosing.\n",
    "# Using this method I can, hopefully, get a better idea of what \n",
    "# variable(s) can be our independent variable(s).\n",
    "cvd.corr(method='spearman') # I am deriving the Spearman coefficient as some of our variables are not continuous."
   ]
  },
  {
   "cell_type": "markdown",
   "id": "e456da14-8163-4b84-9386-69c2a5379f46",
   "metadata": {},
   "source": [
    "As can be seen, it appears that both systolic and diastolic blood pressures are (positively) moderately correlated with the dependent variable. Similarily, but more weakly, we see that both the age and cholesterol variables are also correlated with the dependent variable. By using this method, I get an idea of the field of candidancy for independent variable(s). However, I'm afforded, yet, a more illustrative option."
   ]
  },
  {
   "cell_type": "markdown",
   "id": "232669ab-8e81-48f9-b37f-52d661b4fb30",
   "metadata": {},
   "source": [
    "### 2.2.1 Visualizing Correlations"
   ]
  },
  {
   "cell_type": "code",
   "execution_count": 51,
   "id": "3cd4d336-7102-48c3-b208-bfac1adb2c63",
   "metadata": {},
   "outputs": [
    {
     "data": {
      "image/png": "[encoded data removed]",
      "text/plain": [
       "<Figure size 2880x1440 with 2 Axes>"
      ]
     },
     "metadata": {
      "needs_background": "light"
     },
     "output_type": "display_data"
    }
   ],
   "source": [
    "# Using corr() method is incredibly useful; however, \n",
    "# having a more visual representation can aid in seeing the relations between variables more clearly. \n",
    "# By using heatmap() method, relations are color-coded, with the darker shades being indicative negatve relations and lighter shades the inverse.\n",
    "plt.figure(figsize=(40, 20)) # Ensuring size of figure is large enough\n",
    "sns.heatmap(cvd.corr(method='spearman'), annot=True); # By providing the annot parameter the boolean value \"True\", an annotation is provided."
   ]
  },
  {
   "cell_type": "markdown",
   "id": "6388b438-c9f2-4118-baf9-7997eae3fd4e",
   "metadata": {},
   "source": [
    "The significant correlations that hold for the dependent variable are as expected. The heatmap makes the procedure of relation identification much easier."
   ]
  },
  {
   "cell_type": "markdown",
   "id": "a0fefe96-250a-4a49-9d96-3146f0d94fa1",
   "metadata": {},
   "source": [
    "## 2.3 Visualizing Variables"
   ]
  },
  {
   "cell_type": "code",
   "execution_count": 52,
   "id": "632b7270-119d-4fa1-b6e6-12e3eef4846f",
   "metadata": {},
   "outputs": [
    {
     "data": {
      "image/png": "[encoded data removed]",
      "text/plain": [
       "<Figure size 720x360 with 1 Axes>"
      ]
     },
     "metadata": {
      "needs_background": "light"
     },
     "output_type": "display_data"
    }
   ],
   "source": [
    "# Getting a histogram of the age variable in connection with\n",
    "# cardiovascular disease lends to seeing at what age (if any)\n",
    "# is cardiovascular more prevalent. \n",
    "plt.figure(figsize=(10,5)) # Ensuring size of plot is large enough to view.\n",
    "sns.histplot(x='age (yr)', hue='cardio', data=cvd )\n",
    "plt.show()"
   ]
  },
  {
   "cell_type": "markdown",
   "id": "9ba1b17e-8e98-4a5d-b276-1f46d99c105c",
   "metadata": {},
   "source": [
    "It seems that people who are 55-years-old or over make up the bulk of people with cardiovascular disease. "
   ]
  },
  {
   "cell_type": "code",
   "execution_count": 53,
   "id": "7997f157-8817-446c-91df-1893d2bcf5a9",
   "metadata": {},
   "outputs": [
    {
     "data": {
      "image/png": "[encoded data removed]",
      "text/plain": [
       "<Figure size 720x360 with 1 Axes>"
      ]
     },
     "metadata": {
      "needs_background": "light"
     },
     "output_type": "display_data"
    }
   ],
   "source": [
    "# Seeing the prevalence of cardiovascular disease by systolic blood pressure reading.\n",
    "plt.figure(figsize=(10,5))\n",
    "sns.histplot(x='ap_hi', hue='cardio', data=cvd)\n",
    "plt.show()"
   ]
  },
  {
   "cell_type": "markdown",
   "id": "b85ca89c-9471-4fbf-ba83-b75efebcc668",
   "metadata": {},
   "source": [
    "Unsurprisingly, those who had a higher systolic reading were more likely to have cardiovascular disease than those with a lower systolic reading. The blood pressure mark in which cardiovascular disease seems much more pronounced is 140 and above."
   ]
  },
  {
   "cell_type": "code",
   "execution_count": 54,
   "id": "c28f2516-502b-4740-b368-0b393764a31e",
   "metadata": {},
   "outputs": [
    {
     "data": {
      "image/png": "[encoded data removed]",
      "text/plain": [
       "<Figure size 720x360 with 1 Axes>"
      ]
     },
     "metadata": {
      "needs_background": "light"
     },
     "output_type": "display_data"
    }
   ],
   "source": [
    "# Seeing the prevalence of cardiovascular disease by diastolic blood pressure reading.\n",
    "plt.figure(figsize=(10, 5))\n",
    "sns.histplot(x='ap_lo', hue='cardio', data=cvd)\n",
    "plt.show()"
   ]
  },
  {
   "cell_type": "markdown",
   "id": "b16fe577-5514-4ce3-8294-8614d07a3c23",
   "metadata": {},
   "source": [
    "Unsurprisingly, those who had a higher diastolic reading were more likely to have cardiovascular disease than those with a lower diastolic reading. The blood pressure mark in which cardiovascular disease seems much more pronounced is 90 and above. "
   ]
  },
  {
   "cell_type": "code",
   "execution_count": 55,
   "id": "1f1b98a8-924d-4105-a195-7f3a916b49b7",
   "metadata": {},
   "outputs": [
    {
     "data": {
      "image/png": "[encoded data removed]",
      "text/plain": [
       "<Figure size 720x360 with 1 Axes>"
      ]
     },
     "metadata": {
      "needs_background": "light"
     },
     "output_type": "display_data"
    }
   ],
   "source": [
    "# Seeing the prevalence of cardiovascular disease by weight.\n",
    "plt.figure(figsize=(10,5))\n",
    "sns.histplot(x='weight (lb)', hue='cardio', data=cvd)\n",
    "plt.show()"
   ]
  },
  {
   "cell_type": "markdown",
   "id": "936105a8-f5ea-4176-8946-e54c58db25ad",
   "metadata": {},
   "source": [
    "Unsurprisingly, those who had a higher weight were more likely to have cardiovascular disease than those with a lower weight."
   ]
  },
  {
   "cell_type": "code",
   "execution_count": 56,
   "id": "fd31c9db-ec68-43e1-9b44-9329e3662bfc",
   "metadata": {},
   "outputs": [
    {
     "data": {
      "image/png": "[encoded data removed]",
      "text/plain": [
       "<Figure size 720x360 with 1 Axes>"
      ]
     },
     "metadata": {
      "needs_background": "light"
     },
     "output_type": "display_data"
    }
   ],
   "source": [
    "# Seeing the prevalence of cardiovascular disease by cholesterol level.\n",
    "plt.figure(figsize=(10,5))\n",
    "sns.histplot(x='cholesterol', hue='cardio', data=cvd)\n",
    "plt.show()"
   ]
  },
  {
   "cell_type": "markdown",
   "id": "d438cef7-8b53-486a-a2ae-57a1cbe18d8e",
   "metadata": {},
   "source": [
    "Among those with a cholesterol rating of 3 (i.e., cholesterol level is well-above average), we see a high prevalence of cardiovascular disease."
   ]
  },
  {
   "cell_type": "code",
   "execution_count": 57,
   "id": "6ff008f7-e534-4940-bd41-3b491beb2d4a",
   "metadata": {},
   "outputs": [
    {
     "data": {
      "image/png": "[encoded data removed]",
      "text/plain": [
       "<Figure size 720x360 with 1 Axes>"
      ]
     },
     "metadata": {
      "needs_background": "light"
     },
     "output_type": "display_data"
    }
   ],
   "source": [
    "# Seeing the prevalence of cardiovascular disease by blood sugar level. \n",
    "plt.figure(figsize=(10,5))\n",
    "sns.histplot(x='gluc', hue='cardio', data=cvd)\n",
    "plt.show()"
   ]
  },
  {
   "cell_type": "markdown",
   "id": "a7b5f49a-e4bb-4516-b7e2-4c08637a9593",
   "metadata": {},
   "source": [
    "Among those with a glucose rating of 3 (i.e., glucose level is well-above average), we see a high prevalence of cardiovascular disease."
   ]
  },
  {
   "cell_type": "markdown",
   "id": "4d520935-0c49-48ea-86de-7edee5a3ad97",
   "metadata": {},
   "source": [
    "After visualizing the variables and seeing their respective relations, it is time to begin the next step."
   ]
  }
 ],
 "metadata": {
  "kernelspec": {
   "display_name": "Python 3 (ipykernel)",
   "language": "python",
   "name": "python3"
  },
  "language_info": {
   "codemirror_mode": {
    "name": "ipython",
    "version": 3
   },
   "file_extension": ".py",
   "mimetype": "text/x-python",
   "name": "python",
   "nbconvert_exporter": "python",
   "pygments_lexer": "ipython3",
   "version": "3.9.12"
  }
 },
 "nbformat": 4,
 "nbformat_minor": 5
}
