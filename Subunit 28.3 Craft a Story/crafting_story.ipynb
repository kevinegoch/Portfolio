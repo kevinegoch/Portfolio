{
 "cells": [
  {
   "cell_type": "markdown",
   "id": "82007394-8eeb-4903-ae08-3802a4e56192",
   "metadata": {},
   "source": [
    "# Exploring Adult Income Dataset"
   ]
  },
  {
   "cell_type": "markdown",
   "id": "97c32629-42cc-4019-8760-34da0e0da356",
   "metadata": {},
   "source": [
    "## Question 1"
   ]
  },
  {
   "cell_type": "markdown",
   "id": "a32c1ed8-75d9-4774-a4b5-4951a30c454e",
   "metadata": {},
   "source": [
    "Why did I choose this dataset? I thought seeing and working with an adult income dataset would be particularly interesting. Seeing the distribution of income and how certain factors influence income distribution can be rendered an interesting story. "
   ]
  },
  {
   "cell_type": "code",
   "execution_count": 1,
   "id": "8d19c68b-3a56-4bb9-90e1-d7e40f41971b",
   "metadata": {},
   "outputs": [],
   "source": [
    "# Importing modules\n",
    "import pandas as pd\n",
    "import numpy as np\n",
    "import seaborn as sns\n",
    "import matplotlib.pyplot as plt\n",
    "import os"
   ]
  },
  {
   "cell_type": "code",
   "execution_count": 2,
   "id": "3ae17ad5-c4b6-4db2-9644-9d81780e7237",
   "metadata": {},
   "outputs": [],
   "source": [
    "# Checking and changing working directory\n",
    "os.getcwd()\n",
    "os.chdir('C:\\\\Users\\\\16466\\\\adult_incomecsv')"
   ]
  },
  {
   "cell_type": "code",
   "execution_count": 3,
   "id": "03939c34-0656-46b9-b575-d58400880ca2",
   "metadata": {},
   "outputs": [
    {
     "data": {
      "text/html": [
       "<div>\n",
       "<style scoped>\n",
       "    .dataframe tbody tr th:only-of-type {\n",
       "        vertical-align: middle;\n",
       "    }\n",
       "\n",
       "    .dataframe tbody tr th {\n",
       "        vertical-align: top;\n",
       "    }\n",
       "\n",
       "    .dataframe thead th {\n",
       "        text-align: right;\n",
       "    }\n",
       "</style>\n",
       "<table border=\"1\" class=\"dataframe\">\n",
       "  <thead>\n",
       "    <tr style=\"text-align: right;\">\n",
       "      <th></th>\n",
       "      <th>age</th>\n",
       "      <th>workclass</th>\n",
       "      <th>fnlwgt</th>\n",
       "      <th>education</th>\n",
       "      <th>educational-num</th>\n",
       "      <th>marital-status</th>\n",
       "      <th>occupation</th>\n",
       "      <th>relationship</th>\n",
       "      <th>race</th>\n",
       "      <th>gender</th>\n",
       "      <th>capital-gain</th>\n",
       "      <th>capital-loss</th>\n",
       "      <th>hours-per-week</th>\n",
       "      <th>native-country</th>\n",
       "      <th>income</th>\n",
       "    </tr>\n",
       "  </thead>\n",
       "  <tbody>\n",
       "    <tr>\n",
       "      <th>0</th>\n",
       "      <td>25</td>\n",
       "      <td>Private</td>\n",
       "      <td>226802</td>\n",
       "      <td>11th</td>\n",
       "      <td>7</td>\n",
       "      <td>Never-married</td>\n",
       "      <td>Machine-op-inspct</td>\n",
       "      <td>Own-child</td>\n",
       "      <td>Black</td>\n",
       "      <td>Male</td>\n",
       "      <td>0</td>\n",
       "      <td>0</td>\n",
       "      <td>40</td>\n",
       "      <td>United-States</td>\n",
       "      <td>&lt;=50K</td>\n",
       "    </tr>\n",
       "    <tr>\n",
       "      <th>1</th>\n",
       "      <td>38</td>\n",
       "      <td>Private</td>\n",
       "      <td>89814</td>\n",
       "      <td>HS-grad</td>\n",
       "      <td>9</td>\n",
       "      <td>Married-civ-spouse</td>\n",
       "      <td>Farming-fishing</td>\n",
       "      <td>Husband</td>\n",
       "      <td>White</td>\n",
       "      <td>Male</td>\n",
       "      <td>0</td>\n",
       "      <td>0</td>\n",
       "      <td>50</td>\n",
       "      <td>United-States</td>\n",
       "      <td>&lt;=50K</td>\n",
       "    </tr>\n",
       "    <tr>\n",
       "      <th>2</th>\n",
       "      <td>28</td>\n",
       "      <td>Local-gov</td>\n",
       "      <td>336951</td>\n",
       "      <td>Assoc-acdm</td>\n",
       "      <td>12</td>\n",
       "      <td>Married-civ-spouse</td>\n",
       "      <td>Protective-serv</td>\n",
       "      <td>Husband</td>\n",
       "      <td>White</td>\n",
       "      <td>Male</td>\n",
       "      <td>0</td>\n",
       "      <td>0</td>\n",
       "      <td>40</td>\n",
       "      <td>United-States</td>\n",
       "      <td>&gt;50K</td>\n",
       "    </tr>\n",
       "    <tr>\n",
       "      <th>3</th>\n",
       "      <td>44</td>\n",
       "      <td>Private</td>\n",
       "      <td>160323</td>\n",
       "      <td>Some-college</td>\n",
       "      <td>10</td>\n",
       "      <td>Married-civ-spouse</td>\n",
       "      <td>Machine-op-inspct</td>\n",
       "      <td>Husband</td>\n",
       "      <td>Black</td>\n",
       "      <td>Male</td>\n",
       "      <td>7688</td>\n",
       "      <td>0</td>\n",
       "      <td>40</td>\n",
       "      <td>United-States</td>\n",
       "      <td>&gt;50K</td>\n",
       "    </tr>\n",
       "    <tr>\n",
       "      <th>4</th>\n",
       "      <td>18</td>\n",
       "      <td>?</td>\n",
       "      <td>103497</td>\n",
       "      <td>Some-college</td>\n",
       "      <td>10</td>\n",
       "      <td>Never-married</td>\n",
       "      <td>?</td>\n",
       "      <td>Own-child</td>\n",
       "      <td>White</td>\n",
       "      <td>Female</td>\n",
       "      <td>0</td>\n",
       "      <td>0</td>\n",
       "      <td>30</td>\n",
       "      <td>United-States</td>\n",
       "      <td>&lt;=50K</td>\n",
       "    </tr>\n",
       "  </tbody>\n",
       "</table>\n",
       "</div>"
      ],
      "text/plain": [
       "   age  workclass  fnlwgt     education  educational-num      marital-status  \\\n",
       "0   25    Private  226802          11th                7       Never-married   \n",
       "1   38    Private   89814       HS-grad                9  Married-civ-spouse   \n",
       "2   28  Local-gov  336951    Assoc-acdm               12  Married-civ-spouse   \n",
       "3   44    Private  160323  Some-college               10  Married-civ-spouse   \n",
       "4   18          ?  103497  Some-college               10       Never-married   \n",
       "\n",
       "          occupation relationship   race  gender  capital-gain  capital-loss  \\\n",
       "0  Machine-op-inspct    Own-child  Black    Male             0             0   \n",
       "1    Farming-fishing      Husband  White    Male             0             0   \n",
       "2    Protective-serv      Husband  White    Male             0             0   \n",
       "3  Machine-op-inspct      Husband  Black    Male          7688             0   \n",
       "4                  ?    Own-child  White  Female             0             0   \n",
       "\n",
       "   hours-per-week native-country income  \n",
       "0              40  United-States  <=50K  \n",
       "1              50  United-States  <=50K  \n",
       "2              40  United-States   >50K  \n",
       "3              40  United-States   >50K  \n",
       "4              30  United-States  <=50K  "
      ]
     },
     "execution_count": 3,
     "metadata": {},
     "output_type": "execute_result"
    }
   ],
   "source": [
    "# Load dataset\n",
    "df = pd.read_csv('adult.csv')\n",
    "# Printout dataset\n",
    "df.head()"
   ]
  },
  {
   "cell_type": "markdown",
   "id": "3ab7d6c0-9c6f-4584-b083-802697c6dd9f",
   "metadata": {},
   "source": [
    "## Question 2"
   ]
  },
  {
   "cell_type": "markdown",
   "id": "1fb36f8d-2b7a-4fcc-a30e-3f487ea652c0",
   "metadata": {},
   "source": [
    "This answers the first of my questions --namely, how clean is the dataset? It is preferable that the dataset is mostly clean. In this case, this dataset seems mostly clean, without any null values. "
   ]
  },
  {
   "cell_type": "code",
   "execution_count": 4,
   "id": "baf3d563-ff8e-41fb-9ab1-dea26389e08a",
   "metadata": {},
   "outputs": [
    {
     "data": {
      "text/plain": [
       "age                0\n",
       "workclass          0\n",
       "fnlwgt             0\n",
       "education          0\n",
       "educational-num    0\n",
       "marital-status     0\n",
       "occupation         0\n",
       "relationship       0\n",
       "race               0\n",
       "gender             0\n",
       "capital-gain       0\n",
       "capital-loss       0\n",
       "hours-per-week     0\n",
       "native-country     0\n",
       "income             0\n",
       "dtype: int64"
      ]
     },
     "execution_count": 4,
     "metadata": {},
     "output_type": "execute_result"
    }
   ],
   "source": [
    "# Checking how clean (or unclean) the dataset is\n",
    "df.isna().sum()"
   ]
  },
  {
   "cell_type": "code",
   "execution_count": 5,
   "id": "221ebf9f-8c54-44dd-83a9-50e2adeca989",
   "metadata": {},
   "outputs": [
    {
     "name": "stdout",
     "output_type": "stream",
     "text": [
      "52\n",
      "0\n"
     ]
    }
   ],
   "source": [
    "print(df.duplicated().sum()) # Checking duplicated rows\n",
    "\n",
    "df = df.drop_duplicates() # Subsetting dataset\n",
    "\n",
    "print(df.duplicated().sum()) # Verifying"
   ]
  },
  {
   "cell_type": "markdown",
   "id": "f6c8febe-b376-44a3-8334-eb7aac43da8b",
   "metadata": {},
   "source": [
    "## Question 3"
   ]
  },
  {
   "cell_type": "markdown",
   "id": "564d559c-abfd-44a9-99c6-61f44bef31b1",
   "metadata": {},
   "source": [
    "What is the race distribution of the dataset? The dataset consists primarily of white individuals. This is an important point to note. The overwhelming majority of people accounted for in the dataset are not minorities."
   ]
  },
  {
   "cell_type": "code",
   "execution_count": 6,
   "id": "bbb386f8-d6c2-4277-af60-c507b0c2fbb1",
   "metadata": {},
   "outputs": [
    {
     "data": {
      "text/plain": [
       "White                 41714\n",
       "Black                  4683\n",
       "Asian-Pac-Islander     1517\n",
       "Amer-Indian-Eskimo      470\n",
       "Other                   406\n",
       "Name: race, dtype: int64"
      ]
     },
     "execution_count": 6,
     "metadata": {},
     "output_type": "execute_result"
    }
   ],
   "source": [
    "df.race.value_counts()"
   ]
  },
  {
   "cell_type": "markdown",
   "id": "82b9bb43-3287-41ff-b700-3b5e811d72fa",
   "metadata": {},
   "source": [
    "## Question 4"
   ]
  },
  {
   "cell_type": "markdown",
   "id": "34130404-991a-4002-bb03-b53682da085a",
   "metadata": {},
   "source": [
    "Are the incomes gathered primarily of a particular country? Ye. Although the majority of incomes recorded are from the United States, many other countries are accounted for. One prediction that I have is that the income distribution will vary considerably. "
   ]
  },
  {
   "cell_type": "code",
   "execution_count": 7,
   "id": "312f7661-2cef-4be1-8621-c3ea55c0068a",
   "metadata": {},
   "outputs": [
    {
     "data": {
      "text/plain": [
       "United-States                 43792\n",
       "Mexico                          943\n",
       "?                               856\n",
       "Philippines                     294\n",
       "Germany                         206\n",
       "Puerto-Rico                     184\n",
       "Canada                          182\n",
       "El-Salvador                     155\n",
       "India                           151\n",
       "Cuba                            138\n",
       "England                         127\n",
       "China                           122\n",
       "South                           115\n",
       "Jamaica                         106\n",
       "Italy                           105\n",
       "Dominican-Republic              103\n",
       "Japan                            92\n",
       "Poland                           87\n",
       "Guatemala                        86\n",
       "Vietnam                          86\n",
       "Columbia                         85\n",
       "Haiti                            75\n",
       "Portugal                         67\n",
       "Taiwan                           65\n",
       "Iran                             59\n",
       "Greece                           49\n",
       "Nicaragua                        49\n",
       "Peru                             46\n",
       "Ecuador                          45\n",
       "France                           38\n",
       "Ireland                          37\n",
       "Hong                             30\n",
       "Thailand                         30\n",
       "Cambodia                         28\n",
       "Trinadad&Tobago                  27\n",
       "Laos                             23\n",
       "Yugoslavia                       23\n",
       "Outlying-US(Guam-USVI-etc)       23\n",
       "Scotland                         21\n",
       "Honduras                         20\n",
       "Hungary                          19\n",
       "Holand-Netherlands                1\n",
       "Name: native-country, dtype: int64"
      ]
     },
     "execution_count": 7,
     "metadata": {},
     "output_type": "execute_result"
    }
   ],
   "source": [
    "df['native-country'].value_counts()"
   ]
  },
  {
   "cell_type": "markdown",
   "id": "5d44803c-81fc-4aa6-96db-516d281c4b26",
   "metadata": {},
   "source": [
    "## Question 5"
   ]
  },
  {
   "cell_type": "markdown",
   "id": "864e59ca-9112-4aa2-a1fe-91e39b95f5eb",
   "metadata": {},
   "source": [
    "How spread out is the income? The income is fairly imbalanced, with the majority making less than 50k a year."
   ]
  },
  {
   "cell_type": "code",
   "execution_count": 8,
   "id": "fdb74a27-cc1e-4765-8256-ff9907546ae6",
   "metadata": {},
   "outputs": [
    {
     "data": {
      "text/plain": [
       "<=50K    37109\n",
       ">50K     11681\n",
       "Name: income, dtype: int64"
      ]
     },
     "execution_count": 8,
     "metadata": {},
     "output_type": "execute_result"
    }
   ],
   "source": [
    "df.income.value_counts()"
   ]
  },
  {
   "cell_type": "code",
   "execution_count": 9,
   "id": "61b4620f-a992-4656-b5e7-c1ea7f849d7d",
   "metadata": {},
   "outputs": [
    {
     "name": "stdout",
     "output_type": "stream",
     "text": [
      "<class 'pandas.core.frame.DataFrame'>\n",
      "Int64Index: 48790 entries, 0 to 48841\n",
      "Data columns (total 15 columns):\n",
      " #   Column           Non-Null Count  Dtype \n",
      "---  ------           --------------  ----- \n",
      " 0   age              48790 non-null  int64 \n",
      " 1   workclass        48790 non-null  object\n",
      " 2   fnlwgt           48790 non-null  int64 \n",
      " 3   education        48790 non-null  object\n",
      " 4   educational-num  48790 non-null  int64 \n",
      " 5   marital-status   48790 non-null  object\n",
      " 6   occupation       48790 non-null  object\n",
      " 7   relationship     48790 non-null  object\n",
      " 8   race             48790 non-null  object\n",
      " 9   gender           48790 non-null  object\n",
      " 10  capital-gain     48790 non-null  int64 \n",
      " 11  capital-loss     48790 non-null  int64 \n",
      " 12  hours-per-week   48790 non-null  int64 \n",
      " 13  native-country   48790 non-null  object\n",
      " 14  income           48790 non-null  object\n",
      "dtypes: int64(6), object(9)\n",
      "memory usage: 6.0+ MB\n"
     ]
    }
   ],
   "source": [
    "# Getting an overview of data\n",
    "df.info()"
   ]
  },
  {
   "cell_type": "code",
   "execution_count": 10,
   "id": "6c758525-6999-4ee0-9f64-5086f468e121",
   "metadata": {},
   "outputs": [
    {
     "data": {
      "text/html": [
       "<div>\n",
       "<style scoped>\n",
       "    .dataframe tbody tr th:only-of-type {\n",
       "        vertical-align: middle;\n",
       "    }\n",
       "\n",
       "    .dataframe tbody tr th {\n",
       "        vertical-align: top;\n",
       "    }\n",
       "\n",
       "    .dataframe thead th {\n",
       "        text-align: right;\n",
       "    }\n",
       "</style>\n",
       "<table border=\"1\" class=\"dataframe\">\n",
       "  <thead>\n",
       "    <tr style=\"text-align: right;\">\n",
       "      <th></th>\n",
       "      <th>age</th>\n",
       "      <th>fnlwgt</th>\n",
       "      <th>educational-num</th>\n",
       "      <th>capital-gain</th>\n",
       "      <th>capital-loss</th>\n",
       "      <th>hours-per-week</th>\n",
       "    </tr>\n",
       "  </thead>\n",
       "  <tbody>\n",
       "    <tr>\n",
       "      <th>count</th>\n",
       "      <td>48790.000000</td>\n",
       "      <td>4.879000e+04</td>\n",
       "      <td>48790.000000</td>\n",
       "      <td>48790.000000</td>\n",
       "      <td>48790.000000</td>\n",
       "      <td>48790.000000</td>\n",
       "    </tr>\n",
       "    <tr>\n",
       "      <th>mean</th>\n",
       "      <td>38.652798</td>\n",
       "      <td>1.896690e+05</td>\n",
       "      <td>10.078807</td>\n",
       "      <td>1080.217688</td>\n",
       "      <td>87.595573</td>\n",
       "      <td>40.425886</td>\n",
       "    </tr>\n",
       "    <tr>\n",
       "      <th>std</th>\n",
       "      <td>13.708493</td>\n",
       "      <td>1.056172e+05</td>\n",
       "      <td>2.570046</td>\n",
       "      <td>7455.905921</td>\n",
       "      <td>403.209129</td>\n",
       "      <td>12.392729</td>\n",
       "    </tr>\n",
       "    <tr>\n",
       "      <th>min</th>\n",
       "      <td>17.000000</td>\n",
       "      <td>1.228500e+04</td>\n",
       "      <td>1.000000</td>\n",
       "      <td>0.000000</td>\n",
       "      <td>0.000000</td>\n",
       "      <td>1.000000</td>\n",
       "    </tr>\n",
       "    <tr>\n",
       "      <th>25%</th>\n",
       "      <td>28.000000</td>\n",
       "      <td>1.175550e+05</td>\n",
       "      <td>9.000000</td>\n",
       "      <td>0.000000</td>\n",
       "      <td>0.000000</td>\n",
       "      <td>40.000000</td>\n",
       "    </tr>\n",
       "    <tr>\n",
       "      <th>50%</th>\n",
       "      <td>37.000000</td>\n",
       "      <td>1.781385e+05</td>\n",
       "      <td>10.000000</td>\n",
       "      <td>0.000000</td>\n",
       "      <td>0.000000</td>\n",
       "      <td>40.000000</td>\n",
       "    </tr>\n",
       "    <tr>\n",
       "      <th>75%</th>\n",
       "      <td>48.000000</td>\n",
       "      <td>2.376062e+05</td>\n",
       "      <td>12.000000</td>\n",
       "      <td>0.000000</td>\n",
       "      <td>0.000000</td>\n",
       "      <td>45.000000</td>\n",
       "    </tr>\n",
       "    <tr>\n",
       "      <th>max</th>\n",
       "      <td>90.000000</td>\n",
       "      <td>1.490400e+06</td>\n",
       "      <td>16.000000</td>\n",
       "      <td>99999.000000</td>\n",
       "      <td>4356.000000</td>\n",
       "      <td>99.000000</td>\n",
       "    </tr>\n",
       "  </tbody>\n",
       "</table>\n",
       "</div>"
      ],
      "text/plain": [
       "                age        fnlwgt  educational-num  capital-gain  \\\n",
       "count  48790.000000  4.879000e+04     48790.000000  48790.000000   \n",
       "mean      38.652798  1.896690e+05        10.078807   1080.217688   \n",
       "std       13.708493  1.056172e+05         2.570046   7455.905921   \n",
       "min       17.000000  1.228500e+04         1.000000      0.000000   \n",
       "25%       28.000000  1.175550e+05         9.000000      0.000000   \n",
       "50%       37.000000  1.781385e+05        10.000000      0.000000   \n",
       "75%       48.000000  2.376062e+05        12.000000      0.000000   \n",
       "max       90.000000  1.490400e+06        16.000000  99999.000000   \n",
       "\n",
       "       capital-loss  hours-per-week  \n",
       "count  48790.000000    48790.000000  \n",
       "mean      87.595573       40.425886  \n",
       "std      403.209129       12.392729  \n",
       "min        0.000000        1.000000  \n",
       "25%        0.000000       40.000000  \n",
       "50%        0.000000       40.000000  \n",
       "75%        0.000000       45.000000  \n",
       "max     4356.000000       99.000000  "
      ]
     },
     "execution_count": 10,
     "metadata": {},
     "output_type": "execute_result"
    }
   ],
   "source": [
    "df.describe()"
   ]
  },
  {
   "cell_type": "markdown",
   "id": "2bec097a-a1a8-4bc6-b9bc-af0a462b650c",
   "metadata": {},
   "source": [
    "## Question 6"
   ]
  },
  {
   "cell_type": "markdown",
   "id": "ff419569-9933-4684-a5b6-18dda0c7612a",
   "metadata": {},
   "source": [
    "Another question I had was whether the dataset had mostly one type of variable (i.e., categorical or continuous). As can be seen above, the dataset seems largely mixed."
   ]
  },
  {
   "cell_type": "markdown",
   "id": "f7b56e47-86dd-4c44-9a85-5d3ea2c85bea",
   "metadata": {},
   "source": [
    "## EDA"
   ]
  },
  {
   "cell_type": "markdown",
   "id": "cda799aa-2f5f-4828-8bfc-3f8b67fdfd30",
   "metadata": {},
   "source": [
    "## Question 7 "
   ]
  },
  {
   "cell_type": "markdown",
   "id": "53ba60af-39c4-4642-9110-2d687a9e1528",
   "metadata": {},
   "source": [
    "What is the age distribution? The majority of people are under 50 years old."
   ]
  },
  {
   "cell_type": "code",
   "execution_count": 11,
   "id": "0c9780c6-db9f-450c-8581-89f889dc1c34",
   "metadata": {},
   "outputs": [
    {
     "data": {
      "image/png": "[encoded data removed]",
      "text/plain": [
       "<Figure size 432x288 with 1 Axes>"
      ]
     },
     "metadata": {
      "needs_background": "light"
     },
     "output_type": "display_data"
    }
   ],
   "source": [
    "sns.histplot(x='age', bins=212, data=df);"
   ]
  },
  {
   "cell_type": "markdown",
   "id": "bd47f398-f403-480f-aef3-b4175c127992",
   "metadata": {},
   "source": [
    "## Question 8"
   ]
  },
  {
   "cell_type": "markdown",
   "id": "dfbb2ec4-fc01-4e13-8b1e-cabd1c0e6106",
   "metadata": {},
   "source": [
    "What is the distribution of income given educational attainment? It seems clear that the higher the educational attainment, the greater the income."
   ]
  },
  {
   "cell_type": "code",
   "execution_count": 12,
   "id": "f24de819-ec33-4e64-95f3-096e16eb1df3",
   "metadata": {},
   "outputs": [
    {
     "data": {
      "image/png": "[encoded data removed]",
      "text/plain": [
       "<Figure size 432x288 with 1 Axes>"
      ]
     },
     "metadata": {
      "needs_background": "light"
     },
     "output_type": "display_data"
    },
    {
     "data": {
      "image/png": "[encoded data removed]",
      "text/plain": [
       "<Figure size 432x288 with 1 Axes>"
      ]
     },
     "metadata": {
      "needs_background": "light"
     },
     "output_type": "display_data"
    }
   ],
   "source": [
    "sns.histplot(x='educational-num', hue='income', data=df )\n",
    "plt.show();\n",
    "\n",
    "sns.boxplot(x='income', y='educational-num', data=df)\n",
    "plt.show()"
   ]
  },
  {
   "cell_type": "markdown",
   "id": "40555fda-cde9-49ca-b452-1af0830afc0c",
   "metadata": {},
   "source": [
    "## Question 9"
   ]
  },
  {
   "cell_type": "markdown",
   "id": "916bc8bd-6132-49f5-85e5-22f04b1d98f7",
   "metadata": {},
   "source": [
    "How many people have a higher-education? "
   ]
  },
  {
   "cell_type": "code",
   "execution_count": 13,
   "id": "43e8ee64-d0fb-4267-8bad-fb7515dd3a48",
   "metadata": {},
   "outputs": [
    {
     "data": {
      "text/plain": [
       "array(['11th', 'HS-grad', 'Assoc-acdm', 'Some-college', '10th',\n",
       "       'Prof-school', '7th-8th', 'Bachelors', 'Masters', 'Doctorate',\n",
       "       '5th-6th', 'Assoc-voc', '9th', '12th', '1st-4th', 'Preschool'],\n",
       "      dtype=object)"
      ]
     },
     "execution_count": 13,
     "metadata": {},
     "output_type": "execute_result"
    }
   ],
   "source": [
    "education_level = df.education\n",
    "\n",
    "df.education.unique()"
   ]
  },
  {
   "cell_type": "code",
   "execution_count": 14,
   "id": "907cf889-14c5-4bc3-a59a-6a0d9d7bfaf0",
   "metadata": {},
   "outputs": [
    {
     "data": {
      "text/plain": [
       "HS-grad         15770\n",
       "Some-college    10863\n",
       "Bachelors        8013\n",
       "Masters          2656\n",
       "Assoc-voc        2060\n",
       "11th             1812\n",
       "Assoc-acdm       1601\n",
       "10th             1389\n",
       "7th-8th           954\n",
       "Prof-school       834\n",
       "9th               756\n",
       "12th              655\n",
       "Doctorate         594\n",
       "5th-6th           507\n",
       "1st-4th           245\n",
       "Preschool          81\n",
       "Name: education, dtype: int64"
      ]
     },
     "execution_count": 14,
     "metadata": {},
     "output_type": "execute_result"
    }
   ],
   "source": [
    "education_level.value_counts()"
   ]
  },
  {
   "cell_type": "code",
   "execution_count": 15,
   "id": "20779adf-d61b-476b-af44-a16f70fb5448",
   "metadata": {},
   "outputs": [
    {
     "name": "stdout",
     "output_type": "stream",
     "text": [
      "The percentage of people with a higher-education in the dataset is about 0.32%.\n"
     ]
    }
   ],
   "source": [
    "tot = ((8025 + 2657 + 2061 + 1601 + 834 + 594) / 48842)\n",
    "print('The percentage of people with a higher-education in the dataset is about {:0.2f}%.'.format(tot))"
   ]
  },
  {
   "cell_type": "markdown",
   "id": "f93ea3f3-3595-4435-bdea-ee3423bdd659",
   "metadata": {},
   "source": [
    "## Question 10"
   ]
  },
  {
   "cell_type": "markdown",
   "id": "87a213f3-ad70-4add-9148-b05e802d0995",
   "metadata": {},
   "source": [
    "What is the income distribution given race? This question remains unanswered. However, I will attempt to answer it later on since it is an important question in my analysis."
   ]
  },
  {
   "cell_type": "code",
   "execution_count": 16,
   "id": "1b010179-011a-40d7-a844-5a7a528c06b0",
   "metadata": {},
   "outputs": [
    {
     "data": {
      "image/png": "[encoded data removed]",
      "text/plain": [
       "<Figure size 432x288 with 1 Axes>"
      ]
     },
     "metadata": {
      "needs_background": "light"
     },
     "output_type": "display_data"
    }
   ],
   "source": [
    "sns.histplot(x='race', hue='income', data=df )\n",
    "plt.show();"
   ]
  },
  {
   "cell_type": "code",
   "execution_count": 17,
   "id": "67430056-c9b9-45e5-aa7e-28172608f132",
   "metadata": {},
   "outputs": [
    {
     "data": {
      "image/png": "[encoded data removed]",
      "text/plain": [
       "<Figure size 1800x360 with 1 Axes>"
      ]
     },
     "metadata": {
      "needs_background": "light"
     },
     "output_type": "display_data"
    }
   ],
   "source": [
    "plt.figure(figsize=(25, 5))\n",
    "sns.histplot(x='workclass', hue='income', data=df )\n",
    "plt.show();"
   ]
  },
  {
   "cell_type": "code",
   "execution_count": 18,
   "id": "0caf8bca-cfe4-420c-99c7-432aa7bca507",
   "metadata": {},
   "outputs": [
    {
     "data": {
      "text/html": [
       "<div>\n",
       "<style scoped>\n",
       "    .dataframe tbody tr th:only-of-type {\n",
       "        vertical-align: middle;\n",
       "    }\n",
       "\n",
       "    .dataframe tbody tr th {\n",
       "        vertical-align: top;\n",
       "    }\n",
       "\n",
       "    .dataframe thead th {\n",
       "        text-align: right;\n",
       "    }\n",
       "</style>\n",
       "<table border=\"1\" class=\"dataframe\">\n",
       "  <thead>\n",
       "    <tr style=\"text-align: right;\">\n",
       "      <th></th>\n",
       "      <th>age</th>\n",
       "      <th>workclass</th>\n",
       "      <th>fnlwgt</th>\n",
       "      <th>education</th>\n",
       "      <th>educational-num</th>\n",
       "      <th>marital-status</th>\n",
       "      <th>occupation</th>\n",
       "      <th>relationship</th>\n",
       "      <th>race</th>\n",
       "      <th>gender</th>\n",
       "      <th>capital-gain</th>\n",
       "      <th>capital-loss</th>\n",
       "      <th>hours-per-week</th>\n",
       "      <th>native-country</th>\n",
       "      <th>income</th>\n",
       "    </tr>\n",
       "  </thead>\n",
       "  <tbody>\n",
       "    <tr>\n",
       "      <th>0</th>\n",
       "      <td>25</td>\n",
       "      <td>Private</td>\n",
       "      <td>226802</td>\n",
       "      <td>11th</td>\n",
       "      <td>7</td>\n",
       "      <td>Never-married</td>\n",
       "      <td>Machine-op-inspct</td>\n",
       "      <td>Own-child</td>\n",
       "      <td>Black</td>\n",
       "      <td>Male</td>\n",
       "      <td>0</td>\n",
       "      <td>0</td>\n",
       "      <td>40</td>\n",
       "      <td>United-States</td>\n",
       "      <td>0</td>\n",
       "    </tr>\n",
       "    <tr>\n",
       "      <th>1</th>\n",
       "      <td>38</td>\n",
       "      <td>Private</td>\n",
       "      <td>89814</td>\n",
       "      <td>HS-grad</td>\n",
       "      <td>9</td>\n",
       "      <td>Married-civ-spouse</td>\n",
       "      <td>Farming-fishing</td>\n",
       "      <td>Husband</td>\n",
       "      <td>White</td>\n",
       "      <td>Male</td>\n",
       "      <td>0</td>\n",
       "      <td>0</td>\n",
       "      <td>50</td>\n",
       "      <td>United-States</td>\n",
       "      <td>0</td>\n",
       "    </tr>\n",
       "    <tr>\n",
       "      <th>2</th>\n",
       "      <td>28</td>\n",
       "      <td>Local-gov</td>\n",
       "      <td>336951</td>\n",
       "      <td>Assoc-acdm</td>\n",
       "      <td>12</td>\n",
       "      <td>Married-civ-spouse</td>\n",
       "      <td>Protective-serv</td>\n",
       "      <td>Husband</td>\n",
       "      <td>White</td>\n",
       "      <td>Male</td>\n",
       "      <td>0</td>\n",
       "      <td>0</td>\n",
       "      <td>40</td>\n",
       "      <td>United-States</td>\n",
       "      <td>1</td>\n",
       "    </tr>\n",
       "    <tr>\n",
       "      <th>3</th>\n",
       "      <td>44</td>\n",
       "      <td>Private</td>\n",
       "      <td>160323</td>\n",
       "      <td>Some-college</td>\n",
       "      <td>10</td>\n",
       "      <td>Married-civ-spouse</td>\n",
       "      <td>Machine-op-inspct</td>\n",
       "      <td>Husband</td>\n",
       "      <td>Black</td>\n",
       "      <td>Male</td>\n",
       "      <td>7688</td>\n",
       "      <td>0</td>\n",
       "      <td>40</td>\n",
       "      <td>United-States</td>\n",
       "      <td>1</td>\n",
       "    </tr>\n",
       "    <tr>\n",
       "      <th>4</th>\n",
       "      <td>18</td>\n",
       "      <td>?</td>\n",
       "      <td>103497</td>\n",
       "      <td>Some-college</td>\n",
       "      <td>10</td>\n",
       "      <td>Never-married</td>\n",
       "      <td>?</td>\n",
       "      <td>Own-child</td>\n",
       "      <td>White</td>\n",
       "      <td>Female</td>\n",
       "      <td>0</td>\n",
       "      <td>0</td>\n",
       "      <td>30</td>\n",
       "      <td>United-States</td>\n",
       "      <td>0</td>\n",
       "    </tr>\n",
       "  </tbody>\n",
       "</table>\n",
       "</div>"
      ],
      "text/plain": [
       "   age  workclass  fnlwgt     education  educational-num      marital-status  \\\n",
       "0   25    Private  226802          11th                7       Never-married   \n",
       "1   38    Private   89814       HS-grad                9  Married-civ-spouse   \n",
       "2   28  Local-gov  336951    Assoc-acdm               12  Married-civ-spouse   \n",
       "3   44    Private  160323  Some-college               10  Married-civ-spouse   \n",
       "4   18          ?  103497  Some-college               10       Never-married   \n",
       "\n",
       "          occupation relationship   race  gender  capital-gain  capital-loss  \\\n",
       "0  Machine-op-inspct    Own-child  Black    Male             0             0   \n",
       "1    Farming-fishing      Husband  White    Male             0             0   \n",
       "2    Protective-serv      Husband  White    Male             0             0   \n",
       "3  Machine-op-inspct      Husband  Black    Male          7688             0   \n",
       "4                  ?    Own-child  White  Female             0             0   \n",
       "\n",
       "   hours-per-week native-country  income  \n",
       "0              40  United-States       0  \n",
       "1              50  United-States       0  \n",
       "2              40  United-States       1  \n",
       "3              40  United-States       1  \n",
       "4              30  United-States       0  "
      ]
     },
     "execution_count": 18,
     "metadata": {},
     "output_type": "execute_result"
    }
   ],
   "source": [
    "# Binarizing the income column\n",
    "df['income'] = df['income'].map({'<=50K': 0, '>50K': 1, '<=50K.': 0, '>50K.': 1}) # incomes >50k are denoted as 1; incomes <=50k are denoted as 0.\n",
    "df.head()"
   ]
  },
  {
   "cell_type": "markdown",
   "id": "6e9829ac-a157-4a7c-bd4f-ce12ff9b6ecd",
   "metadata": {},
   "source": [
    "## Question 9 & 10"
   ]
  },
  {
   "cell_type": "markdown",
   "id": "e7dfc49d-c1ce-4c79-b794-c7547b070342",
   "metadata": {},
   "source": [
    "What is the income distribution given workclass? In answering this question, I came about answering another question: What is the distribution of the workclasses? The private workclass is the workclass most represented in the data. As to the former, original question: it appears that the self-employed class (entrepreneural class?) is making the most money, not accounting for neither experience nor hours worked per week.\n",
    "\n",
    "What is the difference in median age of the workclasses? It appears that the difference isn't too significant. However, those noted as \"never-worked\" have a much smaller median than the other working classes. This can be explained away by their not being documented due to not working."
   ]
  },
  {
   "cell_type": "code",
   "execution_count": 19,
   "id": "1103f863-c2c9-4afa-a19e-b3c7e2b5201c",
   "metadata": {},
   "outputs": [
    {
     "data": {
      "image/png": "[encoded data removed]",
      "text/plain": [
       "<Figure size 2160x720 with 1 Axes>"
      ]
     },
     "metadata": {
      "needs_background": "light"
     },
     "output_type": "display_data"
    },
    {
     "data": {
      "image/png": "[encoded data removed]",
      "text/plain": [
       "<Figure size 1080x360 with 1 Axes>"
      ]
     },
     "metadata": {
      "needs_background": "light"
     },
     "output_type": "display_data"
    }
   ],
   "source": [
    "plt.figure(figsize=(30,10))\n",
    "sns.histplot(x='workclass', hue='income', data=df )\n",
    "plt.show();\n",
    "\n",
    "plt.figure(figsize=(15,5))\n",
    "sns.boxplot(x='workclass', y='age', data=df)\n",
    "plt.show()"
   ]
  },
  {
   "cell_type": "markdown",
   "id": "d6f1332e-0eff-44be-b395-b069bd71272a",
   "metadata": {},
   "source": [
    "## Question 11"
   ]
  },
  {
   "cell_type": "markdown",
   "id": "b43e1a26-11aa-45c7-bcd5-649ef1fca992",
   "metadata": {},
   "source": [
    "Does age influence income level? It seems that the median of those making more than 50k a year is higher than that of those making less than 50k. It is reasonable to assume that age is connected with experience, which, in turn, is connected to income. Income is usually commensurate with experience."
   ]
  },
  {
   "cell_type": "code",
   "execution_count": 20,
   "id": "b2a49dda-a925-4d02-b896-f586c0210bb1",
   "metadata": {},
   "outputs": [
    {
     "data": {
      "image/png": "[encoded data removed]",
      "text/plain": [
       "<Figure size 432x288 with 1 Axes>"
      ]
     },
     "metadata": {
      "needs_background": "light"
     },
     "output_type": "display_data"
    }
   ],
   "source": [
    "sns.boxplot(x='income', y='age', data=df)\n",
    "plt.show()"
   ]
  },
  {
   "cell_type": "markdown",
   "id": "40210921-a45b-47f5-a16d-c1e304bcfbb4",
   "metadata": {},
   "source": [
    "## Question 12"
   ]
  },
  {
   "cell_type": "markdown",
   "id": "ef891c47-26b6-4f9a-9fc8-3aa9788b491f",
   "metadata": {},
   "source": [
    "Are those that are working more hours making more money? It seems so. I suspect that the many outliers are in part due to the dataset's incorporating many diverse countries and these countries' respective GDPs. But, by and large, those that worked more hours were paid more. "
   ]
  },
  {
   "cell_type": "code",
   "execution_count": 21,
   "id": "dfe007ca-e7b1-4dcd-a842-e4b1438959bf",
   "metadata": {},
   "outputs": [
    {
     "data": {
      "image/png": "[encoded data removed]",
      "text/plain": [
       "<Figure size 432x288 with 1 Axes>"
      ]
     },
     "metadata": {
      "needs_background": "light"
     },
     "output_type": "display_data"
    }
   ],
   "source": [
    "sns.boxplot(x='income', y='hours-per-week', data=df)\n",
    "plt.show()"
   ]
  },
  {
   "cell_type": "markdown",
   "id": "e4deb353-a44e-4529-9a3a-4470bd587686",
   "metadata": {},
   "source": [
    "## Question 13"
   ]
  },
  {
   "cell_type": "markdown",
   "id": "638a56aa-32f5-434f-aa05-d41d15305f7e",
   "metadata": {},
   "source": [
    "To follow on question 9, which workclass is getting the highest salary? It seems that my answer from earlier was correct. However, by grouping by income, we get a much richer picture. Federal workers are the second highest paid, followed by state workers. "
   ]
  },
  {
   "cell_type": "code",
   "execution_count": 22,
   "id": "e941a599-0fff-43c2-a67f-509990b1c921",
   "metadata": {},
   "outputs": [
    {
     "data": {
      "text/plain": [
       "workclass\n",
       "Self-emp-inc        0.553719\n",
       "Federal-gov         0.391760\n",
       "Local-gov           0.295599\n",
       "Self-emp-not-inc    0.278943\n",
       "State-gov           0.267542\n",
       "Private             0.217986\n",
       "Without-pay         0.095238\n",
       "?                   0.094812\n",
       "Never-worked        0.000000\n",
       "Name: income, dtype: float64"
      ]
     },
     "execution_count": 22,
     "metadata": {},
     "output_type": "execute_result"
    }
   ],
   "source": [
    "df.groupby('workclass')['income'].mean().sort_values(ascending=False)"
   ]
  },
  {
   "cell_type": "markdown",
   "id": "20ea1cd2-059c-426d-857c-d281c62ef322",
   "metadata": {},
   "source": [
    "## Question 14 "
   ]
  },
  {
   "cell_type": "markdown",
   "id": "00ced6f3-0348-4974-8cf6-a803a3fe7e59",
   "metadata": {},
   "source": [
    "Which gender gets paid higher (usually)? Males make a higher mean income than females."
   ]
  },
  {
   "cell_type": "code",
   "execution_count": 23,
   "id": "39170061-41e0-4c67-83de-d2bcfc7134b0",
   "metadata": {},
   "outputs": [
    {
     "data": {
      "text/plain": [
       "gender\n",
       "Male      0.303919\n",
       "Female    0.109360\n",
       "Name: income, dtype: float64"
      ]
     },
     "execution_count": 23,
     "metadata": {},
     "output_type": "execute_result"
    }
   ],
   "source": [
    "df.groupby('gender')['income'].mean().sort_values(ascending=False)"
   ]
  },
  {
   "cell_type": "markdown",
   "id": "ecdffb2e-9bea-465e-a7d6-11ee1a15b32e",
   "metadata": {},
   "source": [
    "## Question 15"
   ]
  },
  {
   "cell_type": "markdown",
   "id": "4496cccb-6ab8-4ba3-8a7a-3b64dcb06562",
   "metadata": {},
   "source": [
    "Returning to the question of race (question 10), do certain races make more money? It seems clear that whites and asians make the higher incomes. However, it isn't too clear as to how a country's economic status influence said incomes."
   ]
  },
  {
   "cell_type": "code",
   "execution_count": 24,
   "id": "25b2be14-57e8-408f-b7bb-87a8e9d6d800",
   "metadata": {},
   "outputs": [
    {
     "data": {
      "text/plain": [
       "race\n",
       "Asian-Pac-Islander    0.269611\n",
       "White                 0.254135\n",
       "Other                 0.123153\n",
       "Black                 0.120863\n",
       "Amer-Indian-Eskimo    0.117021\n",
       "Name: income, dtype: float64"
      ]
     },
     "execution_count": 24,
     "metadata": {},
     "output_type": "execute_result"
    }
   ],
   "source": [
    "df.groupby('race')['income'].mean().sort_values(ascending=False)"
   ]
  },
  {
   "cell_type": "markdown",
   "id": "19412492-a27b-4120-9892-5d0175aecb68",
   "metadata": {},
   "source": [
    "# Summary"
   ]
  },
  {
   "cell_type": "markdown",
   "id": "d4018f37-b1b2-41a7-a232-e6b897019f04",
   "metadata": {},
   "source": [
    "A story arises from the data and the questions asked and answered. It is one where workers' income is largely influenced by experience, education, race, and gender. Workers with greater experience or education make more income. There is a gender income disparity, with males making more than females. There is also an income disparity among races, with whites making the most. The top earners of society are the self-employed, which can be interpreted as those who own companies --that is, entrepreneurs. Given that most of the data is on incomes from the United States, the story becomes trite, since it is known all too well. The story is that of the United States. The issues raised here aren't new; in fact, many of them have been spoken about, in a rather superficial and stifled way, for decades in the media. "
   ]
  }
 ],
 "metadata": {
  "kernelspec": {
   "display_name": "Python 3 (ipykernel)",
   "language": "python",
   "name": "python3"
  },
  "language_info": {
   "codemirror_mode": {
    "name": "ipython",
    "version": 3
   },
   "file_extension": ".py",
   "mimetype": "text/x-python",
   "name": "python",
   "nbconvert_exporter": "python",
   "pygments_lexer": "ipython3",
   "version": "3.9.12"
  }
 },
 "nbformat": 4,
 "nbformat_minor": 5
}
