{
 "cells": [
  {
   "cell_type": "markdown",
   "id": "9e1d1bed-c25f-4a79-9238-46fc6faa22d5",
   "metadata": {},
   "source": [
    "# Part 1: Exploratory Data Analysis"
   ]
  },
  {
   "cell_type": "code",
   "execution_count": 1,
   "id": "6a555adc-9240-473b-aefb-d6c96cff9e5d",
   "metadata": {},
   "outputs": [],
   "source": [
    "# Import libraries and modules\n",
    "import pandas            as pd\n",
    "import numpy             as np\n",
    "import matplotlib.pyplot as plt\n",
    "import seaborn           as sns"
   ]
  },
  {
   "cell_type": "code",
   "execution_count": 2,
   "id": "07c1a40c-edfe-480a-9b2f-3891521b7e04",
   "metadata": {},
   "outputs": [
    {
     "data": {
      "text/html": [
       "<div>\n",
       "<style scoped>\n",
       "    .dataframe tbody tr th:only-of-type {\n",
       "        vertical-align: middle;\n",
       "    }\n",
       "\n",
       "    .dataframe tbody tr th {\n",
       "        vertical-align: top;\n",
       "    }\n",
       "\n",
       "    .dataframe thead th {\n",
       "        text-align: right;\n",
       "    }\n",
       "</style>\n",
       "<table border=\"1\" class=\"dataframe\">\n",
       "  <thead>\n",
       "    <tr style=\"text-align: right;\">\n",
       "      <th></th>\n",
       "      <th>login_time</th>\n",
       "    </tr>\n",
       "  </thead>\n",
       "  <tbody>\n",
       "    <tr>\n",
       "      <th>0</th>\n",
       "      <td>1970-01-01 20:13:18</td>\n",
       "    </tr>\n",
       "    <tr>\n",
       "      <th>1</th>\n",
       "      <td>1970-01-01 20:16:10</td>\n",
       "    </tr>\n",
       "    <tr>\n",
       "      <th>2</th>\n",
       "      <td>1970-01-01 20:16:37</td>\n",
       "    </tr>\n",
       "    <tr>\n",
       "      <th>3</th>\n",
       "      <td>1970-01-01 20:16:36</td>\n",
       "    </tr>\n",
       "    <tr>\n",
       "      <th>4</th>\n",
       "      <td>1970-01-01 20:26:21</td>\n",
       "    </tr>\n",
       "  </tbody>\n",
       "</table>\n",
       "</div>"
      ],
      "text/plain": [
       "           login_time\n",
       "0 1970-01-01 20:13:18\n",
       "1 1970-01-01 20:16:10\n",
       "2 1970-01-01 20:16:37\n",
       "3 1970-01-01 20:16:36\n",
       "4 1970-01-01 20:26:21"
      ]
     },
     "execution_count": 2,
     "metadata": {},
     "output_type": "execute_result"
    }
   ],
   "source": [
    "# Source data\n",
    "df = pd.read_json('logins.json')\n",
    "df.head()"
   ]
  },
  {
   "cell_type": "code",
   "execution_count": 3,
   "id": "503b2722-1f4b-430b-965c-5c1f86fb48d9",
   "metadata": {},
   "outputs": [
    {
     "name": "stdout",
     "output_type": "stream",
     "text": [
      "<class 'pandas.core.frame.DataFrame'>\n",
      "RangeIndex: 93142 entries, 0 to 93141\n",
      "Data columns (total 1 columns):\n",
      " #   Column      Non-Null Count  Dtype         \n",
      "---  ------      --------------  -----         \n",
      " 0   login_time  93142 non-null  datetime64[ns]\n",
      "dtypes: datetime64[ns](1)\n",
      "memory usage: 727.8 KB\n"
     ]
    }
   ],
   "source": [
    "df.info()"
   ]
  },
  {
   "cell_type": "markdown",
   "id": "0bcbdc01-79cd-4929-bd7f-cb36ed6c3b25",
   "metadata": {},
   "source": [
    "#### Column of interest, login_time, is already a datetime object. This saves me some time in the analysis."
   ]
  },
  {
   "cell_type": "code",
   "execution_count": 4,
   "id": "caf0da08-38c4-4024-91c7-9acad394877c",
   "metadata": {},
   "outputs": [
    {
     "name": "stderr",
     "output_type": "stream",
     "text": [
      "C:\\Users\\16466\\AppData\\Local\\Temp\\ipykernel_14508\\3627053830.py:1: FutureWarning: Treating datetime data as categorical rather than numeric in `.describe` is deprecated and will be removed in a future version of pandas. Specify `datetime_is_numeric=True` to silence this warning and adopt the future behavior now.\n",
      "  df.describe()\n"
     ]
    },
    {
     "data": {
      "text/html": [
       "<div>\n",
       "<style scoped>\n",
       "    .dataframe tbody tr th:only-of-type {\n",
       "        vertical-align: middle;\n",
       "    }\n",
       "\n",
       "    .dataframe tbody tr th {\n",
       "        vertical-align: top;\n",
       "    }\n",
       "\n",
       "    .dataframe thead th {\n",
       "        text-align: right;\n",
       "    }\n",
       "</style>\n",
       "<table border=\"1\" class=\"dataframe\">\n",
       "  <thead>\n",
       "    <tr style=\"text-align: right;\">\n",
       "      <th></th>\n",
       "      <th>login_time</th>\n",
       "    </tr>\n",
       "  </thead>\n",
       "  <tbody>\n",
       "    <tr>\n",
       "      <th>count</th>\n",
       "      <td>93142</td>\n",
       "    </tr>\n",
       "    <tr>\n",
       "      <th>unique</th>\n",
       "      <td>92265</td>\n",
       "    </tr>\n",
       "    <tr>\n",
       "      <th>top</th>\n",
       "      <td>1970-03-17 01:01:39</td>\n",
       "    </tr>\n",
       "    <tr>\n",
       "      <th>freq</th>\n",
       "      <td>3</td>\n",
       "    </tr>\n",
       "    <tr>\n",
       "      <th>first</th>\n",
       "      <td>1970-01-01 20:12:16</td>\n",
       "    </tr>\n",
       "    <tr>\n",
       "      <th>last</th>\n",
       "      <td>1970-04-13 18:57:38</td>\n",
       "    </tr>\n",
       "  </tbody>\n",
       "</table>\n",
       "</div>"
      ],
      "text/plain": [
       "                 login_time\n",
       "count                 93142\n",
       "unique                92265\n",
       "top     1970-03-17 01:01:39\n",
       "freq                      3\n",
       "first   1970-01-01 20:12:16\n",
       "last    1970-04-13 18:57:38"
      ]
     },
     "execution_count": 4,
     "metadata": {},
     "output_type": "execute_result"
    }
   ],
   "source": [
    "df.describe()"
   ]
  },
  {
   "cell_type": "markdown",
   "id": "3e3b6b8e-7998-420d-9f3f-76cdc37b1e8a",
   "metadata": {},
   "source": [
    "#### By using the describe method, I'm able to see both the start and end dates of our column."
   ]
  },
  {
   "cell_type": "code",
   "execution_count": 5,
   "id": "0a860371-9add-41ff-b1cf-e03ec1f1a815",
   "metadata": {},
   "outputs": [],
   "source": [
    "# Instantiate count column for resampling \n",
    "df['count'] = 1\n",
    "\n",
    "# set login time as index\n",
    "df.index = df['login_time']"
   ]
  },
  {
   "cell_type": "code",
   "execution_count": 6,
   "id": "90c171ff-f716-4795-b0fd-1c23fc45516c",
   "metadata": {},
   "outputs": [
    {
     "name": "stdout",
     "output_type": "stream",
     "text": [
      "<class 'pandas.core.frame.DataFrame'>\n",
      "DatetimeIndex: 93142 entries, 1970-01-01 20:13:18 to 1970-04-13 18:54:23\n",
      "Data columns (total 2 columns):\n",
      " #   Column      Non-Null Count  Dtype         \n",
      "---  ------      --------------  -----         \n",
      " 0   login_time  93142 non-null  datetime64[ns]\n",
      " 1   count       93142 non-null  int64         \n",
      "dtypes: datetime64[ns](1), int64(1)\n",
      "memory usage: 2.1 MB\n"
     ]
    }
   ],
   "source": [
    "df.info()"
   ]
  },
  {
   "cell_type": "code",
   "execution_count": 7,
   "id": "bc223544-c572-4865-b57b-006c258f67a6",
   "metadata": {},
   "outputs": [
    {
     "name": "stderr",
     "output_type": "stream",
     "text": [
      "C:\\Users\\16466\\AppData\\Local\\Temp\\ipykernel_14508\\3113157161.py:2: FutureWarning: The default value of numeric_only in DataFrameGroupBy.sum is deprecated. In a future version, numeric_only will default to False. Either specify numeric_only or select only columns which should be valid for the function.\n",
      "  user_logins = df.resample('15min').sum()\n"
     ]
    },
    {
     "data": {
      "image/png": "[encoded data removed]",
      "text/plain": [
       "<Figure size 1080x432 with 1 Axes>"
      ]
     },
     "metadata": {
      "needs_background": "light"
     },
     "output_type": "display_data"
    }
   ],
   "source": [
    "# Aggregate user logins based on 15 minute intervals\n",
    "user_logins = df.resample('15min').sum()\n",
    "\n",
    "# Plot aggregations\n",
    "user_logins.plot(figsize=(15,6));"
   ]
  },
  {
   "cell_type": "markdown",
   "id": "cbdd97d3-5892-43fe-9822-e86df001afc6",
   "metadata": {},
   "source": [
    "#### Prima facie, it appears that there are four upward trends every month. Let's get further statistics on the time series."
   ]
  },
  {
   "cell_type": "code",
   "execution_count": 8,
   "id": "f32a350e-c8ce-45e0-9b8d-718ff2804408",
   "metadata": {},
   "outputs": [
    {
     "data": {
      "text/html": [
       "<div>\n",
       "<style scoped>\n",
       "    .dataframe tbody tr th:only-of-type {\n",
       "        vertical-align: middle;\n",
       "    }\n",
       "\n",
       "    .dataframe tbody tr th {\n",
       "        vertical-align: top;\n",
       "    }\n",
       "\n",
       "    .dataframe thead th {\n",
       "        text-align: right;\n",
       "    }\n",
       "</style>\n",
       "<table border=\"1\" class=\"dataframe\">\n",
       "  <thead>\n",
       "    <tr style=\"text-align: right;\">\n",
       "      <th></th>\n",
       "      <th>count</th>\n",
       "    </tr>\n",
       "  </thead>\n",
       "  <tbody>\n",
       "    <tr>\n",
       "      <th>count</th>\n",
       "      <td>9788.000000</td>\n",
       "    </tr>\n",
       "    <tr>\n",
       "      <th>mean</th>\n",
       "      <td>9.515938</td>\n",
       "    </tr>\n",
       "    <tr>\n",
       "      <th>std</th>\n",
       "      <td>8.328818</td>\n",
       "    </tr>\n",
       "    <tr>\n",
       "      <th>min</th>\n",
       "      <td>0.000000</td>\n",
       "    </tr>\n",
       "    <tr>\n",
       "      <th>25%</th>\n",
       "      <td>3.000000</td>\n",
       "    </tr>\n",
       "    <tr>\n",
       "      <th>50%</th>\n",
       "      <td>7.000000</td>\n",
       "    </tr>\n",
       "    <tr>\n",
       "      <th>75%</th>\n",
       "      <td>13.000000</td>\n",
       "    </tr>\n",
       "    <tr>\n",
       "      <th>max</th>\n",
       "      <td>73.000000</td>\n",
       "    </tr>\n",
       "  </tbody>\n",
       "</table>\n",
       "</div>"
      ],
      "text/plain": [
       "             count\n",
       "count  9788.000000\n",
       "mean      9.515938\n",
       "std       8.328818\n",
       "min       0.000000\n",
       "25%       3.000000\n",
       "50%       7.000000\n",
       "75%      13.000000\n",
       "max      73.000000"
      ]
     },
     "execution_count": 8,
     "metadata": {},
     "output_type": "execute_result"
    }
   ],
   "source": [
    "user_logins.describe()"
   ]
  },
  {
   "cell_type": "markdown",
   "id": "b99afa4a-4f55-42ca-bdc0-735f1722e94c",
   "metadata": {},
   "source": [
    "#### The median user logins per 15 minutes is 7, with 73 logins being the max observed. To get more information, it is profitable to see the time series of user login both by day and month."
   ]
  },
  {
   "cell_type": "code",
   "execution_count": 9,
   "id": "cb733fef-bdce-45d9-9d01-b3b6303b450c",
   "metadata": {},
   "outputs": [
    {
     "data": {
      "image/png": "[encoded data removed]",
      "text/plain": [
       "<Figure size 1080x432 with 1 Axes>"
      ]
     },
     "metadata": {
      "needs_background": "light"
     },
     "output_type": "display_data"
    }
   ],
   "source": [
    "# Day-to-Day user logins\n",
    "daily_user_logins = user_logins.resample('1D').sum()\n",
    "\n",
    "daily_user_logins.plot(figsize=(15, 6));"
   ]
  },
  {
   "cell_type": "code",
   "execution_count": 10,
   "id": "6da479ee-8496-4ccc-97a8-cf6b96d39db6",
   "metadata": {},
   "outputs": [
    {
     "data": {
      "text/html": [
       "<div>\n",
       "<style scoped>\n",
       "    .dataframe tbody tr th:only-of-type {\n",
       "        vertical-align: middle;\n",
       "    }\n",
       "\n",
       "    .dataframe tbody tr th {\n",
       "        vertical-align: top;\n",
       "    }\n",
       "\n",
       "    .dataframe thead th {\n",
       "        text-align: right;\n",
       "    }\n",
       "</style>\n",
       "<table border=\"1\" class=\"dataframe\">\n",
       "  <thead>\n",
       "    <tr style=\"text-align: right;\">\n",
       "      <th></th>\n",
       "      <th>count</th>\n",
       "    </tr>\n",
       "  </thead>\n",
       "  <tbody>\n",
       "    <tr>\n",
       "      <th>count</th>\n",
       "      <td>103.000000</td>\n",
       "    </tr>\n",
       "    <tr>\n",
       "      <th>mean</th>\n",
       "      <td>904.291262</td>\n",
       "    </tr>\n",
       "    <tr>\n",
       "      <th>std</th>\n",
       "      <td>347.167463</td>\n",
       "    </tr>\n",
       "    <tr>\n",
       "      <th>min</th>\n",
       "      <td>112.000000</td>\n",
       "    </tr>\n",
       "    <tr>\n",
       "      <th>25%</th>\n",
       "      <td>643.000000</td>\n",
       "    </tr>\n",
       "    <tr>\n",
       "      <th>50%</th>\n",
       "      <td>827.000000</td>\n",
       "    </tr>\n",
       "    <tr>\n",
       "      <th>75%</th>\n",
       "      <td>1141.000000</td>\n",
       "    </tr>\n",
       "    <tr>\n",
       "      <th>max</th>\n",
       "      <td>1889.000000</td>\n",
       "    </tr>\n",
       "  </tbody>\n",
       "</table>\n",
       "</div>"
      ],
      "text/plain": [
       "             count\n",
       "count   103.000000\n",
       "mean    904.291262\n",
       "std     347.167463\n",
       "min     112.000000\n",
       "25%     643.000000\n",
       "50%     827.000000\n",
       "75%    1141.000000\n",
       "max    1889.000000"
      ]
     },
     "execution_count": 10,
     "metadata": {},
     "output_type": "execute_result"
    }
   ],
   "source": [
    "daily_user_logins.describe()"
   ]
  },
  {
   "cell_type": "markdown",
   "id": "e1b8027c-3fd2-40fe-b1dd-3f2bf8184986",
   "metadata": {},
   "source": [
    "Note also the lessened granularity of our time series given that we're working on a higher, less detailed, level. The median user login per day is 827, with a maximum of 1,889. It appears that user logins increase throughout the months of January and April. "
   ]
  },
  {
   "cell_type": "code",
   "execution_count": 11,
   "id": "735b886b-743a-4067-b79c-feb2c06ecfc7",
   "metadata": {},
   "outputs": [
    {
     "data": {
      "image/png": "[encoded data removed]",
      "text/plain": [
       "<Figure size 1080x432 with 1 Axes>"
      ]
     },
     "metadata": {
      "needs_background": "light"
     },
     "output_type": "display_data"
    }
   ],
   "source": [
    "# Aggregate user logins based on 15 minute intervals\n",
    "monthly_user_logins = user_logins.resample('1M').sum()\n",
    "\n",
    "# Plot aggregations\n",
    "monthly_user_logins.plot(figsize=(15,6));"
   ]
  },
  {
   "cell_type": "code",
   "execution_count": 12,
   "id": "a1920e2f-d1eb-4446-9ae5-e287c2d566ab",
   "metadata": {},
   "outputs": [
    {
     "data": {
      "text/html": [
       "<div>\n",
       "<style scoped>\n",
       "    .dataframe tbody tr th:only-of-type {\n",
       "        vertical-align: middle;\n",
       "    }\n",
       "\n",
       "    .dataframe tbody tr th {\n",
       "        vertical-align: top;\n",
       "    }\n",
       "\n",
       "    .dataframe thead th {\n",
       "        text-align: right;\n",
       "    }\n",
       "</style>\n",
       "<table border=\"1\" class=\"dataframe\">\n",
       "  <thead>\n",
       "    <tr style=\"text-align: right;\">\n",
       "      <th></th>\n",
       "      <th>count</th>\n",
       "    </tr>\n",
       "  </thead>\n",
       "  <tbody>\n",
       "    <tr>\n",
       "      <th>count</th>\n",
       "      <td>4.000000</td>\n",
       "    </tr>\n",
       "    <tr>\n",
       "      <th>mean</th>\n",
       "      <td>23285.500000</td>\n",
       "    </tr>\n",
       "    <tr>\n",
       "      <th>std</th>\n",
       "      <td>8380.011675</td>\n",
       "    </tr>\n",
       "    <tr>\n",
       "      <th>min</th>\n",
       "      <td>13507.000000</td>\n",
       "    </tr>\n",
       "    <tr>\n",
       "      <th>25%</th>\n",
       "      <td>19306.000000</td>\n",
       "    </tr>\n",
       "    <tr>\n",
       "      <th>50%</th>\n",
       "      <td>22956.000000</td>\n",
       "    </tr>\n",
       "    <tr>\n",
       "      <th>75%</th>\n",
       "      <td>26935.500000</td>\n",
       "    </tr>\n",
       "    <tr>\n",
       "      <th>max</th>\n",
       "      <td>33723.000000</td>\n",
       "    </tr>\n",
       "  </tbody>\n",
       "</table>\n",
       "</div>"
      ],
      "text/plain": [
       "              count\n",
       "count      4.000000\n",
       "mean   23285.500000\n",
       "std     8380.011675\n",
       "min    13507.000000\n",
       "25%    19306.000000\n",
       "50%    22956.000000\n",
       "75%    26935.500000\n",
       "max    33723.000000"
      ]
     },
     "execution_count": 12,
     "metadata": {},
     "output_type": "execute_result"
    }
   ],
   "source": [
    "monthly_user_logins.describe()"
   ]
  },
  {
   "cell_type": "markdown",
   "id": "f9a274ae-c360-4102-8865-08b8893f5e8d",
   "metadata": {},
   "source": [
    "#### To further on the previous comment made, user logins are, indeed, increasing. However, they start to decline by the beginning of April. See report for more details on the analysis. "
   ]
  },
  {
   "cell_type": "markdown",
   "id": "78ea54d9-437c-4984-b7ee-790f5cbeae4f",
   "metadata": {},
   "source": [
    "# Part 2: Experiment and Metrics Design"
   ]
  },
  {
   "cell_type": "markdown",
   "id": "d1775f67-59ad-46cc-b345-0581d6e4f3db",
   "metadata": {},
   "source": [
    "## Introduction"
   ]
  },
  {
   "cell_type": "markdown",
   "id": "8fe984f8-bc02-4b55-b2ed-d25f02af5a3b",
   "metadata": {},
   "source": [
    "The Ultimate managers of city operations have proposed \"an experiment to encourage driver partners to be available in both cities, by reimbursing all toll costs.\" Rendered slightly differently: the Ultimate managers want to encourage inclusivity between cities and lessen the hypothesized exclusivity. To put this hypothesis of exclusivity to the test, here's my proposed solution. "
   ]
  },
  {
   "cell_type": "markdown",
   "id": "cc13489f-5c89-416a-befe-9a63904f1cdf",
   "metadata": {},
   "source": [
    "## 2A"
   ]
  },
  {
   "cell_type": "markdown",
   "id": "dca9e487-6c3b-4405-ab04-51abd595270c",
   "metadata": {},
   "source": [
    "To assess the purported level of exclusivity engendered by driving partners, take the total amount of driver partners that traveled to both cities, Gotham and Metropolis, during the day or (i.e., the \"or\" being used here is the so-called \"exclusive-or\") at night on the weekdays, over the total amount of driver partners that traveled to both cities on the weekday at any time. After we've calculated this percentage, this will stand for our present level of inclusivity. (A note on this metric. I chose this metric because it takes into account a few exclusivity-favoring conditions --namely, day or night, and weekdays. On the weekdays, a driving partner would have a little-to-no incentive to travel to both cities during the day or the night on the weekday, exclusively. If they did so, it might be suggested that the reimbursement of the toll fare had something to do with it.) "
   ]
  },
  {
   "cell_type": "markdown",
   "id": "26f099e7-a1a8-4aa1-866b-e28e09d9755a",
   "metadata": {},
   "source": [
    "## 2B"
   ]
  },
  {
   "cell_type": "markdown",
   "id": "4360bfdc-9f9c-40a4-a718-a8eef3bf6b6e",
   "metadata": {},
   "source": [
    "2b. To implement this experiment we need to establish a few more things. After the experiment, or whenever we see fit to check again, we will once again calculate the above metric, checking to see the percentage change. Since the metric stands for the level of inclusivity engendered by the driver partners, it stands to reason that if our percent change is both positive and significant (which I will define shortly), it is to note that the level of inclusivity among driver partners has increased, or in other words, the experiment was a success given that the objective, as rendered earlier, was to lessen exclusivity and encourage inclusivity. However, to fully implement this experiment, we will need to collect data. In specific, we will need to collect the following: the associated driver partner association (in the form of a code or ID), their origin, their destination, and the time of the toll transaction(s). If these data can be collected, the analysis can be done. One last point that needs to be mentioned: What will constitute a significant percentage increase? Well, that is partly dependent on the present level of inclusivity (i.e., the metric percentage). But for both clarity and simplicity's sake, let's say anything over 10% would be viewed as a significant percent change."
   ]
  },
  {
   "cell_type": "markdown",
   "id": "8c7e418a-e2d9-4d11-8762-f253cce77ca9",
   "metadata": {},
   "source": [
    "## 2C"
   ]
  },
  {
   "cell_type": "markdown",
   "id": "9e55d43a-d8d5-4b76-b652-b38b7aed6905",
   "metadata": {},
   "source": [
    "If the percent change increases by what is deemed a significant amount, then there is reason to believe that the experiment has been a success. However, it cannot be certain whether these changes are sustainable, given the extra expenditures of reimbursing toll fares. Perhaps the inclusivity engendered by the driving partners will more than make up for the expenditures but that will depend on the level of the percent change and, more fundamentally, if the metric chosen measures what it purportedly does. "
   ]
  },
  {
   "cell_type": "markdown",
   "id": "c7aeca39-2ac8-4087-843a-7a45f2fad903",
   "metadata": {},
   "source": [
    "# Part 3: Predictive Modeling"
   ]
  },
  {
   "cell_type": "markdown",
   "id": "77239729-4437-4c8e-8f63-8ad38455454c",
   "metadata": {},
   "source": [
    "## 3.1 Data Wrangling"
   ]
  },
  {
   "cell_type": "code",
   "execution_count": 13,
   "id": "10985510-c2e0-4310-b5d5-c6135e479717",
   "metadata": {},
   "outputs": [
    {
     "data": {
      "text/html": [
       "<div>\n",
       "<style scoped>\n",
       "    .dataframe tbody tr th:only-of-type {\n",
       "        vertical-align: middle;\n",
       "    }\n",
       "\n",
       "    .dataframe tbody tr th {\n",
       "        vertical-align: top;\n",
       "    }\n",
       "\n",
       "    .dataframe thead th {\n",
       "        text-align: right;\n",
       "    }\n",
       "</style>\n",
       "<table border=\"1\" class=\"dataframe\">\n",
       "  <thead>\n",
       "    <tr style=\"text-align: right;\">\n",
       "      <th></th>\n",
       "      <th>city</th>\n",
       "      <th>trips_in_first_30_days</th>\n",
       "      <th>signup_date</th>\n",
       "      <th>avg_rating_of_driver</th>\n",
       "      <th>avg_surge</th>\n",
       "      <th>last_trip_date</th>\n",
       "      <th>phone</th>\n",
       "      <th>surge_pct</th>\n",
       "      <th>ultimate_black_user</th>\n",
       "      <th>weekday_pct</th>\n",
       "      <th>avg_dist</th>\n",
       "      <th>avg_rating_by_driver</th>\n",
       "    </tr>\n",
       "  </thead>\n",
       "  <tbody>\n",
       "    <tr>\n",
       "      <th>0</th>\n",
       "      <td>King's Landing</td>\n",
       "      <td>4</td>\n",
       "      <td>2014-01-25</td>\n",
       "      <td>4.7</td>\n",
       "      <td>1.10</td>\n",
       "      <td>2014-06-17</td>\n",
       "      <td>iPhone</td>\n",
       "      <td>15.4</td>\n",
       "      <td>True</td>\n",
       "      <td>46.2</td>\n",
       "      <td>3.67</td>\n",
       "      <td>5.0</td>\n",
       "    </tr>\n",
       "    <tr>\n",
       "      <th>1</th>\n",
       "      <td>Astapor</td>\n",
       "      <td>0</td>\n",
       "      <td>2014-01-29</td>\n",
       "      <td>5.0</td>\n",
       "      <td>1.00</td>\n",
       "      <td>2014-05-05</td>\n",
       "      <td>Android</td>\n",
       "      <td>0.0</td>\n",
       "      <td>False</td>\n",
       "      <td>50.0</td>\n",
       "      <td>8.26</td>\n",
       "      <td>5.0</td>\n",
       "    </tr>\n",
       "    <tr>\n",
       "      <th>2</th>\n",
       "      <td>Astapor</td>\n",
       "      <td>3</td>\n",
       "      <td>2014-01-06</td>\n",
       "      <td>4.3</td>\n",
       "      <td>1.00</td>\n",
       "      <td>2014-01-07</td>\n",
       "      <td>iPhone</td>\n",
       "      <td>0.0</td>\n",
       "      <td>False</td>\n",
       "      <td>100.0</td>\n",
       "      <td>0.77</td>\n",
       "      <td>5.0</td>\n",
       "    </tr>\n",
       "    <tr>\n",
       "      <th>3</th>\n",
       "      <td>King's Landing</td>\n",
       "      <td>9</td>\n",
       "      <td>2014-01-10</td>\n",
       "      <td>4.6</td>\n",
       "      <td>1.14</td>\n",
       "      <td>2014-06-29</td>\n",
       "      <td>iPhone</td>\n",
       "      <td>20.0</td>\n",
       "      <td>True</td>\n",
       "      <td>80.0</td>\n",
       "      <td>2.36</td>\n",
       "      <td>4.9</td>\n",
       "    </tr>\n",
       "    <tr>\n",
       "      <th>4</th>\n",
       "      <td>Winterfell</td>\n",
       "      <td>14</td>\n",
       "      <td>2014-01-27</td>\n",
       "      <td>4.4</td>\n",
       "      <td>1.19</td>\n",
       "      <td>2014-03-15</td>\n",
       "      <td>Android</td>\n",
       "      <td>11.8</td>\n",
       "      <td>False</td>\n",
       "      <td>82.4</td>\n",
       "      <td>3.13</td>\n",
       "      <td>4.9</td>\n",
       "    </tr>\n",
       "  </tbody>\n",
       "</table>\n",
       "</div>"
      ],
      "text/plain": [
       "             city  trips_in_first_30_days signup_date  avg_rating_of_driver  \\\n",
       "0  King's Landing                       4  2014-01-25                   4.7   \n",
       "1         Astapor                       0  2014-01-29                   5.0   \n",
       "2         Astapor                       3  2014-01-06                   4.3   \n",
       "3  King's Landing                       9  2014-01-10                   4.6   \n",
       "4      Winterfell                      14  2014-01-27                   4.4   \n",
       "\n",
       "   avg_surge last_trip_date    phone  surge_pct  ultimate_black_user  \\\n",
       "0       1.10     2014-06-17   iPhone       15.4                 True   \n",
       "1       1.00     2014-05-05  Android        0.0                False   \n",
       "2       1.00     2014-01-07   iPhone        0.0                False   \n",
       "3       1.14     2014-06-29   iPhone       20.0                 True   \n",
       "4       1.19     2014-03-15  Android       11.8                False   \n",
       "\n",
       "   weekday_pct  avg_dist  avg_rating_by_driver  \n",
       "0         46.2      3.67                   5.0  \n",
       "1         50.0      8.26                   5.0  \n",
       "2        100.0      0.77                   5.0  \n",
       "3         80.0      2.36                   4.9  \n",
       "4         82.4      3.13                   4.9  "
      ]
     },
     "execution_count": 13,
     "metadata": {},
     "output_type": "execute_result"
    }
   ],
   "source": [
    "# Sourcing data\n",
    "df1 = pd.read_json('ultimate_data_challenge.json')\n",
    "\n",
    "df1.head()"
   ]
  },
  {
   "cell_type": "code",
   "execution_count": 14,
   "id": "597f2b89-f774-497e-ac7e-c99457128584",
   "metadata": {},
   "outputs": [
    {
     "name": "stdout",
     "output_type": "stream",
     "text": [
      "<class 'pandas.core.frame.DataFrame'>\n",
      "RangeIndex: 50000 entries, 0 to 49999\n",
      "Data columns (total 12 columns):\n",
      " #   Column                  Non-Null Count  Dtype  \n",
      "---  ------                  --------------  -----  \n",
      " 0   city                    50000 non-null  object \n",
      " 1   trips_in_first_30_days  50000 non-null  int64  \n",
      " 2   signup_date             50000 non-null  object \n",
      " 3   avg_rating_of_driver    41878 non-null  float64\n",
      " 4   avg_surge               50000 non-null  float64\n",
      " 5   last_trip_date          50000 non-null  object \n",
      " 6   phone                   49604 non-null  object \n",
      " 7   surge_pct               50000 non-null  float64\n",
      " 8   ultimate_black_user     50000 non-null  bool   \n",
      " 9   weekday_pct             50000 non-null  float64\n",
      " 10  avg_dist                50000 non-null  float64\n",
      " 11  avg_rating_by_driver    49799 non-null  float64\n",
      "dtypes: bool(1), float64(6), int64(1), object(4)\n",
      "memory usage: 4.2+ MB\n"
     ]
    }
   ],
   "source": [
    "df1.info()"
   ]
  },
  {
   "cell_type": "code",
   "execution_count": 15,
   "id": "f059840d-40b1-4ada-bd06-ffcb1f0edbaf",
   "metadata": {},
   "outputs": [
    {
     "data": {
      "text/plain": [
       "city                         0\n",
       "trips_in_first_30_days       0\n",
       "signup_date                  0\n",
       "avg_rating_of_driver      8122\n",
       "avg_surge                    0\n",
       "last_trip_date               0\n",
       "phone                      396\n",
       "surge_pct                    0\n",
       "ultimate_black_user          0\n",
       "weekday_pct                  0\n",
       "avg_dist                     0\n",
       "avg_rating_by_driver       201\n",
       "dtype: int64"
      ]
     },
     "execution_count": 15,
     "metadata": {},
     "output_type": "execute_result"
    }
   ],
   "source": [
    "# Checking for null values\n",
    "df1.isna().sum()"
   ]
  },
  {
   "cell_type": "code",
   "execution_count": 16,
   "id": "01e9d58d-e60a-492b-9852-6cedb79274ae",
   "metadata": {},
   "outputs": [
    {
     "data": {
      "text/plain": [
       "8"
      ]
     },
     "execution_count": 16,
     "metadata": {},
     "output_type": "execute_result"
    }
   ],
   "source": [
    "# Checking for duplicates in dataframe.\n",
    "df1.duplicated().sum()"
   ]
  },
  {
   "cell_type": "code",
   "execution_count": 17,
   "id": "a8d154d2-d027-4fc5-9506-036f029c62a2",
   "metadata": {},
   "outputs": [
    {
     "data": {
      "text/plain": [
       "0"
      ]
     },
     "execution_count": 17,
     "metadata": {},
     "output_type": "execute_result"
    }
   ],
   "source": [
    "# Dropping duplicates.\n",
    "df1 = df1.drop_duplicates()\n",
    "\n",
    "# Verifying\n",
    "df1.duplicated().sum()"
   ]
  },
  {
   "cell_type": "code",
   "execution_count": 18,
   "id": "baf05ea8-6ce3-4048-8955-b9ff69aff03f",
   "metadata": {},
   "outputs": [
    {
     "data": {
      "text/plain": [
       "count    41873.000000\n",
       "mean         4.601512\n",
       "std          0.617360\n",
       "min          1.000000\n",
       "25%          4.300000\n",
       "50%          4.900000\n",
       "75%          5.000000\n",
       "max          5.000000\n",
       "Name: avg_rating_of_driver, dtype: float64"
      ]
     },
     "execution_count": 18,
     "metadata": {},
     "output_type": "execute_result"
    }
   ],
   "source": [
    "# Given that I'll be using certain columns as predictor variables,\n",
    "# I need to start to investigate the columns with missing values to see\n",
    "# how to go about imputing for them.\n",
    "# First, I'll get some statistics on the 'avg_rating_of_driver' column.\n",
    "df1['avg_rating_of_driver'].describe()"
   ]
  },
  {
   "cell_type": "code",
   "execution_count": 19,
   "id": "22f1b9fc-7137-41ce-a15c-c990f267acb2",
   "metadata": {},
   "outputs": [
    {
     "data": {
      "image/png": "[encoded data removed]",
      "text/plain": [
       "<Figure size 432x288 with 1 Axes>"
      ]
     },
     "metadata": {
      "needs_background": "light"
     },
     "output_type": "display_data"
    }
   ],
   "source": [
    "# Seeing the distribution of the \"avg_rating_of_driver\" column.\n",
    "df1['avg_rating_of_driver'].hist();"
   ]
  },
  {
   "cell_type": "code",
   "execution_count": 20,
   "id": "ecf4d1ab-6e88-4236-8be8-410b2b557d61",
   "metadata": {},
   "outputs": [],
   "source": [
    "# Imputing median for null values.\n",
    "df1['avg_rating_of_driver'] = df1['avg_rating_of_driver'].fillna(df1['avg_rating_of_driver'].median())"
   ]
  },
  {
   "cell_type": "code",
   "execution_count": 21,
   "id": "088a6e53-b52a-4ee2-93be-1d5a37aedbc6",
   "metadata": {},
   "outputs": [
    {
     "data": {
      "text/plain": [
       "0"
      ]
     },
     "execution_count": 21,
     "metadata": {},
     "output_type": "execute_result"
    }
   ],
   "source": [
    "# Verifying\n",
    "df1['avg_rating_of_driver'].isna().sum()"
   ]
  },
  {
   "cell_type": "code",
   "execution_count": 22,
   "id": "bdb646fc-e557-4f3a-850c-c65dc0d7dc80",
   "metadata": {},
   "outputs": [
    {
     "data": {
      "text/plain": [
       "count      49596\n",
       "unique         2\n",
       "top       iPhone\n",
       "freq       34578\n",
       "Name: phone, dtype: object"
      ]
     },
     "execution_count": 22,
     "metadata": {},
     "output_type": "execute_result"
    }
   ],
   "source": [
    "# Given that the \"phone\" column is categorical, \n",
    "# getting, for instance, the mode could be useful for imputation.\n",
    "df1['phone'].describe()"
   ]
  },
  {
   "cell_type": "code",
   "execution_count": 23,
   "id": "dcfc67a3-1599-4a97-be79-474a1964967e",
   "metadata": {},
   "outputs": [
    {
     "data": {
      "text/plain": [
       "0"
      ]
     },
     "execution_count": 23,
     "metadata": {},
     "output_type": "execute_result"
    }
   ],
   "source": [
    "# In this case, I see little-to-no reason to do imputation with this column.\n",
    "# Therefore, I'll drop null values. \n",
    "df1 = df1[df1['phone'].notna()]\n",
    "\n",
    "# Verifying\n",
    "df1['phone'].isna().sum()"
   ]
  },
  {
   "cell_type": "code",
   "execution_count": 24,
   "id": "91d3748c-ba7c-49bf-b242-3cbef1a419a7",
   "metadata": {},
   "outputs": [
    {
     "data": {
      "text/plain": [
       "count    49398.000000\n",
       "mean         4.777825\n",
       "std          0.447141\n",
       "min          1.000000\n",
       "25%          4.700000\n",
       "50%          5.000000\n",
       "75%          5.000000\n",
       "max          5.000000\n",
       "Name: avg_rating_by_driver, dtype: float64"
      ]
     },
     "execution_count": 24,
     "metadata": {},
     "output_type": "execute_result"
    }
   ],
   "source": [
    "# Getting statistics on \"avg_rating_by_driver\" column.\n",
    "df1['avg_rating_by_driver'].describe()"
   ]
  },
  {
   "cell_type": "code",
   "execution_count": 25,
   "id": "4870c236-9b56-4211-855b-7a4513b56054",
   "metadata": {},
   "outputs": [
    {
     "data": {
      "text/plain": [
       "<AxesSubplot:>"
      ]
     },
     "execution_count": 25,
     "metadata": {},
     "output_type": "execute_result"
    },
    {
     "data": {
      "image/png": "[encoded data removed]",
      "text/plain": [
       "<Figure size 432x288 with 1 Axes>"
      ]
     },
     "metadata": {
      "needs_background": "light"
     },
     "output_type": "display_data"
    }
   ],
   "source": [
    "# Seeing distribution of column.\n",
    "df1['avg_rating_by_driver'].hist()"
   ]
  },
  {
   "cell_type": "code",
   "execution_count": 26,
   "id": "0de887ce-afa9-4eb4-b532-681db351ec28",
   "metadata": {},
   "outputs": [
    {
     "data": {
      "text/plain": [
       "0"
      ]
     },
     "execution_count": 26,
     "metadata": {},
     "output_type": "execute_result"
    }
   ],
   "source": [
    "# Imputing median for null values.\n",
    "df1['avg_rating_by_driver'] = df1['avg_rating_by_driver'].fillna(df1['avg_rating_by_driver'].median())\n",
    "\n",
    "# Verifying\n",
    "df1['avg_rating_by_driver'].isna().sum()"
   ]
  },
  {
   "cell_type": "markdown",
   "id": "bab4b6a2-5444-4e14-940a-9445e387e9e1",
   "metadata": {},
   "source": [
    "There are two problematic columns that need to be adjusted --namely, \"signup_date\" and \"last_trip_date\" columns. Their data types are (string) objects when they should be datetime objects, especially \"last_trip_date\", given that with that column (and some feature engineering) we'll derive our response variable. Let's do some data type converting. "
   ]
  },
  {
   "cell_type": "code",
   "execution_count": 27,
   "id": "eea14047-83a2-44aa-af3a-a8ec9cccb38b",
   "metadata": {},
   "outputs": [
    {
     "name": "stdout",
     "output_type": "stream",
     "text": [
      "<class 'pandas.core.frame.DataFrame'>\n",
      "Int64Index: 49596 entries, 0 to 49999\n",
      "Data columns (total 12 columns):\n",
      " #   Column                  Non-Null Count  Dtype         \n",
      "---  ------                  --------------  -----         \n",
      " 0   city                    49596 non-null  object        \n",
      " 1   trips_in_first_30_days  49596 non-null  int64         \n",
      " 2   signup_date             49596 non-null  datetime64[ns]\n",
      " 3   avg_rating_of_driver    49596 non-null  float64       \n",
      " 4   avg_surge               49596 non-null  float64       \n",
      " 5   last_trip_date          49596 non-null  datetime64[ns]\n",
      " 6   phone                   49596 non-null  object        \n",
      " 7   surge_pct               49596 non-null  float64       \n",
      " 8   ultimate_black_user     49596 non-null  bool          \n",
      " 9   weekday_pct             49596 non-null  float64       \n",
      " 10  avg_dist                49596 non-null  float64       \n",
      " 11  avg_rating_by_driver    49596 non-null  float64       \n",
      "dtypes: bool(1), datetime64[ns](2), float64(6), int64(1), object(2)\n",
      "memory usage: 4.6+ MB\n"
     ]
    }
   ],
   "source": [
    "# Converting \"signup_date\" and \"last_trip_date\" columns to \n",
    "# datetime objects\n",
    "df1[['signup_date', 'last_trip_date']] = df1[['signup_date', 'last_trip_date']].apply(pd.to_datetime)\n",
    "\n",
    "\n",
    "# Verifying\n",
    "df1.info()"
   ]
  },
  {
   "cell_type": "markdown",
   "id": "3d21a8e3-6797-42c3-aa0c-fc826b0238d6",
   "metadata": {},
   "source": [
    "Great, it seems that the data is mostly cleaned. Let's move onto some EDA."
   ]
  },
  {
   "cell_type": "markdown",
   "id": "cfa7a44c-0db9-4089-8276-4642aed80e4a",
   "metadata": {},
   "source": [
    "## 3.2 EDA"
   ]
  },
  {
   "cell_type": "code",
   "execution_count": 28,
   "id": "9c3a3b98-3e3d-4a23-b08a-2f2b915bb542",
   "metadata": {},
   "outputs": [
    {
     "name": "stderr",
     "output_type": "stream",
     "text": [
      "C:\\Users\\16466\\AppData\\Local\\Temp\\ipykernel_14508\\1216017098.py:4: FutureWarning: The default value of numeric_only in DataFrame.corr is deprecated. In a future version, it will default to False. Select only valid columns or specify the value of numeric_only to silence this warning.\n",
      "  heatmap = sns.heatmap(df1.corr(), annot=True)\n"
     ]
    },
    {
     "data": {
      "image/png": "[encoded data removed]",
      "text/plain": [
       "<Figure size 1080x432 with 2 Axes>"
      ]
     },
     "metadata": {
      "needs_background": "light"
     },
     "output_type": "display_data"
    }
   ],
   "source": [
    "# I want to see the correlations (if any) held by certain columns. \n",
    "# I'll start by creating a heatmap of the correlations among the variables.\n",
    "plt.figure(figsize=(15, 6))\n",
    "heatmap = sns.heatmap(df1.corr(), annot=True)\n",
    "heatmap.set_title('Correlation Heatmap', fontdict={'fontsize':18}, pad=12);"
   ]
  },
  {
   "cell_type": "code",
   "execution_count": 29,
   "id": "0748d521-81c3-43de-b224-1496dca7b5b0",
   "metadata": {},
   "outputs": [
    {
     "name": "stdout",
     "output_type": "stream",
     "text": [
      "Winterfell        23120\n",
      "Astapor           16410\n",
      "King's Landing    10066\n",
      "Name: city, dtype: int64\n",
      "iPhone     34578\n",
      "Android    15018\n",
      "Name: phone, dtype: int64\n"
     ]
    }
   ],
   "source": [
    "# Getting list of categorical columns.\n",
    "cat_columns = df1.select_dtypes(include=['object']).columns.tolist()\n",
    "\n",
    "# Getting the city and type of phone that are represented the most in the dataframe. \n",
    "for column in cat_columns:\n",
    "    print(df1[column].value_counts())"
   ]
  },
  {
   "cell_type": "code",
   "execution_count": 30,
   "id": "ab365f27-32f5-4d01-880e-34aa52c65703",
   "metadata": {},
   "outputs": [
    {
     "data": {
      "image/png": "[encoded data removed]",
      "text/plain": [
       "<Figure size 360x360 with 1 Axes>"
      ]
     },
     "metadata": {
      "needs_background": "light"
     },
     "output_type": "display_data"
    }
   ],
   "source": [
    "# To make the matter more clearer, here's a visual representation\n",
    "# of the most populous cities.\n",
    "sns.catplot(kind='count', x='city', data=df1)\n",
    "plt.show()"
   ]
  },
  {
   "cell_type": "code",
   "execution_count": 31,
   "id": "829f770b-bad7-4993-95b3-9ddc31258cb9",
   "metadata": {},
   "outputs": [
    {
     "data": {
      "image/png": "[encoded data removed]",
      "text/plain": [
       "<Figure size 360x360 with 1 Axes>"
      ]
     },
     "metadata": {
      "needs_background": "light"
     },
     "output_type": "display_data"
    }
   ],
   "source": [
    "# Here's a visual representation of the phones and their\n",
    "# their respective distribution in the dataframe.\n",
    "sns.catplot(kind='count', x='phone', data=df1)\n",
    "plt.show()"
   ]
  },
  {
   "cell_type": "markdown",
   "id": "b43866a4-bf2c-40a6-8afe-7823911cd7b9",
   "metadata": {},
   "source": [
    "## 3.3 Preprocessing"
   ]
  },
  {
   "cell_type": "markdown",
   "id": "9c9bd942-7d22-4af3-98f4-47441d77a7cd",
   "metadata": {},
   "source": [
    "### 3.3.1 Feature Engineering"
   ]
  },
  {
   "cell_type": "markdown",
   "id": "bc75aa1d-2af3-4e0e-b223-4f528ee20446",
   "metadata": {},
   "source": [
    "Given that it is with the column \"last_trip_date\" that we'll derive our response variable, it's time to modify it into a form that a classification model can work with it. "
   ]
  },
  {
   "cell_type": "code",
   "execution_count": 32,
   "id": "70506a56-d884-44b7-8506-7fe4566adc1e",
   "metadata": {},
   "outputs": [
    {
     "name": "stderr",
     "output_type": "stream",
     "text": [
      "C:\\Users\\16466\\AppData\\Local\\Temp\\ipykernel_14508\\302146133.py:5: FutureWarning: Treating datetime data as categorical rather than numeric in `.describe` is deprecated and will be removed in a future version of pandas. Specify `datetime_is_numeric=True` to silence this warning and adopt the future behavior now.\n",
      "  df1['last_trip_date'].describe()\n"
     ]
    },
    {
     "data": {
      "text/plain": [
       "count                   49596\n",
       "unique                    182\n",
       "top       2014-06-29 00:00:00\n",
       "freq                     2019\n",
       "first     2014-01-01 00:00:00\n",
       "last      2014-07-01 00:00:00\n",
       "Name: last_trip_date, dtype: object"
      ]
     },
     "execution_count": 32,
     "metadata": {},
     "output_type": "execute_result"
    }
   ],
   "source": [
    "# Using the describe method, I can attain the latest date\n",
    "# recorded in the column. It appears that July 7, 2014\n",
    "# was the last date recorded. With this date in possession, we can\n",
    "# work out the rest.\n",
    "df1['last_trip_date'].describe()"
   ]
  },
  {
   "cell_type": "code",
   "execution_count": 33,
   "id": "5677c4ac-8bca-464e-aee2-508ec2bc3923",
   "metadata": {},
   "outputs": [],
   "source": [
    "# Import necessary modules\n",
    "from datetime import datetime, timedelta\n",
    "\n",
    "# Sort dataframe by the column \"last_trip_date\"\n",
    "df1 = df1.sort_values(by='last_trip_date', ascending=True)"
   ]
  },
  {
   "cell_type": "code",
   "execution_count": 34,
   "id": "54774b81-f3ce-4733-82c8-0da59d2b0cfe",
   "metadata": {},
   "outputs": [
    {
     "name": "stdout",
     "output_type": "stream",
     "text": [
      "2014-07-01 00:00:00\n",
      "2014-06-01 00:00:00\n"
     ]
    }
   ],
   "source": [
    "# Get the lastest date recorded in the dataframe\n",
    "today = df1['last_trip_date'].iloc[-1]\n",
    "\n",
    "# Get the date that was 30 days before latest date\n",
    "thirty_days_ago = today - timedelta(days=30)\n",
    "\n",
    "# Verifying results are correct\n",
    "print(today)\n",
    "print(thirty_days_ago)"
   ]
  },
  {
   "cell_type": "code",
   "execution_count": 35,
   "id": "7a6fd4f9-f4fe-48e6-a86e-1af4e8ec7d9d",
   "metadata": {},
   "outputs": [
    {
     "data": {
      "text/html": [
       "<div>\n",
       "<style scoped>\n",
       "    .dataframe tbody tr th:only-of-type {\n",
       "        vertical-align: middle;\n",
       "    }\n",
       "\n",
       "    .dataframe tbody tr th {\n",
       "        vertical-align: top;\n",
       "    }\n",
       "\n",
       "    .dataframe thead th {\n",
       "        text-align: right;\n",
       "    }\n",
       "</style>\n",
       "<table border=\"1\" class=\"dataframe\">\n",
       "  <thead>\n",
       "    <tr style=\"text-align: right;\">\n",
       "      <th></th>\n",
       "      <th>city</th>\n",
       "      <th>trips_in_first_30_days</th>\n",
       "      <th>signup_date</th>\n",
       "      <th>avg_rating_of_driver</th>\n",
       "      <th>avg_surge</th>\n",
       "      <th>last_trip_date</th>\n",
       "      <th>phone</th>\n",
       "      <th>surge_pct</th>\n",
       "      <th>ultimate_black_user</th>\n",
       "      <th>weekday_pct</th>\n",
       "      <th>avg_dist</th>\n",
       "      <th>avg_rating_by_driver</th>\n",
       "      <th>Retention</th>\n",
       "    </tr>\n",
       "  </thead>\n",
       "  <tbody>\n",
       "    <tr>\n",
       "      <th>43047</th>\n",
       "      <td>King's Landing</td>\n",
       "      <td>1</td>\n",
       "      <td>2014-01-15</td>\n",
       "      <td>5.0</td>\n",
       "      <td>1.01</td>\n",
       "      <td>2014-07-01</td>\n",
       "      <td>iPhone</td>\n",
       "      <td>0.8</td>\n",
       "      <td>True</td>\n",
       "      <td>89.3</td>\n",
       "      <td>5.49</td>\n",
       "      <td>4.7</td>\n",
       "      <td>1</td>\n",
       "    </tr>\n",
       "    <tr>\n",
       "      <th>26467</th>\n",
       "      <td>King's Landing</td>\n",
       "      <td>9</td>\n",
       "      <td>2014-01-16</td>\n",
       "      <td>4.8</td>\n",
       "      <td>1.14</td>\n",
       "      <td>2014-07-01</td>\n",
       "      <td>iPhone</td>\n",
       "      <td>17.6</td>\n",
       "      <td>True</td>\n",
       "      <td>62.7</td>\n",
       "      <td>7.33</td>\n",
       "      <td>4.9</td>\n",
       "      <td>1</td>\n",
       "    </tr>\n",
       "    <tr>\n",
       "      <th>26478</th>\n",
       "      <td>Astapor</td>\n",
       "      <td>4</td>\n",
       "      <td>2014-01-11</td>\n",
       "      <td>4.8</td>\n",
       "      <td>1.00</td>\n",
       "      <td>2014-07-01</td>\n",
       "      <td>Android</td>\n",
       "      <td>0.0</td>\n",
       "      <td>False</td>\n",
       "      <td>100.0</td>\n",
       "      <td>2.54</td>\n",
       "      <td>4.3</td>\n",
       "      <td>1</td>\n",
       "    </tr>\n",
       "    <tr>\n",
       "      <th>9491</th>\n",
       "      <td>Astapor</td>\n",
       "      <td>0</td>\n",
       "      <td>2014-01-19</td>\n",
       "      <td>4.7</td>\n",
       "      <td>1.38</td>\n",
       "      <td>2014-07-01</td>\n",
       "      <td>iPhone</td>\n",
       "      <td>50.0</td>\n",
       "      <td>False</td>\n",
       "      <td>50.0</td>\n",
       "      <td>5.00</td>\n",
       "      <td>5.0</td>\n",
       "      <td>1</td>\n",
       "    </tr>\n",
       "    <tr>\n",
       "      <th>5562</th>\n",
       "      <td>King's Landing</td>\n",
       "      <td>0</td>\n",
       "      <td>2014-01-28</td>\n",
       "      <td>5.0</td>\n",
       "      <td>1.04</td>\n",
       "      <td>2014-07-01</td>\n",
       "      <td>iPhone</td>\n",
       "      <td>14.3</td>\n",
       "      <td>True</td>\n",
       "      <td>42.9</td>\n",
       "      <td>2.11</td>\n",
       "      <td>5.0</td>\n",
       "      <td>1</td>\n",
       "    </tr>\n",
       "    <tr>\n",
       "      <th>43090</th>\n",
       "      <td>King's Landing</td>\n",
       "      <td>2</td>\n",
       "      <td>2014-01-19</td>\n",
       "      <td>4.3</td>\n",
       "      <td>1.06</td>\n",
       "      <td>2014-07-01</td>\n",
       "      <td>iPhone</td>\n",
       "      <td>6.3</td>\n",
       "      <td>True</td>\n",
       "      <td>56.3</td>\n",
       "      <td>5.60</td>\n",
       "      <td>4.9</td>\n",
       "      <td>1</td>\n",
       "    </tr>\n",
       "    <tr>\n",
       "      <th>38112</th>\n",
       "      <td>Winterfell</td>\n",
       "      <td>7</td>\n",
       "      <td>2014-01-11</td>\n",
       "      <td>4.6</td>\n",
       "      <td>1.00</td>\n",
       "      <td>2014-07-01</td>\n",
       "      <td>iPhone</td>\n",
       "      <td>0.0</td>\n",
       "      <td>False</td>\n",
       "      <td>58.8</td>\n",
       "      <td>2.33</td>\n",
       "      <td>4.8</td>\n",
       "      <td>1</td>\n",
       "    </tr>\n",
       "    <tr>\n",
       "      <th>40692</th>\n",
       "      <td>Winterfell</td>\n",
       "      <td>4</td>\n",
       "      <td>2014-01-07</td>\n",
       "      <td>4.6</td>\n",
       "      <td>1.06</td>\n",
       "      <td>2014-07-01</td>\n",
       "      <td>iPhone</td>\n",
       "      <td>13.6</td>\n",
       "      <td>True</td>\n",
       "      <td>81.8</td>\n",
       "      <td>4.81</td>\n",
       "      <td>4.4</td>\n",
       "      <td>1</td>\n",
       "    </tr>\n",
       "    <tr>\n",
       "      <th>21263</th>\n",
       "      <td>Winterfell</td>\n",
       "      <td>3</td>\n",
       "      <td>2014-01-23</td>\n",
       "      <td>4.4</td>\n",
       "      <td>1.04</td>\n",
       "      <td>2014-07-01</td>\n",
       "      <td>iPhone</td>\n",
       "      <td>14.3</td>\n",
       "      <td>False</td>\n",
       "      <td>71.4</td>\n",
       "      <td>2.27</td>\n",
       "      <td>5.0</td>\n",
       "      <td>1</td>\n",
       "    </tr>\n",
       "    <tr>\n",
       "      <th>12139</th>\n",
       "      <td>King's Landing</td>\n",
       "      <td>16</td>\n",
       "      <td>2014-01-18</td>\n",
       "      <td>4.9</td>\n",
       "      <td>1.02</td>\n",
       "      <td>2014-07-01</td>\n",
       "      <td>Android</td>\n",
       "      <td>3.9</td>\n",
       "      <td>False</td>\n",
       "      <td>74.0</td>\n",
       "      <td>2.64</td>\n",
       "      <td>4.8</td>\n",
       "      <td>1</td>\n",
       "    </tr>\n",
       "  </tbody>\n",
       "</table>\n",
       "</div>"
      ],
      "text/plain": [
       "                 city  trips_in_first_30_days signup_date  \\\n",
       "43047  King's Landing                       1  2014-01-15   \n",
       "26467  King's Landing                       9  2014-01-16   \n",
       "26478         Astapor                       4  2014-01-11   \n",
       "9491          Astapor                       0  2014-01-19   \n",
       "5562   King's Landing                       0  2014-01-28   \n",
       "43090  King's Landing                       2  2014-01-19   \n",
       "38112      Winterfell                       7  2014-01-11   \n",
       "40692      Winterfell                       4  2014-01-07   \n",
       "21263      Winterfell                       3  2014-01-23   \n",
       "12139  King's Landing                      16  2014-01-18   \n",
       "\n",
       "       avg_rating_of_driver  avg_surge last_trip_date    phone  surge_pct  \\\n",
       "43047                   5.0       1.01     2014-07-01   iPhone        0.8   \n",
       "26467                   4.8       1.14     2014-07-01   iPhone       17.6   \n",
       "26478                   4.8       1.00     2014-07-01  Android        0.0   \n",
       "9491                    4.7       1.38     2014-07-01   iPhone       50.0   \n",
       "5562                    5.0       1.04     2014-07-01   iPhone       14.3   \n",
       "43090                   4.3       1.06     2014-07-01   iPhone        6.3   \n",
       "38112                   4.6       1.00     2014-07-01   iPhone        0.0   \n",
       "40692                   4.6       1.06     2014-07-01   iPhone       13.6   \n",
       "21263                   4.4       1.04     2014-07-01   iPhone       14.3   \n",
       "12139                   4.9       1.02     2014-07-01  Android        3.9   \n",
       "\n",
       "       ultimate_black_user  weekday_pct  avg_dist  avg_rating_by_driver  \\\n",
       "43047                 True         89.3      5.49                   4.7   \n",
       "26467                 True         62.7      7.33                   4.9   \n",
       "26478                False        100.0      2.54                   4.3   \n",
       "9491                 False         50.0      5.00                   5.0   \n",
       "5562                  True         42.9      2.11                   5.0   \n",
       "43090                 True         56.3      5.60                   4.9   \n",
       "38112                False         58.8      2.33                   4.8   \n",
       "40692                 True         81.8      4.81                   4.4   \n",
       "21263                False         71.4      2.27                   5.0   \n",
       "12139                False         74.0      2.64                   4.8   \n",
       "\n",
       "       Retention  \n",
       "43047          1  \n",
       "26467          1  \n",
       "26478          1  \n",
       "9491           1  \n",
       "5562           1  \n",
       "43090          1  \n",
       "38112          1  \n",
       "40692          1  \n",
       "21263          1  \n",
       "12139          1  "
      ]
     },
     "execution_count": 35,
     "metadata": {},
     "output_type": "execute_result"
    }
   ],
   "source": [
    "# Creating a new binary column that is based on the \"last_trip_date column\".\n",
    "df1['Retention'] = np.where(df1['last_trip_date'] >= thirty_days_ago, 1, 0)\n",
    "\n",
    "# Verifying\n",
    "df1.tail(10)"
   ]
  },
  {
   "cell_type": "code",
   "execution_count": 36,
   "id": "964095cd-27f8-46a4-b6ff-a9ef82d0e4e8",
   "metadata": {},
   "outputs": [],
   "source": [
    "# Getting rid of unnecessary columns\n",
    "df1.drop(['signup_date', 'last_trip_date'], axis=1, inplace=True)"
   ]
  },
  {
   "cell_type": "markdown",
   "id": "60deb20f-cec3-4617-b9bf-b6aa2467c40f",
   "metadata": {},
   "source": [
    "### 3.3.2 Getting Dummy Variables"
   ]
  },
  {
   "cell_type": "code",
   "execution_count": 37,
   "id": "e0059239-6d85-4c3e-b049-9228c90135be",
   "metadata": {},
   "outputs": [],
   "source": [
    "# Binarize \"ultimate_black_user\" column\n",
    "df1['ultimate_black_user'] = np.where(df1['ultimate_black_user'] == 'True', 1, 0)"
   ]
  },
  {
   "cell_type": "code",
   "execution_count": 38,
   "id": "9149f8d9-54ec-4e40-aa05-f7270c1d524e",
   "metadata": {},
   "outputs": [
    {
     "data": {
      "text/html": [
       "<div>\n",
       "<style scoped>\n",
       "    .dataframe tbody tr th:only-of-type {\n",
       "        vertical-align: middle;\n",
       "    }\n",
       "\n",
       "    .dataframe tbody tr th {\n",
       "        vertical-align: top;\n",
       "    }\n",
       "\n",
       "    .dataframe thead th {\n",
       "        text-align: right;\n",
       "    }\n",
       "</style>\n",
       "<table border=\"1\" class=\"dataframe\">\n",
       "  <thead>\n",
       "    <tr style=\"text-align: right;\">\n",
       "      <th></th>\n",
       "      <th>trips_in_first_30_days</th>\n",
       "      <th>avg_rating_of_driver</th>\n",
       "      <th>avg_surge</th>\n",
       "      <th>surge_pct</th>\n",
       "      <th>ultimate_black_user</th>\n",
       "      <th>weekday_pct</th>\n",
       "      <th>avg_dist</th>\n",
       "      <th>avg_rating_by_driver</th>\n",
       "      <th>Retention</th>\n",
       "      <th>city_Astapor</th>\n",
       "      <th>city_King's Landing</th>\n",
       "      <th>city_Winterfell</th>\n",
       "      <th>phone_Android</th>\n",
       "      <th>phone_iPhone</th>\n",
       "    </tr>\n",
       "  </thead>\n",
       "  <tbody>\n",
       "    <tr>\n",
       "      <th>20058</th>\n",
       "      <td>1</td>\n",
       "      <td>4.9</td>\n",
       "      <td>1.0</td>\n",
       "      <td>0.0</td>\n",
       "      <td>0</td>\n",
       "      <td>100.0</td>\n",
       "      <td>10.80</td>\n",
       "      <td>5.0</td>\n",
       "      <td>0</td>\n",
       "      <td>1</td>\n",
       "      <td>0</td>\n",
       "      <td>0</td>\n",
       "      <td>0</td>\n",
       "      <td>1</td>\n",
       "    </tr>\n",
       "    <tr>\n",
       "      <th>44807</th>\n",
       "      <td>1</td>\n",
       "      <td>4.9</td>\n",
       "      <td>1.0</td>\n",
       "      <td>0.0</td>\n",
       "      <td>0</td>\n",
       "      <td>100.0</td>\n",
       "      <td>2.69</td>\n",
       "      <td>5.0</td>\n",
       "      <td>0</td>\n",
       "      <td>0</td>\n",
       "      <td>1</td>\n",
       "      <td>0</td>\n",
       "      <td>0</td>\n",
       "      <td>1</td>\n",
       "    </tr>\n",
       "    <tr>\n",
       "      <th>38172</th>\n",
       "      <td>1</td>\n",
       "      <td>4.9</td>\n",
       "      <td>1.0</td>\n",
       "      <td>0.0</td>\n",
       "      <td>0</td>\n",
       "      <td>100.0</td>\n",
       "      <td>1.38</td>\n",
       "      <td>5.0</td>\n",
       "      <td>0</td>\n",
       "      <td>0</td>\n",
       "      <td>0</td>\n",
       "      <td>1</td>\n",
       "      <td>0</td>\n",
       "      <td>1</td>\n",
       "    </tr>\n",
       "    <tr>\n",
       "      <th>3365</th>\n",
       "      <td>1</td>\n",
       "      <td>4.0</td>\n",
       "      <td>1.0</td>\n",
       "      <td>0.0</td>\n",
       "      <td>0</td>\n",
       "      <td>100.0</td>\n",
       "      <td>3.74</td>\n",
       "      <td>5.0</td>\n",
       "      <td>0</td>\n",
       "      <td>0</td>\n",
       "      <td>0</td>\n",
       "      <td>1</td>\n",
       "      <td>0</td>\n",
       "      <td>1</td>\n",
       "    </tr>\n",
       "    <tr>\n",
       "      <th>49545</th>\n",
       "      <td>1</td>\n",
       "      <td>5.0</td>\n",
       "      <td>1.0</td>\n",
       "      <td>0.0</td>\n",
       "      <td>0</td>\n",
       "      <td>100.0</td>\n",
       "      <td>1.23</td>\n",
       "      <td>5.0</td>\n",
       "      <td>0</td>\n",
       "      <td>0</td>\n",
       "      <td>1</td>\n",
       "      <td>0</td>\n",
       "      <td>0</td>\n",
       "      <td>1</td>\n",
       "    </tr>\n",
       "  </tbody>\n",
       "</table>\n",
       "</div>"
      ],
      "text/plain": [
       "       trips_in_first_30_days  avg_rating_of_driver  avg_surge  surge_pct  \\\n",
       "20058                       1                   4.9        1.0        0.0   \n",
       "44807                       1                   4.9        1.0        0.0   \n",
       "38172                       1                   4.9        1.0        0.0   \n",
       "3365                        1                   4.0        1.0        0.0   \n",
       "49545                       1                   5.0        1.0        0.0   \n",
       "\n",
       "       ultimate_black_user  weekday_pct  avg_dist  avg_rating_by_driver  \\\n",
       "20058                    0        100.0     10.80                   5.0   \n",
       "44807                    0        100.0      2.69                   5.0   \n",
       "38172                    0        100.0      1.38                   5.0   \n",
       "3365                     0        100.0      3.74                   5.0   \n",
       "49545                    0        100.0      1.23                   5.0   \n",
       "\n",
       "       Retention  city_Astapor  city_King's Landing  city_Winterfell  \\\n",
       "20058          0             1                    0                0   \n",
       "44807          0             0                    1                0   \n",
       "38172          0             0                    0                1   \n",
       "3365           0             0                    0                1   \n",
       "49545          0             0                    1                0   \n",
       "\n",
       "       phone_Android  phone_iPhone  \n",
       "20058              0             1  \n",
       "44807              0             1  \n",
       "38172              0             1  \n",
       "3365               0             1  \n",
       "49545              0             1  "
      ]
     },
     "execution_count": 38,
     "metadata": {},
     "output_type": "execute_result"
    }
   ],
   "source": [
    "# Getting dummy variables for categorical columns\n",
    "df1 = pd.get_dummies(df1, columns=['city', 'phone'])\n",
    "\n",
    "# Verifying\n",
    "df1.head()"
   ]
  },
  {
   "cell_type": "markdown",
   "id": "3786868e-82cc-4160-b4c9-440f11002025",
   "metadata": {},
   "source": [
    "### 3.3.3 Splitting Data into Training and Test Dataset"
   ]
  },
  {
   "cell_type": "code",
   "execution_count": 39,
   "id": "965b7e0a-0266-4925-b1eb-81cc603341e8",
   "metadata": {},
   "outputs": [],
   "source": [
    "# Importing train_test_split\n",
    "from sklearn.model_selection import train_test_split\n",
    "\n",
    "# Getting predictor variables and response variable\n",
    "X = df1.drop('Retention', axis=1)\n",
    "y = df1['Retention'] # Getting reponse variable\n",
    "\n",
    "# Splitting data\n",
    "X_train, X_test, y_train, y_test = train_test_split(X, y, test_size=0.3, random_state=1)"
   ]
  },
  {
   "cell_type": "code",
   "execution_count": 40,
   "id": "d3d12de7-2994-4147-98dd-f9566ad73d69",
   "metadata": {},
   "outputs": [
    {
     "data": {
      "text/plain": [
       "((49596, 13), (49596,))"
      ]
     },
     "execution_count": 40,
     "metadata": {},
     "output_type": "execute_result"
    }
   ],
   "source": [
    "# Verifying\n",
    "X.shape, y.shape"
   ]
  },
  {
   "cell_type": "markdown",
   "id": "48222d5f-0351-40e4-9531-8008105626eb",
   "metadata": {},
   "source": [
    "### 3.3.4 Normalization"
   ]
  },
  {
   "cell_type": "code",
   "execution_count": 41,
   "id": "3b1dad2d-ad9d-463c-a6d9-4c2fa487edc2",
   "metadata": {},
   "outputs": [],
   "source": [
    "# Normalizing\n",
    "from sklearn.preprocessing import Normalizer\n",
    "normalizer = Normalizer().fit(X_train)  \n",
    "X_train = normalizer.transform(X_train)\n",
    "X_test = normalizer.transform(X_test)"
   ]
  },
  {
   "cell_type": "markdown",
   "id": "ac72f4e0-60a6-4576-bb3d-67c20754738e",
   "metadata": {},
   "source": [
    "## 3.4 Modeling"
   ]
  },
  {
   "cell_type": "markdown",
   "id": "6a79e5c3-45b8-44bf-b526-83232630656e",
   "metadata": {},
   "source": [
    "### 3.4.1 Logistic Regression"
   ]
  },
  {
   "cell_type": "code",
   "execution_count": 42,
   "id": "40727675-ba85-4ab1-814d-6e14cbadc383",
   "metadata": {},
   "outputs": [],
   "source": [
    "# Importing essential modules.\n",
    "from sklearn.linear_model    import LogisticRegression\n",
    "from sklearn.model_selection import GridSearchCV\n",
    "from sklearn                 import preprocessing\n",
    "from sklearn.metrics         import accuracy_score\n",
    "from sklearn.metrics         import classification_report\n",
    "from sklearn.metrics         import confusion_matrix\n",
    "from pprint                  import pprint"
   ]
  },
  {
   "cell_type": "code",
   "execution_count": 43,
   "id": "c47642b9-b315-4963-bb11-29a8c4ea536c",
   "metadata": {},
   "outputs": [
    {
     "name": "stdout",
     "output_type": "stream",
     "text": [
      "0.6888231736003764\n",
      "              precision    recall  f1-score   support\n",
      "\n",
      "           0       0.70      0.88      0.78      9286\n",
      "           1       0.65      0.36      0.47      5593\n",
      "\n",
      "    accuracy                           0.69     14879\n",
      "   macro avg       0.68      0.62      0.62     14879\n",
      "weighted avg       0.68      0.69      0.66     14879\n",
      "\n",
      "[[8209 1077]\n",
      " [3553 2040]]\n"
     ]
    }
   ],
   "source": [
    "# Instantiate, fit, and predict with logistic Regression model\n",
    "model = LogisticRegression()\n",
    "model.fit(X_train, y_train)\n",
    "y_pred = model.predict(X_test)\n",
    "\n",
    "# Checking performance of default logistic regression model.\n",
    "print(accuracy_score(y_test, y_pred))\n",
    "print(classification_report(y_test, y_pred))\n",
    "print(confusion_matrix(y_test, y_pred))"
   ]
  },
  {
   "cell_type": "code",
   "execution_count": 44,
   "id": "b225b340-e3a7-4d0b-b2ab-649cb057bdfc",
   "metadata": {},
   "outputs": [
    {
     "name": "stdout",
     "output_type": "stream",
     "text": [
      "Feature: 0, Score: 4.11707931027866\n",
      "Feature: 1, Score: 1.9783079688713998\n",
      "Feature: 2, Score: 0.6653950754199782\n",
      "Feature: 3, Score: 2.6969701752133544\n",
      "Feature: 4, Score: 0.0\n",
      "Feature: 5, Score: 4.052312103382424\n",
      "Feature: 6, Score: 1.743681044212678\n",
      "Feature: 7, Score: 1.3286567037577097\n",
      "Feature: 8, Score: -7.747286951137627\n",
      "Feature: 9, Score: 11.21388329959989\n",
      "Feature: 10, Score: -2.67682639398469\n",
      "Feature: 11, Score: -6.170679889010811\n",
      "Feature: 12, Score: 6.96044984348842\n"
     ]
    },
    {
     "data": {
      "image/png": "[encoded data removed]",
      "text/plain": [
       "<Figure size 432x288 with 1 Axes>"
      ]
     },
     "metadata": {
      "needs_background": "light"
     },
     "output_type": "display_data"
    }
   ],
   "source": [
    "# Getting features by importance\n",
    "importance = model.coef_[0]\n",
    "\n",
    "# Summarizing feature importance\n",
    "for i, v in enumerate(importance):\n",
    "    print('Feature: {}, Score: {}'.format(i, v))\n",
    "    \n",
    "# Plotting feature importance\n",
    "plt.bar([x for x in range(len(importance))], importance)\n",
    "plt.show()"
   ]
  },
  {
   "cell_type": "markdown",
   "id": "1d6c0669-3d76-44ec-9056-29f047be91ec",
   "metadata": {},
   "source": [
    "It appears that the two features that predict user retention the highest in this model are features 9 and 12. Theses features correspond to \"city_Astapor\" and \"phone_Android\", respectively. Let's do another model to see if any patterns arise. \n",
    "\n",
    "Let's do some hyperparameter optimization to see if the features that are most important change."
   ]
  },
  {
   "cell_type": "markdown",
   "id": "1503435e-6eb7-4cb7-acfb-9bce53549428",
   "metadata": {},
   "source": [
    "### 3.4.2 Hyperparameter optimization"
   ]
  },
  {
   "cell_type": "code",
   "execution_count": 45,
   "id": "3c2cc9b8-b768-489d-abae-4b4655f3424c",
   "metadata": {},
   "outputs": [
    {
     "name": "stderr",
     "output_type": "stream",
     "text": [
      "C:\\Users\\16466\\anaconda3\\lib\\site-packages\\sklearn\\model_selection\\_validation.py:372: FitFailedWarning: \n",
      "300 fits failed out of a total of 900.\n",
      "The score on these train-test partitions for these parameters will be set to 0.\n",
      "If these failures are not expected, you can try to debug them by setting error_score='raise'.\n",
      "\n",
      "Below are more details about the failures:\n",
      "--------------------------------------------------------------------------------\n",
      "150 fits failed with the following error:\n",
      "Traceback (most recent call last):\n",
      "  File \"C:\\Users\\16466\\anaconda3\\lib\\site-packages\\sklearn\\model_selection\\_validation.py\", line 680, in _fit_and_score\n",
      "    estimator.fit(X_train, y_train, **fit_params)\n",
      "  File \"C:\\Users\\16466\\anaconda3\\lib\\site-packages\\sklearn\\linear_model\\_logistic.py\", line 1461, in fit\n",
      "    solver = _check_solver(self.solver, self.penalty, self.dual)\n",
      "  File \"C:\\Users\\16466\\anaconda3\\lib\\site-packages\\sklearn\\linear_model\\_logistic.py\", line 447, in _check_solver\n",
      "    raise ValueError(\n",
      "ValueError: Solver newton-cg supports only 'l2' or 'none' penalties, got l1 penalty.\n",
      "\n",
      "--------------------------------------------------------------------------------\n",
      "150 fits failed with the following error:\n",
      "Traceback (most recent call last):\n",
      "  File \"C:\\Users\\16466\\anaconda3\\lib\\site-packages\\sklearn\\model_selection\\_validation.py\", line 680, in _fit_and_score\n",
      "    estimator.fit(X_train, y_train, **fit_params)\n",
      "  File \"C:\\Users\\16466\\anaconda3\\lib\\site-packages\\sklearn\\linear_model\\_logistic.py\", line 1461, in fit\n",
      "    solver = _check_solver(self.solver, self.penalty, self.dual)\n",
      "  File \"C:\\Users\\16466\\anaconda3\\lib\\site-packages\\sklearn\\linear_model\\_logistic.py\", line 447, in _check_solver\n",
      "    raise ValueError(\n",
      "ValueError: Solver lbfgs supports only 'l2' or 'none' penalties, got l1 penalty.\n",
      "\n",
      "  warnings.warn(some_fits_failed_message, FitFailedWarning)\n"
     ]
    },
    {
     "name": "stdout",
     "output_type": "stream",
     "text": [
      "Best: 0.6907376530179176 using {'C': 100, 'penalty': 'l1', 'solver': 'liblinear'}\n",
      "0.0 (0.0) with {'C': 100, 'penalty': 'l1', 'solver': 'newton-cg'}\n",
      "0.0 (0.0) with {'C': 100, 'penalty': 'l1', 'solver': 'lbfgs'}\n",
      "0.6907376530179176 (0.005762829056826131) with {'C': 100, 'penalty': 'l1', 'solver': 'liblinear'}\n",
      "0.6905551915564601 (0.005543987610638732) with {'C': 100, 'penalty': 'l2', 'solver': 'newton-cg'}\n",
      "0.6906416136821174 (0.005513379331281541) with {'C': 100, 'penalty': 'l2', 'solver': 'lbfgs'}\n",
      "0.690632013067678 (0.005517580629116266) with {'C': 100, 'penalty': 'l2', 'solver': 'liblinear'}\n",
      "0.0 (0.0) with {'C': 10, 'penalty': 'l1', 'solver': 'newton-cg'}\n",
      "0.0 (0.0) with {'C': 10, 'penalty': 'l1', 'solver': 'lbfgs'}\n",
      "0.6906416081502164 (0.005496612940913849) with {'C': 10, 'penalty': 'l1', 'solver': 'liblinear'}\n",
      "0.6895182366865948 (0.005483827921656338) with {'C': 10, 'penalty': 'l2', 'solver': 'newton-cg'}\n",
      "0.689470228082497 (0.005497802326910139) with {'C': 10, 'penalty': 'l2', 'solver': 'lbfgs'}\n",
      "0.6895086305402544 (0.005452534664378502) with {'C': 10, 'penalty': 'l2', 'solver': 'liblinear'}\n",
      "0.0 (0.0) with {'C': 1.0, 'penalty': 'l1', 'solver': 'newton-cg'}\n",
      "0.0 (0.0) with {'C': 1.0, 'penalty': 'l1', 'solver': 'lbfgs'}\n",
      "0.6897198744833759 (0.005579392434977008) with {'C': 1.0, 'penalty': 'l1', 'solver': 'liblinear'}\n",
      "0.6815202029455381 (0.0051263860081364665) with {'C': 1.0, 'penalty': 'l2', 'solver': 'newton-cg'}\n",
      "0.6815202057114884 (0.005170788693647408) with {'C': 1.0, 'penalty': 'l2', 'solver': 'lbfgs'}\n",
      "0.6816642342897326 (0.005149921032663083) with {'C': 1.0, 'penalty': 'l2', 'solver': 'liblinear'}\n",
      "0.0 (0.0) with {'C': 0.1, 'penalty': 'l1', 'solver': 'newton-cg'}\n",
      "0.0 (0.0) with {'C': 0.1, 'penalty': 'l1', 'solver': 'lbfgs'}\n",
      "0.680761757170782 (0.005470772712535045) with {'C': 0.1, 'penalty': 'l1', 'solver': 'liblinear'}\n",
      "0.6664268587519767 (0.004677136589353843) with {'C': 0.1, 'penalty': 'l2', 'solver': 'newton-cg'}\n",
      "0.666407657523098 (0.004673943835723054) with {'C': 0.1, 'penalty': 'l2', 'solver': 'lbfgs'}\n",
      "0.6673677632222395 (0.00490294142767627) with {'C': 0.1, 'penalty': 'l2', 'solver': 'liblinear'}\n",
      "0.0 (0.0) with {'C': 0.01, 'penalty': 'l1', 'solver': 'newton-cg'}\n",
      "0.0 (0.0) with {'C': 0.01, 'penalty': 'l1', 'solver': 'lbfgs'}\n",
      "0.6257740457359886 (0.001081684010680341) with {'C': 0.01, 'penalty': 'l1', 'solver': 'liblinear'}\n",
      "0.6266189717213639 (0.001467233356522866) with {'C': 0.01, 'penalty': 'l2', 'solver': 'newton-cg'}\n",
      "0.6266093711069247 (0.0014655445391378637) with {'C': 0.01, 'penalty': 'l2', 'solver': 'lbfgs'}\n",
      "0.6250251424907096 (0.0009761740706057323) with {'C': 0.01, 'penalty': 'l2', 'solver': 'liblinear'}\n"
     ]
    }
   ],
   "source": [
    "# Import module\n",
    "from sklearn.model_selection import RepeatedStratifiedKFold\n",
    "\n",
    "# Setting hyperparameters for grid search\n",
    "solvers = ['newton-cg', 'lbfgs', 'liblinear']\n",
    "penalty = ['l1','l2']\n",
    "c_values = [100, 10, 1.0, 0.1, 0.01]\n",
    "\n",
    "# Defining grid search\n",
    "grid = dict(solver=solvers, penalty=penalty, C=c_values)\n",
    "cv = RepeatedStratifiedKFold(n_splits=10, n_repeats=3)\n",
    "grid_search = GridSearchCV(estimator=model, param_grid=grid, n_jobs=-1, cv=cv, scoring='accuracy', error_score=0)\n",
    "grid_result = grid_search.fit(X_train, y_train)\n",
    "\n",
    "# Summarizing results\n",
    "print('Best: {} using {}'.format(grid_result.best_score_, grid_result.best_params_))\n",
    "means = grid_result.cv_results_['mean_test_score']\n",
    "stds = grid_result.cv_results_['std_test_score']\n",
    "params = grid_result.cv_results_['params']\n",
    "for mean, stdev, param in zip(means, stds, params):\n",
    "    print('{} ({}) with {}'.format(mean, stdev, param))"
   ]
  },
  {
   "cell_type": "code",
   "execution_count": 46,
   "id": "bb68f923-d962-4801-b5e2-36903121e240",
   "metadata": {},
   "outputs": [
    {
     "name": "stdout",
     "output_type": "stream",
     "text": [
      "0.6960145171046441\n",
      "Feature: 0, Score: 4.400745287490898\n",
      "Feature: 1, Score: 1.6249120435957787\n",
      "Feature: 2, Score: -5.761465167003038\n",
      "Feature: 3, Score: 2.8438521794676443\n",
      "Feature: 4, Score: 0.0\n",
      "Feature: 5, Score: 4.19811199297444\n",
      "Feature: 6, Score: 1.8962559567882942\n",
      "Feature: 7, Score: 0.703161558800845\n",
      "Feature: 8, Score: -3.6081811280377307\n",
      "Feature: 9, Score: 24.02549986914323\n",
      "Feature: 10, Score: 4.283465854215903\n",
      "Feature: 11, Score: -7.4071938743022985\n",
      "Feature: 12, Score: 11.360683998984209\n"
     ]
    },
    {
     "data": {
      "image/png": "[encoded data removed]",
      "text/plain": [
       "<Figure size 432x288 with 1 Axes>"
      ]
     },
     "metadata": {
      "needs_background": "light"
     },
     "output_type": "display_data"
    }
   ],
   "source": [
    "# Verifying optimized model\n",
    "model = LogisticRegression(penalty='l1', solver='liblinear', C=100)\n",
    "model.fit(X_train, y_train)\n",
    "y_pred = model.predict(X_test)\n",
    "print(accuracy_score(y_test, y_pred))\n",
    "\n",
    "# Checking most important features again\n",
    "importance = model.coef_[0]\n",
    "\n",
    "# Summarizing feature importance\n",
    "for i, v in enumerate(importance):\n",
    "    print('Feature: {}, Score: {}'.format(i, v))\n",
    "    \n",
    "# Plotting feature importance\n",
    "plt.bar([x for x in range(len(importance))], importance)\n",
    "plt.show()"
   ]
  },
  {
   "cell_type": "markdown",
   "id": "7dea8b95-4d35-4540-808d-b2ec067a4c1a",
   "metadata": {},
   "source": [
    "It appears that the two same features still hold, which is good news."
   ]
  },
  {
   "cell_type": "markdown",
   "id": "6e309790-9a9b-4954-8e5f-f151337712f2",
   "metadata": {},
   "source": [
    "### 3.4.3 Decision Tree Classifier"
   ]
  },
  {
   "cell_type": "code",
   "execution_count": 47,
   "id": "9ff34ae7-fe37-443b-b4f0-1943f091da6d",
   "metadata": {},
   "outputs": [
    {
     "name": "stdout",
     "output_type": "stream",
     "text": [
      "0.70952348948182\n",
      "              precision    recall  f1-score   support\n",
      "\n",
      "           0       0.76      0.78      0.77      9286\n",
      "           1       0.62      0.60      0.61      5593\n",
      "\n",
      "    accuracy                           0.71     14879\n",
      "   macro avg       0.69      0.69      0.69     14879\n",
      "weighted avg       0.71      0.71      0.71     14879\n",
      "\n",
      "[[7223 2063]\n",
      " [2259 3334]]\n"
     ]
    }
   ],
   "source": [
    "# Import model \n",
    "from sklearn.tree import DecisionTreeClassifier\n",
    "\n",
    "# Instantiate, fit, and predict with DecisionTreeClassifier model\n",
    "model_2 = DecisionTreeClassifier()\n",
    "model_2.fit(X_train, y_train)\n",
    "y_pred_2 = model_2.predict(X_test)\n",
    "\n",
    "# Checking performance of DecisionTreeClassifier model\n",
    "print(accuracy_score(y_test, y_pred_2))\n",
    "print(classification_report(y_test, y_pred_2))\n",
    "print(confusion_matrix(y_test, y_pred_2))"
   ]
  },
  {
   "cell_type": "code",
   "execution_count": 48,
   "id": "36fd2a90-5932-413b-972e-a9e5fee7cd71",
   "metadata": {},
   "outputs": [
    {
     "name": "stdout",
     "output_type": "stream",
     "text": [
      "Feature: 0, Score: 0.08796854232928004\n",
      "Feature: 1, Score: 0.12525743753348936\n",
      "Feature: 2, Score: 0.06669450113511496\n",
      "Feature: 3, Score: 0.07691524267071731\n",
      "Feature: 4, Score: 0.0\n",
      "Feature: 5, Score: 0.13400855840330808\n",
      "Feature: 6, Score: 0.1133834123178804\n",
      "Feature: 7, Score: 0.10501727165496447\n",
      "Feature: 8, Score: 0.024897691943444707\n",
      "Feature: 9, Score: 0.06427140935012884\n",
      "Feature: 10, Score: 0.03417498361883989\n",
      "Feature: 11, Score: 0.015076896218961243\n",
      "Feature: 12, Score: 0.1523340528238708\n"
     ]
    },
    {
     "data": {
      "image/png": "[encoded data removed]",
      "text/plain": [
       "<Figure size 432x288 with 1 Axes>"
      ]
     },
     "metadata": {
      "needs_background": "light"
     },
     "output_type": "display_data"
    }
   ],
   "source": [
    "# Getting features by importance\n",
    "importance = model_2.feature_importances_\n",
    "\n",
    "# Summarizing feature importance\n",
    "for i, v in enumerate(importance):\n",
    "    print('Feature: {}, Score: {}'.format(i, v))\n",
    "    \n",
    "# Plotting feature importance\n",
    "plt.bar([x for x in range(len(importance))], importance)\n",
    "plt.show()"
   ]
  },
  {
   "cell_type": "markdown",
   "id": "fedee9d2-b38c-4a00-aa5b-88403da0c179",
   "metadata": {},
   "source": [
    "There seems to be a feature that has been consistently important in the last two models --namely, the user's phone being an Android. However, there are a few new features that ought to be mentioned: features 5 and 1. These features correspond with variables \"avg_rating_of_driver\" and \"weekday_pct\", respectively. Let's see if these new features remain important when we optimize our model."
   ]
  },
  {
   "cell_type": "markdown",
   "id": "76b6ddcc-7ddc-413a-b639-96c9b0bc2a99",
   "metadata": {},
   "source": [
    "### 3.4.4 Hyperparameter Optimization"
   ]
  },
  {
   "cell_type": "code",
   "execution_count": 49,
   "id": "14f41445-ff95-456f-afe0-becf4b5ec807",
   "metadata": {},
   "outputs": [
    {
     "name": "stderr",
     "output_type": "stream",
     "text": [
      "C:\\Users\\16466\\anaconda3\\lib\\site-packages\\sklearn\\model_selection\\_validation.py:372: FitFailedWarning: \n",
      "480 fits failed out of a total of 1440.\n",
      "The score on these train-test partitions for these parameters will be set to nan.\n",
      "If these failures are not expected, you can try to debug them by setting error_score='raise'.\n",
      "\n",
      "Below are more details about the failures:\n",
      "--------------------------------------------------------------------------------\n",
      "480 fits failed with the following error:\n",
      "Traceback (most recent call last):\n",
      "  File \"C:\\Users\\16466\\anaconda3\\lib\\site-packages\\sklearn\\model_selection\\_validation.py\", line 680, in _fit_and_score\n",
      "    estimator.fit(X_train, y_train, **fit_params)\n",
      "  File \"C:\\Users\\16466\\anaconda3\\lib\\site-packages\\sklearn\\tree\\_classes.py\", line 937, in fit\n",
      "    super().fit(\n",
      "  File \"C:\\Users\\16466\\anaconda3\\lib\\site-packages\\sklearn\\tree\\_classes.py\", line 352, in fit\n",
      "    criterion = CRITERIA_CLF[self.criterion](\n",
      "KeyError: 'log_less'\n",
      "\n",
      "  warnings.warn(some_fits_failed_message, FitFailedWarning)\n",
      "C:\\Users\\16466\\anaconda3\\lib\\site-packages\\sklearn\\model_selection\\_search.py:969: UserWarning: One or more of the test scores are non-finite: [0.72558107 0.65362689 0.72685807 0.69775564 0.74136571 0.70477493\n",
      " 0.75287786 0.7209245  0.75873487 0.72279648 0.76028054 0.73358876\n",
      " 0.76080884 0.74151973 0.75927249 0.74673308 0.72560987 0.65875543\n",
      " 0.72674286 0.67848613 0.73898475 0.70310445 0.75190809 0.71796696\n",
      " 0.75831238 0.72937361 0.76066473 0.7323885  0.75967581 0.74000281\n",
      " 0.75890757 0.74463028        nan        nan        nan        nan\n",
      "        nan        nan        nan        nan        nan        nan\n",
      "        nan        nan        nan        nan        nan        nan]\n",
      "  warnings.warn(\n"
     ]
    },
    {
     "name": "stdout",
     "output_type": "stream",
     "text": [
      "Best: 0.760808839734628 using {'criterion': 'gini', 'max_depth': 8, 'splitter': 'best'}\n",
      "0.7255810708964023 (0.007203265701850374) with {'criterion': 'gini', 'max_depth': 2, 'splitter': 'best'}\n",
      "0.6536268914123208 (0.02779941079579662) with {'criterion': 'gini', 'max_depth': 2, 'splitter': 'random'}\n",
      "0.726858066020806 (0.007325717175070665) with {'criterion': 'gini', 'max_depth': 3, 'splitter': 'best'}\n",
      "0.6977556385562005 (0.017797366933621703) with {'criterion': 'gini', 'max_depth': 3, 'splitter': 'random'}\n",
      "0.7413657118826563 (0.0069848111696378) with {'criterion': 'gini', 'max_depth': 4, 'splitter': 'best'}\n",
      "0.7047749268572032 (0.018864728886971202) with {'criterion': 'gini', 'max_depth': 4, 'splitter': 'random'}\n",
      "0.7528778636992665 (0.007005962479507984) with {'criterion': 'gini', 'max_depth': 5, 'splitter': 'best'}\n",
      "0.7209245018301742 (0.013712138045607348) with {'criterion': 'gini', 'max_depth': 5, 'splitter': 'random'}\n",
      "0.758734869143985 (0.00632161064768376) with {'criterion': 'gini', 'max_depth': 6, 'splitter': 'best'}\n",
      "0.722796475050462 (0.019014099289892485) with {'criterion': 'gini', 'max_depth': 6, 'splitter': 'random'}\n",
      "0.7602805404092103 (0.006347137388719051) with {'criterion': 'gini', 'max_depth': 7, 'splitter': 'best'}\n",
      "0.73358876057091 (0.013818944997725827) with {'criterion': 'gini', 'max_depth': 7, 'splitter': 'random'}\n",
      "0.760808839734628 (0.007700070679873575) with {'criterion': 'gini', 'max_depth': 8, 'splitter': 'best'}\n",
      "0.7415197283084198 (0.010152015736777795) with {'criterion': 'gini', 'max_depth': 8, 'splitter': 'random'}\n",
      "0.7592724924887846 (0.007197566734921155) with {'criterion': 'gini', 'max_depth': 9, 'splitter': 'best'}\n",
      "0.7467330832250187 (0.010147317745707393) with {'criterion': 'gini', 'max_depth': 9, 'splitter': 'random'}\n",
      "0.7256098727397203 (0.007198925671888574) with {'criterion': 'entropy', 'max_depth': 2, 'splitter': 'best'}\n",
      "0.6587554312205453 (0.025416615357131297) with {'criterion': 'entropy', 'max_depth': 2, 'splitter': 'random'}\n",
      "0.7267428586475341 (0.007282337456605147) with {'criterion': 'entropy', 'max_depth': 3, 'splitter': 'best'}\n",
      "0.6784861349536051 (0.02287779102362418) with {'criterion': 'entropy', 'max_depth': 3, 'splitter': 'random'}\n",
      "0.7389847539698028 (0.006656359677682776) with {'criterion': 'entropy', 'max_depth': 4, 'splitter': 'best'}\n",
      "0.7031044476042664 (0.02170262134539158) with {'criterion': 'entropy', 'max_depth': 4, 'splitter': 'random'}\n",
      "0.7519080937688222 (0.006869319696290191) with {'criterion': 'entropy', 'max_depth': 5, 'splitter': 'best'}\n",
      "0.7179669621586983 (0.012117325264627384) with {'criterion': 'entropy', 'max_depth': 5, 'splitter': 'random'}\n",
      "0.7583123840236925 (0.005689291794586219) with {'criterion': 'entropy', 'max_depth': 6, 'splitter': 'best'}\n",
      "0.7293736123225975 (0.008365821047566682) with {'criterion': 'entropy', 'max_depth': 6, 'splitter': 'random'}\n",
      "0.7606647337097684 (0.006219120201099813) with {'criterion': 'entropy', 'max_depth': 7, 'splitter': 'best'}\n",
      "0.7323885039792072 (0.009720416557150236) with {'criterion': 'entropy', 'max_depth': 7, 'splitter': 'random'}\n",
      "0.7596758068056547 (0.007226367878951643) with {'criterion': 'entropy', 'max_depth': 8, 'splitter': 'best'}\n",
      "0.7400028063334515 (0.010024138965764064) with {'criterion': 'entropy', 'max_depth': 8, 'splitter': 'random'}\n",
      "0.7589075723318203 (0.007544426095514103) with {'criterion': 'entropy', 'max_depth': 9, 'splitter': 'best'}\n",
      "0.7446302831315517 (0.008944421139055135) with {'criterion': 'entropy', 'max_depth': 9, 'splitter': 'random'}\n",
      "nan (nan) with {'criterion': 'log_less', 'max_depth': 2, 'splitter': 'best'}\n",
      "nan (nan) with {'criterion': 'log_less', 'max_depth': 2, 'splitter': 'random'}\n",
      "nan (nan) with {'criterion': 'log_less', 'max_depth': 3, 'splitter': 'best'}\n",
      "nan (nan) with {'criterion': 'log_less', 'max_depth': 3, 'splitter': 'random'}\n",
      "nan (nan) with {'criterion': 'log_less', 'max_depth': 4, 'splitter': 'best'}\n",
      "nan (nan) with {'criterion': 'log_less', 'max_depth': 4, 'splitter': 'random'}\n",
      "nan (nan) with {'criterion': 'log_less', 'max_depth': 5, 'splitter': 'best'}\n",
      "nan (nan) with {'criterion': 'log_less', 'max_depth': 5, 'splitter': 'random'}\n",
      "nan (nan) with {'criterion': 'log_less', 'max_depth': 6, 'splitter': 'best'}\n",
      "nan (nan) with {'criterion': 'log_less', 'max_depth': 6, 'splitter': 'random'}\n",
      "nan (nan) with {'criterion': 'log_less', 'max_depth': 7, 'splitter': 'best'}\n",
      "nan (nan) with {'criterion': 'log_less', 'max_depth': 7, 'splitter': 'random'}\n",
      "nan (nan) with {'criterion': 'log_less', 'max_depth': 8, 'splitter': 'best'}\n",
      "nan (nan) with {'criterion': 'log_less', 'max_depth': 8, 'splitter': 'random'}\n",
      "nan (nan) with {'criterion': 'log_less', 'max_depth': 9, 'splitter': 'best'}\n",
      "nan (nan) with {'criterion': 'log_less', 'max_depth': 9, 'splitter': 'random'}\n"
     ]
    }
   ],
   "source": [
    "# Setting hyperparameters for grid search\n",
    "grid = {'criterion':['gini','entropy', 'log_less'],\n",
    "             'max_depth': range(2, 10),\n",
    "             'splitter' : ['best', 'random']}\n",
    "\n",
    "# Defining grid search\n",
    "cv = RepeatedStratifiedKFold(n_splits=10, n_repeats=3)\n",
    "grid_search = GridSearchCV(estimator=model_2, param_grid=grid, n_jobs=-1, cv=cv, scoring='accuracy')\n",
    "grid_result = grid_search.fit(X_train, y_train)\n",
    "\n",
    "# Summarizing results\n",
    "print('Best: {} using {}'.format(grid_result.best_score_, grid_result.best_params_))\n",
    "means = grid_result.cv_results_['mean_test_score']\n",
    "stds = grid_result.cv_results_['std_test_score']\n",
    "params = grid_result.cv_results_['params']\n",
    "for mean, stdev, param in zip(means, stds, params):\n",
    "    print('{} ({}) with {}'.format(mean, stdev, param))"
   ]
  },
  {
   "cell_type": "code",
   "execution_count": 50,
   "id": "88e2fcfd-86d4-482b-94a2-d8b45494a6d7",
   "metadata": {},
   "outputs": [
    {
     "name": "stdout",
     "output_type": "stream",
     "text": [
      "0.7661133140668056\n",
      "Feature: 0, Score: 0.07815369548723547\n",
      "Feature: 1, Score: 0.0074079469252062895\n",
      "Feature: 2, Score: 0.011015615025837781\n",
      "Feature: 3, Score: 0.1520167407980679\n",
      "Feature: 4, Score: 0.0\n",
      "Feature: 5, Score: 0.19707209441576445\n",
      "Feature: 6, Score: 0.015551356598548583\n",
      "Feature: 7, Score: 0.017630284120148446\n",
      "Feature: 8, Score: 0.02108418792018995\n",
      "Feature: 9, Score: 0.16964755789423883\n",
      "Feature: 10, Score: 0.01497333134546478\n",
      "Feature: 11, Score: 0.0034215104448081395\n",
      "Feature: 12, Score: 0.31202567902448947\n"
     ]
    },
    {
     "data": {
      "image/png": "[encoded data removed]",
      "text/plain": [
       "<Figure size 432x288 with 1 Axes>"
      ]
     },
     "metadata": {
      "needs_background": "light"
     },
     "output_type": "display_data"
    }
   ],
   "source": [
    "# Verifying optimized model\n",
    "model_2 = DecisionTreeClassifier(criterion='entropy', splitter='best', max_depth=7)\n",
    "model_2.fit(X_train, y_train)\n",
    "y_pred_2 = model_2.predict(X_test)\n",
    "print(accuracy_score(y_test, y_pred_2))\n",
    "\n",
    "# Checking most important features again\n",
    "importance = model_2.feature_importances_\n",
    "\n",
    "# Summarizing feature importance\n",
    "for i, v in enumerate(importance):\n",
    "    print('Feature: {}, Score: {}'.format(i, v))\n",
    "    \n",
    "# Plotting feature importance\n",
    "plt.bar([x for x in range(len(importance))], importance)\n",
    "plt.show()"
   ]
  },
  {
   "cell_type": "markdown",
   "id": "7c9d7e70-833a-4866-a156-7518057c01d3",
   "metadata": {},
   "source": [
    "### 3.4.5 Random Forest"
   ]
  },
  {
   "cell_type": "code",
   "execution_count": 51,
   "id": "589dfc2c-07fd-494a-a661-ba671ce1cd99",
   "metadata": {},
   "outputs": [
    {
     "name": "stdout",
     "output_type": "stream",
     "text": [
      "0.7617447409100074\n",
      "              precision    recall  f1-score   support\n",
      "\n",
      "           0       0.80      0.83      0.81      9286\n",
      "           1       0.70      0.65      0.67      5593\n",
      "\n",
      "    accuracy                           0.76     14879\n",
      "   macro avg       0.75      0.74      0.74     14879\n",
      "weighted avg       0.76      0.76      0.76     14879\n",
      "\n",
      "[[7693 1593]\n",
      " [1952 3641]]\n"
     ]
    }
   ],
   "source": [
    "# Import model\n",
    "from sklearn.ensemble import RandomForestClassifier\n",
    "\n",
    "# Instantiate, fit, and predict with RandomForest model\n",
    "model_3 = RandomForestClassifier()\n",
    "model_3.fit(X_train, y_train)\n",
    "y_pred_3 = model_3.predict(X_test)\n",
    "\n",
    "# Checking performance of RandomForest model\n",
    "print(accuracy_score(y_test, y_pred_3))\n",
    "print(classification_report(y_test, y_pred_3))\n",
    "print(confusion_matrix(y_test, y_pred_3))"
   ]
  },
  {
   "cell_type": "code",
   "execution_count": 52,
   "id": "c4618b72-6191-488c-8d3c-b645d00fb0c3",
   "metadata": {},
   "outputs": [
    {
     "name": "stdout",
     "output_type": "stream",
     "text": [
      "Feature: 0, Score: 0.08146684107691858\n",
      "Feature: 1, Score: 0.11243275793215622\n",
      "Feature: 2, Score: 0.1054810784533585\n",
      "Feature: 3, Score: 0.07387708365551694\n",
      "Feature: 4, Score: 0.0\n",
      "Feature: 5, Score: 0.10290602699398012\n",
      "Feature: 6, Score: 0.09845911844033271\n",
      "Feature: 7, Score: 0.11824742125821601\n",
      "Feature: 8, Score: 0.041367268911549\n",
      "Feature: 9, Score: 0.06723056888618019\n",
      "Feature: 10, Score: 0.05158769631457567\n",
      "Feature: 11, Score: 0.03703423449998466\n",
      "Feature: 12, Score: 0.10990990357723142\n"
     ]
    },
    {
     "data": {
      "image/png": "[encoded data removed]",
      "text/plain": [
       "<Figure size 432x288 with 1 Axes>"
      ]
     },
     "metadata": {
      "needs_background": "light"
     },
     "output_type": "display_data"
    }
   ],
   "source": [
    "# Getting features by importance\n",
    "importance = model_3.feature_importances_\n",
    "\n",
    "# Summarizing feature importances\n",
    "for i, v in enumerate(importance):\n",
    "    print('Feature: {}, Score: {}'.format(i, v))\n",
    "\n",
    "# Plotting feature importances\n",
    "plt.bar([x for x in range(len(importance))], importance)\n",
    "plt.show()"
   ]
  },
  {
   "cell_type": "markdown",
   "id": "04f8c2de-6f76-4a86-8c7e-29fcc64b0aaa",
   "metadata": {},
   "source": [
    "Again features 1 and 12 are important. Let's see if these features remain important when we do model optimization."
   ]
  },
  {
   "cell_type": "markdown",
   "id": "c015ed44-c34b-4885-a9b8-f0c63a70003a",
   "metadata": {},
   "source": [
    "### 3.4.5 Model Optimization"
   ]
  },
  {
   "cell_type": "code",
   "execution_count": 53,
   "id": "82ffcd20-88b5-4724-bab6-e85b9c827af2",
   "metadata": {},
   "outputs": [
    {
     "name": "stdout",
     "output_type": "stream",
     "text": [
      "Best: 0.7514477068278264 using {'n_estimators': 78}\n",
      "0.739628363008664 (0.008719249753598494) with: {'n_estimators': 10}\n",
      "0.7397434486801105 (0.007134255488448005) with: {'n_estimators': 11}\n",
      "0.7406363362484242 (0.007172222508636034) with: {'n_estimators': 12}\n",
      "0.7411069046534795 (0.006513676334948817) with: {'n_estimators': 13}\n",
      "0.7437569287061855 (0.007087139080427025) with: {'n_estimators': 14}\n",
      "0.7418941716332074 (0.006631846622805504) with: {'n_estimators': 15}\n",
      "0.7441025784855069 (0.006786369652095244) with: {'n_estimators': 16}\n",
      "0.7433631818123481 (0.006859282087649389) with: {'n_estimators': 17}\n",
      "0.7447937674061269 (0.006185174059916408) with: {'n_estimators': 18}\n",
      "0.7441407845607735 (0.0074831558416182395) with: {'n_estimators': 19}\n",
      "0.7451491229060095 (0.008266253729682437) with: {'n_estimators': 20}\n",
      "0.745754039062303 (0.006622451689054923) with: {'n_estimators': 21}\n",
      "0.746608485449551 (0.006247122387385497) with: {'n_estimators': 22}\n",
      "0.7464357297086546 (0.006866896933736963) with: {'n_estimators': 23}\n",
      "0.7472806833535356 (0.0077626214957601065) with: {'n_estimators': 24}\n",
      "0.746819790243585 (0.006878975848125051) with: {'n_estimators': 25}\n",
      "0.7472998652207605 (0.007553633761094778) with: {'n_estimators': 26}\n",
      "0.7460324347534387 (0.0067881538558204595) with: {'n_estimators': 27}\n",
      "0.7481833900463841 (0.007819386260698271) with: {'n_estimators': 28}\n",
      "0.7465796531807766 (0.008062382457363782) with: {'n_estimators': 29}\n",
      "0.7485671739862568 (0.007349251424912368) with: {'n_estimators': 30}\n",
      "0.7476839423513942 (0.0064581160736589425) with: {'n_estimators': 31}\n",
      "0.7483463349605974 (0.006263306080931734) with: {'n_estimators': 32}\n",
      "0.7464932725443778 (0.0069371781190634045) with: {'n_estimators': 33}\n",
      "0.7475303408182168 (0.006977395191308998) with: {'n_estimators': 34}\n",
      "0.7469636224393382 (0.007057811610376401) with: {'n_estimators': 35}\n",
      "0.748240791818628 (0.007620743322531785) with: {'n_estimators': 36}\n",
      "0.7468101315441837 (0.007610468858517084) with: {'n_estimators': 37}\n",
      "0.7480487961255449 (0.006848493849331952) with: {'n_estimators': 38}\n",
      "0.7486151328032445 (0.00738017145151501) with: {'n_estimators': 39}\n",
      "0.7486343755213817 (0.006847690924981194) with: {'n_estimators': 40}\n",
      "0.7478374415444006 (0.007092181483919144) with: {'n_estimators': 41}\n",
      "0.7492009224113246 (0.007892506398051597) with: {'n_estimators': 42}\n",
      "0.7484711623099627 (0.006712222965063373) with: {'n_estimators': 43}\n",
      "0.7495657236324145 (0.00755047162549163) with: {'n_estimators': 44}\n",
      "0.7490664833837178 (0.0065934757489703455) with: {'n_estimators': 45}\n",
      "0.7492392114651085 (0.006949679183457833) with: {'n_estimators': 46}\n",
      "0.7483558968517287 (0.006232612494968274) with: {'n_estimators': 47}\n",
      "0.7486919294209073 (0.007050328962101911) with: {'n_estimators': 48}\n",
      "0.7487111859687973 (0.007288432552039312) with: {'n_estimators': 49}\n",
      "0.7498730124432371 (0.007020101212758336) with: {'n_estimators': 50}\n",
      "0.7490664197668547 (0.005963650810572268) with: {'n_estimators': 51}\n",
      "0.7492871647501949 (0.00621329363917561) with: {'n_estimators': 52}\n",
      "0.7494315058808535 (0.007636727935127939) with: {'n_estimators': 53}\n",
      "0.7487880793947302 (0.00635110189267406) with: {'n_estimators': 54}\n",
      "0.7486920317610786 (0.007028104695066152) with: {'n_estimators': 55}\n",
      "0.750218640094954 (0.006939663466610012) with: {'n_estimators': 56}\n",
      "0.7498058109081125 (0.006358382969501539) with: {'n_estimators': 57}\n",
      "0.7490376068597343 (0.00648827842097102) with: {'n_estimators': 58}\n",
      "0.7497289368438336 (0.006716982324623129) with: {'n_estimators': 59}\n",
      "0.7498922275018687 (0.0078577646489687) with: {'n_estimators': 60}\n",
      "0.7492009141134731 (0.005994063404862656) with: {'n_estimators': 61}\n",
      "0.7502473783214089 (0.00681500378782848) with: {'n_estimators': 62}\n",
      "0.7494985580546473 (0.0071289433341809845) with: {'n_estimators': 63}\n",
      "0.7492680382019816 (0.007068236492617981) with: {'n_estimators': 64}\n",
      "0.7489416560343527 (0.007186612404816593) with: {'n_estimators': 65}\n",
      "0.7497385734156301 (0.006986923079580438) with: {'n_estimators': 66}\n",
      "0.7489416560343526 (0.006795184675079405) with: {'n_estimators': 67}\n",
      "0.7496808895164278 (0.0069502249355767815) with: {'n_estimators': 68}\n",
      "0.7503915064738733 (0.006641215942450565) with: {'n_estimators': 69}\n",
      "0.750084195535446 (0.007235185674219152) with: {'n_estimators': 70}\n",
      "0.7495081835626416 (0.006892411275873363) with: {'n_estimators': 71}\n",
      "0.7499690241195315 (0.007132749913261578) with: {'n_estimators': 72}\n",
      "0.7497481684981685 (0.00717090651014986) with: {'n_estimators': 73}\n",
      "0.7496810029204013 (0.0067735771659657796) with: {'n_estimators': 74}\n",
      "0.7503049626463907 (0.007361141292915618) with: {'n_estimators': 75}\n",
      "0.7495177039645144 (0.0069926721903942725) with: {'n_estimators': 76}\n",
      "0.7504299282932847 (0.007487397032419349) with: {'n_estimators': 77}\n",
      "0.7514477068278264 (0.007055268770992724) with: {'n_estimators': 78}\n",
      "0.7498442410253754 (0.006813335577109074) with: {'n_estimators': 79}\n",
      "0.750564234555264 (0.005959815980572483) with: {'n_estimators': 80}\n",
      "0.7501802625307519 (0.007255922502974366) with: {'n_estimators': 81}\n",
      "0.7502474889594316 (0.006770321415192415) with: {'n_estimators': 82}\n",
      "0.7501898603792405 (0.006476514777150563) with: {'n_estimators': 83}\n",
      "0.7496329251675392 (0.007275357021266617) with: {'n_estimators': 84}\n",
      "0.7510251968139791 (0.007645967520871173) with: {'n_estimators': 85}\n",
      "0.7499209270050154 (0.006582535611369141) with: {'n_estimators': 86}\n",
      "0.7496425645052864 (0.006728541222678775) with: {'n_estimators': 87}\n",
      "0.7501226533122146 (0.006873118857833683) with: {'n_estimators': 88}\n",
      "0.7500938155115393 (0.007047738647504516) with: {'n_estimators': 89}\n",
      "0.7502569899996504 (0.007638028102910031) with: {'n_estimators': 90}\n",
      "0.7507275141494968 (0.00727688182149691) with: {'n_estimators': 91}\n",
      "0.7502858665236337 (0.006751247194694878) with: {'n_estimators': 92}\n",
      "0.750439470822762 (0.007376026175683644) with: {'n_estimators': 93}\n",
      "0.7504106662134934 (0.0074882560221591656) with: {'n_estimators': 94}\n",
      "0.7503818616042249 (0.0067934627573050565) with: {'n_estimators': 95}\n",
      "0.7504298785061744 (0.007486372798471663) with: {'n_estimators': 96}\n",
      "0.750900264358492 (0.0063234815352907064) with: {'n_estimators': 97}\n",
      "0.7503051424331779 (0.0074187206486729775) with: {'n_estimators': 98}\n",
      "0.75040114304567 (0.0067902775454616255) with: {'n_estimators': 99}\n"
     ]
    }
   ],
   "source": [
    "# Setting hyperparameters for grid search\n",
    "n_estimators = range(10, 100)\n",
    "\n",
    "# Defining grid search\n",
    "grid = dict(n_estimators=n_estimators)\n",
    "cv = RepeatedStratifiedKFold(n_splits=10, n_repeats=3)\n",
    "grid_search = GridSearchCV(estimator=model_3, param_grid=grid, n_jobs=-1, cv=cv, scoring='accuracy', error_score=0)\n",
    "grid_result = grid_search.fit(X_train, y_train)\n",
    "\n",
    "# Summarizing results\n",
    "print('Best: {} using {}'.format(grid_result.best_score_, grid_result.best_params_))\n",
    "means = grid_result.cv_results_['mean_test_score']\n",
    "stds = grid_result.cv_results_['std_test_score']\n",
    "params = grid_result.cv_results_['params']\n",
    "for mean, stdev, param in zip(means, stds, params):\n",
    "    print('{} ({}) with: {}'.format(mean, stdev, param))"
   ]
  },
  {
   "cell_type": "markdown",
   "id": "f6827713-87a9-443c-bced-4d53bd46ad6b",
   "metadata": {},
   "source": [
    "In this case, the model's performance did not improve. Let's base the results soley on the base model of previous."
   ]
  },
  {
   "cell_type": "markdown",
   "id": "33e34d3b-e848-4bcd-848f-e2bf8de68f4a",
   "metadata": {},
   "source": [
    "## Findings"
   ]
  },
  {
   "cell_type": "markdown",
   "id": "cd68ab27-86a3-4d1a-9053-89390b5d3ff4",
   "metadata": {},
   "source": [
    "### 3.1"
   ]
  },
  {
   "cell_type": "markdown",
   "id": "3c2747e1-347d-4a3d-aa3b-8c4a406538f5",
   "metadata": {},
   "source": [
    "The data wrangling part was fairly simple. There were three columns with null values; two of the three columns were dealt with by imputing the median value of the column for all null values. Also, there were two columns, one that is imperative in the contructing of the response variable, that were object data types when in fact they needed to be datetime objects. The conversion was fairly easily done. Moving onto the EDA part. This part was fairly short for the following two reasons: (1) the objective of the analysis was clear by the end of the data wrangling part and I didn't forsee the EDA part having much or any influence on the attaining of the objective; and (2) the dataset had been already considerably explored by the end of the data wrangling part. The next two parts, preprocessing and modeling, were by far the most demanding in terms of both time and work. For preprocessing, I had to create the response variable. Afterward, I needed to binarize it, given that the nature of the problem is classificatory. Next, I did one-hot encoding on a couple of variables that were nominal. Lastly, I normalized the predictive variables so that the classification models would not be affected disportionately by certain variables' differing values. In the modeling part, I tried several different classification models with the aim of finding what features were the most important at predicting the response variable. I checked feature importance on each model before and after optimization. The results of the features that hold the greatest predictive power are expounded on below."
   ]
  },
  {
   "cell_type": "markdown",
   "id": "246c73e5-cc91-4d3c-ab3e-5de62c21e9a9",
   "metadata": {},
   "source": [
    "Q: What fraction of the observed users were retained?"
   ]
  },
  {
   "cell_type": "code",
   "execution_count": 56,
   "id": "c1cdb5b5-9152-49c3-bf4b-4de0607b025b",
   "metadata": {},
   "outputs": [
    {
     "data": {
      "text/plain": [
       "0    30925\n",
       "1    18671\n",
       "Name: Retention, dtype: int64"
      ]
     },
     "execution_count": 56,
     "metadata": {},
     "output_type": "execute_result"
    }
   ],
   "source": [
    "df1['Retention'].value_counts()"
   ]
  },
  {
   "cell_type": "code",
   "execution_count": 67,
   "id": "be92f22a-9ead-4463-9af3-74eb08725ac2",
   "metadata": {},
   "outputs": [
    {
     "name": "stdout",
     "output_type": "stream",
     "text": [
      "A: The fraction of observed users that were retained is 0.38%\n"
     ]
    }
   ],
   "source": [
    "perc = 18671/(18671 + 30925)\n",
    "print('A: The fraction of observed users that were retained is {}%'.format(round(perc, 2)))"
   ]
  },
  {
   "cell_type": "markdown",
   "id": "45006023-0615-4209-af0f-e2ddd3ccebd4",
   "metadata": {},
   "source": [
    "### 3.2 and 3.3"
   ]
  },
  {
   "cell_type": "markdown",
   "id": "4ae0e075-0c54-4a9f-addf-2148f670d830",
   "metadata": {},
   "source": [
    "I built several classification models, and there were four features that came out to be consistently important in predicting user retention. These features were 1, 5, 9, and 12. These features stand for the following properties, respectively: the average rating of a driver, the percentage of users' trips occurring in the weekends, the city of Astapor being the one the user signed up in, and the user's primary device being an Android phone.\n",
    "\n",
    "Noted by the performances of the classification models, a user will more likely be active in the system if they happen to reside or live in Astapor and use an Android phone as their primary device. These properties can be leveraged by Ultimate to increase the likelihood of user retention. Furthermore, but more difficult to implement, the drivers, or the prospect drivers, of the company can be screened and trained for ensuring a better quality experience (whatever constitutes that can be made clearer with a qualitative survey) can improve the likelihood of user retention. Lastly, the company can seek to further improve relations with their users that predominately use their service(s) on the weekends.\n",
    "\n",
    "If the information above is leveraged by Ultimate, (assuming many things, among them that the features do, indeed, wield predictive power in user retention), user retention should improve. So, the validity of my model rests on many assumptions, but these assumptions are bolstered on the results of several classification models and feature importance consistency. As to my concerns, I believe I have made them clear: the model relies on many assumptions, the most important of which is that the features mentioned wield predictive power in user retention."
   ]
  }
 ],
 "metadata": {
  "kernelspec": {
   "display_name": "Python 3 (ipykernel)",
   "language": "python",
   "name": "python3"
  },
  "language_info": {
   "codemirror_mode": {
    "name": "ipython",
    "version": 3
   },
   "file_extension": ".py",
   "mimetype": "text/x-python",
   "name": "python",
   "nbconvert_exporter": "python",
   "pygments_lexer": "ipython3",
   "version": "3.9.12"
  }
 },
 "nbformat": 4,
 "nbformat_minor": 5
}
